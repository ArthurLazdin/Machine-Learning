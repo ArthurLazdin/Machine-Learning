{
  "nbformat": 4,
  "nbformat_minor": 0,
  "metadata": {
    "colab": {
      "provenance": [],
      "toc_visible": true,
      "authorship_tag": "ABX9TyNNvf1GSw7fvJ+cHewg+p2K",
      "include_colab_link": true
    },
    "kernelspec": {
      "name": "python3",
      "display_name": "Python 3"
    },
    "language_info": {
      "name": "python"
    }
  },
  "cells": [
    {
      "cell_type": "markdown",
      "metadata": {
        "id": "view-in-github",
        "colab_type": "text"
      },
      "source": [
        "<a href=\"https://colab.research.google.com/github/ArthurLazdin/Machine-Learning/blob/main/Notebooks/Hotels_Bookingt_Exercise_3.ipynb\" target=\"_parent\"><img src=\"https://colab.research.google.com/assets/colab-badge.svg\" alt=\"Open In Colab\"/></a>"
      ]
    },
    {
      "cell_type": "markdown",
      "source": [
        "# Заселится клиент или не заселится? Часть вторая.\n"
      ],
      "metadata": {
        "id": "w84-f-weUxCK"
      }
    },
    {
      "cell_type": "code",
      "execution_count": 1,
      "metadata": {
        "colab": {
          "base_uri": "https://localhost:8080/"
        },
        "id": "RWSJpsyKqHjH",
        "outputId": "cb720995-fb9d-4913-9be4-47b952267001"
      },
      "outputs": [
        {
          "output_type": "stream",
          "name": "stdout",
          "text": [
            "Mounted at /content/drive\n"
          ]
        }
      ],
      "source": [
        "from google.colab import drive\n",
        "drive.mount('/content/drive')"
      ]
    },
    {
      "cell_type": "code",
      "source": [
        "# Import libraries\n",
        "import pandas as pd\n",
        "import numpy as np\n",
        "import matplotlib.pyplot as plt\n",
        "import seaborn as sns\n",
        "\n",
        "from datetime import datetime"
      ],
      "metadata": {
        "id": "GLJM7D799IT4"
      },
      "execution_count": 2,
      "outputs": []
    },
    {
      "cell_type": "code",
      "source": [
        "hotel_resrv = pd.read_csv('/content/drive/My Drive/Colab Notebooks/Machine Learning/Data/Hotel Reservations.csv')\n"
      ],
      "metadata": {
        "id": "Y508kXgd0em_"
      },
      "execution_count": 3,
      "outputs": []
    },
    {
      "cell_type": "markdown",
      "source": [
        "## Описание набора.\n",
        "[Набор](https://www.kaggle.com/datasets/ahsan81/hotel-reservations-classification-dataset) представляет собой информацию о бронировании отелей в онлайн режиме и предназначен для обучения модели-классификатора, которая будет прогнозировать заселится ли клиент или откажется от бронирования.\n",
        "Набор включает следующие переменные:\n",
        "\n",
        "* Booking_ID: unique identifier of each booking\n",
        "* no_of_adults: Number of adults\n",
        "* no_of_children: Number of Children\n",
        "* no_of_weekend_nights: Number of weekend nights (Saturday or Sunday) the guest stayed or booked to stay at the hotel\n",
        "* no_of_week_nights: Number of week nights (Monday to Friday) the guest stayed or booked to stay at the hotel\n",
        "* type_of_meal_plan: Type of meal plan booked by the customer:\n",
        "* required_car_parking_space: Does the customer require a car parking space? (0 - No, 1- Yes)\n",
        "* room_type_reserved: Type of room reserved by the customer. The values are ciphered (encoded) by INN Hotels.\n",
        "* lead_time: Number of days between the date of booking and the arrival date\n",
        "* arrival_year: Year of arrival date\n",
        "* arrival_month: Month of arrival date\n",
        "* arrival_date: Date of the month\n",
        "* market_segment_type: Market segment designation.\n",
        "* repeated_guest: Is the customer a repeated guest? (0 - No, 1- Yes)\n",
        "* no_of_previous_cancellations: Number of previous bookings that were canceled by the customer prior to the current booking\n",
        "* no_of_previous_bookings_not_canceled: Number of previous bookings not canceled by the customer prior to the current booking\n",
        "* avg_price_per_room: Average price per day of the reservation; prices of the rooms are dynamic. (in euros)\n",
        "* no_of_special_requests: Total number of special requests made by the customer (e.g. high floor, view from the room, etc)\n",
        "* booking_status: Flag indicating if the booking was canceled or not.\n",
        "Целевой переменной является booking_status.\n"
      ],
      "metadata": {
        "id": "CWbA2xroXkko"
      }
    },
    {
      "cell_type": "code",
      "source": [
        "hotel_resrv.info()"
      ],
      "metadata": {
        "colab": {
          "base_uri": "https://localhost:8080/"
        },
        "id": "hLP4jVqmS7D0",
        "outputId": "995cf175-1d6b-4969-acda-71750f6f785a"
      },
      "execution_count": 4,
      "outputs": [
        {
          "output_type": "stream",
          "name": "stdout",
          "text": [
            "<class 'pandas.core.frame.DataFrame'>\n",
            "RangeIndex: 36275 entries, 0 to 36274\n",
            "Data columns (total 19 columns):\n",
            " #   Column                                Non-Null Count  Dtype  \n",
            "---  ------                                --------------  -----  \n",
            " 0   Booking_ID                            36275 non-null  object \n",
            " 1   no_of_adults                          36275 non-null  int64  \n",
            " 2   no_of_children                        36275 non-null  int64  \n",
            " 3   no_of_weekend_nights                  36275 non-null  int64  \n",
            " 4   no_of_week_nights                     36275 non-null  int64  \n",
            " 5   type_of_meal_plan                     36275 non-null  object \n",
            " 6   required_car_parking_space            36275 non-null  int64  \n",
            " 7   room_type_reserved                    36275 non-null  object \n",
            " 8   lead_time                             36275 non-null  int64  \n",
            " 9   arrival_year                          36275 non-null  int64  \n",
            " 10  arrival_month                         36275 non-null  int64  \n",
            " 11  arrival_date                          36275 non-null  int64  \n",
            " 12  market_segment_type                   36275 non-null  object \n",
            " 13  repeated_guest                        36275 non-null  int64  \n",
            " 14  no_of_previous_cancellations          36275 non-null  int64  \n",
            " 15  no_of_previous_bookings_not_canceled  36275 non-null  int64  \n",
            " 16  avg_price_per_room                    36275 non-null  float64\n",
            " 17  no_of_special_requests                36275 non-null  int64  \n",
            " 18  booking_status                        36275 non-null  object \n",
            "dtypes: float64(1), int64(13), object(5)\n",
            "memory usage: 5.3+ MB\n"
          ]
        }
      ]
    },
    {
      "cell_type": "markdown",
      "source": [
        "В наборе нет пропусков. Это не может не радовать. Посмотрим на примерное содержимое переменных."
      ],
      "metadata": {
        "id": "nbmfQaXlcXrA"
      }
    },
    {
      "cell_type": "code",
      "source": [
        "hotel_resrv.head()\n"
      ],
      "metadata": {
        "colab": {
          "base_uri": "https://localhost:8080/",
          "height": 270
        },
        "id": "tbk-tqbD1f_B",
        "outputId": "71fc1ea9-9556-48f0-fb1e-c9672be71587"
      },
      "execution_count": 5,
      "outputs": [
        {
          "output_type": "execute_result",
          "data": {
            "text/plain": [
              "  Booking_ID  no_of_adults  no_of_children  no_of_weekend_nights  \\\n",
              "0   INN00001             2               0                     1   \n",
              "1   INN00002             2               0                     2   \n",
              "2   INN00003             1               0                     2   \n",
              "3   INN00004             2               0                     0   \n",
              "4   INN00005             2               0                     1   \n",
              "\n",
              "   no_of_week_nights type_of_meal_plan  required_car_parking_space  \\\n",
              "0                  2       Meal Plan 1                           0   \n",
              "1                  3      Not Selected                           0   \n",
              "2                  1       Meal Plan 1                           0   \n",
              "3                  2       Meal Plan 1                           0   \n",
              "4                  1      Not Selected                           0   \n",
              "\n",
              "  room_type_reserved  lead_time  arrival_year  arrival_month  arrival_date  \\\n",
              "0        Room_Type 1        224          2017             10             2   \n",
              "1        Room_Type 1          5          2018             11             6   \n",
              "2        Room_Type 1          1          2018              2            28   \n",
              "3        Room_Type 1        211          2018              5            20   \n",
              "4        Room_Type 1         48          2018              4            11   \n",
              "\n",
              "  market_segment_type  repeated_guest  no_of_previous_cancellations  \\\n",
              "0             Offline               0                             0   \n",
              "1              Online               0                             0   \n",
              "2              Online               0                             0   \n",
              "3              Online               0                             0   \n",
              "4              Online               0                             0   \n",
              "\n",
              "   no_of_previous_bookings_not_canceled  avg_price_per_room  \\\n",
              "0                                     0               65.00   \n",
              "1                                     0              106.68   \n",
              "2                                     0               60.00   \n",
              "3                                     0              100.00   \n",
              "4                                     0               94.50   \n",
              "\n",
              "   no_of_special_requests booking_status  \n",
              "0                       0   Not_Canceled  \n",
              "1                       1   Not_Canceled  \n",
              "2                       0       Canceled  \n",
              "3                       0       Canceled  \n",
              "4                       0       Canceled  "
            ],
            "text/html": [
              "\n",
              "  <div id=\"df-a63a2587-fc2b-492c-90f6-22d013c7d920\">\n",
              "    <div class=\"colab-df-container\">\n",
              "      <div>\n",
              "<style scoped>\n",
              "    .dataframe tbody tr th:only-of-type {\n",
              "        vertical-align: middle;\n",
              "    }\n",
              "\n",
              "    .dataframe tbody tr th {\n",
              "        vertical-align: top;\n",
              "    }\n",
              "\n",
              "    .dataframe thead th {\n",
              "        text-align: right;\n",
              "    }\n",
              "</style>\n",
              "<table border=\"1\" class=\"dataframe\">\n",
              "  <thead>\n",
              "    <tr style=\"text-align: right;\">\n",
              "      <th></th>\n",
              "      <th>Booking_ID</th>\n",
              "      <th>no_of_adults</th>\n",
              "      <th>no_of_children</th>\n",
              "      <th>no_of_weekend_nights</th>\n",
              "      <th>no_of_week_nights</th>\n",
              "      <th>type_of_meal_plan</th>\n",
              "      <th>required_car_parking_space</th>\n",
              "      <th>room_type_reserved</th>\n",
              "      <th>lead_time</th>\n",
              "      <th>arrival_year</th>\n",
              "      <th>arrival_month</th>\n",
              "      <th>arrival_date</th>\n",
              "      <th>market_segment_type</th>\n",
              "      <th>repeated_guest</th>\n",
              "      <th>no_of_previous_cancellations</th>\n",
              "      <th>no_of_previous_bookings_not_canceled</th>\n",
              "      <th>avg_price_per_room</th>\n",
              "      <th>no_of_special_requests</th>\n",
              "      <th>booking_status</th>\n",
              "    </tr>\n",
              "  </thead>\n",
              "  <tbody>\n",
              "    <tr>\n",
              "      <th>0</th>\n",
              "      <td>INN00001</td>\n",
              "      <td>2</td>\n",
              "      <td>0</td>\n",
              "      <td>1</td>\n",
              "      <td>2</td>\n",
              "      <td>Meal Plan 1</td>\n",
              "      <td>0</td>\n",
              "      <td>Room_Type 1</td>\n",
              "      <td>224</td>\n",
              "      <td>2017</td>\n",
              "      <td>10</td>\n",
              "      <td>2</td>\n",
              "      <td>Offline</td>\n",
              "      <td>0</td>\n",
              "      <td>0</td>\n",
              "      <td>0</td>\n",
              "      <td>65.00</td>\n",
              "      <td>0</td>\n",
              "      <td>Not_Canceled</td>\n",
              "    </tr>\n",
              "    <tr>\n",
              "      <th>1</th>\n",
              "      <td>INN00002</td>\n",
              "      <td>2</td>\n",
              "      <td>0</td>\n",
              "      <td>2</td>\n",
              "      <td>3</td>\n",
              "      <td>Not Selected</td>\n",
              "      <td>0</td>\n",
              "      <td>Room_Type 1</td>\n",
              "      <td>5</td>\n",
              "      <td>2018</td>\n",
              "      <td>11</td>\n",
              "      <td>6</td>\n",
              "      <td>Online</td>\n",
              "      <td>0</td>\n",
              "      <td>0</td>\n",
              "      <td>0</td>\n",
              "      <td>106.68</td>\n",
              "      <td>1</td>\n",
              "      <td>Not_Canceled</td>\n",
              "    </tr>\n",
              "    <tr>\n",
              "      <th>2</th>\n",
              "      <td>INN00003</td>\n",
              "      <td>1</td>\n",
              "      <td>0</td>\n",
              "      <td>2</td>\n",
              "      <td>1</td>\n",
              "      <td>Meal Plan 1</td>\n",
              "      <td>0</td>\n",
              "      <td>Room_Type 1</td>\n",
              "      <td>1</td>\n",
              "      <td>2018</td>\n",
              "      <td>2</td>\n",
              "      <td>28</td>\n",
              "      <td>Online</td>\n",
              "      <td>0</td>\n",
              "      <td>0</td>\n",
              "      <td>0</td>\n",
              "      <td>60.00</td>\n",
              "      <td>0</td>\n",
              "      <td>Canceled</td>\n",
              "    </tr>\n",
              "    <tr>\n",
              "      <th>3</th>\n",
              "      <td>INN00004</td>\n",
              "      <td>2</td>\n",
              "      <td>0</td>\n",
              "      <td>0</td>\n",
              "      <td>2</td>\n",
              "      <td>Meal Plan 1</td>\n",
              "      <td>0</td>\n",
              "      <td>Room_Type 1</td>\n",
              "      <td>211</td>\n",
              "      <td>2018</td>\n",
              "      <td>5</td>\n",
              "      <td>20</td>\n",
              "      <td>Online</td>\n",
              "      <td>0</td>\n",
              "      <td>0</td>\n",
              "      <td>0</td>\n",
              "      <td>100.00</td>\n",
              "      <td>0</td>\n",
              "      <td>Canceled</td>\n",
              "    </tr>\n",
              "    <tr>\n",
              "      <th>4</th>\n",
              "      <td>INN00005</td>\n",
              "      <td>2</td>\n",
              "      <td>0</td>\n",
              "      <td>1</td>\n",
              "      <td>1</td>\n",
              "      <td>Not Selected</td>\n",
              "      <td>0</td>\n",
              "      <td>Room_Type 1</td>\n",
              "      <td>48</td>\n",
              "      <td>2018</td>\n",
              "      <td>4</td>\n",
              "      <td>11</td>\n",
              "      <td>Online</td>\n",
              "      <td>0</td>\n",
              "      <td>0</td>\n",
              "      <td>0</td>\n",
              "      <td>94.50</td>\n",
              "      <td>0</td>\n",
              "      <td>Canceled</td>\n",
              "    </tr>\n",
              "  </tbody>\n",
              "</table>\n",
              "</div>\n",
              "      <button class=\"colab-df-convert\" onclick=\"convertToInteractive('df-a63a2587-fc2b-492c-90f6-22d013c7d920')\"\n",
              "              title=\"Convert this dataframe to an interactive table.\"\n",
              "              style=\"display:none;\">\n",
              "        \n",
              "  <svg xmlns=\"http://www.w3.org/2000/svg\" height=\"24px\"viewBox=\"0 0 24 24\"\n",
              "       width=\"24px\">\n",
              "    <path d=\"M0 0h24v24H0V0z\" fill=\"none\"/>\n",
              "    <path d=\"M18.56 5.44l.94 2.06.94-2.06 2.06-.94-2.06-.94-.94-2.06-.94 2.06-2.06.94zm-11 1L8.5 8.5l.94-2.06 2.06-.94-2.06-.94L8.5 2.5l-.94 2.06-2.06.94zm10 10l.94 2.06.94-2.06 2.06-.94-2.06-.94-.94-2.06-.94 2.06-2.06.94z\"/><path d=\"M17.41 7.96l-1.37-1.37c-.4-.4-.92-.59-1.43-.59-.52 0-1.04.2-1.43.59L10.3 9.45l-7.72 7.72c-.78.78-.78 2.05 0 2.83L4 21.41c.39.39.9.59 1.41.59.51 0 1.02-.2 1.41-.59l7.78-7.78 2.81-2.81c.8-.78.8-2.07 0-2.86zM5.41 20L4 18.59l7.72-7.72 1.47 1.35L5.41 20z\"/>\n",
              "  </svg>\n",
              "      </button>\n",
              "      \n",
              "  <style>\n",
              "    .colab-df-container {\n",
              "      display:flex;\n",
              "      flex-wrap:wrap;\n",
              "      gap: 12px;\n",
              "    }\n",
              "\n",
              "    .colab-df-convert {\n",
              "      background-color: #E8F0FE;\n",
              "      border: none;\n",
              "      border-radius: 50%;\n",
              "      cursor: pointer;\n",
              "      display: none;\n",
              "      fill: #1967D2;\n",
              "      height: 32px;\n",
              "      padding: 0 0 0 0;\n",
              "      width: 32px;\n",
              "    }\n",
              "\n",
              "    .colab-df-convert:hover {\n",
              "      background-color: #E2EBFA;\n",
              "      box-shadow: 0px 1px 2px rgba(60, 64, 67, 0.3), 0px 1px 3px 1px rgba(60, 64, 67, 0.15);\n",
              "      fill: #174EA6;\n",
              "    }\n",
              "\n",
              "    [theme=dark] .colab-df-convert {\n",
              "      background-color: #3B4455;\n",
              "      fill: #D2E3FC;\n",
              "    }\n",
              "\n",
              "    [theme=dark] .colab-df-convert:hover {\n",
              "      background-color: #434B5C;\n",
              "      box-shadow: 0px 1px 3px 1px rgba(0, 0, 0, 0.15);\n",
              "      filter: drop-shadow(0px 1px 2px rgba(0, 0, 0, 0.3));\n",
              "      fill: #FFFFFF;\n",
              "    }\n",
              "  </style>\n",
              "\n",
              "      <script>\n",
              "        const buttonEl =\n",
              "          document.querySelector('#df-a63a2587-fc2b-492c-90f6-22d013c7d920 button.colab-df-convert');\n",
              "        buttonEl.style.display =\n",
              "          google.colab.kernel.accessAllowed ? 'block' : 'none';\n",
              "\n",
              "        async function convertToInteractive(key) {\n",
              "          const element = document.querySelector('#df-a63a2587-fc2b-492c-90f6-22d013c7d920');\n",
              "          const dataTable =\n",
              "            await google.colab.kernel.invokeFunction('convertToInteractive',\n",
              "                                                     [key], {});\n",
              "          if (!dataTable) return;\n",
              "\n",
              "          const docLinkHtml = 'Like what you see? Visit the ' +\n",
              "            '<a target=\"_blank\" href=https://colab.research.google.com/notebooks/data_table.ipynb>data table notebook</a>'\n",
              "            + ' to learn more about interactive tables.';\n",
              "          element.innerHTML = '';\n",
              "          dataTable['output_type'] = 'display_data';\n",
              "          await google.colab.output.renderOutput(dataTable, element);\n",
              "          const docLink = document.createElement('div');\n",
              "          docLink.innerHTML = docLinkHtml;\n",
              "          element.appendChild(docLink);\n",
              "        }\n",
              "      </script>\n",
              "    </div>\n",
              "  </div>\n",
              "  "
            ]
          },
          "metadata": {},
          "execution_count": 5
        }
      ]
    },
    {
      "cell_type": "code",
      "source": [
        "hotel_resrv.describe()"
      ],
      "metadata": {
        "colab": {
          "base_uri": "https://localhost:8080/",
          "height": 364
        },
        "id": "hQYqhsJO-LTU",
        "outputId": "bd0ad67b-227c-4672-f284-b9ac2b8579e0"
      },
      "execution_count": 6,
      "outputs": [
        {
          "output_type": "execute_result",
          "data": {
            "text/plain": [
              "       no_of_adults  no_of_children  no_of_weekend_nights  no_of_week_nights  \\\n",
              "count  36275.000000    36275.000000          36275.000000       36275.000000   \n",
              "mean       1.844962        0.105279              0.810724           2.204300   \n",
              "std        0.518715        0.402648              0.870644           1.410905   \n",
              "min        0.000000        0.000000              0.000000           0.000000   \n",
              "25%        2.000000        0.000000              0.000000           1.000000   \n",
              "50%        2.000000        0.000000              1.000000           2.000000   \n",
              "75%        2.000000        0.000000              2.000000           3.000000   \n",
              "max        4.000000       10.000000              7.000000          17.000000   \n",
              "\n",
              "       required_car_parking_space     lead_time  arrival_year  arrival_month  \\\n",
              "count                36275.000000  36275.000000  36275.000000   36275.000000   \n",
              "mean                     0.030986     85.232557   2017.820427       7.423653   \n",
              "std                      0.173281     85.930817      0.383836       3.069894   \n",
              "min                      0.000000      0.000000   2017.000000       1.000000   \n",
              "25%                      0.000000     17.000000   2018.000000       5.000000   \n",
              "50%                      0.000000     57.000000   2018.000000       8.000000   \n",
              "75%                      0.000000    126.000000   2018.000000      10.000000   \n",
              "max                      1.000000    443.000000   2018.000000      12.000000   \n",
              "\n",
              "       arrival_date  repeated_guest  no_of_previous_cancellations  \\\n",
              "count  36275.000000    36275.000000                  36275.000000   \n",
              "mean      15.596995        0.025637                      0.023349   \n",
              "std        8.740447        0.158053                      0.368331   \n",
              "min        1.000000        0.000000                      0.000000   \n",
              "25%        8.000000        0.000000                      0.000000   \n",
              "50%       16.000000        0.000000                      0.000000   \n",
              "75%       23.000000        0.000000                      0.000000   \n",
              "max       31.000000        1.000000                     13.000000   \n",
              "\n",
              "       no_of_previous_bookings_not_canceled  avg_price_per_room  \\\n",
              "count                          36275.000000        36275.000000   \n",
              "mean                               0.153411          103.423539   \n",
              "std                                1.754171           35.089424   \n",
              "min                                0.000000            0.000000   \n",
              "25%                                0.000000           80.300000   \n",
              "50%                                0.000000           99.450000   \n",
              "75%                                0.000000          120.000000   \n",
              "max                               58.000000          540.000000   \n",
              "\n",
              "       no_of_special_requests  \n",
              "count            36275.000000  \n",
              "mean                 0.619655  \n",
              "std                  0.786236  \n",
              "min                  0.000000  \n",
              "25%                  0.000000  \n",
              "50%                  0.000000  \n",
              "75%                  1.000000  \n",
              "max                  5.000000  "
            ],
            "text/html": [
              "\n",
              "  <div id=\"df-1b0e812c-c4ef-4c29-aad9-a9baf8482afa\">\n",
              "    <div class=\"colab-df-container\">\n",
              "      <div>\n",
              "<style scoped>\n",
              "    .dataframe tbody tr th:only-of-type {\n",
              "        vertical-align: middle;\n",
              "    }\n",
              "\n",
              "    .dataframe tbody tr th {\n",
              "        vertical-align: top;\n",
              "    }\n",
              "\n",
              "    .dataframe thead th {\n",
              "        text-align: right;\n",
              "    }\n",
              "</style>\n",
              "<table border=\"1\" class=\"dataframe\">\n",
              "  <thead>\n",
              "    <tr style=\"text-align: right;\">\n",
              "      <th></th>\n",
              "      <th>no_of_adults</th>\n",
              "      <th>no_of_children</th>\n",
              "      <th>no_of_weekend_nights</th>\n",
              "      <th>no_of_week_nights</th>\n",
              "      <th>required_car_parking_space</th>\n",
              "      <th>lead_time</th>\n",
              "      <th>arrival_year</th>\n",
              "      <th>arrival_month</th>\n",
              "      <th>arrival_date</th>\n",
              "      <th>repeated_guest</th>\n",
              "      <th>no_of_previous_cancellations</th>\n",
              "      <th>no_of_previous_bookings_not_canceled</th>\n",
              "      <th>avg_price_per_room</th>\n",
              "      <th>no_of_special_requests</th>\n",
              "    </tr>\n",
              "  </thead>\n",
              "  <tbody>\n",
              "    <tr>\n",
              "      <th>count</th>\n",
              "      <td>36275.000000</td>\n",
              "      <td>36275.000000</td>\n",
              "      <td>36275.000000</td>\n",
              "      <td>36275.000000</td>\n",
              "      <td>36275.000000</td>\n",
              "      <td>36275.000000</td>\n",
              "      <td>36275.000000</td>\n",
              "      <td>36275.000000</td>\n",
              "      <td>36275.000000</td>\n",
              "      <td>36275.000000</td>\n",
              "      <td>36275.000000</td>\n",
              "      <td>36275.000000</td>\n",
              "      <td>36275.000000</td>\n",
              "      <td>36275.000000</td>\n",
              "    </tr>\n",
              "    <tr>\n",
              "      <th>mean</th>\n",
              "      <td>1.844962</td>\n",
              "      <td>0.105279</td>\n",
              "      <td>0.810724</td>\n",
              "      <td>2.204300</td>\n",
              "      <td>0.030986</td>\n",
              "      <td>85.232557</td>\n",
              "      <td>2017.820427</td>\n",
              "      <td>7.423653</td>\n",
              "      <td>15.596995</td>\n",
              "      <td>0.025637</td>\n",
              "      <td>0.023349</td>\n",
              "      <td>0.153411</td>\n",
              "      <td>103.423539</td>\n",
              "      <td>0.619655</td>\n",
              "    </tr>\n",
              "    <tr>\n",
              "      <th>std</th>\n",
              "      <td>0.518715</td>\n",
              "      <td>0.402648</td>\n",
              "      <td>0.870644</td>\n",
              "      <td>1.410905</td>\n",
              "      <td>0.173281</td>\n",
              "      <td>85.930817</td>\n",
              "      <td>0.383836</td>\n",
              "      <td>3.069894</td>\n",
              "      <td>8.740447</td>\n",
              "      <td>0.158053</td>\n",
              "      <td>0.368331</td>\n",
              "      <td>1.754171</td>\n",
              "      <td>35.089424</td>\n",
              "      <td>0.786236</td>\n",
              "    </tr>\n",
              "    <tr>\n",
              "      <th>min</th>\n",
              "      <td>0.000000</td>\n",
              "      <td>0.000000</td>\n",
              "      <td>0.000000</td>\n",
              "      <td>0.000000</td>\n",
              "      <td>0.000000</td>\n",
              "      <td>0.000000</td>\n",
              "      <td>2017.000000</td>\n",
              "      <td>1.000000</td>\n",
              "      <td>1.000000</td>\n",
              "      <td>0.000000</td>\n",
              "      <td>0.000000</td>\n",
              "      <td>0.000000</td>\n",
              "      <td>0.000000</td>\n",
              "      <td>0.000000</td>\n",
              "    </tr>\n",
              "    <tr>\n",
              "      <th>25%</th>\n",
              "      <td>2.000000</td>\n",
              "      <td>0.000000</td>\n",
              "      <td>0.000000</td>\n",
              "      <td>1.000000</td>\n",
              "      <td>0.000000</td>\n",
              "      <td>17.000000</td>\n",
              "      <td>2018.000000</td>\n",
              "      <td>5.000000</td>\n",
              "      <td>8.000000</td>\n",
              "      <td>0.000000</td>\n",
              "      <td>0.000000</td>\n",
              "      <td>0.000000</td>\n",
              "      <td>80.300000</td>\n",
              "      <td>0.000000</td>\n",
              "    </tr>\n",
              "    <tr>\n",
              "      <th>50%</th>\n",
              "      <td>2.000000</td>\n",
              "      <td>0.000000</td>\n",
              "      <td>1.000000</td>\n",
              "      <td>2.000000</td>\n",
              "      <td>0.000000</td>\n",
              "      <td>57.000000</td>\n",
              "      <td>2018.000000</td>\n",
              "      <td>8.000000</td>\n",
              "      <td>16.000000</td>\n",
              "      <td>0.000000</td>\n",
              "      <td>0.000000</td>\n",
              "      <td>0.000000</td>\n",
              "      <td>99.450000</td>\n",
              "      <td>0.000000</td>\n",
              "    </tr>\n",
              "    <tr>\n",
              "      <th>75%</th>\n",
              "      <td>2.000000</td>\n",
              "      <td>0.000000</td>\n",
              "      <td>2.000000</td>\n",
              "      <td>3.000000</td>\n",
              "      <td>0.000000</td>\n",
              "      <td>126.000000</td>\n",
              "      <td>2018.000000</td>\n",
              "      <td>10.000000</td>\n",
              "      <td>23.000000</td>\n",
              "      <td>0.000000</td>\n",
              "      <td>0.000000</td>\n",
              "      <td>0.000000</td>\n",
              "      <td>120.000000</td>\n",
              "      <td>1.000000</td>\n",
              "    </tr>\n",
              "    <tr>\n",
              "      <th>max</th>\n",
              "      <td>4.000000</td>\n",
              "      <td>10.000000</td>\n",
              "      <td>7.000000</td>\n",
              "      <td>17.000000</td>\n",
              "      <td>1.000000</td>\n",
              "      <td>443.000000</td>\n",
              "      <td>2018.000000</td>\n",
              "      <td>12.000000</td>\n",
              "      <td>31.000000</td>\n",
              "      <td>1.000000</td>\n",
              "      <td>13.000000</td>\n",
              "      <td>58.000000</td>\n",
              "      <td>540.000000</td>\n",
              "      <td>5.000000</td>\n",
              "    </tr>\n",
              "  </tbody>\n",
              "</table>\n",
              "</div>\n",
              "      <button class=\"colab-df-convert\" onclick=\"convertToInteractive('df-1b0e812c-c4ef-4c29-aad9-a9baf8482afa')\"\n",
              "              title=\"Convert this dataframe to an interactive table.\"\n",
              "              style=\"display:none;\">\n",
              "        \n",
              "  <svg xmlns=\"http://www.w3.org/2000/svg\" height=\"24px\"viewBox=\"0 0 24 24\"\n",
              "       width=\"24px\">\n",
              "    <path d=\"M0 0h24v24H0V0z\" fill=\"none\"/>\n",
              "    <path d=\"M18.56 5.44l.94 2.06.94-2.06 2.06-.94-2.06-.94-.94-2.06-.94 2.06-2.06.94zm-11 1L8.5 8.5l.94-2.06 2.06-.94-2.06-.94L8.5 2.5l-.94 2.06-2.06.94zm10 10l.94 2.06.94-2.06 2.06-.94-2.06-.94-.94-2.06-.94 2.06-2.06.94z\"/><path d=\"M17.41 7.96l-1.37-1.37c-.4-.4-.92-.59-1.43-.59-.52 0-1.04.2-1.43.59L10.3 9.45l-7.72 7.72c-.78.78-.78 2.05 0 2.83L4 21.41c.39.39.9.59 1.41.59.51 0 1.02-.2 1.41-.59l7.78-7.78 2.81-2.81c.8-.78.8-2.07 0-2.86zM5.41 20L4 18.59l7.72-7.72 1.47 1.35L5.41 20z\"/>\n",
              "  </svg>\n",
              "      </button>\n",
              "      \n",
              "  <style>\n",
              "    .colab-df-container {\n",
              "      display:flex;\n",
              "      flex-wrap:wrap;\n",
              "      gap: 12px;\n",
              "    }\n",
              "\n",
              "    .colab-df-convert {\n",
              "      background-color: #E8F0FE;\n",
              "      border: none;\n",
              "      border-radius: 50%;\n",
              "      cursor: pointer;\n",
              "      display: none;\n",
              "      fill: #1967D2;\n",
              "      height: 32px;\n",
              "      padding: 0 0 0 0;\n",
              "      width: 32px;\n",
              "    }\n",
              "\n",
              "    .colab-df-convert:hover {\n",
              "      background-color: #E2EBFA;\n",
              "      box-shadow: 0px 1px 2px rgba(60, 64, 67, 0.3), 0px 1px 3px 1px rgba(60, 64, 67, 0.15);\n",
              "      fill: #174EA6;\n",
              "    }\n",
              "\n",
              "    [theme=dark] .colab-df-convert {\n",
              "      background-color: #3B4455;\n",
              "      fill: #D2E3FC;\n",
              "    }\n",
              "\n",
              "    [theme=dark] .colab-df-convert:hover {\n",
              "      background-color: #434B5C;\n",
              "      box-shadow: 0px 1px 3px 1px rgba(0, 0, 0, 0.15);\n",
              "      filter: drop-shadow(0px 1px 2px rgba(0, 0, 0, 0.3));\n",
              "      fill: #FFFFFF;\n",
              "    }\n",
              "  </style>\n",
              "\n",
              "      <script>\n",
              "        const buttonEl =\n",
              "          document.querySelector('#df-1b0e812c-c4ef-4c29-aad9-a9baf8482afa button.colab-df-convert');\n",
              "        buttonEl.style.display =\n",
              "          google.colab.kernel.accessAllowed ? 'block' : 'none';\n",
              "\n",
              "        async function convertToInteractive(key) {\n",
              "          const element = document.querySelector('#df-1b0e812c-c4ef-4c29-aad9-a9baf8482afa');\n",
              "          const dataTable =\n",
              "            await google.colab.kernel.invokeFunction('convertToInteractive',\n",
              "                                                     [key], {});\n",
              "          if (!dataTable) return;\n",
              "\n",
              "          const docLinkHtml = 'Like what you see? Visit the ' +\n",
              "            '<a target=\"_blank\" href=https://colab.research.google.com/notebooks/data_table.ipynb>data table notebook</a>'\n",
              "            + ' to learn more about interactive tables.';\n",
              "          element.innerHTML = '';\n",
              "          dataTable['output_type'] = 'display_data';\n",
              "          await google.colab.output.renderOutput(dataTable, element);\n",
              "          const docLink = document.createElement('div');\n",
              "          docLink.innerHTML = docLinkHtml;\n",
              "          element.appendChild(docLink);\n",
              "        }\n",
              "      </script>\n",
              "    </div>\n",
              "  </div>\n",
              "  "
            ]
          },
          "metadata": {},
          "execution_count": 6
        }
      ]
    },
    {
      "cell_type": "markdown",
      "source": [
        "##Краткий обзор. \n",
        "Четыре переменных, включая целевую являются строковыми. Это нужно исправить. Кроме того даты предполагаемого заселения хранятся очень неудобно. Понятно, что идентификатор клиента ни на что не влияет и его можно удалить сразу.\n",
        "Еще хорошо бы сократить длины названий переменных для увеличения удобства работы с данными.\n"
      ],
      "metadata": {
        "id": "7kwXKghbDtZi"
      }
    },
    {
      "cell_type": "code",
      "source": [
        "# преобразуем целевую переменную\n",
        "booking_st  = {'Canceled': 0, 'Not_Canceled': 1}\n",
        "hotel_resrv['booking_status'] = hotel_resrv['booking_status'].map(booking_st)\n",
        "\n",
        "# удалим идентификаторы\n",
        "hotel_resrv.drop(['Booking_ID'], axis=1, inplace=True)"
      ],
      "metadata": {
        "id": "5biNVUj8MHyB"
      },
      "execution_count": 7,
      "outputs": []
    },
    {
      "cell_type": "code",
      "source": [
        "#преобразуем переменную room_type_reserved\n",
        "room_type = hotel_resrv['room_type_reserved'].unique()\n",
        "temp_list = np.arange(len(room_type))\n",
        "\n",
        "room_tipe_dict = dict(zip(room_type, temp_list))\n",
        "hotel_resrv['room_type_reserved'] = hotel_resrv['room_type_reserved'].map(room_tipe_dict)\n"
      ],
      "metadata": {
        "id": "M-oS-jNWM6yQ"
      },
      "execution_count": 8,
      "outputs": []
    },
    {
      "cell_type": "code",
      "source": [
        "segment_type = hotel_resrv['market_segment_type'].unique()\n",
        "temp_list = np.arange(len(segment_type))\n",
        "\n",
        "segment_tipe_dict = dict(zip(segment_type, temp_list))\n",
        "hotel_resrv['market_segment_type'] = hotel_resrv['market_segment_type'].map(segment_tipe_dict)"
      ],
      "metadata": {
        "id": "w6btj23COeeO"
      },
      "execution_count": 9,
      "outputs": []
    },
    {
      "cell_type": "code",
      "source": [
        "meal_plan = hotel_resrv['type_of_meal_plan'].unique()\n",
        "temp_list = np.arange(len(meal_plan))\n",
        "\n",
        "meal_plan_dict = dict(zip(meal_plan, temp_list))\n",
        "hotel_resrv['type_of_meal_plan'] = hotel_resrv['type_of_meal_plan'].map(meal_plan_dict)"
      ],
      "metadata": {
        "id": "LBCexrj5Pwv-"
      },
      "execution_count": 10,
      "outputs": []
    },
    {
      "cell_type": "markdown",
      "source": [
        "## Внезапная проблема.\n",
        "Для 37 строк в дататесте указано 29 февраля 2018 года, чего в природе не бывает, и соответсвующая функция datetime из модуля datetime отказывается преобразовывать тройки чисел 2018, 2, 29 в даты.\n",
        "\n",
        "Было принято решение заменить 29 число на 28."
      ],
      "metadata": {
        "id": "CaDM8vHqKmWw"
      }
    },
    {
      "cell_type": "code",
      "source": [
        "# Попытка оценить масштаб катастрофы.\n",
        "\n",
        "dates = hotel_resrv[['arrival_year','arrival_month','arrival_date']]\n",
        "\n",
        "error_date_list = []\n",
        "for i in dates.index:\n",
        "  if dates.iloc[i]['arrival_month'] == 2 and dates.iloc[i]['arrival_date'] == 29:\n",
        "    dates.iloc[i]['arrival_date'] = 28\n",
        "    error_date_list.append(i)\n",
        "print(len(error_date_list)) "
      ],
      "metadata": {
        "colab": {
          "base_uri": "https://localhost:8080/"
        },
        "id": "Ah5Qz5H0n6s9",
        "outputId": "d2f4fce2-522d-42bf-f9cf-17e94e0d58d6"
      },
      "execution_count": 11,
      "outputs": [
        {
          "output_type": "stream",
          "name": "stdout",
          "text": [
            "37\n"
          ]
        }
      ]
    },
    {
      "cell_type": "code",
      "source": [
        "# преобразуем дату предполагаемого заселения\n",
        "dates_new=[]\n",
        "for i in range(len(dates.index)):\n",
        "    dates_new.append(datetime(dates.iloc[i]['arrival_year'], dates.iloc[i]['arrival_month'], dates.iloc[i]['arrival_date']))\n",
        "\n",
        "# удаляем исходные переменные с датами \"вразбивку\"\n",
        "hotel_resrv.drop([ 'arrival_year','arrival_month','arrival_date'], axis=1, inplace=True)\n",
        "\n",
        "hotel_resrv.insert(7, 'booking_date',dates_new)\n",
        "hotel_resrv.head()"
      ],
      "metadata": {
        "id": "lSC1GZlsP4Jv",
        "colab": {
          "base_uri": "https://localhost:8080/",
          "height": 270
        },
        "outputId": "789e6f4c-bbed-49ae-cbdc-eae4e72ed3ee"
      },
      "execution_count": 12,
      "outputs": [
        {
          "output_type": "execute_result",
          "data": {
            "text/plain": [
              "   no_of_adults  no_of_children  no_of_weekend_nights  no_of_week_nights  \\\n",
              "0             2               0                     1                  2   \n",
              "1             2               0                     2                  3   \n",
              "2             1               0                     2                  1   \n",
              "3             2               0                     0                  2   \n",
              "4             2               0                     1                  1   \n",
              "\n",
              "   type_of_meal_plan  required_car_parking_space  room_type_reserved  \\\n",
              "0                  0                           0                   0   \n",
              "1                  1                           0                   0   \n",
              "2                  0                           0                   0   \n",
              "3                  0                           0                   0   \n",
              "4                  1                           0                   0   \n",
              "\n",
              "  booking_date  lead_time  market_segment_type  repeated_guest  \\\n",
              "0   2017-10-02        224                    0               0   \n",
              "1   2018-11-06          5                    1               0   \n",
              "2   2018-02-28          1                    1               0   \n",
              "3   2018-05-20        211                    1               0   \n",
              "4   2018-04-11         48                    1               0   \n",
              "\n",
              "   no_of_previous_cancellations  no_of_previous_bookings_not_canceled  \\\n",
              "0                             0                                     0   \n",
              "1                             0                                     0   \n",
              "2                             0                                     0   \n",
              "3                             0                                     0   \n",
              "4                             0                                     0   \n",
              "\n",
              "   avg_price_per_room  no_of_special_requests  booking_status  \n",
              "0               65.00                       0               1  \n",
              "1              106.68                       1               1  \n",
              "2               60.00                       0               0  \n",
              "3              100.00                       0               0  \n",
              "4               94.50                       0               0  "
            ],
            "text/html": [
              "\n",
              "  <div id=\"df-4fd60174-745d-4321-af44-d81d75077db4\">\n",
              "    <div class=\"colab-df-container\">\n",
              "      <div>\n",
              "<style scoped>\n",
              "    .dataframe tbody tr th:only-of-type {\n",
              "        vertical-align: middle;\n",
              "    }\n",
              "\n",
              "    .dataframe tbody tr th {\n",
              "        vertical-align: top;\n",
              "    }\n",
              "\n",
              "    .dataframe thead th {\n",
              "        text-align: right;\n",
              "    }\n",
              "</style>\n",
              "<table border=\"1\" class=\"dataframe\">\n",
              "  <thead>\n",
              "    <tr style=\"text-align: right;\">\n",
              "      <th></th>\n",
              "      <th>no_of_adults</th>\n",
              "      <th>no_of_children</th>\n",
              "      <th>no_of_weekend_nights</th>\n",
              "      <th>no_of_week_nights</th>\n",
              "      <th>type_of_meal_plan</th>\n",
              "      <th>required_car_parking_space</th>\n",
              "      <th>room_type_reserved</th>\n",
              "      <th>booking_date</th>\n",
              "      <th>lead_time</th>\n",
              "      <th>market_segment_type</th>\n",
              "      <th>repeated_guest</th>\n",
              "      <th>no_of_previous_cancellations</th>\n",
              "      <th>no_of_previous_bookings_not_canceled</th>\n",
              "      <th>avg_price_per_room</th>\n",
              "      <th>no_of_special_requests</th>\n",
              "      <th>booking_status</th>\n",
              "    </tr>\n",
              "  </thead>\n",
              "  <tbody>\n",
              "    <tr>\n",
              "      <th>0</th>\n",
              "      <td>2</td>\n",
              "      <td>0</td>\n",
              "      <td>1</td>\n",
              "      <td>2</td>\n",
              "      <td>0</td>\n",
              "      <td>0</td>\n",
              "      <td>0</td>\n",
              "      <td>2017-10-02</td>\n",
              "      <td>224</td>\n",
              "      <td>0</td>\n",
              "      <td>0</td>\n",
              "      <td>0</td>\n",
              "      <td>0</td>\n",
              "      <td>65.00</td>\n",
              "      <td>0</td>\n",
              "      <td>1</td>\n",
              "    </tr>\n",
              "    <tr>\n",
              "      <th>1</th>\n",
              "      <td>2</td>\n",
              "      <td>0</td>\n",
              "      <td>2</td>\n",
              "      <td>3</td>\n",
              "      <td>1</td>\n",
              "      <td>0</td>\n",
              "      <td>0</td>\n",
              "      <td>2018-11-06</td>\n",
              "      <td>5</td>\n",
              "      <td>1</td>\n",
              "      <td>0</td>\n",
              "      <td>0</td>\n",
              "      <td>0</td>\n",
              "      <td>106.68</td>\n",
              "      <td>1</td>\n",
              "      <td>1</td>\n",
              "    </tr>\n",
              "    <tr>\n",
              "      <th>2</th>\n",
              "      <td>1</td>\n",
              "      <td>0</td>\n",
              "      <td>2</td>\n",
              "      <td>1</td>\n",
              "      <td>0</td>\n",
              "      <td>0</td>\n",
              "      <td>0</td>\n",
              "      <td>2018-02-28</td>\n",
              "      <td>1</td>\n",
              "      <td>1</td>\n",
              "      <td>0</td>\n",
              "      <td>0</td>\n",
              "      <td>0</td>\n",
              "      <td>60.00</td>\n",
              "      <td>0</td>\n",
              "      <td>0</td>\n",
              "    </tr>\n",
              "    <tr>\n",
              "      <th>3</th>\n",
              "      <td>2</td>\n",
              "      <td>0</td>\n",
              "      <td>0</td>\n",
              "      <td>2</td>\n",
              "      <td>0</td>\n",
              "      <td>0</td>\n",
              "      <td>0</td>\n",
              "      <td>2018-05-20</td>\n",
              "      <td>211</td>\n",
              "      <td>1</td>\n",
              "      <td>0</td>\n",
              "      <td>0</td>\n",
              "      <td>0</td>\n",
              "      <td>100.00</td>\n",
              "      <td>0</td>\n",
              "      <td>0</td>\n",
              "    </tr>\n",
              "    <tr>\n",
              "      <th>4</th>\n",
              "      <td>2</td>\n",
              "      <td>0</td>\n",
              "      <td>1</td>\n",
              "      <td>1</td>\n",
              "      <td>1</td>\n",
              "      <td>0</td>\n",
              "      <td>0</td>\n",
              "      <td>2018-04-11</td>\n",
              "      <td>48</td>\n",
              "      <td>1</td>\n",
              "      <td>0</td>\n",
              "      <td>0</td>\n",
              "      <td>0</td>\n",
              "      <td>94.50</td>\n",
              "      <td>0</td>\n",
              "      <td>0</td>\n",
              "    </tr>\n",
              "  </tbody>\n",
              "</table>\n",
              "</div>\n",
              "      <button class=\"colab-df-convert\" onclick=\"convertToInteractive('df-4fd60174-745d-4321-af44-d81d75077db4')\"\n",
              "              title=\"Convert this dataframe to an interactive table.\"\n",
              "              style=\"display:none;\">\n",
              "        \n",
              "  <svg xmlns=\"http://www.w3.org/2000/svg\" height=\"24px\"viewBox=\"0 0 24 24\"\n",
              "       width=\"24px\">\n",
              "    <path d=\"M0 0h24v24H0V0z\" fill=\"none\"/>\n",
              "    <path d=\"M18.56 5.44l.94 2.06.94-2.06 2.06-.94-2.06-.94-.94-2.06-.94 2.06-2.06.94zm-11 1L8.5 8.5l.94-2.06 2.06-.94-2.06-.94L8.5 2.5l-.94 2.06-2.06.94zm10 10l.94 2.06.94-2.06 2.06-.94-2.06-.94-.94-2.06-.94 2.06-2.06.94z\"/><path d=\"M17.41 7.96l-1.37-1.37c-.4-.4-.92-.59-1.43-.59-.52 0-1.04.2-1.43.59L10.3 9.45l-7.72 7.72c-.78.78-.78 2.05 0 2.83L4 21.41c.39.39.9.59 1.41.59.51 0 1.02-.2 1.41-.59l7.78-7.78 2.81-2.81c.8-.78.8-2.07 0-2.86zM5.41 20L4 18.59l7.72-7.72 1.47 1.35L5.41 20z\"/>\n",
              "  </svg>\n",
              "      </button>\n",
              "      \n",
              "  <style>\n",
              "    .colab-df-container {\n",
              "      display:flex;\n",
              "      flex-wrap:wrap;\n",
              "      gap: 12px;\n",
              "    }\n",
              "\n",
              "    .colab-df-convert {\n",
              "      background-color: #E8F0FE;\n",
              "      border: none;\n",
              "      border-radius: 50%;\n",
              "      cursor: pointer;\n",
              "      display: none;\n",
              "      fill: #1967D2;\n",
              "      height: 32px;\n",
              "      padding: 0 0 0 0;\n",
              "      width: 32px;\n",
              "    }\n",
              "\n",
              "    .colab-df-convert:hover {\n",
              "      background-color: #E2EBFA;\n",
              "      box-shadow: 0px 1px 2px rgba(60, 64, 67, 0.3), 0px 1px 3px 1px rgba(60, 64, 67, 0.15);\n",
              "      fill: #174EA6;\n",
              "    }\n",
              "\n",
              "    [theme=dark] .colab-df-convert {\n",
              "      background-color: #3B4455;\n",
              "      fill: #D2E3FC;\n",
              "    }\n",
              "\n",
              "    [theme=dark] .colab-df-convert:hover {\n",
              "      background-color: #434B5C;\n",
              "      box-shadow: 0px 1px 3px 1px rgba(0, 0, 0, 0.15);\n",
              "      filter: drop-shadow(0px 1px 2px rgba(0, 0, 0, 0.3));\n",
              "      fill: #FFFFFF;\n",
              "    }\n",
              "  </style>\n",
              "\n",
              "      <script>\n",
              "        const buttonEl =\n",
              "          document.querySelector('#df-4fd60174-745d-4321-af44-d81d75077db4 button.colab-df-convert');\n",
              "        buttonEl.style.display =\n",
              "          google.colab.kernel.accessAllowed ? 'block' : 'none';\n",
              "\n",
              "        async function convertToInteractive(key) {\n",
              "          const element = document.querySelector('#df-4fd60174-745d-4321-af44-d81d75077db4');\n",
              "          const dataTable =\n",
              "            await google.colab.kernel.invokeFunction('convertToInteractive',\n",
              "                                                     [key], {});\n",
              "          if (!dataTable) return;\n",
              "\n",
              "          const docLinkHtml = 'Like what you see? Visit the ' +\n",
              "            '<a target=\"_blank\" href=https://colab.research.google.com/notebooks/data_table.ipynb>data table notebook</a>'\n",
              "            + ' to learn more about interactive tables.';\n",
              "          element.innerHTML = '';\n",
              "          dataTable['output_type'] = 'display_data';\n",
              "          await google.colab.output.renderOutput(dataTable, element);\n",
              "          const docLink = document.createElement('div');\n",
              "          docLink.innerHTML = docLinkHtml;\n",
              "          element.appendChild(docLink);\n",
              "        }\n",
              "      </script>\n",
              "    </div>\n",
              "  </div>\n",
              "  "
            ]
          },
          "metadata": {},
          "execution_count": 12
        }
      ]
    },
    {
      "cell_type": "markdown",
      "source": [
        "##EDA\n",
        "Рассмотрим влияние значений no_of_previous_cancellations\tи no_of_previous_bookings_not_canceled на принятие решения о заселении."
      ],
      "metadata": {
        "id": "uU6eIBOnW9ja"
      }
    },
    {
      "cell_type": "code",
      "source": [
        "no_cancel = len(hotel_resrv[hotel_resrv['no_of_previous_bookings_not_canceled'] == 0 ])\n",
        "cancel = len(hotel_resrv[hotel_resrv['no_of_previous_cancellations'] == 0 ])\n",
        "total = len(hotel_resrv)\n",
        "print('No cancel = ' , (no_cancel / total)*100, '%   Cancel = ', (cancel/total)*100 ,'%')"
      ],
      "metadata": {
        "colab": {
          "base_uri": "https://localhost:8080/"
        },
        "id": "zGivGcUja-IN",
        "outputId": "3c21cf82-664d-49ca-ddf4-82f6b25aec40"
      },
      "execution_count": 13,
      "outputs": [
        {
          "output_type": "stream",
          "name": "stdout",
          "text": [
            "No cancel =  97.76154376292212 %   Cancel =  99.06822880771881 %\n"
          ]
        }
      ]
    },
    {
      "cell_type": "markdown",
      "source": [
        "Видно, что пользы от них исчезающе мало.\n",
        "Поэтому мы удалим эти столбцы из датасета."
      ],
      "metadata": {
        "id": "0YmrUFsvXcUs"
      }
    },
    {
      "cell_type": "code",
      "source": [
        "hotel_resrv.drop([ 'no_of_previous_bookings_not_canceled', 'no_of_previous_cancellations'], axis=1, inplace=True)"
      ],
      "metadata": {
        "id": "9_Al7NfCaHV8"
      },
      "execution_count": 14,
      "outputs": []
    },
    {
      "cell_type": "markdown",
      "source": [
        "Посиотрим что с таким признаком, как required_car_parking_space.\n",
        "Судя по графику ниже он важен. Оставляем. "
      ],
      "metadata": {
        "id": "qlfgXv8YdKR_"
      }
    },
    {
      "cell_type": "code",
      "source": [
        "plt.figure(figsize = (10,6))\n",
        "sns.countplot(x = 'required_car_parking_space', hue = 'booking_status', data = hotel_resrv)"
      ],
      "metadata": {
        "colab": {
          "base_uri": "https://localhost:8080/",
          "height": 406
        },
        "id": "-qrDlvUscq2E",
        "outputId": "bd75edc9-2b95-4f95-8d00-1bdb2e7198ff"
      },
      "execution_count": 15,
      "outputs": [
        {
          "output_type": "execute_result",
          "data": {
            "text/plain": [
              "<matplotlib.axes._subplots.AxesSubplot at 0x7f19a7fd95e0>"
            ]
          },
          "metadata": {},
          "execution_count": 15
        },
        {
          "output_type": "display_data",
          "data": {
            "text/plain": [
              "<Figure size 720x432 with 1 Axes>"
            ],
            "image/png": "[encoded data removed]"
          },
          "metadata": {
            "needs_background": "light"
          }
        }
      ]
    },
    {
      "cell_type": "markdown",
      "source": [
        "Попробуем разобраться с ценой комнаты. Это, изначально, едиственная существенная количественная характеристика. Причем ее значения сильно превышают значения остальных переменных, что предполагает нормализацию этой переменной.\n",
        "Но это имеет смысл делать после разделения данных на тренировочный и тестовый наборы."
      ],
      "metadata": {
        "id": "EBXq6k_Zde_1"
      }
    },
    {
      "cell_type": "code",
      "source": [
        "# задаем количество интервалов\n",
        "bins = 5\n",
        " \n",
        "# и размер графика\n",
        "plt.figure(figsize = (10,6))\n",
        " \n",
        "\n",
        "plt.hist(hotel_resrv.loc[hotel_resrv['booking_status'] == 0, 'avg_price_per_room'], bins, alpha = 0.5, label = 'Canceled')\n",
        "plt.hist(hotel_resrv.loc[hotel_resrv['booking_status'] == 1, 'avg_price_per_room'], bins, alpha = 0.5, label = 'Not canceled')\n",
        "plt.legend(loc = 'upper right')\n",
        "\n",
        " "
      ],
      "metadata": {
        "colab": {
          "base_uri": "https://localhost:8080/",
          "height": 391
        },
        "id": "UdDD_NYXeA_j",
        "outputId": "8dd95db1-7f5b-4ec8-b649-a11cf40454a9"
      },
      "execution_count": 16,
      "outputs": [
        {
          "output_type": "execute_result",
          "data": {
            "text/plain": [
              "<matplotlib.legend.Legend at 0x7f19a78a0550>"
            ]
          },
          "metadata": {},
          "execution_count": 16
        },
        {
          "output_type": "display_data",
          "data": {
            "text/plain": [
              "<Figure size 720x432 with 1 Axes>"
            ],
            "image/png": "[encoded data removed]"
          },
          "metadata": {
            "needs_background": "light"
          }
        }
      ]
    },
    {
      "cell_type": "markdown",
      "source": [
        "Данные по цене имеет смысл оставить.\n",
        "Займемся анализом вркменных интервалов. \n",
        "Посмотрим (plotly нам в помощь) на временные соотношения отказов и подтверждений бронирования. "
      ],
      "metadata": {
        "id": "uvW8yHcKf1O8"
      }
    },
    {
      "cell_type": "markdown",
      "source": [
        "### Построим корреляционную матрицу.\n",
        "Интересно, хотя и не неожиданно, что два самых коррелируемых значения - это число детей и число комнат. \n"
      ],
      "metadata": {
        "id": "t1wxu2a0W7rj"
      }
    },
    {
      "cell_type": "code",
      "source": [
        "import plotly.figure_factory as ff\n",
        "corrs = hotel_resrv.corr()\n",
        "figure = ff.create_annotated_heatmap(\n",
        "    z=corrs.values,\n",
        "    x=list(corrs.columns),\n",
        "    y=list(corrs.index),\n",
        "    annotation_text=corrs.round(2).values,\n",
        "    showscale=True)\n",
        "figure.show()"
      ],
      "metadata": {
        "colab": {
          "base_uri": "https://localhost:8080/",
          "height": 542
        },
        "id": "pGoTpAlk_9KG",
        "outputId": "841d322f-1919-4777-cf35-d1dd1b13c4c3"
      },
      "execution_count": 17,
      "outputs": [
        {
          "output_type": "display_data",
          "data": {
            "text/html": [
              "<html>\n",
              "<head><meta charset=\"utf-8\" /></head>\n",
              "<body>\n",
              "    <div>            <script src=\"https://cdnjs.cloudflare.com/ajax/libs/mathjax/2.7.5/MathJax.js?config=TeX-AMS-MML_SVG\"></script><script type=\"text/javascript\">if (window.MathJax) {MathJax.Hub.Config({SVG: {font: \"STIX-Web\"}});}</script>                <script type=\"text/javascript\">window.PlotlyConfig = {MathJaxConfig: 'local'};</script>\n",
              "        <script src=\"https://cdn.plot.ly/plotly-2.8.3.min.js\"></script>                <div id=\"034bfc22-a8bd-4926-8213-dcaac03a9c82\" class=\"plotly-graph-div\" style=\"height:525px; width:100%;\"></div>            <script type=\"text/javascript\">                                    window.PLOTLYENV=window.PLOTLYENV || {};                                    if (document.getElementById(\"034bfc22-a8bd-4926-8213-dcaac03a9c82\")) {                    Plotly.newPlot(                        \"034bfc22-a8bd-4926-8213-dcaac03a9c82\",                        [{\"colorscale\":[[0.0,\"#0d0887\"],[0.1111111111111111,\"#46039f\"],[0.2222222222222222,\"#7201a8\"],[0.3333333333333333,\"#9c179e\"],[0.4444444444444444,\"#bd3786\"],[0.5555555555555556,\"#d8576b\"],[0.6666666666666666,\"#ed7953\"],[0.7777777777777778,\"#fb9f3a\"],[0.8888888888888888,\"#fdca26\"],[1.0,\"#f0f921\"]],\"reversescale\":false,\"showscale\":true,\"x\":[\"no_of_adults\",\"no_of_children\",\"no_of_weekend_nights\",\"no_of_week_nights\",\"type_of_meal_plan\",\"required_car_parking_space\",\"room_type_reserved\",\"lead_time\",\"market_segment_type\",\"repeated_guest\",\"avg_price_per_room\",\"no_of_special_requests\",\"booking_status\"],\"y\":[\"no_of_adults\",\"no_of_children\",\"no_of_weekend_nights\",\"no_of_week_nights\",\"type_of_meal_plan\",\"required_car_parking_space\",\"room_type_reserved\",\"lead_time\",\"market_segment_type\",\"repeated_guest\",\"avg_price_per_room\",\"no_of_special_requests\",\"booking_status\"],\"z\":[[1.0,-0.019787073557932206,0.1033157752239147,0.1056219010031367,0.02769757844095262,0.011428744691347949,0.1620843031835941,0.09728651035955203,-0.0955426287576433,-0.1922769393185674,0.2968857360658242,0.18940095137214752,-0.08692029966008091],[-0.019787073557932206,1.0,0.029477584183502416,0.02439810760715853,-0.06754267865901009,0.03424352677035853,0.47830595519203634,-0.047091281830772616,0.07315936322613563,-0.036348496307027925,0.33772791390585877,0.12448618582025484,-0.03307782091225063],[0.1033157752239147,0.029477584183502416,1.0,0.1795767636929502,-0.05148487617091773,-0.031110664423542246,0.04064822499244949,0.046595440408726485,-0.01980413527482007,-0.06710731795045835,-0.004524589798038839,0.06059252568534455,-0.06156253999569153],[0.1056219010031367,0.02439810760715853,0.1795767636929502,1.0,-0.07788253532755413,-0.04878391481124707,0.06298779668952194,0.14965015627990372,-0.06530129215972104,-0.09976449972811655,0.022752686684301658,0.04599365259705466,-0.0929960086828823],[0.02769757844095262,-0.06754267865901009,-0.05148487617091773,-0.07788253532755413,1.0,-0.03066777306039686,-0.14442248025851392,0.14007745410028535,-0.16553825579334003,-0.06886740228283943,0.042036863106184555,-0.05806233795992157,-0.07990279127765984],[0.011428744691347949,0.03424352677035853,-0.031110664423542246,-0.04878391481124707,-0.03066777306039686,1.0,0.03978254901804725,-0.06644450523902376,0.11672951411258395,0.11090889048181744,0.06130428106815683,0.0879221329735089,0.08618527694671392],[0.1620843031835941,0.47830595519203634,0.04064822499244949,0.06298779668952194,-0.14442248025851392,0.03978254901804725,1.0,-0.08737553662870189,0.16636618393885041,-0.006647901236923563,0.40542282008619296,0.11437838209166716,-0.016327392855211387],[0.09728651035955203,-0.047091281830772616,0.046595440408726485,0.14965015627990372,0.14007745410028535,-0.06644450523902376,-0.08737553662870189,1.0,-0.3124326718674584,-0.13598446275819914,-0.06259646546936144,-0.10164497363430508,-0.4385379185883124],[-0.0955426287576433,0.07315936322613563,-0.01980413527482007,-0.06530129215972104,-0.16553825579334003,0.11672951411258395,0.16636618393885041,-0.3124326718674584,1.0,0.29760111508028964,-0.04317432885825333,0.20283589154098108,0.048732659253617576],[-0.1922769393185674,-0.036348496307027925,-0.06710731795045835,-0.09976449972811655,-0.06886740228283943,0.11090889048181744,-0.006647901236923563,-0.13598446275819914,0.29760111508028964,1.0,-0.17489997634056564,-0.011819743333448202,0.1072866362305001],[0.2968857360658242,0.33772791390585877,-0.004524589798038839,0.022752686684301658,0.042036863106184555,0.06130428106815683,0.40542282008619296,-0.06259646546936144,-0.04317432885825333,-0.17489997634056564,1.0,0.18438095530813695,-0.1425693392926889],[0.18940095137214752,0.12448618582025484,0.06059252568534455,0.04599365259705466,-0.05806233795992157,0.0879221329735089,0.11437838209166716,-0.10164497363430508,0.20283589154098108,-0.011819743333448202,0.18438095530813695,1.0,0.25306980542123597],[-0.08692029966008091,-0.03307782091225063,-0.06156253999569153,-0.0929960086828823,-0.07990279127765984,0.08618527694671392,-0.016327392855211387,-0.4385379185883124,0.048732659253617576,0.1072866362305001,-0.1425693392926889,0.25306980542123597,1.0]],\"type\":\"heatmap\"}],                        {\"annotations\":[{\"font\":{\"color\":\"#000000\"},\"showarrow\":false,\"text\":\"1.0\",\"x\":\"no_of_adults\",\"xref\":\"x\",\"y\":\"no_of_adults\",\"yref\":\"y\"},{\"font\":{\"color\":\"#FFFFFF\"},\"showarrow\":false,\"text\":\"-0.02\",\"x\":\"no_of_children\",\"xref\":\"x\",\"y\":\"no_of_adults\",\"yref\":\"y\"},{\"font\":{\"color\":\"#FFFFFF\"},\"showarrow\":false,\"text\":\"0.1\",\"x\":\"no_of_weekend_nights\",\"xref\":\"x\",\"y\":\"no_of_adults\",\"yref\":\"y\"},{\"font\":{\"color\":\"#FFFFFF\"},\"showarrow\":false,\"text\":\"0.11\",\"x\":\"no_of_week_nights\",\"xref\":\"x\",\"y\":\"no_of_adults\",\"yref\":\"y\"},{\"font\":{\"color\":\"#FFFFFF\"},\"showarrow\":false,\"text\":\"0.03\",\"x\":\"type_of_meal_plan\",\"xref\":\"x\",\"y\":\"no_of_adults\",\"yref\":\"y\"},{\"font\":{\"color\":\"#FFFFFF\"},\"showarrow\":false,\"text\":\"0.01\",\"x\":\"required_car_parking_space\",\"xref\":\"x\",\"y\":\"no_of_adults\",\"yref\":\"y\"},{\"font\":{\"color\":\"#FFFFFF\"},\"showarrow\":false,\"text\":\"0.16\",\"x\":\"room_type_reserved\",\"xref\":\"x\",\"y\":\"no_of_adults\",\"yref\":\"y\"},{\"font\":{\"color\":\"#FFFFFF\"},\"showarrow\":false,\"text\":\"0.1\",\"x\":\"lead_time\",\"xref\":\"x\",\"y\":\"no_of_adults\",\"yref\":\"y\"},{\"font\":{\"color\":\"#FFFFFF\"},\"showarrow\":false,\"text\":\"-0.1\",\"x\":\"market_segment_type\",\"xref\":\"x\",\"y\":\"no_of_adults\",\"yref\":\"y\"},{\"font\":{\"color\":\"#FFFFFF\"},\"showarrow\":false,\"text\":\"-0.19\",\"x\":\"repeated_guest\",\"xref\":\"x\",\"y\":\"no_of_adults\",\"yref\":\"y\"},{\"font\":{\"color\":\"#000000\"},\"showarrow\":false,\"text\":\"0.3\",\"x\":\"avg_price_per_room\",\"xref\":\"x\",\"y\":\"no_of_adults\",\"yref\":\"y\"},{\"font\":{\"color\":\"#FFFFFF\"},\"showarrow\":false,\"text\":\"0.19\",\"x\":\"no_of_special_requests\",\"xref\":\"x\",\"y\":\"no_of_adults\",\"yref\":\"y\"},{\"font\":{\"color\":\"#FFFFFF\"},\"showarrow\":false,\"text\":\"-0.09\",\"x\":\"booking_status\",\"xref\":\"x\",\"y\":\"no_of_adults\",\"yref\":\"y\"},{\"font\":{\"color\":\"#FFFFFF\"},\"showarrow\":false,\"text\":\"-0.02\",\"x\":\"no_of_adults\",\"xref\":\"x\",\"y\":\"no_of_children\",\"yref\":\"y\"},{\"font\":{\"color\":\"#000000\"},\"showarrow\":false,\"text\":\"1.0\",\"x\":\"no_of_children\",\"xref\":\"x\",\"y\":\"no_of_children\",\"yref\":\"y\"},{\"font\":{\"color\":\"#FFFFFF\"},\"showarrow\":false,\"text\":\"0.03\",\"x\":\"no_of_weekend_nights\",\"xref\":\"x\",\"y\":\"no_of_children\",\"yref\":\"y\"},{\"font\":{\"color\":\"#FFFFFF\"},\"showarrow\":false,\"text\":\"0.02\",\"x\":\"no_of_week_nights\",\"xref\":\"x\",\"y\":\"no_of_children\",\"yref\":\"y\"},{\"font\":{\"color\":\"#FFFFFF\"},\"showarrow\":false,\"text\":\"-0.07\",\"x\":\"type_of_meal_plan\",\"xref\":\"x\",\"y\":\"no_of_children\",\"yref\":\"y\"},{\"font\":{\"color\":\"#FFFFFF\"},\"showarrow\":false,\"text\":\"0.03\",\"x\":\"required_car_parking_space\",\"xref\":\"x\",\"y\":\"no_of_children\",\"yref\":\"y\"},{\"font\":{\"color\":\"#000000\"},\"showarrow\":false,\"text\":\"0.48\",\"x\":\"room_type_reserved\",\"xref\":\"x\",\"y\":\"no_of_children\",\"yref\":\"y\"},{\"font\":{\"color\":\"#FFFFFF\"},\"showarrow\":false,\"text\":\"-0.05\",\"x\":\"lead_time\",\"xref\":\"x\",\"y\":\"no_of_children\",\"yref\":\"y\"},{\"font\":{\"color\":\"#FFFFFF\"},\"showarrow\":false,\"text\":\"0.07\",\"x\":\"market_segment_type\",\"xref\":\"x\",\"y\":\"no_of_children\",\"yref\":\"y\"},{\"font\":{\"color\":\"#FFFFFF\"},\"showarrow\":false,\"text\":\"-0.04\",\"x\":\"repeated_guest\",\"xref\":\"x\",\"y\":\"no_of_children\",\"yref\":\"y\"},{\"font\":{\"color\":\"#000000\"},\"showarrow\":false,\"text\":\"0.34\",\"x\":\"avg_price_per_room\",\"xref\":\"x\",\"y\":\"no_of_children\",\"yref\":\"y\"},{\"font\":{\"color\":\"#FFFFFF\"},\"showarrow\":false,\"text\":\"0.12\",\"x\":\"no_of_special_requests\",\"xref\":\"x\",\"y\":\"no_of_children\",\"yref\":\"y\"},{\"font\":{\"color\":\"#FFFFFF\"},\"showarrow\":false,\"text\":\"-0.03\",\"x\":\"booking_status\",\"xref\":\"x\",\"y\":\"no_of_children\",\"yref\":\"y\"},{\"font\":{\"color\":\"#FFFFFF\"},\"showarrow\":false,\"text\":\"0.1\",\"x\":\"no_of_adults\",\"xref\":\"x\",\"y\":\"no_of_weekend_nights\",\"yref\":\"y\"},{\"font\":{\"color\":\"#FFFFFF\"},\"showarrow\":false,\"text\":\"0.03\",\"x\":\"no_of_children\",\"xref\":\"x\",\"y\":\"no_of_weekend_nights\",\"yref\":\"y\"},{\"font\":{\"color\":\"#000000\"},\"showarrow\":false,\"text\":\"1.0\",\"x\":\"no_of_weekend_nights\",\"xref\":\"x\",\"y\":\"no_of_weekend_nights\",\"yref\":\"y\"},{\"font\":{\"color\":\"#FFFFFF\"},\"showarrow\":false,\"text\":\"0.18\",\"x\":\"no_of_week_nights\",\"xref\":\"x\",\"y\":\"no_of_weekend_nights\",\"yref\":\"y\"},{\"font\":{\"color\":\"#FFFFFF\"},\"showarrow\":false,\"text\":\"-0.05\",\"x\":\"type_of_meal_plan\",\"xref\":\"x\",\"y\":\"no_of_weekend_nights\",\"yref\":\"y\"},{\"font\":{\"color\":\"#FFFFFF\"},\"showarrow\":false,\"text\":\"-0.03\",\"x\":\"required_car_parking_space\",\"xref\":\"x\",\"y\":\"no_of_weekend_nights\",\"yref\":\"y\"},{\"font\":{\"color\":\"#FFFFFF\"},\"showarrow\":false,\"text\":\"0.04\",\"x\":\"room_type_reserved\",\"xref\":\"x\",\"y\":\"no_of_weekend_nights\",\"yref\":\"y\"},{\"font\":{\"color\":\"#FFFFFF\"},\"showarrow\":false,\"text\":\"0.05\",\"x\":\"lead_time\",\"xref\":\"x\",\"y\":\"no_of_weekend_nights\",\"yref\":\"y\"},{\"font\":{\"color\":\"#FFFFFF\"},\"showarrow\":false,\"text\":\"-0.02\",\"x\":\"market_segment_type\",\"xref\":\"x\",\"y\":\"no_of_weekend_nights\",\"yref\":\"y\"},{\"font\":{\"color\":\"#FFFFFF\"},\"showarrow\":false,\"text\":\"-0.07\",\"x\":\"repeated_guest\",\"xref\":\"x\",\"y\":\"no_of_weekend_nights\",\"yref\":\"y\"},{\"font\":{\"color\":\"#FFFFFF\"},\"showarrow\":false,\"text\":\"-0.0\",\"x\":\"avg_price_per_room\",\"xref\":\"x\",\"y\":\"no_of_weekend_nights\",\"yref\":\"y\"},{\"font\":{\"color\":\"#FFFFFF\"},\"showarrow\":false,\"text\":\"0.06\",\"x\":\"no_of_special_requests\",\"xref\":\"x\",\"y\":\"no_of_weekend_nights\",\"yref\":\"y\"},{\"font\":{\"color\":\"#FFFFFF\"},\"showarrow\":false,\"text\":\"-0.06\",\"x\":\"booking_status\",\"xref\":\"x\",\"y\":\"no_of_weekend_nights\",\"yref\":\"y\"},{\"font\":{\"color\":\"#FFFFFF\"},\"showarrow\":false,\"text\":\"0.11\",\"x\":\"no_of_adults\",\"xref\":\"x\",\"y\":\"no_of_week_nights\",\"yref\":\"y\"},{\"font\":{\"color\":\"#FFFFFF\"},\"showarrow\":false,\"text\":\"0.02\",\"x\":\"no_of_children\",\"xref\":\"x\",\"y\":\"no_of_week_nights\",\"yref\":\"y\"},{\"font\":{\"color\":\"#FFFFFF\"},\"showarrow\":false,\"text\":\"0.18\",\"x\":\"no_of_weekend_nights\",\"xref\":\"x\",\"y\":\"no_of_week_nights\",\"yref\":\"y\"},{\"font\":{\"color\":\"#000000\"},\"showarrow\":false,\"text\":\"1.0\",\"x\":\"no_of_week_nights\",\"xref\":\"x\",\"y\":\"no_of_week_nights\",\"yref\":\"y\"},{\"font\":{\"color\":\"#FFFFFF\"},\"showarrow\":false,\"text\":\"-0.08\",\"x\":\"type_of_meal_plan\",\"xref\":\"x\",\"y\":\"no_of_week_nights\",\"yref\":\"y\"},{\"font\":{\"color\":\"#FFFFFF\"},\"showarrow\":false,\"text\":\"-0.05\",\"x\":\"required_car_parking_space\",\"xref\":\"x\",\"y\":\"no_of_week_nights\",\"yref\":\"y\"},{\"font\":{\"color\":\"#FFFFFF\"},\"showarrow\":false,\"text\":\"0.06\",\"x\":\"room_type_reserved\",\"xref\":\"x\",\"y\":\"no_of_week_nights\",\"yref\":\"y\"},{\"font\":{\"color\":\"#FFFFFF\"},\"showarrow\":false,\"text\":\"0.15\",\"x\":\"lead_time\",\"xref\":\"x\",\"y\":\"no_of_week_nights\",\"yref\":\"y\"},{\"font\":{\"color\":\"#FFFFFF\"},\"showarrow\":false,\"text\":\"-0.07\",\"x\":\"market_segment_type\",\"xref\":\"x\",\"y\":\"no_of_week_nights\",\"yref\":\"y\"},{\"font\":{\"color\":\"#FFFFFF\"},\"showarrow\":false,\"text\":\"-0.1\",\"x\":\"repeated_guest\",\"xref\":\"x\",\"y\":\"no_of_week_nights\",\"yref\":\"y\"},{\"font\":{\"color\":\"#FFFFFF\"},\"showarrow\":false,\"text\":\"0.02\",\"x\":\"avg_price_per_room\",\"xref\":\"x\",\"y\":\"no_of_week_nights\",\"yref\":\"y\"},{\"font\":{\"color\":\"#FFFFFF\"},\"showarrow\":false,\"text\":\"0.05\",\"x\":\"no_of_special_requests\",\"xref\":\"x\",\"y\":\"no_of_week_nights\",\"yref\":\"y\"},{\"font\":{\"color\":\"#FFFFFF\"},\"showarrow\":false,\"text\":\"-0.09\",\"x\":\"booking_status\",\"xref\":\"x\",\"y\":\"no_of_week_nights\",\"yref\":\"y\"},{\"font\":{\"color\":\"#FFFFFF\"},\"showarrow\":false,\"text\":\"0.03\",\"x\":\"no_of_adults\",\"xref\":\"x\",\"y\":\"type_of_meal_plan\",\"yref\":\"y\"},{\"font\":{\"color\":\"#FFFFFF\"},\"showarrow\":false,\"text\":\"-0.07\",\"x\":\"no_of_children\",\"xref\":\"x\",\"y\":\"type_of_meal_plan\",\"yref\":\"y\"},{\"font\":{\"color\":\"#FFFFFF\"},\"showarrow\":false,\"text\":\"-0.05\",\"x\":\"no_of_weekend_nights\",\"xref\":\"x\",\"y\":\"type_of_meal_plan\",\"yref\":\"y\"},{\"font\":{\"color\":\"#FFFFFF\"},\"showarrow\":false,\"text\":\"-0.08\",\"x\":\"no_of_week_nights\",\"xref\":\"x\",\"y\":\"type_of_meal_plan\",\"yref\":\"y\"},{\"font\":{\"color\":\"#000000\"},\"showarrow\":false,\"text\":\"1.0\",\"x\":\"type_of_meal_plan\",\"xref\":\"x\",\"y\":\"type_of_meal_plan\",\"yref\":\"y\"},{\"font\":{\"color\":\"#FFFFFF\"},\"showarrow\":false,\"text\":\"-0.03\",\"x\":\"required_car_parking_space\",\"xref\":\"x\",\"y\":\"type_of_meal_plan\",\"yref\":\"y\"},{\"font\":{\"color\":\"#FFFFFF\"},\"showarrow\":false,\"text\":\"-0.14\",\"x\":\"room_type_reserved\",\"xref\":\"x\",\"y\":\"type_of_meal_plan\",\"yref\":\"y\"},{\"font\":{\"color\":\"#FFFFFF\"},\"showarrow\":false,\"text\":\"0.14\",\"x\":\"lead_time\",\"xref\":\"x\",\"y\":\"type_of_meal_plan\",\"yref\":\"y\"},{\"font\":{\"color\":\"#FFFFFF\"},\"showarrow\":false,\"text\":\"-0.17\",\"x\":\"market_segment_type\",\"xref\":\"x\",\"y\":\"type_of_meal_plan\",\"yref\":\"y\"},{\"font\":{\"color\":\"#FFFFFF\"},\"showarrow\":false,\"text\":\"-0.07\",\"x\":\"repeated_guest\",\"xref\":\"x\",\"y\":\"type_of_meal_plan\",\"yref\":\"y\"},{\"font\":{\"color\":\"#FFFFFF\"},\"showarrow\":false,\"text\":\"0.04\",\"x\":\"avg_price_per_room\",\"xref\":\"x\",\"y\":\"type_of_meal_plan\",\"yref\":\"y\"},{\"font\":{\"color\":\"#FFFFFF\"},\"showarrow\":false,\"text\":\"-0.06\",\"x\":\"no_of_special_requests\",\"xref\":\"x\",\"y\":\"type_of_meal_plan\",\"yref\":\"y\"},{\"font\":{\"color\":\"#FFFFFF\"},\"showarrow\":false,\"text\":\"-0.08\",\"x\":\"booking_status\",\"xref\":\"x\",\"y\":\"type_of_meal_plan\",\"yref\":\"y\"},{\"font\":{\"color\":\"#FFFFFF\"},\"showarrow\":false,\"text\":\"0.01\",\"x\":\"no_of_adults\",\"xref\":\"x\",\"y\":\"required_car_parking_space\",\"yref\":\"y\"},{\"font\":{\"color\":\"#FFFFFF\"},\"showarrow\":false,\"text\":\"0.03\",\"x\":\"no_of_children\",\"xref\":\"x\",\"y\":\"required_car_parking_space\",\"yref\":\"y\"},{\"font\":{\"color\":\"#FFFFFF\"},\"showarrow\":false,\"text\":\"-0.03\",\"x\":\"no_of_weekend_nights\",\"xref\":\"x\",\"y\":\"required_car_parking_space\",\"yref\":\"y\"},{\"font\":{\"color\":\"#FFFFFF\"},\"showarrow\":false,\"text\":\"-0.05\",\"x\":\"no_of_week_nights\",\"xref\":\"x\",\"y\":\"required_car_parking_space\",\"yref\":\"y\"},{\"font\":{\"color\":\"#FFFFFF\"},\"showarrow\":false,\"text\":\"-0.03\",\"x\":\"type_of_meal_plan\",\"xref\":\"x\",\"y\":\"required_car_parking_space\",\"yref\":\"y\"},{\"font\":{\"color\":\"#000000\"},\"showarrow\":false,\"text\":\"1.0\",\"x\":\"required_car_parking_space\",\"xref\":\"x\",\"y\":\"required_car_parking_space\",\"yref\":\"y\"},{\"font\":{\"color\":\"#FFFFFF\"},\"showarrow\":false,\"text\":\"0.04\",\"x\":\"room_type_reserved\",\"xref\":\"x\",\"y\":\"required_car_parking_space\",\"yref\":\"y\"},{\"font\":{\"color\":\"#FFFFFF\"},\"showarrow\":false,\"text\":\"-0.07\",\"x\":\"lead_time\",\"xref\":\"x\",\"y\":\"required_car_parking_space\",\"yref\":\"y\"},{\"font\":{\"color\":\"#FFFFFF\"},\"showarrow\":false,\"text\":\"0.12\",\"x\":\"market_segment_type\",\"xref\":\"x\",\"y\":\"required_car_parking_space\",\"yref\":\"y\"},{\"font\":{\"color\":\"#FFFFFF\"},\"showarrow\":false,\"text\":\"0.11\",\"x\":\"repeated_guest\",\"xref\":\"x\",\"y\":\"required_car_parking_space\",\"yref\":\"y\"},{\"font\":{\"color\":\"#FFFFFF\"},\"showarrow\":false,\"text\":\"0.06\",\"x\":\"avg_price_per_room\",\"xref\":\"x\",\"y\":\"required_car_parking_space\",\"yref\":\"y\"},{\"font\":{\"color\":\"#FFFFFF\"},\"showarrow\":false,\"text\":\"0.09\",\"x\":\"no_of_special_requests\",\"xref\":\"x\",\"y\":\"required_car_parking_space\",\"yref\":\"y\"},{\"font\":{\"color\":\"#FFFFFF\"},\"showarrow\":false,\"text\":\"0.09\",\"x\":\"booking_status\",\"xref\":\"x\",\"y\":\"required_car_parking_space\",\"yref\":\"y\"},{\"font\":{\"color\":\"#FFFFFF\"},\"showarrow\":false,\"text\":\"0.16\",\"x\":\"no_of_adults\",\"xref\":\"x\",\"y\":\"room_type_reserved\",\"yref\":\"y\"},{\"font\":{\"color\":\"#000000\"},\"showarrow\":false,\"text\":\"0.48\",\"x\":\"no_of_children\",\"xref\":\"x\",\"y\":\"room_type_reserved\",\"yref\":\"y\"},{\"font\":{\"color\":\"#FFFFFF\"},\"showarrow\":false,\"text\":\"0.04\",\"x\":\"no_of_weekend_nights\",\"xref\":\"x\",\"y\":\"room_type_reserved\",\"yref\":\"y\"},{\"font\":{\"color\":\"#FFFFFF\"},\"showarrow\":false,\"text\":\"0.06\",\"x\":\"no_of_week_nights\",\"xref\":\"x\",\"y\":\"room_type_reserved\",\"yref\":\"y\"},{\"font\":{\"color\":\"#FFFFFF\"},\"showarrow\":false,\"text\":\"-0.14\",\"x\":\"type_of_meal_plan\",\"xref\":\"x\",\"y\":\"room_type_reserved\",\"yref\":\"y\"},{\"font\":{\"color\":\"#FFFFFF\"},\"showarrow\":false,\"text\":\"0.04\",\"x\":\"required_car_parking_space\",\"xref\":\"x\",\"y\":\"room_type_reserved\",\"yref\":\"y\"},{\"font\":{\"color\":\"#000000\"},\"showarrow\":false,\"text\":\"1.0\",\"x\":\"room_type_reserved\",\"xref\":\"x\",\"y\":\"room_type_reserved\",\"yref\":\"y\"},{\"font\":{\"color\":\"#FFFFFF\"},\"showarrow\":false,\"text\":\"-0.09\",\"x\":\"lead_time\",\"xref\":\"x\",\"y\":\"room_type_reserved\",\"yref\":\"y\"},{\"font\":{\"color\":\"#FFFFFF\"},\"showarrow\":false,\"text\":\"0.17\",\"x\":\"market_segment_type\",\"xref\":\"x\",\"y\":\"room_type_reserved\",\"yref\":\"y\"},{\"font\":{\"color\":\"#FFFFFF\"},\"showarrow\":false,\"text\":\"-0.01\",\"x\":\"repeated_guest\",\"xref\":\"x\",\"y\":\"room_type_reserved\",\"yref\":\"y\"},{\"font\":{\"color\":\"#000000\"},\"showarrow\":false,\"text\":\"0.41\",\"x\":\"avg_price_per_room\",\"xref\":\"x\",\"y\":\"room_type_reserved\",\"yref\":\"y\"},{\"font\":{\"color\":\"#FFFFFF\"},\"showarrow\":false,\"text\":\"0.11\",\"x\":\"no_of_special_requests\",\"xref\":\"x\",\"y\":\"room_type_reserved\",\"yref\":\"y\"},{\"font\":{\"color\":\"#FFFFFF\"},\"showarrow\":false,\"text\":\"-0.02\",\"x\":\"booking_status\",\"xref\":\"x\",\"y\":\"room_type_reserved\",\"yref\":\"y\"},{\"font\":{\"color\":\"#FFFFFF\"},\"showarrow\":false,\"text\":\"0.1\",\"x\":\"no_of_adults\",\"xref\":\"x\",\"y\":\"lead_time\",\"yref\":\"y\"},{\"font\":{\"color\":\"#FFFFFF\"},\"showarrow\":false,\"text\":\"-0.05\",\"x\":\"no_of_children\",\"xref\":\"x\",\"y\":\"lead_time\",\"yref\":\"y\"},{\"font\":{\"color\":\"#FFFFFF\"},\"showarrow\":false,\"text\":\"0.05\",\"x\":\"no_of_weekend_nights\",\"xref\":\"x\",\"y\":\"lead_time\",\"yref\":\"y\"},{\"font\":{\"color\":\"#FFFFFF\"},\"showarrow\":false,\"text\":\"0.15\",\"x\":\"no_of_week_nights\",\"xref\":\"x\",\"y\":\"lead_time\",\"yref\":\"y\"},{\"font\":{\"color\":\"#FFFFFF\"},\"showarrow\":false,\"text\":\"0.14\",\"x\":\"type_of_meal_plan\",\"xref\":\"x\",\"y\":\"lead_time\",\"yref\":\"y\"},{\"font\":{\"color\":\"#FFFFFF\"},\"showarrow\":false,\"text\":\"-0.07\",\"x\":\"required_car_parking_space\",\"xref\":\"x\",\"y\":\"lead_time\",\"yref\":\"y\"},{\"font\":{\"color\":\"#FFFFFF\"},\"showarrow\":false,\"text\":\"-0.09\",\"x\":\"room_type_reserved\",\"xref\":\"x\",\"y\":\"lead_time\",\"yref\":\"y\"},{\"font\":{\"color\":\"#000000\"},\"showarrow\":false,\"text\":\"1.0\",\"x\":\"lead_time\",\"xref\":\"x\",\"y\":\"lead_time\",\"yref\":\"y\"},{\"font\":{\"color\":\"#FFFFFF\"},\"showarrow\":false,\"text\":\"-0.31\",\"x\":\"market_segment_type\",\"xref\":\"x\",\"y\":\"lead_time\",\"yref\":\"y\"},{\"font\":{\"color\":\"#FFFFFF\"},\"showarrow\":false,\"text\":\"-0.14\",\"x\":\"repeated_guest\",\"xref\":\"x\",\"y\":\"lead_time\",\"yref\":\"y\"},{\"font\":{\"color\":\"#FFFFFF\"},\"showarrow\":false,\"text\":\"-0.06\",\"x\":\"avg_price_per_room\",\"xref\":\"x\",\"y\":\"lead_time\",\"yref\":\"y\"},{\"font\":{\"color\":\"#FFFFFF\"},\"showarrow\":false,\"text\":\"-0.1\",\"x\":\"no_of_special_requests\",\"xref\":\"x\",\"y\":\"lead_time\",\"yref\":\"y\"},{\"font\":{\"color\":\"#FFFFFF\"},\"showarrow\":false,\"text\":\"-0.44\",\"x\":\"booking_status\",\"xref\":\"x\",\"y\":\"lead_time\",\"yref\":\"y\"},{\"font\":{\"color\":\"#FFFFFF\"},\"showarrow\":false,\"text\":\"-0.1\",\"x\":\"no_of_adults\",\"xref\":\"x\",\"y\":\"market_segment_type\",\"yref\":\"y\"},{\"font\":{\"color\":\"#FFFFFF\"},\"showarrow\":false,\"text\":\"0.07\",\"x\":\"no_of_children\",\"xref\":\"x\",\"y\":\"market_segment_type\",\"yref\":\"y\"},{\"font\":{\"color\":\"#FFFFFF\"},\"showarrow\":false,\"text\":\"-0.02\",\"x\":\"no_of_weekend_nights\",\"xref\":\"x\",\"y\":\"market_segment_type\",\"yref\":\"y\"},{\"font\":{\"color\":\"#FFFFFF\"},\"showarrow\":false,\"text\":\"-0.07\",\"x\":\"no_of_week_nights\",\"xref\":\"x\",\"y\":\"market_segment_type\",\"yref\":\"y\"},{\"font\":{\"color\":\"#FFFFFF\"},\"showarrow\":false,\"text\":\"-0.17\",\"x\":\"type_of_meal_plan\",\"xref\":\"x\",\"y\":\"market_segment_type\",\"yref\":\"y\"},{\"font\":{\"color\":\"#FFFFFF\"},\"showarrow\":false,\"text\":\"0.12\",\"x\":\"required_car_parking_space\",\"xref\":\"x\",\"y\":\"market_segment_type\",\"yref\":\"y\"},{\"font\":{\"color\":\"#FFFFFF\"},\"showarrow\":false,\"text\":\"0.17\",\"x\":\"room_type_reserved\",\"xref\":\"x\",\"y\":\"market_segment_type\",\"yref\":\"y\"},{\"font\":{\"color\":\"#FFFFFF\"},\"showarrow\":false,\"text\":\"-0.31\",\"x\":\"lead_time\",\"xref\":\"x\",\"y\":\"market_segment_type\",\"yref\":\"y\"},{\"font\":{\"color\":\"#000000\"},\"showarrow\":false,\"text\":\"1.0\",\"x\":\"market_segment_type\",\"xref\":\"x\",\"y\":\"market_segment_type\",\"yref\":\"y\"},{\"font\":{\"color\":\"#000000\"},\"showarrow\":false,\"text\":\"0.3\",\"x\":\"repeated_guest\",\"xref\":\"x\",\"y\":\"market_segment_type\",\"yref\":\"y\"},{\"font\":{\"color\":\"#FFFFFF\"},\"showarrow\":false,\"text\":\"-0.04\",\"x\":\"avg_price_per_room\",\"xref\":\"x\",\"y\":\"market_segment_type\",\"yref\":\"y\"},{\"font\":{\"color\":\"#FFFFFF\"},\"showarrow\":false,\"text\":\"0.2\",\"x\":\"no_of_special_requests\",\"xref\":\"x\",\"y\":\"market_segment_type\",\"yref\":\"y\"},{\"font\":{\"color\":\"#FFFFFF\"},\"showarrow\":false,\"text\":\"0.05\",\"x\":\"booking_status\",\"xref\":\"x\",\"y\":\"market_segment_type\",\"yref\":\"y\"},{\"font\":{\"color\":\"#FFFFFF\"},\"showarrow\":false,\"text\":\"-0.19\",\"x\":\"no_of_adults\",\"xref\":\"x\",\"y\":\"repeated_guest\",\"yref\":\"y\"},{\"font\":{\"color\":\"#FFFFFF\"},\"showarrow\":false,\"text\":\"-0.04\",\"x\":\"no_of_children\",\"xref\":\"x\",\"y\":\"repeated_guest\",\"yref\":\"y\"},{\"font\":{\"color\":\"#FFFFFF\"},\"showarrow\":false,\"text\":\"-0.07\",\"x\":\"no_of_weekend_nights\",\"xref\":\"x\",\"y\":\"repeated_guest\",\"yref\":\"y\"},{\"font\":{\"color\":\"#FFFFFF\"},\"showarrow\":false,\"text\":\"-0.1\",\"x\":\"no_of_week_nights\",\"xref\":\"x\",\"y\":\"repeated_guest\",\"yref\":\"y\"},{\"font\":{\"color\":\"#FFFFFF\"},\"showarrow\":false,\"text\":\"-0.07\",\"x\":\"type_of_meal_plan\",\"xref\":\"x\",\"y\":\"repeated_guest\",\"yref\":\"y\"},{\"font\":{\"color\":\"#FFFFFF\"},\"showarrow\":false,\"text\":\"0.11\",\"x\":\"required_car_parking_space\",\"xref\":\"x\",\"y\":\"repeated_guest\",\"yref\":\"y\"},{\"font\":{\"color\":\"#FFFFFF\"},\"showarrow\":false,\"text\":\"-0.01\",\"x\":\"room_type_reserved\",\"xref\":\"x\",\"y\":\"repeated_guest\",\"yref\":\"y\"},{\"font\":{\"color\":\"#FFFFFF\"},\"showarrow\":false,\"text\":\"-0.14\",\"x\":\"lead_time\",\"xref\":\"x\",\"y\":\"repeated_guest\",\"yref\":\"y\"},{\"font\":{\"color\":\"#000000\"},\"showarrow\":false,\"text\":\"0.3\",\"x\":\"market_segment_type\",\"xref\":\"x\",\"y\":\"repeated_guest\",\"yref\":\"y\"},{\"font\":{\"color\":\"#000000\"},\"showarrow\":false,\"text\":\"1.0\",\"x\":\"repeated_guest\",\"xref\":\"x\",\"y\":\"repeated_guest\",\"yref\":\"y\"},{\"font\":{\"color\":\"#FFFFFF\"},\"showarrow\":false,\"text\":\"-0.17\",\"x\":\"avg_price_per_room\",\"xref\":\"x\",\"y\":\"repeated_guest\",\"yref\":\"y\"},{\"font\":{\"color\":\"#FFFFFF\"},\"showarrow\":false,\"text\":\"-0.01\",\"x\":\"no_of_special_requests\",\"xref\":\"x\",\"y\":\"repeated_guest\",\"yref\":\"y\"},{\"font\":{\"color\":\"#FFFFFF\"},\"showarrow\":false,\"text\":\"0.11\",\"x\":\"booking_status\",\"xref\":\"x\",\"y\":\"repeated_guest\",\"yref\":\"y\"},{\"font\":{\"color\":\"#000000\"},\"showarrow\":false,\"text\":\"0.3\",\"x\":\"no_of_adults\",\"xref\":\"x\",\"y\":\"avg_price_per_room\",\"yref\":\"y\"},{\"font\":{\"color\":\"#000000\"},\"showarrow\":false,\"text\":\"0.34\",\"x\":\"no_of_children\",\"xref\":\"x\",\"y\":\"avg_price_per_room\",\"yref\":\"y\"},{\"font\":{\"color\":\"#FFFFFF\"},\"showarrow\":false,\"text\":\"-0.0\",\"x\":\"no_of_weekend_nights\",\"xref\":\"x\",\"y\":\"avg_price_per_room\",\"yref\":\"y\"},{\"font\":{\"color\":\"#FFFFFF\"},\"showarrow\":false,\"text\":\"0.02\",\"x\":\"no_of_week_nights\",\"xref\":\"x\",\"y\":\"avg_price_per_room\",\"yref\":\"y\"},{\"font\":{\"color\":\"#FFFFFF\"},\"showarrow\":false,\"text\":\"0.04\",\"x\":\"type_of_meal_plan\",\"xref\":\"x\",\"y\":\"avg_price_per_room\",\"yref\":\"y\"},{\"font\":{\"color\":\"#FFFFFF\"},\"showarrow\":false,\"text\":\"0.06\",\"x\":\"required_car_parking_space\",\"xref\":\"x\",\"y\":\"avg_price_per_room\",\"yref\":\"y\"},{\"font\":{\"color\":\"#000000\"},\"showarrow\":false,\"text\":\"0.41\",\"x\":\"room_type_reserved\",\"xref\":\"x\",\"y\":\"avg_price_per_room\",\"yref\":\"y\"},{\"font\":{\"color\":\"#FFFFFF\"},\"showarrow\":false,\"text\":\"-0.06\",\"x\":\"lead_time\",\"xref\":\"x\",\"y\":\"avg_price_per_room\",\"yref\":\"y\"},{\"font\":{\"color\":\"#FFFFFF\"},\"showarrow\":false,\"text\":\"-0.04\",\"x\":\"market_segment_type\",\"xref\":\"x\",\"y\":\"avg_price_per_room\",\"yref\":\"y\"},{\"font\":{\"color\":\"#FFFFFF\"},\"showarrow\":false,\"text\":\"-0.17\",\"x\":\"repeated_guest\",\"xref\":\"x\",\"y\":\"avg_price_per_room\",\"yref\":\"y\"},{\"font\":{\"color\":\"#000000\"},\"showarrow\":false,\"text\":\"1.0\",\"x\":\"avg_price_per_room\",\"xref\":\"x\",\"y\":\"avg_price_per_room\",\"yref\":\"y\"},{\"font\":{\"color\":\"#FFFFFF\"},\"showarrow\":false,\"text\":\"0.18\",\"x\":\"no_of_special_requests\",\"xref\":\"x\",\"y\":\"avg_price_per_room\",\"yref\":\"y\"},{\"font\":{\"color\":\"#FFFFFF\"},\"showarrow\":false,\"text\":\"-0.14\",\"x\":\"booking_status\",\"xref\":\"x\",\"y\":\"avg_price_per_room\",\"yref\":\"y\"},{\"font\":{\"color\":\"#FFFFFF\"},\"showarrow\":false,\"text\":\"0.19\",\"x\":\"no_of_adults\",\"xref\":\"x\",\"y\":\"no_of_special_requests\",\"yref\":\"y\"},{\"font\":{\"color\":\"#FFFFFF\"},\"showarrow\":false,\"text\":\"0.12\",\"x\":\"no_of_children\",\"xref\":\"x\",\"y\":\"no_of_special_requests\",\"yref\":\"y\"},{\"font\":{\"color\":\"#FFFFFF\"},\"showarrow\":false,\"text\":\"0.06\",\"x\":\"no_of_weekend_nights\",\"xref\":\"x\",\"y\":\"no_of_special_requests\",\"yref\":\"y\"},{\"font\":{\"color\":\"#FFFFFF\"},\"showarrow\":false,\"text\":\"0.05\",\"x\":\"no_of_week_nights\",\"xref\":\"x\",\"y\":\"no_of_special_requests\",\"yref\":\"y\"},{\"font\":{\"color\":\"#FFFFFF\"},\"showarrow\":false,\"text\":\"-0.06\",\"x\":\"type_of_meal_plan\",\"xref\":\"x\",\"y\":\"no_of_special_requests\",\"yref\":\"y\"},{\"font\":{\"color\":\"#FFFFFF\"},\"showarrow\":false,\"text\":\"0.09\",\"x\":\"required_car_parking_space\",\"xref\":\"x\",\"y\":\"no_of_special_requests\",\"yref\":\"y\"},{\"font\":{\"color\":\"#FFFFFF\"},\"showarrow\":false,\"text\":\"0.11\",\"x\":\"room_type_reserved\",\"xref\":\"x\",\"y\":\"no_of_special_requests\",\"yref\":\"y\"},{\"font\":{\"color\":\"#FFFFFF\"},\"showarrow\":false,\"text\":\"-0.1\",\"x\":\"lead_time\",\"xref\":\"x\",\"y\":\"no_of_special_requests\",\"yref\":\"y\"},{\"font\":{\"color\":\"#FFFFFF\"},\"showarrow\":false,\"text\":\"0.2\",\"x\":\"market_segment_type\",\"xref\":\"x\",\"y\":\"no_of_special_requests\",\"yref\":\"y\"},{\"font\":{\"color\":\"#FFFFFF\"},\"showarrow\":false,\"text\":\"-0.01\",\"x\":\"repeated_guest\",\"xref\":\"x\",\"y\":\"no_of_special_requests\",\"yref\":\"y\"},{\"font\":{\"color\":\"#FFFFFF\"},\"showarrow\":false,\"text\":\"0.18\",\"x\":\"avg_price_per_room\",\"xref\":\"x\",\"y\":\"no_of_special_requests\",\"yref\":\"y\"},{\"font\":{\"color\":\"#000000\"},\"showarrow\":false,\"text\":\"1.0\",\"x\":\"no_of_special_requests\",\"xref\":\"x\",\"y\":\"no_of_special_requests\",\"yref\":\"y\"},{\"font\":{\"color\":\"#FFFFFF\"},\"showarrow\":false,\"text\":\"0.25\",\"x\":\"booking_status\",\"xref\":\"x\",\"y\":\"no_of_special_requests\",\"yref\":\"y\"},{\"font\":{\"color\":\"#FFFFFF\"},\"showarrow\":false,\"text\":\"-0.09\",\"x\":\"no_of_adults\",\"xref\":\"x\",\"y\":\"booking_status\",\"yref\":\"y\"},{\"font\":{\"color\":\"#FFFFFF\"},\"showarrow\":false,\"text\":\"-0.03\",\"x\":\"no_of_children\",\"xref\":\"x\",\"y\":\"booking_status\",\"yref\":\"y\"},{\"font\":{\"color\":\"#FFFFFF\"},\"showarrow\":false,\"text\":\"-0.06\",\"x\":\"no_of_weekend_nights\",\"xref\":\"x\",\"y\":\"booking_status\",\"yref\":\"y\"},{\"font\":{\"color\":\"#FFFFFF\"},\"showarrow\":false,\"text\":\"-0.09\",\"x\":\"no_of_week_nights\",\"xref\":\"x\",\"y\":\"booking_status\",\"yref\":\"y\"},{\"font\":{\"color\":\"#FFFFFF\"},\"showarrow\":false,\"text\":\"-0.08\",\"x\":\"type_of_meal_plan\",\"xref\":\"x\",\"y\":\"booking_status\",\"yref\":\"y\"},{\"font\":{\"color\":\"#FFFFFF\"},\"showarrow\":false,\"text\":\"0.09\",\"x\":\"required_car_parking_space\",\"xref\":\"x\",\"y\":\"booking_status\",\"yref\":\"y\"},{\"font\":{\"color\":\"#FFFFFF\"},\"showarrow\":false,\"text\":\"-0.02\",\"x\":\"room_type_reserved\",\"xref\":\"x\",\"y\":\"booking_status\",\"yref\":\"y\"},{\"font\":{\"color\":\"#FFFFFF\"},\"showarrow\":false,\"text\":\"-0.44\",\"x\":\"lead_time\",\"xref\":\"x\",\"y\":\"booking_status\",\"yref\":\"y\"},{\"font\":{\"color\":\"#FFFFFF\"},\"showarrow\":false,\"text\":\"0.05\",\"x\":\"market_segment_type\",\"xref\":\"x\",\"y\":\"booking_status\",\"yref\":\"y\"},{\"font\":{\"color\":\"#FFFFFF\"},\"showarrow\":false,\"text\":\"0.11\",\"x\":\"repeated_guest\",\"xref\":\"x\",\"y\":\"booking_status\",\"yref\":\"y\"},{\"font\":{\"color\":\"#FFFFFF\"},\"showarrow\":false,\"text\":\"-0.14\",\"x\":\"avg_price_per_room\",\"xref\":\"x\",\"y\":\"booking_status\",\"yref\":\"y\"},{\"font\":{\"color\":\"#FFFFFF\"},\"showarrow\":false,\"text\":\"0.25\",\"x\":\"no_of_special_requests\",\"xref\":\"x\",\"y\":\"booking_status\",\"yref\":\"y\"},{\"font\":{\"color\":\"#000000\"},\"showarrow\":false,\"text\":\"1.0\",\"x\":\"booking_status\",\"xref\":\"x\",\"y\":\"booking_status\",\"yref\":\"y\"}],\"xaxis\":{\"dtick\":1,\"gridcolor\":\"rgb(0, 0, 0)\",\"side\":\"top\",\"ticks\":\"\"},\"yaxis\":{\"dtick\":1,\"ticks\":\"\",\"ticksuffix\":\"  \"},\"template\":{\"data\":{\"bar\":[{\"error_x\":{\"color\":\"#2a3f5f\"},\"error_y\":{\"color\":\"#2a3f5f\"},\"marker\":{\"line\":{\"color\":\"#E5ECF6\",\"width\":0.5},\"pattern\":{\"fillmode\":\"overlay\",\"size\":10,\"solidity\":0.2}},\"type\":\"bar\"}],\"barpolar\":[{\"marker\":{\"line\":{\"color\":\"#E5ECF6\",\"width\":0.5},\"pattern\":{\"fillmode\":\"overlay\",\"size\":10,\"solidity\":0.2}},\"type\":\"barpolar\"}],\"carpet\":[{\"aaxis\":{\"endlinecolor\":\"#2a3f5f\",\"gridcolor\":\"white\",\"linecolor\":\"white\",\"minorgridcolor\":\"white\",\"startlinecolor\":\"#2a3f5f\"},\"baxis\":{\"endlinecolor\":\"#2a3f5f\",\"gridcolor\":\"white\",\"linecolor\":\"white\",\"minorgridcolor\":\"white\",\"startlinecolor\":\"#2a3f5f\"},\"type\":\"carpet\"}],\"choropleth\":[{\"colorbar\":{\"outlinewidth\":0,\"ticks\":\"\"},\"type\":\"choropleth\"}],\"contour\":[{\"colorbar\":{\"outlinewidth\":0,\"ticks\":\"\"},\"colorscale\":[[0.0,\"#0d0887\"],[0.1111111111111111,\"#46039f\"],[0.2222222222222222,\"#7201a8\"],[0.3333333333333333,\"#9c179e\"],[0.4444444444444444,\"#bd3786\"],[0.5555555555555556,\"#d8576b\"],[0.6666666666666666,\"#ed7953\"],[0.7777777777777778,\"#fb9f3a\"],[0.8888888888888888,\"#fdca26\"],[1.0,\"#f0f921\"]],\"type\":\"contour\"}],\"contourcarpet\":[{\"colorbar\":{\"outlinewidth\":0,\"ticks\":\"\"},\"type\":\"contourcarpet\"}],\"heatmap\":[{\"colorbar\":{\"outlinewidth\":0,\"ticks\":\"\"},\"colorscale\":[[0.0,\"#0d0887\"],[0.1111111111111111,\"#46039f\"],[0.2222222222222222,\"#7201a8\"],[0.3333333333333333,\"#9c179e\"],[0.4444444444444444,\"#bd3786\"],[0.5555555555555556,\"#d8576b\"],[0.6666666666666666,\"#ed7953\"],[0.7777777777777778,\"#fb9f3a\"],[0.8888888888888888,\"#fdca26\"],[1.0,\"#f0f921\"]],\"type\":\"heatmap\"}],\"heatmapgl\":[{\"colorbar\":{\"outlinewidth\":0,\"ticks\":\"\"},\"colorscale\":[[0.0,\"#0d0887\"],[0.1111111111111111,\"#46039f\"],[0.2222222222222222,\"#7201a8\"],[0.3333333333333333,\"#9c179e\"],[0.4444444444444444,\"#bd3786\"],[0.5555555555555556,\"#d8576b\"],[0.6666666666666666,\"#ed7953\"],[0.7777777777777778,\"#fb9f3a\"],[0.8888888888888888,\"#fdca26\"],[1.0,\"#f0f921\"]],\"type\":\"heatmapgl\"}],\"histogram\":[{\"marker\":{\"pattern\":{\"fillmode\":\"overlay\",\"size\":10,\"solidity\":0.2}},\"type\":\"histogram\"}],\"histogram2d\":[{\"colorbar\":{\"outlinewidth\":0,\"ticks\":\"\"},\"colorscale\":[[0.0,\"#0d0887\"],[0.1111111111111111,\"#46039f\"],[0.2222222222222222,\"#7201a8\"],[0.3333333333333333,\"#9c179e\"],[0.4444444444444444,\"#bd3786\"],[0.5555555555555556,\"#d8576b\"],[0.6666666666666666,\"#ed7953\"],[0.7777777777777778,\"#fb9f3a\"],[0.8888888888888888,\"#fdca26\"],[1.0,\"#f0f921\"]],\"type\":\"histogram2d\"}],\"histogram2dcontour\":[{\"colorbar\":{\"outlinewidth\":0,\"ticks\":\"\"},\"colorscale\":[[0.0,\"#0d0887\"],[0.1111111111111111,\"#46039f\"],[0.2222222222222222,\"#7201a8\"],[0.3333333333333333,\"#9c179e\"],[0.4444444444444444,\"#bd3786\"],[0.5555555555555556,\"#d8576b\"],[0.6666666666666666,\"#ed7953\"],[0.7777777777777778,\"#fb9f3a\"],[0.8888888888888888,\"#fdca26\"],[1.0,\"#f0f921\"]],\"type\":\"histogram2dcontour\"}],\"mesh3d\":[{\"colorbar\":{\"outlinewidth\":0,\"ticks\":\"\"},\"type\":\"mesh3d\"}],\"parcoords\":[{\"line\":{\"colorbar\":{\"outlinewidth\":0,\"ticks\":\"\"}},\"type\":\"parcoords\"}],\"pie\":[{\"automargin\":true,\"type\":\"pie\"}],\"scatter\":[{\"marker\":{\"colorbar\":{\"outlinewidth\":0,\"ticks\":\"\"}},\"type\":\"scatter\"}],\"scatter3d\":[{\"line\":{\"colorbar\":{\"outlinewidth\":0,\"ticks\":\"\"}},\"marker\":{\"colorbar\":{\"outlinewidth\":0,\"ticks\":\"\"}},\"type\":\"scatter3d\"}],\"scattercarpet\":[{\"marker\":{\"colorbar\":{\"outlinewidth\":0,\"ticks\":\"\"}},\"type\":\"scattercarpet\"}],\"scattergeo\":[{\"marker\":{\"colorbar\":{\"outlinewidth\":0,\"ticks\":\"\"}},\"type\":\"scattergeo\"}],\"scattergl\":[{\"marker\":{\"colorbar\":{\"outlinewidth\":0,\"ticks\":\"\"}},\"type\":\"scattergl\"}],\"scattermapbox\":[{\"marker\":{\"colorbar\":{\"outlinewidth\":0,\"ticks\":\"\"}},\"type\":\"scattermapbox\"}],\"scatterpolar\":[{\"marker\":{\"colorbar\":{\"outlinewidth\":0,\"ticks\":\"\"}},\"type\":\"scatterpolar\"}],\"scatterpolargl\":[{\"marker\":{\"colorbar\":{\"outlinewidth\":0,\"ticks\":\"\"}},\"type\":\"scatterpolargl\"}],\"scatterternary\":[{\"marker\":{\"colorbar\":{\"outlinewidth\":0,\"ticks\":\"\"}},\"type\":\"scatterternary\"}],\"surface\":[{\"colorbar\":{\"outlinewidth\":0,\"ticks\":\"\"},\"colorscale\":[[0.0,\"#0d0887\"],[0.1111111111111111,\"#46039f\"],[0.2222222222222222,\"#7201a8\"],[0.3333333333333333,\"#9c179e\"],[0.4444444444444444,\"#bd3786\"],[0.5555555555555556,\"#d8576b\"],[0.6666666666666666,\"#ed7953\"],[0.7777777777777778,\"#fb9f3a\"],[0.8888888888888888,\"#fdca26\"],[1.0,\"#f0f921\"]],\"type\":\"surface\"}],\"table\":[{\"cells\":{\"fill\":{\"color\":\"#EBF0F8\"},\"line\":{\"color\":\"white\"}},\"header\":{\"fill\":{\"color\":\"#C8D4E3\"},\"line\":{\"color\":\"white\"}},\"type\":\"table\"}]},\"layout\":{\"annotationdefaults\":{\"arrowcolor\":\"#2a3f5f\",\"arrowhead\":0,\"arrowwidth\":1},\"autotypenumbers\":\"strict\",\"coloraxis\":{\"colorbar\":{\"outlinewidth\":0,\"ticks\":\"\"}},\"colorscale\":{\"diverging\":[[0,\"#8e0152\"],[0.1,\"#c51b7d\"],[0.2,\"#de77ae\"],[0.3,\"#f1b6da\"],[0.4,\"#fde0ef\"],[0.5,\"#f7f7f7\"],[0.6,\"#e6f5d0\"],[0.7,\"#b8e186\"],[0.8,\"#7fbc41\"],[0.9,\"#4d9221\"],[1,\"#276419\"]],\"sequential\":[[0.0,\"#0d0887\"],[0.1111111111111111,\"#46039f\"],[0.2222222222222222,\"#7201a8\"],[0.3333333333333333,\"#9c179e\"],[0.4444444444444444,\"#bd3786\"],[0.5555555555555556,\"#d8576b\"],[0.6666666666666666,\"#ed7953\"],[0.7777777777777778,\"#fb9f3a\"],[0.8888888888888888,\"#fdca26\"],[1.0,\"#f0f921\"]],\"sequentialminus\":[[0.0,\"#0d0887\"],[0.1111111111111111,\"#46039f\"],[0.2222222222222222,\"#7201a8\"],[0.3333333333333333,\"#9c179e\"],[0.4444444444444444,\"#bd3786\"],[0.5555555555555556,\"#d8576b\"],[0.6666666666666666,\"#ed7953\"],[0.7777777777777778,\"#fb9f3a\"],[0.8888888888888888,\"#fdca26\"],[1.0,\"#f0f921\"]]},\"colorway\":[\"#636efa\",\"#EF553B\",\"#00cc96\",\"#ab63fa\",\"#FFA15A\",\"#19d3f3\",\"#FF6692\",\"#B6E880\",\"#FF97FF\",\"#FECB52\"],\"font\":{\"color\":\"#2a3f5f\"},\"geo\":{\"bgcolor\":\"white\",\"lakecolor\":\"white\",\"landcolor\":\"#E5ECF6\",\"showlakes\":true,\"showland\":true,\"subunitcolor\":\"white\"},\"hoverlabel\":{\"align\":\"left\"},\"hovermode\":\"closest\",\"mapbox\":{\"style\":\"light\"},\"paper_bgcolor\":\"white\",\"plot_bgcolor\":\"#E5ECF6\",\"polar\":{\"angularaxis\":{\"gridcolor\":\"white\",\"linecolor\":\"white\",\"ticks\":\"\"},\"bgcolor\":\"#E5ECF6\",\"radialaxis\":{\"gridcolor\":\"white\",\"linecolor\":\"white\",\"ticks\":\"\"}},\"scene\":{\"xaxis\":{\"backgroundcolor\":\"#E5ECF6\",\"gridcolor\":\"white\",\"gridwidth\":2,\"linecolor\":\"white\",\"showbackground\":true,\"ticks\":\"\",\"zerolinecolor\":\"white\"},\"yaxis\":{\"backgroundcolor\":\"#E5ECF6\",\"gridcolor\":\"white\",\"gridwidth\":2,\"linecolor\":\"white\",\"showbackground\":true,\"ticks\":\"\",\"zerolinecolor\":\"white\"},\"zaxis\":{\"backgroundcolor\":\"#E5ECF6\",\"gridcolor\":\"white\",\"gridwidth\":2,\"linecolor\":\"white\",\"showbackground\":true,\"ticks\":\"\",\"zerolinecolor\":\"white\"}},\"shapedefaults\":{\"line\":{\"color\":\"#2a3f5f\"}},\"ternary\":{\"aaxis\":{\"gridcolor\":\"white\",\"linecolor\":\"white\",\"ticks\":\"\"},\"baxis\":{\"gridcolor\":\"white\",\"linecolor\":\"white\",\"ticks\":\"\"},\"bgcolor\":\"#E5ECF6\",\"caxis\":{\"gridcolor\":\"white\",\"linecolor\":\"white\",\"ticks\":\"\"}},\"title\":{\"x\":0.05},\"xaxis\":{\"automargin\":true,\"gridcolor\":\"white\",\"linecolor\":\"white\",\"ticks\":\"\",\"title\":{\"standoff\":15},\"zerolinecolor\":\"white\",\"zerolinewidth\":2},\"yaxis\":{\"automargin\":true,\"gridcolor\":\"white\",\"linecolor\":\"white\",\"ticks\":\"\",\"title\":{\"standoff\":15},\"zerolinecolor\":\"white\",\"zerolinewidth\":2}}}},                        {\"responsive\": true}                    ).then(function(){\n",
              "                            \n",
              "var gd = document.getElementById('034bfc22-a8bd-4926-8213-dcaac03a9c82');\n",
              "var x = new MutationObserver(function (mutations, observer) {{\n",
              "        var display = window.getComputedStyle(gd).display;\n",
              "        if (!display || display === 'none') {{\n",
              "            console.log([gd, 'removed!']);\n",
              "            Plotly.purge(gd);\n",
              "            observer.disconnect();\n",
              "        }}\n",
              "}});\n",
              "\n",
              "// Listen for the removal of the full notebook cells\n",
              "var notebookContainer = gd.closest('#notebook-container');\n",
              "if (notebookContainer) {{\n",
              "    x.observe(notebookContainer, {childList: true});\n",
              "}}\n",
              "\n",
              "// Listen for the clearing of the current output cell\n",
              "var outputEl = gd.closest('.output');\n",
              "if (outputEl) {{\n",
              "    x.observe(outputEl, {childList: true});\n",
              "}}\n",
              "\n",
              "                        })                };                            </script>        </div>\n",
              "</body>\n",
              "</html>"
            ]
          },
          "metadata": {}
        }
      ]
    },
    {
      "cell_type": "markdown",
      "source": [
        "Оставим данные о количестве забронированных ночей, как есть. \n",
        "\n",
        "Что делать с датами непонятно. Может быть их в дни недели преобразовать? \n",
        "\n",
        "А пока удалим данные о датах. Потому что они не числа. И модель на них не обучить. "
      ],
      "metadata": {
        "id": "ZZv5KZHCX_eu"
      }
    },
    {
      "cell_type": "code",
      "source": [
        "hotel_resrv.drop(['booking_date'], axis=1, inplace=True)"
      ],
      "metadata": {
        "id": "2hic2UxufmBz"
      },
      "execution_count": 18,
      "outputs": []
    },
    {
      "cell_type": "markdown",
      "source": [
        "\n",
        "# Строим модель."
      ],
      "metadata": {
        "id": "hNRDRvZ0ipG6"
      }
    },
    {
      "cell_type": "code",
      "source": [
        "feature_names = list(hotel_resrv).copy()\n",
        "feature_names.remove('booking_status')\n",
        "\n",
        "# выделчем отдельно целевую переменную\n",
        "target = hotel_resrv['booking_status']\n",
        "\n",
        "# создаем датасет из выбранных переменных кроме целевой\n",
        "temp_hotel_res = hotel_resrv\n",
        "temp_hotel_res.drop(['booking_status'], axis=1, inplace=True)\n",
        "\n",
        "X = pd.DataFrame(temp_hotel_res, columns = feature_names) \n",
        "y = target\n"
      ],
      "metadata": {
        "id": "3Xgi8MSji7Jq"
      },
      "execution_count": 19,
      "outputs": []
    },
    {
      "cell_type": "code",
      "source": [
        "from sklearn.model_selection import train_test_split\n",
        "\n",
        "#Создаем три набора данных: тренировочный, тестовый и валидационный. В пропорции 60:20:20.\n",
        "X_train, X_test, y_train, y_test = train_test_split(X, y, \n",
        "                                                    test_size = 0.4, \n",
        "                                                    random_state = 42)\n",
        "X_test, X_val, y_test, y_val = train_test_split(X_test, y_test,\n",
        "                                                test_size=0.5, \n",
        "                                                random_state=42)\n"
      ],
      "metadata": {
        "id": "lbPgpS3akvw3"
      },
      "execution_count": 20,
      "outputs": []
    },
    {
      "cell_type": "markdown",
      "source": [
        "### Нормализуем данные.\n",
        "Каждый датасет нормализуем по-отдельности, чтобы не переносить усреднения из набора в набор."
      ],
      "metadata": {
        "id": "RC50CGd3T-t2"
      }
    },
    {
      "cell_type": "code",
      "source": [
        "from sklearn.preprocessing import StandardScaler\n",
        "scaler = StandardScaler()\n",
        "\n",
        "scaled_temp = scaler.fit_transform(X_train).copy()\n",
        "X_train = pd.DataFrame(scaled_temp, columns = feature_names) \n",
        "\n",
        "scaled_temp = scaler.fit_transform(X_test).copy()\n",
        "X_test = pd.DataFrame(scaled_temp, columns = feature_names) \n",
        "\n",
        "scaled_temp = scaler.fit_transform(X_val).copy()\n",
        "X_val = pd.DataFrame(scaled_temp, columns = feature_names) \n",
        "\n",
        "X_test.head()"
      ],
      "metadata": {
        "colab": {
          "base_uri": "https://localhost:8080/",
          "height": 270
        },
        "id": "1kQa8Cu2ivLb",
        "outputId": "fdb78f60-9f95-4c5e-a20a-2c88948f3ebd"
      },
      "execution_count": 21,
      "outputs": [
        {
          "output_type": "execute_result",
          "data": {
            "text/plain": [
              "   no_of_adults  no_of_children  no_of_weekend_nights  no_of_week_nights  \\\n",
              "0      0.301832       -0.261465             -0.932787          -0.827733   \n",
              "1     -1.600679       -0.261465             -0.932787          -0.827733   \n",
              "2     -1.600679       -0.261465              0.212090          -0.134051   \n",
              "3      0.301832       -0.261465              0.212090          -0.134051   \n",
              "4     -1.600679       -0.261465              2.501845           3.334357   \n",
              "\n",
              "   type_of_meal_plan  required_car_parking_space  room_type_reserved  \\\n",
              "0          -0.507096                   -0.178491           -0.429013   \n",
              "1          -0.507096                   -0.178491            0.850268   \n",
              "2          -0.507096                   -0.178491           -0.429013   \n",
              "3           1.084159                   -0.178491           -0.429013   \n",
              "4          -0.507096                   -0.178491           -0.429013   \n",
              "\n",
              "   lead_time  market_segment_type  repeated_guest  avg_price_per_room  \\\n",
              "0  -0.767799             0.301847        -0.17095            0.019974   \n",
              "1  -0.944088             3.397110        -0.17095           -0.233073   \n",
              "2  -0.944088             1.849478        -0.17095           -0.682934   \n",
              "3  -0.050890             0.301847        -0.17095           -0.677311   \n",
              "4  -0.850067             0.301847        -0.17095           -0.741135   \n",
              "\n",
              "   no_of_special_requests  \n",
              "0               -0.795079  \n",
              "1               -0.795079  \n",
              "2               -0.795079  \n",
              "3                1.734877  \n",
              "4                0.469899  "
            ],
            "text/html": [
              "\n",
              "  <div id=\"df-02593491-e929-4845-ab2a-b7f886400b23\">\n",
              "    <div class=\"colab-df-container\">\n",
              "      <div>\n",
              "<style scoped>\n",
              "    .dataframe tbody tr th:only-of-type {\n",
              "        vertical-align: middle;\n",
              "    }\n",
              "\n",
              "    .dataframe tbody tr th {\n",
              "        vertical-align: top;\n",
              "    }\n",
              "\n",
              "    .dataframe thead th {\n",
              "        text-align: right;\n",
              "    }\n",
              "</style>\n",
              "<table border=\"1\" class=\"dataframe\">\n",
              "  <thead>\n",
              "    <tr style=\"text-align: right;\">\n",
              "      <th></th>\n",
              "      <th>no_of_adults</th>\n",
              "      <th>no_of_children</th>\n",
              "      <th>no_of_weekend_nights</th>\n",
              "      <th>no_of_week_nights</th>\n",
              "      <th>type_of_meal_plan</th>\n",
              "      <th>required_car_parking_space</th>\n",
              "      <th>room_type_reserved</th>\n",
              "      <th>lead_time</th>\n",
              "      <th>market_segment_type</th>\n",
              "      <th>repeated_guest</th>\n",
              "      <th>avg_price_per_room</th>\n",
              "      <th>no_of_special_requests</th>\n",
              "    </tr>\n",
              "  </thead>\n",
              "  <tbody>\n",
              "    <tr>\n",
              "      <th>0</th>\n",
              "      <td>0.301832</td>\n",
              "      <td>-0.261465</td>\n",
              "      <td>-0.932787</td>\n",
              "      <td>-0.827733</td>\n",
              "      <td>-0.507096</td>\n",
              "      <td>-0.178491</td>\n",
              "      <td>-0.429013</td>\n",
              "      <td>-0.767799</td>\n",
              "      <td>0.301847</td>\n",
              "      <td>-0.17095</td>\n",
              "      <td>0.019974</td>\n",
              "      <td>-0.795079</td>\n",
              "    </tr>\n",
              "    <tr>\n",
              "      <th>1</th>\n",
              "      <td>-1.600679</td>\n",
              "      <td>-0.261465</td>\n",
              "      <td>-0.932787</td>\n",
              "      <td>-0.827733</td>\n",
              "      <td>-0.507096</td>\n",
              "      <td>-0.178491</td>\n",
              "      <td>0.850268</td>\n",
              "      <td>-0.944088</td>\n",
              "      <td>3.397110</td>\n",
              "      <td>-0.17095</td>\n",
              "      <td>-0.233073</td>\n",
              "      <td>-0.795079</td>\n",
              "    </tr>\n",
              "    <tr>\n",
              "      <th>2</th>\n",
              "      <td>-1.600679</td>\n",
              "      <td>-0.261465</td>\n",
              "      <td>0.212090</td>\n",
              "      <td>-0.134051</td>\n",
              "      <td>-0.507096</td>\n",
              "      <td>-0.178491</td>\n",
              "      <td>-0.429013</td>\n",
              "      <td>-0.944088</td>\n",
              "      <td>1.849478</td>\n",
              "      <td>-0.17095</td>\n",
              "      <td>-0.682934</td>\n",
              "      <td>-0.795079</td>\n",
              "    </tr>\n",
              "    <tr>\n",
              "      <th>3</th>\n",
              "      <td>0.301832</td>\n",
              "      <td>-0.261465</td>\n",
              "      <td>0.212090</td>\n",
              "      <td>-0.134051</td>\n",
              "      <td>1.084159</td>\n",
              "      <td>-0.178491</td>\n",
              "      <td>-0.429013</td>\n",
              "      <td>-0.050890</td>\n",
              "      <td>0.301847</td>\n",
              "      <td>-0.17095</td>\n",
              "      <td>-0.677311</td>\n",
              "      <td>1.734877</td>\n",
              "    </tr>\n",
              "    <tr>\n",
              "      <th>4</th>\n",
              "      <td>-1.600679</td>\n",
              "      <td>-0.261465</td>\n",
              "      <td>2.501845</td>\n",
              "      <td>3.334357</td>\n",
              "      <td>-0.507096</td>\n",
              "      <td>-0.178491</td>\n",
              "      <td>-0.429013</td>\n",
              "      <td>-0.850067</td>\n",
              "      <td>0.301847</td>\n",
              "      <td>-0.17095</td>\n",
              "      <td>-0.741135</td>\n",
              "      <td>0.469899</td>\n",
              "    </tr>\n",
              "  </tbody>\n",
              "</table>\n",
              "</div>\n",
              "      <button class=\"colab-df-convert\" onclick=\"convertToInteractive('df-02593491-e929-4845-ab2a-b7f886400b23')\"\n",
              "              title=\"Convert this dataframe to an interactive table.\"\n",
              "              style=\"display:none;\">\n",
              "        \n",
              "  <svg xmlns=\"http://www.w3.org/2000/svg\" height=\"24px\"viewBox=\"0 0 24 24\"\n",
              "       width=\"24px\">\n",
              "    <path d=\"M0 0h24v24H0V0z\" fill=\"none\"/>\n",
              "    <path d=\"M18.56 5.44l.94 2.06.94-2.06 2.06-.94-2.06-.94-.94-2.06-.94 2.06-2.06.94zm-11 1L8.5 8.5l.94-2.06 2.06-.94-2.06-.94L8.5 2.5l-.94 2.06-2.06.94zm10 10l.94 2.06.94-2.06 2.06-.94-2.06-.94-.94-2.06-.94 2.06-2.06.94z\"/><path d=\"M17.41 7.96l-1.37-1.37c-.4-.4-.92-.59-1.43-.59-.52 0-1.04.2-1.43.59L10.3 9.45l-7.72 7.72c-.78.78-.78 2.05 0 2.83L4 21.41c.39.39.9.59 1.41.59.51 0 1.02-.2 1.41-.59l7.78-7.78 2.81-2.81c.8-.78.8-2.07 0-2.86zM5.41 20L4 18.59l7.72-7.72 1.47 1.35L5.41 20z\"/>\n",
              "  </svg>\n",
              "      </button>\n",
              "      \n",
              "  <style>\n",
              "    .colab-df-container {\n",
              "      display:flex;\n",
              "      flex-wrap:wrap;\n",
              "      gap: 12px;\n",
              "    }\n",
              "\n",
              "    .colab-df-convert {\n",
              "      background-color: #E8F0FE;\n",
              "      border: none;\n",
              "      border-radius: 50%;\n",
              "      cursor: pointer;\n",
              "      display: none;\n",
              "      fill: #1967D2;\n",
              "      height: 32px;\n",
              "      padding: 0 0 0 0;\n",
              "      width: 32px;\n",
              "    }\n",
              "\n",
              "    .colab-df-convert:hover {\n",
              "      background-color: #E2EBFA;\n",
              "      box-shadow: 0px 1px 2px rgba(60, 64, 67, 0.3), 0px 1px 3px 1px rgba(60, 64, 67, 0.15);\n",
              "      fill: #174EA6;\n",
              "    }\n",
              "\n",
              "    [theme=dark] .colab-df-convert {\n",
              "      background-color: #3B4455;\n",
              "      fill: #D2E3FC;\n",
              "    }\n",
              "\n",
              "    [theme=dark] .colab-df-convert:hover {\n",
              "      background-color: #434B5C;\n",
              "      box-shadow: 0px 1px 3px 1px rgba(0, 0, 0, 0.15);\n",
              "      filter: drop-shadow(0px 1px 2px rgba(0, 0, 0, 0.3));\n",
              "      fill: #FFFFFF;\n",
              "    }\n",
              "  </style>\n",
              "\n",
              "      <script>\n",
              "        const buttonEl =\n",
              "          document.querySelector('#df-02593491-e929-4845-ab2a-b7f886400b23 button.colab-df-convert');\n",
              "        buttonEl.style.display =\n",
              "          google.colab.kernel.accessAllowed ? 'block' : 'none';\n",
              "\n",
              "        async function convertToInteractive(key) {\n",
              "          const element = document.querySelector('#df-02593491-e929-4845-ab2a-b7f886400b23');\n",
              "          const dataTable =\n",
              "            await google.colab.kernel.invokeFunction('convertToInteractive',\n",
              "                                                     [key], {});\n",
              "          if (!dataTable) return;\n",
              "\n",
              "          const docLinkHtml = 'Like what you see? Visit the ' +\n",
              "            '<a target=\"_blank\" href=https://colab.research.google.com/notebooks/data_table.ipynb>data table notebook</a>'\n",
              "            + ' to learn more about interactive tables.';\n",
              "          element.innerHTML = '';\n",
              "          dataTable['output_type'] = 'display_data';\n",
              "          await google.colab.output.renderOutput(dataTable, element);\n",
              "          const docLink = document.createElement('div');\n",
              "          docLink.innerHTML = docLinkHtml;\n",
              "          element.appendChild(docLink);\n",
              "        }\n",
              "      </script>\n",
              "    </div>\n",
              "  </div>\n",
              "  "
            ]
          },
          "metadata": {},
          "execution_count": 21
        }
      ]
    },
    {
      "cell_type": "markdown",
      "source": [
        "## Выбор модели\n",
        "В качестве модели выберем случайный лес. Он же Random Forest. \n",
        "В Интернете у него хорошая репутация."
      ],
      "metadata": {
        "id": "uQODEtr3nU3H"
      }
    },
    {
      "cell_type": "code",
      "source": [
        "from sklearn.model_selection import train_test_split, cross_val_score, GridSearchCV\n",
        "from sklearn.ensemble import RandomForestClassifier\n",
        "from sklearn.metrics import accuracy_score, precision_score, recall_score\n"
      ],
      "metadata": {
        "id": "sL0v33QenSZy"
      },
      "execution_count": 22,
      "outputs": []
    },
    {
      "cell_type": "markdown",
      "source": [
        "## Кросс-валидация.\n",
        "Для предыдущего задания была выбрана модель на основе метода логистической регрессии. Сравним ее с методом случайного леса."
      ],
      "metadata": {
        "id": "ww-qn9thrdnS"
      }
    },
    {
      "cell_type": "code",
      "source": [
        "from sklearn.linear_model import LogisticRegression\n",
        "model1 = LogisticRegression()\n",
        "scores1 = cross_val_score(model1, X_train, y_train.values.ravel(), cv=5)\n",
        "print('Logistic Regression',scores1)\n",
        "\n",
        "model = RandomForestClassifier()\n",
        "scores = cross_val_score(model, X_train, y_train.values.ravel(), cv=5)\n",
        "print('Random Forest',scores)\n",
        "\n"
      ],
      "metadata": {
        "colab": {
          "base_uri": "https://localhost:8080/"
        },
        "id": "myJwzmQMqK1b",
        "outputId": "5110634d-9b17-4222-dc6a-7480040b8fe7"
      },
      "execution_count": 23,
      "outputs": [
        {
          "output_type": "stream",
          "name": "stdout",
          "text": [
            "Logistic Regression [0.79600276 0.77670572 0.78704342 0.79186768 0.78313807]\n",
            "Random Forest [0.88490696 0.88192051 0.87893407 0.88398805 0.872272  ]\n"
          ]
        }
      ]
    },
    {
      "cell_type": "markdown",
      "source": [
        "Видно, что метод случайного леса работает явно лучше. На нем и остановимся"
      ],
      "metadata": {
        "id": "pfEqE7GFwZjx"
      }
    },
    {
      "cell_type": "markdown",
      "source": [
        "## Настройка гиперпараметров."
      ],
      "metadata": {
        "id": "0El3SEHvy9SG"
      }
    },
    {
      "cell_type": "code",
      "source": [
        "%%time\n",
        "model = RandomForestClassifier()\n",
        "\n",
        "hyperparams = {\n",
        "    'n_estimators': [5, 10, 15, 20, 25, 30, 35, 40, 45, 50, 55, 60, 65, 75],\n",
        "    'max_depth': [4, 8, 12, 16, 20, 24, None]\n",
        "}\n",
        "\n",
        "cross_val = GridSearchCV(model, hyperparams, cv=5)\n",
        "cross_val.fit(X_train, y_train.values.ravel())\n"
      ],
      "metadata": {
        "colab": {
          "base_uri": "https://localhost:8080/"
        },
        "id": "PvJF9O_vzSO9",
        "outputId": "8d45904f-1206-4f06-be3e-c495d548df4a"
      },
      "execution_count": 24,
      "outputs": [
        {
          "output_type": "stream",
          "name": "stdout",
          "text": [
            "CPU times: user 4min 5s, sys: 503 ms, total: 4min 5s\n",
            "Wall time: 4min 7s\n"
          ]
        },
        {
          "output_type": "execute_result",
          "data": {
            "text/plain": [
              "GridSearchCV(cv=5, estimator=RandomForestClassifier(),\n",
              "             param_grid={'max_depth': [4, 8, 12, 16, 20, 24, None],\n",
              "                         'n_estimators': [5, 10, 15, 20, 25, 30, 35, 40, 45, 50,\n",
              "                                          55, 60, 65, 75]})"
            ]
          },
          "metadata": {},
          "execution_count": 24
        }
      ]
    },
    {
      "cell_type": "markdown",
      "source": [
        "Ситуация следующая. За 4 минуты было обработано 98 вариантов модели, и была выбрана оптимальная, с хорошим на мой взгляд, результатом. В принципе, найдя локальный оптимум, можно погонять оптимизатор в квадрате 15-25 для глубины, и 45-60 для оценивания с шагом 1. Видимо идеал находится где-то там.\n",
        "\n",
        "Если использовать библиотеку optuna, то с ней все очень неоднозначно. \n",
        "\n",
        "Во-первых, совершенно непонятно в каких границах искать оптимальные значения. Для RandomForestClassifier она фиксирует один параметр и подбирает, скажем, глубину. При том, что как задать начальные параметры границ оптимизации совсем непонятно. \n",
        "\n",
        "Если, например, задать область поиска так, как это у вас в примере, то я точно промахнусь с оптимальными гиперпараметрами.\n",
        "\n",
        "\n",
        "Во-вторых, она это делает невероятно медленно. \n",
        "\n",
        "\n",
        "Ладно. Гиперпараметры настроились, но как именно не видно.\n",
        "Чтобы заглянуть \"внутрь\" лнастройки гиперпараметров нужно написать функцию. Ничем кроме вывода она заниматься не будет."
      ],
      "metadata": {
        "id": "d-xRJ7lA1-rf"
      }
    },
    {
      "cell_type": "code",
      "source": [
        "def results(results):\n",
        "  print('Оптимальные гиперпараметры: {}\\n'.format(results.best_params_))\n",
        "  means = results.cv_results_['mean_test_score']\n",
        "  stds = results.cv_results_['std_test_score']\n",
        "\n",
        "  for mean, std, params in zip(means, stds, results.cv_results_['params']):\n",
        "    print('Mean {} Standard Deviation {} Hyperparameters {}'.format(round(mean,7), round(std, 5), params))"
      ],
      "metadata": {
        "id": "Ax4yYeqX07l7"
      },
      "execution_count": 25,
      "outputs": []
    },
    {
      "cell_type": "code",
      "source": [
        "results(cross_val)"
      ],
      "metadata": {
        "colab": {
          "base_uri": "https://localhost:8080/"
        },
        "id": "K8G0jO0Z3bGF",
        "outputId": "4f8aea0d-0b3c-4f62-c161-6913ed91ef47"
      },
      "execution_count": 26,
      "outputs": [
        {
          "output_type": "stream",
          "name": "stdout",
          "text": [
            "Оптимальные гиперпараметры: {'max_depth': 20, 'n_estimators': 75}\n",
            "\n",
            "Mean 0.7851137 Standard Deviation 0.00497 Hyperparameters {'max_depth': 4, 'n_estimators': 5}\n",
            "Mean 0.7960946 Standard Deviation 0.00869 Hyperparameters {'max_depth': 4, 'n_estimators': 10}\n",
            "Mean 0.7844705 Standard Deviation 0.00258 Hyperparameters {'max_depth': 4, 'n_estimators': 15}\n",
            "Mean 0.7871813 Standard Deviation 0.00731 Hyperparameters {'max_depth': 4, 'n_estimators': 20}\n",
            "Mean 0.7880542 Standard Deviation 0.00395 Hyperparameters {'max_depth': 4, 'n_estimators': 25}\n",
            "Mean 0.7905812 Standard Deviation 0.00578 Hyperparameters {'max_depth': 4, 'n_estimators': 30}\n",
            "Mean 0.7947163 Standard Deviation 0.00639 Hyperparameters {'max_depth': 4, 'n_estimators': 35}\n",
            "Mean 0.791592 Standard Deviation 0.0032 Hyperparameters {'max_depth': 4, 'n_estimators': 40}\n",
            "Mean 0.7920515 Standard Deviation 0.00972 Hyperparameters {'max_depth': 4, 'n_estimators': 45}\n",
            "Mean 0.7935217 Standard Deviation 0.00839 Hyperparameters {'max_depth': 4, 'n_estimators': 50}\n",
            "Mean 0.791638 Standard Deviation 0.00658 Hyperparameters {'max_depth': 4, 'n_estimators': 55}\n",
            "Mean 0.7914082 Standard Deviation 0.00536 Hyperparameters {'max_depth': 4, 'n_estimators': 60}\n",
            "Mean 0.7948082 Standard Deviation 0.00764 Hyperparameters {'max_depth': 4, 'n_estimators': 65}\n",
            "Mean 0.794119 Standard Deviation 0.00705 Hyperparameters {'max_depth': 4, 'n_estimators': 75}\n",
            "Mean 0.839513 Standard Deviation 0.00539 Hyperparameters {'max_depth': 8, 'n_estimators': 5}\n",
            "Mean 0.8446589 Standard Deviation 0.00368 Hyperparameters {'max_depth': 8, 'n_estimators': 10}\n",
            "Mean 0.8459913 Standard Deviation 0.00447 Hyperparameters {'max_depth': 8, 'n_estimators': 15}\n",
            "Mean 0.8461291 Standard Deviation 0.00703 Hyperparameters {'max_depth': 8, 'n_estimators': 20}\n",
            "Mean 0.8483804 Standard Deviation 0.00548 Hyperparameters {'max_depth': 8, 'n_estimators': 25}\n",
            "Mean 0.8480129 Standard Deviation 0.00515 Hyperparameters {'max_depth': 8, 'n_estimators': 30}\n",
            "Mean 0.8477831 Standard Deviation 0.00312 Hyperparameters {'max_depth': 8, 'n_estimators': 35}\n",
            "Mean 0.8492534 Standard Deviation 0.00433 Hyperparameters {'max_depth': 8, 'n_estimators': 40}\n",
            "Mean 0.8493453 Standard Deviation 0.00275 Hyperparameters {'max_depth': 8, 'n_estimators': 45}\n",
            "Mean 0.8486561 Standard Deviation 0.00264 Hyperparameters {'max_depth': 8, 'n_estimators': 50}\n",
            "Mean 0.8488399 Standard Deviation 0.00592 Hyperparameters {'max_depth': 8, 'n_estimators': 55}\n",
            "Mean 0.8488399 Standard Deviation 0.00176 Hyperparameters {'max_depth': 8, 'n_estimators': 60}\n",
            "Mean 0.8490237 Standard Deviation 0.00388 Hyperparameters {'max_depth': 8, 'n_estimators': 65}\n",
            "Mean 0.8499426 Standard Deviation 0.00416 Hyperparameters {'max_depth': 8, 'n_estimators': 75}\n",
            "Mean 0.8647829 Standard Deviation 0.00367 Hyperparameters {'max_depth': 12, 'n_estimators': 5}\n",
            "Mean 0.8693315 Standard Deviation 0.00427 Hyperparameters {'max_depth': 12, 'n_estimators': 10}\n",
            "Mean 0.8700666 Standard Deviation 0.00459 Hyperparameters {'max_depth': 12, 'n_estimators': 15}\n",
            "Mean 0.8708477 Standard Deviation 0.00374 Hyperparameters {'max_depth': 12, 'n_estimators': 20}\n",
            "Mean 0.8708017 Standard Deviation 0.0049 Hyperparameters {'max_depth': 12, 'n_estimators': 25}\n",
            "Mean 0.8713531 Standard Deviation 0.00273 Hyperparameters {'max_depth': 12, 'n_estimators': 30}\n",
            "Mean 0.8713071 Standard Deviation 0.00353 Hyperparameters {'max_depth': 12, 'n_estimators': 35}\n",
            "Mean 0.8717207 Standard Deviation 0.00424 Hyperparameters {'max_depth': 12, 'n_estimators': 40}\n",
            "Mean 0.8720423 Standard Deviation 0.00317 Hyperparameters {'max_depth': 12, 'n_estimators': 45}\n",
            "Mean 0.8716288 Standard Deviation 0.00371 Hyperparameters {'max_depth': 12, 'n_estimators': 50}\n",
            "Mean 0.8723179 Standard Deviation 0.00312 Hyperparameters {'max_depth': 12, 'n_estimators': 55}\n",
            "Mean 0.8736504 Standard Deviation 0.00363 Hyperparameters {'max_depth': 12, 'n_estimators': 60}\n",
            "Mean 0.8719044 Standard Deviation 0.00396 Hyperparameters {'max_depth': 12, 'n_estimators': 65}\n",
            "Mean 0.8742017 Standard Deviation 0.00332 Hyperparameters {'max_depth': 12, 'n_estimators': 75}\n",
            "Mean 0.8708017 Standard Deviation 0.00629 Hyperparameters {'max_depth': 16, 'n_estimators': 5}\n",
            "Mean 0.8757179 Standard Deviation 0.00359 Hyperparameters {'max_depth': 16, 'n_estimators': 10}\n",
            "Mean 0.8777854 Standard Deviation 0.0044 Hyperparameters {'max_depth': 16, 'n_estimators': 15}\n",
            "Mean 0.8788881 Standard Deviation 0.00394 Hyperparameters {'max_depth': 16, 'n_estimators': 20}\n",
            "Mean 0.8785665 Standard Deviation 0.00499 Hyperparameters {'max_depth': 16, 'n_estimators': 25}\n",
            "Mean 0.8791638 Standard Deviation 0.00321 Hyperparameters {'max_depth': 16, 'n_estimators': 30}\n",
            "Mean 0.8785665 Standard Deviation 0.00521 Hyperparameters {'max_depth': 16, 'n_estimators': 35}\n",
            "Mean 0.8803584 Standard Deviation 0.00432 Hyperparameters {'max_depth': 16, 'n_estimators': 40}\n",
            "Mean 0.8799908 Standard Deviation 0.00392 Hyperparameters {'max_depth': 16, 'n_estimators': 45}\n",
            "Mean 0.8797611 Standard Deviation 0.00436 Hyperparameters {'max_depth': 16, 'n_estimators': 50}\n",
            "Mean 0.8802665 Standard Deviation 0.00383 Hyperparameters {'max_depth': 16, 'n_estimators': 55}\n",
            "Mean 0.8800368 Standard Deviation 0.00371 Hyperparameters {'max_depth': 16, 'n_estimators': 60}\n",
            "Mean 0.8802665 Standard Deviation 0.00556 Hyperparameters {'max_depth': 16, 'n_estimators': 65}\n",
            "Mean 0.8814151 Standard Deviation 0.00444 Hyperparameters {'max_depth': 16, 'n_estimators': 75}\n",
            "Mean 0.868918 Standard Deviation 0.00505 Hyperparameters {'max_depth': 20, 'n_estimators': 5}\n",
            "Mean 0.8759936 Standard Deviation 0.00266 Hyperparameters {'max_depth': 20, 'n_estimators': 10}\n",
            "Mean 0.8783368 Standard Deviation 0.00341 Hyperparameters {'max_depth': 20, 'n_estimators': 15}\n",
            "Mean 0.8786584 Standard Deviation 0.00472 Hyperparameters {'max_depth': 20, 'n_estimators': 20}\n",
            "Mean 0.8798989 Standard Deviation 0.00551 Hyperparameters {'max_depth': 20, 'n_estimators': 25}\n",
            "Mean 0.8805422 Standard Deviation 0.00369 Hyperparameters {'max_depth': 20, 'n_estimators': 30}\n",
            "Mean 0.8808638 Standard Deviation 0.00433 Hyperparameters {'max_depth': 20, 'n_estimators': 35}\n",
            "Mean 0.881507 Standard Deviation 0.00517 Hyperparameters {'max_depth': 20, 'n_estimators': 40}\n",
            "Mean 0.8821502 Standard Deviation 0.00511 Hyperparameters {'max_depth': 20, 'n_estimators': 45}\n",
            "Mean 0.8825637 Standard Deviation 0.00435 Hyperparameters {'max_depth': 20, 'n_estimators': 50}\n",
            "Mean 0.8826556 Standard Deviation 0.0045 Hyperparameters {'max_depth': 20, 'n_estimators': 55}\n",
            "Mean 0.882334 Standard Deviation 0.00564 Hyperparameters {'max_depth': 20, 'n_estimators': 60}\n",
            "Mean 0.8825178 Standard Deviation 0.00557 Hyperparameters {'max_depth': 20, 'n_estimators': 65}\n",
            "Mean 0.8828854 Standard Deviation 0.00491 Hyperparameters {'max_depth': 20, 'n_estimators': 75}\n",
            "Mean 0.8668964 Standard Deviation 0.00564 Hyperparameters {'max_depth': 24, 'n_estimators': 5}\n",
            "Mean 0.8723179 Standard Deviation 0.00248 Hyperparameters {'max_depth': 24, 'n_estimators': 10}\n",
            "Mean 0.8750747 Standard Deviation 0.00248 Hyperparameters {'max_depth': 24, 'n_estimators': 15}\n",
            "Mean 0.8770044 Standard Deviation 0.00433 Hyperparameters {'max_depth': 24, 'n_estimators': 20}\n",
            "Mean 0.8801746 Standard Deviation 0.00536 Hyperparameters {'max_depth': 24, 'n_estimators': 25}\n",
            "Mean 0.8787962 Standard Deviation 0.00342 Hyperparameters {'max_depth': 24, 'n_estimators': 30}\n",
            "Mean 0.8797611 Standard Deviation 0.00634 Hyperparameters {'max_depth': 24, 'n_estimators': 35}\n",
            "Mean 0.8803584 Standard Deviation 0.00521 Hyperparameters {'max_depth': 24, 'n_estimators': 40}\n",
            "Mean 0.880634 Standard Deviation 0.00515 Hyperparameters {'max_depth': 24, 'n_estimators': 45}\n",
            "Mean 0.881553 Standard Deviation 0.00627 Hyperparameters {'max_depth': 24, 'n_estimators': 50}\n",
            "Mean 0.8810476 Standard Deviation 0.00428 Hyperparameters {'max_depth': 24, 'n_estimators': 55}\n",
            "Mean 0.8818286 Standard Deviation 0.00583 Hyperparameters {'max_depth': 24, 'n_estimators': 60}\n",
            "Mean 0.8810935 Standard Deviation 0.00479 Hyperparameters {'max_depth': 24, 'n_estimators': 65}\n",
            "Mean 0.8811854 Standard Deviation 0.00532 Hyperparameters {'max_depth': 24, 'n_estimators': 75}\n",
            "Mean 0.8657937 Standard Deviation 0.00283 Hyperparameters {'max_depth': None, 'n_estimators': 5}\n",
            "Mean 0.8716288 Standard Deviation 0.00488 Hyperparameters {'max_depth': None, 'n_estimators': 10}\n",
            "Mean 0.873145 Standard Deviation 0.00497 Hyperparameters {'max_depth': None, 'n_estimators': 15}\n",
            "Mean 0.8767287 Standard Deviation 0.00347 Hyperparameters {'max_depth': None, 'n_estimators': 20}\n",
            "Mean 0.8780611 Standard Deviation 0.00546 Hyperparameters {'max_depth': None, 'n_estimators': 25}\n",
            "Mean 0.8770044 Standard Deviation 0.00462 Hyperparameters {'max_depth': None, 'n_estimators': 30}\n",
            "Mean 0.8784287 Standard Deviation 0.0028 Hyperparameters {'max_depth': None, 'n_estimators': 35}\n",
            "Mean 0.8786584 Standard Deviation 0.00605 Hyperparameters {'max_depth': None, 'n_estimators': 40}\n",
            "Mean 0.87898 Standard Deviation 0.00565 Hyperparameters {'max_depth': None, 'n_estimators': 45}\n",
            "Mean 0.8779233 Standard Deviation 0.00677 Hyperparameters {'max_depth': None, 'n_estimators': 50}\n",
            "Mean 0.8804043 Standard Deviation 0.00586 Hyperparameters {'max_depth': None, 'n_estimators': 55}\n",
            "Mean 0.8799908 Standard Deviation 0.00519 Hyperparameters {'max_depth': None, 'n_estimators': 60}\n",
            "Mean 0.88068 Standard Deviation 0.00504 Hyperparameters {'max_depth': None, 'n_estimators': 65}\n",
            "Mean 0.8810935 Standard Deviation 0.0054 Hyperparameters {'max_depth': None, 'n_estimators': 75}\n"
          ]
        }
      ]
    },
    {
      "cell_type": "markdown",
      "source": [
        "Для чистоты эксперимента создадим две модели. Одну с оптимальными гиперпараметрами, а вторую с, например, значениями max_depth': 8, 'n_estimators': 25."
      ],
      "metadata": {
        "id": "KfwPaWpq6L9P"
      }
    },
    {
      "cell_type": "code",
      "source": [
        "%%time\n",
        "model_opt = RandomForestClassifier(n_estimators = 55, max_depth = 20)\n",
        "model_opt.fit(X_train, y_train.values.ravel())\n"
      ],
      "metadata": {
        "colab": {
          "base_uri": "https://localhost:8080/"
        },
        "id": "Tt0PYxrb6zDz",
        "outputId": "46c10957-47b8-42c3-f3cb-499a5060ae51"
      },
      "execution_count": 27,
      "outputs": [
        {
          "output_type": "stream",
          "name": "stdout",
          "text": [
            "CPU times: user 1.01 s, sys: 6 ms, total: 1.02 s\n",
            "Wall time: 1.01 s\n"
          ]
        },
        {
          "output_type": "execute_result",
          "data": {
            "text/plain": [
              "RandomForestClassifier(max_depth=20, n_estimators=55)"
            ]
          },
          "metadata": {},
          "execution_count": 27
        }
      ]
    },
    {
      "cell_type": "code",
      "source": [
        "%%time\n",
        "model_easy = RandomForestClassifier(n_estimators = 25, max_depth = 8)\n",
        "model_easy.fit(X_train, y_train.values.ravel())"
      ],
      "metadata": {
        "colab": {
          "base_uri": "https://localhost:8080/"
        },
        "id": "R8KC2Hmw8bP-",
        "outputId": "c858def0-2538-4a5e-b8d4-db8432b2f03a"
      },
      "execution_count": 28,
      "outputs": [
        {
          "output_type": "stream",
          "name": "stdout",
          "text": [
            "CPU times: user 287 ms, sys: 0 ns, total: 287 ms\n",
            "Wall time: 289 ms\n"
          ]
        },
        {
          "output_type": "execute_result",
          "data": {
            "text/plain": [
              "RandomForestClassifier(max_depth=8, n_estimators=25)"
            ]
          },
          "metadata": {},
          "execution_count": 28
        }
      ]
    },
    {
      "cell_type": "markdown",
      "source": [
        "Более простая модель ожидаемо \"учится быстрее\". "
      ],
      "metadata": {
        "id": "lAyFxMM98xzv"
      }
    },
    {
      "cell_type": "markdown",
      "source": [
        "## Оценим модели. \n",
        "И работу моделей на валидационных наборах."
      ],
      "metadata": {
        "id": "TNyUWeo4oT6E"
      }
    },
    {
      "cell_type": "code",
      "source": [
        "for mdl in [model_easy, model_opt]: # в принципе можно сравнивать и больше двух моделей\n",
        "  y_pred = mdl.predict(X_val)\n",
        "  accuracy = round(accuracy_score(y_val, y_pred), 3)\n",
        "  precision = round(precision_score(y_val, y_pred), 3)\n",
        "  recall = round(recall_score(y_val, y_pred), 3)\n",
        "\n",
        "  print('Max Depth: {} || Estimators: {} || Accuracy: {} || Precision: {} || Recall: {}'.format(mdl.max_depth,\n",
        "                                                                                                mdl.n_estimators,\n",
        "                                                                                                accuracy,\n",
        "                                                                                                precision,\n",
        "                                                                                                recall))"
      ],
      "metadata": {
        "colab": {
          "base_uri": "https://localhost:8080/"
        },
        "id": "qTpqyg_NDOcu",
        "outputId": "596c19c3-0e95-48f9-9dfd-580569d5e48c"
      },
      "execution_count": 29,
      "outputs": [
        {
          "output_type": "stream",
          "name": "stdout",
          "text": [
            "Max Depth: 8 || Estimators: 25 || Accuracy: 0.842 || Precision: 0.84 || Recall: 0.943\n",
            "Max Depth: 20 || Estimators: 55 || Accuracy: 0.881 || Precision: 0.89 || Recall: 0.936\n"
          ]
        }
      ]
    },
    {
      "cell_type": "markdown",
      "source": [
        "Теперь запустим модель (которая оптимальная) на тестовом наборе. "
      ],
      "metadata": {
        "id": "xZa-J76K_ndl"
      }
    },
    {
      "cell_type": "code",
      "source": [
        "y_pred = model_opt.predict(X_test)\n",
        "accuracy = round(accuracy_score(y_test, y_pred), 6)\n",
        "precision = round(precision_score(y_test, y_pred), 3)\n",
        "recall = round(recall_score(y_test, y_pred), 3)\n",
        "\n",
        "print('Max Depth: {} || Estimators: {} || Accuracy: {} || Precision: {} || Recall: {}'.format(model_opt.max_depth,\n",
        "                                                                                                model_opt.n_estimators,\n",
        "                                                                                                accuracy,\n",
        "                                                                                                precision,\n",
        "                                                                                                recall))\n",
        "\n"
      ],
      "metadata": {
        "colab": {
          "base_uri": "https://localhost:8080/"
        },
        "id": "hhz30f6D_Wb3",
        "outputId": "56979a2c-cf48-4320-fd7b-9adcc5c9c8a6"
      },
      "execution_count": 30,
      "outputs": [
        {
          "output_type": "stream",
          "name": "stdout",
          "text": [
            "Max Depth: 20 || Estimators: 55 || Accuracy: 0.876912 || Precision: 0.889 || Recall: 0.935\n"
          ]
        }
      ]
    },
    {
      "cell_type": "code",
      "source": [
        "from sklearn.metrics import confusion_matrix\n",
        "model_matrix = confusion_matrix(y_test, y_pred, labels = [1,0])\n",
        "#вспомним матрицу ошибок и выведем ее\n",
        "# для удобства создадим датафрейм\n",
        "model_matrix_df = pd.DataFrame(model_matrix)\n",
        "print(model_matrix_df)"
      ],
      "metadata": {
        "colab": {
          "base_uri": "https://localhost:8080/"
        },
        "id": "f_0bLNc9Aoxb",
        "outputId": "674b29fe-2837-4405-a300-a727aa1aaa79"
      },
      "execution_count": 31,
      "outputs": [
        {
          "output_type": "stream",
          "name": "stdout",
          "text": [
            "      0     1\n",
            "0  4589   319\n",
            "1   574  1773\n"
          ]
        }
      ]
    },
    {
      "cell_type": "markdown",
      "source": [
        "## Выводы.\n",
        "Во-первых, я получил море удовольствия от изучения всей этой кухни с обучением моделей. Хотя с pandas сначала были проблемы. \n",
        "\n",
        "Во-вторых, метод случайного леса позволяет строить модели лучше, чем при использовании метода логистической регрессии.\n",
        "\n",
        "В-третьих, я понял, что CoLab это очень удобный итструмент. Например, запомнить сайт, который пригодился, можно прямо в ячейке, причем ссылкой с удобочитаемой подписью!"
      ],
      "metadata": {
        "id": "7r12uAEAA62I"
      }
    },
    {
      "cell_type": "code",
      "source": [],
      "metadata": {
        "id": "Gf3ohW-awlVT"
      },
      "execution_count": 31,
      "outputs": []
    }
  ]
}