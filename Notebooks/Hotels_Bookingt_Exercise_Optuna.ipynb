{
  "nbformat": 4,
  "nbformat_minor": 0,
  "metadata": {
    "colab": {
      "provenance": [],
      "toc_visible": true,
      "authorship_tag": "ABX9TyN+r+F/kK1ruQvNPPlCmp5C",
      "include_colab_link": true
    },
    "kernelspec": {
      "name": "python3",
      "display_name": "Python 3"
    },
    "language_info": {
      "name": "python"
    },
    "gpuClass": "standard"
  },
  "cells": [
    {
      "cell_type": "markdown",
      "metadata": {
        "id": "view-in-github",
        "colab_type": "text"
      },
      "source": [
        "<a href=\"https://colab.research.google.com/github/ArthurLazdin/Machine-Learning/blob/main/Notebooks/Hotels_Bookingt_Exercise_Optuna.ipynb\" target=\"_parent\"><img src=\"https://colab.research.google.com/assets/colab-badge.svg\" alt=\"Open In Colab\"/></a>"
      ]
    },
    {
      "cell_type": "markdown",
      "source": [
        "# Заселится клиент или не заселится? Часть третья. optuna\n"
      ],
      "metadata": {
        "id": "w84-f-weUxCK"
      }
    },
    {
      "cell_type": "code",
      "execution_count": null,
      "metadata": {
        "colab": {
          "base_uri": "https://localhost:8080/"
        },
        "id": "RWSJpsyKqHjH",
        "outputId": "1fc76492-fd9c-42d0-df09-81829de814ea"
      },
      "outputs": [
        {
          "output_type": "stream",
          "name": "stdout",
          "text": [
            "Drive already mounted at /content/drive; to attempt to forcibly remount, call drive.mount(\"/content/drive\", force_remount=True).\n"
          ]
        }
      ],
      "source": [
        "from google.colab import drive\n",
        "drive.mount('/content/drive')"
      ]
    },
    {
      "cell_type": "code",
      "source": [
        "# Import libraries\n",
        "import pandas as pd\n",
        "import numpy as np\n",
        "import matplotlib.pyplot as plt\n",
        "import seaborn as sns\n",
        "\n",
        "from datetime import datetime"
      ],
      "metadata": {
        "id": "GLJM7D799IT4"
      },
      "execution_count": null,
      "outputs": []
    },
    {
      "cell_type": "code",
      "source": [
        "hotel_resrv = pd.read_csv('/content/drive/My Drive/Colab Notebooks/Machine Learning/Data/Hotel Reservations.csv')\n"
      ],
      "metadata": {
        "id": "Y508kXgd0em_"
      },
      "execution_count": null,
      "outputs": []
    },
    {
      "cell_type": "markdown",
      "source": [
        "## Описание набора.\n",
        "[Набор](https://www.kaggle.com/datasets/ahsan81/hotel-reservations-classification-dataset) представляет собой информацию о бронировании отелей в онлайн режиме и предназначен для обучения модели-классификатора, которая будет прогнозировать заселится ли клиент или откажется от бронирования.\n",
        "Набор включает следующие переменные:\n",
        "\n",
        "* Booking_ID: unique identifier of each booking\n",
        "* no_of_adults: Number of adults\n",
        "* no_of_children: Number of Children\n",
        "* no_of_weekend_nights: Number of weekend nights (Saturday or Sunday) the guest stayed or booked to stay at the hotel\n",
        "* no_of_week_nights: Number of week nights (Monday to Friday) the guest stayed or booked to stay at the hotel\n",
        "* type_of_meal_plan: Type of meal plan booked by the customer:\n",
        "* required_car_parking_space: Does the customer require a car parking space? (0 - No, 1- Yes)\n",
        "* room_type_reserved: Type of room reserved by the customer. The values are ciphered (encoded) by INN Hotels.\n",
        "* lead_time: Number of days between the date of booking and the arrival date\n",
        "* arrival_year: Year of arrival date\n",
        "* arrival_month: Month of arrival date\n",
        "* arrival_date: Date of the month\n",
        "* market_segment_type: Market segment designation.\n",
        "* repeated_guest: Is the customer a repeated guest? (0 - No, 1- Yes)\n",
        "* no_of_previous_cancellations: Number of previous bookings that were canceled by the customer prior to the current booking\n",
        "* no_of_previous_bookings_not_canceled: Number of previous bookings not canceled by the customer prior to the current booking\n",
        "* avg_price_per_room: Average price per day of the reservation; prices of the rooms are dynamic. (in euros)\n",
        "* no_of_special_requests: Total number of special requests made by the customer (e.g. high floor, view from the room, etc)\n",
        "* booking_status: Flag indicating if the booking was canceled or not.\n",
        "Целевой переменной является booking_status.\n"
      ],
      "metadata": {
        "id": "CWbA2xroXkko"
      }
    },
    {
      "cell_type": "code",
      "source": [
        "hotel_resrv.info()"
      ],
      "metadata": {
        "colab": {
          "base_uri": "https://localhost:8080/"
        },
        "id": "hLP4jVqmS7D0",
        "outputId": "d22d1e19-5632-48f0-d11f-883aebf7897e"
      },
      "execution_count": null,
      "outputs": [
        {
          "output_type": "stream",
          "name": "stdout",
          "text": [
            "<class 'pandas.core.frame.DataFrame'>\n",
            "RangeIndex: 36275 entries, 0 to 36274\n",
            "Data columns (total 19 columns):\n",
            " #   Column                                Non-Null Count  Dtype  \n",
            "---  ------                                --------------  -----  \n",
            " 0   Booking_ID                            36275 non-null  object \n",
            " 1   no_of_adults                          36275 non-null  int64  \n",
            " 2   no_of_children                        36275 non-null  int64  \n",
            " 3   no_of_weekend_nights                  36275 non-null  int64  \n",
            " 4   no_of_week_nights                     36275 non-null  int64  \n",
            " 5   type_of_meal_plan                     36275 non-null  object \n",
            " 6   required_car_parking_space            36275 non-null  int64  \n",
            " 7   room_type_reserved                    36275 non-null  object \n",
            " 8   lead_time                             36275 non-null  int64  \n",
            " 9   arrival_year                          36275 non-null  int64  \n",
            " 10  arrival_month                         36275 non-null  int64  \n",
            " 11  arrival_date                          36275 non-null  int64  \n",
            " 12  market_segment_type                   36275 non-null  object \n",
            " 13  repeated_guest                        36275 non-null  int64  \n",
            " 14  no_of_previous_cancellations          36275 non-null  int64  \n",
            " 15  no_of_previous_bookings_not_canceled  36275 non-null  int64  \n",
            " 16  avg_price_per_room                    36275 non-null  float64\n",
            " 17  no_of_special_requests                36275 non-null  int64  \n",
            " 18  booking_status                        36275 non-null  object \n",
            "dtypes: float64(1), int64(13), object(5)\n",
            "memory usage: 5.3+ MB\n"
          ]
        }
      ]
    },
    {
      "cell_type": "markdown",
      "source": [
        "В наборе нет пропусков. Это не может не радовать. Посмотрим на примерное содержимое переменных."
      ],
      "metadata": {
        "id": "nbmfQaXlcXrA"
      }
    },
    {
      "cell_type": "code",
      "source": [
        "hotel_resrv.head()\n"
      ],
      "metadata": {
        "colab": {
          "base_uri": "https://localhost:8080/",
          "height": 270
        },
        "id": "tbk-tqbD1f_B",
        "outputId": "f37888cb-9268-4d45-84e8-edfe7515a0c5"
      },
      "execution_count": null,
      "outputs": [
        {
          "output_type": "execute_result",
          "data": {
            "text/plain": [
              "  Booking_ID  no_of_adults  no_of_children  no_of_weekend_nights  \\\n",
              "0   INN00001             2               0                     1   \n",
              "1   INN00002             2               0                     2   \n",
              "2   INN00003             1               0                     2   \n",
              "3   INN00004             2               0                     0   \n",
              "4   INN00005             2               0                     1   \n",
              "\n",
              "   no_of_week_nights type_of_meal_plan  required_car_parking_space  \\\n",
              "0                  2       Meal Plan 1                           0   \n",
              "1                  3      Not Selected                           0   \n",
              "2                  1       Meal Plan 1                           0   \n",
              "3                  2       Meal Plan 1                           0   \n",
              "4                  1      Not Selected                           0   \n",
              "\n",
              "  room_type_reserved  lead_time  arrival_year  arrival_month  arrival_date  \\\n",
              "0        Room_Type 1        224          2017             10             2   \n",
              "1        Room_Type 1          5          2018             11             6   \n",
              "2        Room_Type 1          1          2018              2            28   \n",
              "3        Room_Type 1        211          2018              5            20   \n",
              "4        Room_Type 1         48          2018              4            11   \n",
              "\n",
              "  market_segment_type  repeated_guest  no_of_previous_cancellations  \\\n",
              "0             Offline               0                             0   \n",
              "1              Online               0                             0   \n",
              "2              Online               0                             0   \n",
              "3              Online               0                             0   \n",
              "4              Online               0                             0   \n",
              "\n",
              "   no_of_previous_bookings_not_canceled  avg_price_per_room  \\\n",
              "0                                     0               65.00   \n",
              "1                                     0              106.68   \n",
              "2                                     0               60.00   \n",
              "3                                     0              100.00   \n",
              "4                                     0               94.50   \n",
              "\n",
              "   no_of_special_requests booking_status  \n",
              "0                       0   Not_Canceled  \n",
              "1                       1   Not_Canceled  \n",
              "2                       0       Canceled  \n",
              "3                       0       Canceled  \n",
              "4                       0       Canceled  "
            ],
            "text/html": [
              "\n",
              "  <div id=\"df-27591931-562c-423d-b61b-8a31a2395c1f\">\n",
              "    <div class=\"colab-df-container\">\n",
              "      <div>\n",
              "<style scoped>\n",
              "    .dataframe tbody tr th:only-of-type {\n",
              "        vertical-align: middle;\n",
              "    }\n",
              "\n",
              "    .dataframe tbody tr th {\n",
              "        vertical-align: top;\n",
              "    }\n",
              "\n",
              "    .dataframe thead th {\n",
              "        text-align: right;\n",
              "    }\n",
              "</style>\n",
              "<table border=\"1\" class=\"dataframe\">\n",
              "  <thead>\n",
              "    <tr style=\"text-align: right;\">\n",
              "      <th></th>\n",
              "      <th>Booking_ID</th>\n",
              "      <th>no_of_adults</th>\n",
              "      <th>no_of_children</th>\n",
              "      <th>no_of_weekend_nights</th>\n",
              "      <th>no_of_week_nights</th>\n",
              "      <th>type_of_meal_plan</th>\n",
              "      <th>required_car_parking_space</th>\n",
              "      <th>room_type_reserved</th>\n",
              "      <th>lead_time</th>\n",
              "      <th>arrival_year</th>\n",
              "      <th>arrival_month</th>\n",
              "      <th>arrival_date</th>\n",
              "      <th>market_segment_type</th>\n",
              "      <th>repeated_guest</th>\n",
              "      <th>no_of_previous_cancellations</th>\n",
              "      <th>no_of_previous_bookings_not_canceled</th>\n",
              "      <th>avg_price_per_room</th>\n",
              "      <th>no_of_special_requests</th>\n",
              "      <th>booking_status</th>\n",
              "    </tr>\n",
              "  </thead>\n",
              "  <tbody>\n",
              "    <tr>\n",
              "      <th>0</th>\n",
              "      <td>INN00001</td>\n",
              "      <td>2</td>\n",
              "      <td>0</td>\n",
              "      <td>1</td>\n",
              "      <td>2</td>\n",
              "      <td>Meal Plan 1</td>\n",
              "      <td>0</td>\n",
              "      <td>Room_Type 1</td>\n",
              "      <td>224</td>\n",
              "      <td>2017</td>\n",
              "      <td>10</td>\n",
              "      <td>2</td>\n",
              "      <td>Offline</td>\n",
              "      <td>0</td>\n",
              "      <td>0</td>\n",
              "      <td>0</td>\n",
              "      <td>65.00</td>\n",
              "      <td>0</td>\n",
              "      <td>Not_Canceled</td>\n",
              "    </tr>\n",
              "    <tr>\n",
              "      <th>1</th>\n",
              "      <td>INN00002</td>\n",
              "      <td>2</td>\n",
              "      <td>0</td>\n",
              "      <td>2</td>\n",
              "      <td>3</td>\n",
              "      <td>Not Selected</td>\n",
              "      <td>0</td>\n",
              "      <td>Room_Type 1</td>\n",
              "      <td>5</td>\n",
              "      <td>2018</td>\n",
              "      <td>11</td>\n",
              "      <td>6</td>\n",
              "      <td>Online</td>\n",
              "      <td>0</td>\n",
              "      <td>0</td>\n",
              "      <td>0</td>\n",
              "      <td>106.68</td>\n",
              "      <td>1</td>\n",
              "      <td>Not_Canceled</td>\n",
              "    </tr>\n",
              "    <tr>\n",
              "      <th>2</th>\n",
              "      <td>INN00003</td>\n",
              "      <td>1</td>\n",
              "      <td>0</td>\n",
              "      <td>2</td>\n",
              "      <td>1</td>\n",
              "      <td>Meal Plan 1</td>\n",
              "      <td>0</td>\n",
              "      <td>Room_Type 1</td>\n",
              "      <td>1</td>\n",
              "      <td>2018</td>\n",
              "      <td>2</td>\n",
              "      <td>28</td>\n",
              "      <td>Online</td>\n",
              "      <td>0</td>\n",
              "      <td>0</td>\n",
              "      <td>0</td>\n",
              "      <td>60.00</td>\n",
              "      <td>0</td>\n",
              "      <td>Canceled</td>\n",
              "    </tr>\n",
              "    <tr>\n",
              "      <th>3</th>\n",
              "      <td>INN00004</td>\n",
              "      <td>2</td>\n",
              "      <td>0</td>\n",
              "      <td>0</td>\n",
              "      <td>2</td>\n",
              "      <td>Meal Plan 1</td>\n",
              "      <td>0</td>\n",
              "      <td>Room_Type 1</td>\n",
              "      <td>211</td>\n",
              "      <td>2018</td>\n",
              "      <td>5</td>\n",
              "      <td>20</td>\n",
              "      <td>Online</td>\n",
              "      <td>0</td>\n",
              "      <td>0</td>\n",
              "      <td>0</td>\n",
              "      <td>100.00</td>\n",
              "      <td>0</td>\n",
              "      <td>Canceled</td>\n",
              "    </tr>\n",
              "    <tr>\n",
              "      <th>4</th>\n",
              "      <td>INN00005</td>\n",
              "      <td>2</td>\n",
              "      <td>0</td>\n",
              "      <td>1</td>\n",
              "      <td>1</td>\n",
              "      <td>Not Selected</td>\n",
              "      <td>0</td>\n",
              "      <td>Room_Type 1</td>\n",
              "      <td>48</td>\n",
              "      <td>2018</td>\n",
              "      <td>4</td>\n",
              "      <td>11</td>\n",
              "      <td>Online</td>\n",
              "      <td>0</td>\n",
              "      <td>0</td>\n",
              "      <td>0</td>\n",
              "      <td>94.50</td>\n",
              "      <td>0</td>\n",
              "      <td>Canceled</td>\n",
              "    </tr>\n",
              "  </tbody>\n",
              "</table>\n",
              "</div>\n",
              "      <button class=\"colab-df-convert\" onclick=\"convertToInteractive('df-27591931-562c-423d-b61b-8a31a2395c1f')\"\n",
              "              title=\"Convert this dataframe to an interactive table.\"\n",
              "              style=\"display:none;\">\n",
              "        \n",
              "  <svg xmlns=\"http://www.w3.org/2000/svg\" height=\"24px\"viewBox=\"0 0 24 24\"\n",
              "       width=\"24px\">\n",
              "    <path d=\"M0 0h24v24H0V0z\" fill=\"none\"/>\n",
              "    <path d=\"M18.56 5.44l.94 2.06.94-2.06 2.06-.94-2.06-.94-.94-2.06-.94 2.06-2.06.94zm-11 1L8.5 8.5l.94-2.06 2.06-.94-2.06-.94L8.5 2.5l-.94 2.06-2.06.94zm10 10l.94 2.06.94-2.06 2.06-.94-2.06-.94-.94-2.06-.94 2.06-2.06.94z\"/><path d=\"M17.41 7.96l-1.37-1.37c-.4-.4-.92-.59-1.43-.59-.52 0-1.04.2-1.43.59L10.3 9.45l-7.72 7.72c-.78.78-.78 2.05 0 2.83L4 21.41c.39.39.9.59 1.41.59.51 0 1.02-.2 1.41-.59l7.78-7.78 2.81-2.81c.8-.78.8-2.07 0-2.86zM5.41 20L4 18.59l7.72-7.72 1.47 1.35L5.41 20z\"/>\n",
              "  </svg>\n",
              "      </button>\n",
              "      \n",
              "  <style>\n",
              "    .colab-df-container {\n",
              "      display:flex;\n",
              "      flex-wrap:wrap;\n",
              "      gap: 12px;\n",
              "    }\n",
              "\n",
              "    .colab-df-convert {\n",
              "      background-color: #E8F0FE;\n",
              "      border: none;\n",
              "      border-radius: 50%;\n",
              "      cursor: pointer;\n",
              "      display: none;\n",
              "      fill: #1967D2;\n",
              "      height: 32px;\n",
              "      padding: 0 0 0 0;\n",
              "      width: 32px;\n",
              "    }\n",
              "\n",
              "    .colab-df-convert:hover {\n",
              "      background-color: #E2EBFA;\n",
              "      box-shadow: 0px 1px 2px rgba(60, 64, 67, 0.3), 0px 1px 3px 1px rgba(60, 64, 67, 0.15);\n",
              "      fill: #174EA6;\n",
              "    }\n",
              "\n",
              "    [theme=dark] .colab-df-convert {\n",
              "      background-color: #3B4455;\n",
              "      fill: #D2E3FC;\n",
              "    }\n",
              "\n",
              "    [theme=dark] .colab-df-convert:hover {\n",
              "      background-color: #434B5C;\n",
              "      box-shadow: 0px 1px 3px 1px rgba(0, 0, 0, 0.15);\n",
              "      filter: drop-shadow(0px 1px 2px rgba(0, 0, 0, 0.3));\n",
              "      fill: #FFFFFF;\n",
              "    }\n",
              "  </style>\n",
              "\n",
              "      <script>\n",
              "        const buttonEl =\n",
              "          document.querySelector('#df-27591931-562c-423d-b61b-8a31a2395c1f button.colab-df-convert');\n",
              "        buttonEl.style.display =\n",
              "          google.colab.kernel.accessAllowed ? 'block' : 'none';\n",
              "\n",
              "        async function convertToInteractive(key) {\n",
              "          const element = document.querySelector('#df-27591931-562c-423d-b61b-8a31a2395c1f');\n",
              "          const dataTable =\n",
              "            await google.colab.kernel.invokeFunction('convertToInteractive',\n",
              "                                                     [key], {});\n",
              "          if (!dataTable) return;\n",
              "\n",
              "          const docLinkHtml = 'Like what you see? Visit the ' +\n",
              "            '<a target=\"_blank\" href=https://colab.research.google.com/notebooks/data_table.ipynb>data table notebook</a>'\n",
              "            + ' to learn more about interactive tables.';\n",
              "          element.innerHTML = '';\n",
              "          dataTable['output_type'] = 'display_data';\n",
              "          await google.colab.output.renderOutput(dataTable, element);\n",
              "          const docLink = document.createElement('div');\n",
              "          docLink.innerHTML = docLinkHtml;\n",
              "          element.appendChild(docLink);\n",
              "        }\n",
              "      </script>\n",
              "    </div>\n",
              "  </div>\n",
              "  "
            ]
          },
          "metadata": {},
          "execution_count": 5
        }
      ]
    },
    {
      "cell_type": "code",
      "source": [
        "hotel_resrv.describe()"
      ],
      "metadata": {
        "colab": {
          "base_uri": "https://localhost:8080/",
          "height": 364
        },
        "id": "hQYqhsJO-LTU",
        "outputId": "dbe826cd-e412-4643-91f1-21ec2a6f55af"
      },
      "execution_count": null,
      "outputs": [
        {
          "output_type": "execute_result",
          "data": {
            "text/plain": [
              "       no_of_adults  no_of_children  no_of_weekend_nights  no_of_week_nights  \\\n",
              "count  36275.000000    36275.000000          36275.000000       36275.000000   \n",
              "mean       1.844962        0.105279              0.810724           2.204300   \n",
              "std        0.518715        0.402648              0.870644           1.410905   \n",
              "min        0.000000        0.000000              0.000000           0.000000   \n",
              "25%        2.000000        0.000000              0.000000           1.000000   \n",
              "50%        2.000000        0.000000              1.000000           2.000000   \n",
              "75%        2.000000        0.000000              2.000000           3.000000   \n",
              "max        4.000000       10.000000              7.000000          17.000000   \n",
              "\n",
              "       required_car_parking_space     lead_time  arrival_year  arrival_month  \\\n",
              "count                36275.000000  36275.000000  36275.000000   36275.000000   \n",
              "mean                     0.030986     85.232557   2017.820427       7.423653   \n",
              "std                      0.173281     85.930817      0.383836       3.069894   \n",
              "min                      0.000000      0.000000   2017.000000       1.000000   \n",
              "25%                      0.000000     17.000000   2018.000000       5.000000   \n",
              "50%                      0.000000     57.000000   2018.000000       8.000000   \n",
              "75%                      0.000000    126.000000   2018.000000      10.000000   \n",
              "max                      1.000000    443.000000   2018.000000      12.000000   \n",
              "\n",
              "       arrival_date  repeated_guest  no_of_previous_cancellations  \\\n",
              "count  36275.000000    36275.000000                  36275.000000   \n",
              "mean      15.596995        0.025637                      0.023349   \n",
              "std        8.740447        0.158053                      0.368331   \n",
              "min        1.000000        0.000000                      0.000000   \n",
              "25%        8.000000        0.000000                      0.000000   \n",
              "50%       16.000000        0.000000                      0.000000   \n",
              "75%       23.000000        0.000000                      0.000000   \n",
              "max       31.000000        1.000000                     13.000000   \n",
              "\n",
              "       no_of_previous_bookings_not_canceled  avg_price_per_room  \\\n",
              "count                          36275.000000        36275.000000   \n",
              "mean                               0.153411          103.423539   \n",
              "std                                1.754171           35.089424   \n",
              "min                                0.000000            0.000000   \n",
              "25%                                0.000000           80.300000   \n",
              "50%                                0.000000           99.450000   \n",
              "75%                                0.000000          120.000000   \n",
              "max                               58.000000          540.000000   \n",
              "\n",
              "       no_of_special_requests  \n",
              "count            36275.000000  \n",
              "mean                 0.619655  \n",
              "std                  0.786236  \n",
              "min                  0.000000  \n",
              "25%                  0.000000  \n",
              "50%                  0.000000  \n",
              "75%                  1.000000  \n",
              "max                  5.000000  "
            ],
            "text/html": [
              "\n",
              "  <div id=\"df-3e522006-6261-43b7-8ca8-da214ec6bdcb\">\n",
              "    <div class=\"colab-df-container\">\n",
              "      <div>\n",
              "<style scoped>\n",
              "    .dataframe tbody tr th:only-of-type {\n",
              "        vertical-align: middle;\n",
              "    }\n",
              "\n",
              "    .dataframe tbody tr th {\n",
              "        vertical-align: top;\n",
              "    }\n",
              "\n",
              "    .dataframe thead th {\n",
              "        text-align: right;\n",
              "    }\n",
              "</style>\n",
              "<table border=\"1\" class=\"dataframe\">\n",
              "  <thead>\n",
              "    <tr style=\"text-align: right;\">\n",
              "      <th></th>\n",
              "      <th>no_of_adults</th>\n",
              "      <th>no_of_children</th>\n",
              "      <th>no_of_weekend_nights</th>\n",
              "      <th>no_of_week_nights</th>\n",
              "      <th>required_car_parking_space</th>\n",
              "      <th>lead_time</th>\n",
              "      <th>arrival_year</th>\n",
              "      <th>arrival_month</th>\n",
              "      <th>arrival_date</th>\n",
              "      <th>repeated_guest</th>\n",
              "      <th>no_of_previous_cancellations</th>\n",
              "      <th>no_of_previous_bookings_not_canceled</th>\n",
              "      <th>avg_price_per_room</th>\n",
              "      <th>no_of_special_requests</th>\n",
              "    </tr>\n",
              "  </thead>\n",
              "  <tbody>\n",
              "    <tr>\n",
              "      <th>count</th>\n",
              "      <td>36275.000000</td>\n",
              "      <td>36275.000000</td>\n",
              "      <td>36275.000000</td>\n",
              "      <td>36275.000000</td>\n",
              "      <td>36275.000000</td>\n",
              "      <td>36275.000000</td>\n",
              "      <td>36275.000000</td>\n",
              "      <td>36275.000000</td>\n",
              "      <td>36275.000000</td>\n",
              "      <td>36275.000000</td>\n",
              "      <td>36275.000000</td>\n",
              "      <td>36275.000000</td>\n",
              "      <td>36275.000000</td>\n",
              "      <td>36275.000000</td>\n",
              "    </tr>\n",
              "    <tr>\n",
              "      <th>mean</th>\n",
              "      <td>1.844962</td>\n",
              "      <td>0.105279</td>\n",
              "      <td>0.810724</td>\n",
              "      <td>2.204300</td>\n",
              "      <td>0.030986</td>\n",
              "      <td>85.232557</td>\n",
              "      <td>2017.820427</td>\n",
              "      <td>7.423653</td>\n",
              "      <td>15.596995</td>\n",
              "      <td>0.025637</td>\n",
              "      <td>0.023349</td>\n",
              "      <td>0.153411</td>\n",
              "      <td>103.423539</td>\n",
              "      <td>0.619655</td>\n",
              "    </tr>\n",
              "    <tr>\n",
              "      <th>std</th>\n",
              "      <td>0.518715</td>\n",
              "      <td>0.402648</td>\n",
              "      <td>0.870644</td>\n",
              "      <td>1.410905</td>\n",
              "      <td>0.173281</td>\n",
              "      <td>85.930817</td>\n",
              "      <td>0.383836</td>\n",
              "      <td>3.069894</td>\n",
              "      <td>8.740447</td>\n",
              "      <td>0.158053</td>\n",
              "      <td>0.368331</td>\n",
              "      <td>1.754171</td>\n",
              "      <td>35.089424</td>\n",
              "      <td>0.786236</td>\n",
              "    </tr>\n",
              "    <tr>\n",
              "      <th>min</th>\n",
              "      <td>0.000000</td>\n",
              "      <td>0.000000</td>\n",
              "      <td>0.000000</td>\n",
              "      <td>0.000000</td>\n",
              "      <td>0.000000</td>\n",
              "      <td>0.000000</td>\n",
              "      <td>2017.000000</td>\n",
              "      <td>1.000000</td>\n",
              "      <td>1.000000</td>\n",
              "      <td>0.000000</td>\n",
              "      <td>0.000000</td>\n",
              "      <td>0.000000</td>\n",
              "      <td>0.000000</td>\n",
              "      <td>0.000000</td>\n",
              "    </tr>\n",
              "    <tr>\n",
              "      <th>25%</th>\n",
              "      <td>2.000000</td>\n",
              "      <td>0.000000</td>\n",
              "      <td>0.000000</td>\n",
              "      <td>1.000000</td>\n",
              "      <td>0.000000</td>\n",
              "      <td>17.000000</td>\n",
              "      <td>2018.000000</td>\n",
              "      <td>5.000000</td>\n",
              "      <td>8.000000</td>\n",
              "      <td>0.000000</td>\n",
              "      <td>0.000000</td>\n",
              "      <td>0.000000</td>\n",
              "      <td>80.300000</td>\n",
              "      <td>0.000000</td>\n",
              "    </tr>\n",
              "    <tr>\n",
              "      <th>50%</th>\n",
              "      <td>2.000000</td>\n",
              "      <td>0.000000</td>\n",
              "      <td>1.000000</td>\n",
              "      <td>2.000000</td>\n",
              "      <td>0.000000</td>\n",
              "      <td>57.000000</td>\n",
              "      <td>2018.000000</td>\n",
              "      <td>8.000000</td>\n",
              "      <td>16.000000</td>\n",
              "      <td>0.000000</td>\n",
              "      <td>0.000000</td>\n",
              "      <td>0.000000</td>\n",
              "      <td>99.450000</td>\n",
              "      <td>0.000000</td>\n",
              "    </tr>\n",
              "    <tr>\n",
              "      <th>75%</th>\n",
              "      <td>2.000000</td>\n",
              "      <td>0.000000</td>\n",
              "      <td>2.000000</td>\n",
              "      <td>3.000000</td>\n",
              "      <td>0.000000</td>\n",
              "      <td>126.000000</td>\n",
              "      <td>2018.000000</td>\n",
              "      <td>10.000000</td>\n",
              "      <td>23.000000</td>\n",
              "      <td>0.000000</td>\n",
              "      <td>0.000000</td>\n",
              "      <td>0.000000</td>\n",
              "      <td>120.000000</td>\n",
              "      <td>1.000000</td>\n",
              "    </tr>\n",
              "    <tr>\n",
              "      <th>max</th>\n",
              "      <td>4.000000</td>\n",
              "      <td>10.000000</td>\n",
              "      <td>7.000000</td>\n",
              "      <td>17.000000</td>\n",
              "      <td>1.000000</td>\n",
              "      <td>443.000000</td>\n",
              "      <td>2018.000000</td>\n",
              "      <td>12.000000</td>\n",
              "      <td>31.000000</td>\n",
              "      <td>1.000000</td>\n",
              "      <td>13.000000</td>\n",
              "      <td>58.000000</td>\n",
              "      <td>540.000000</td>\n",
              "      <td>5.000000</td>\n",
              "    </tr>\n",
              "  </tbody>\n",
              "</table>\n",
              "</div>\n",
              "      <button class=\"colab-df-convert\" onclick=\"convertToInteractive('df-3e522006-6261-43b7-8ca8-da214ec6bdcb')\"\n",
              "              title=\"Convert this dataframe to an interactive table.\"\n",
              "              style=\"display:none;\">\n",
              "        \n",
              "  <svg xmlns=\"http://www.w3.org/2000/svg\" height=\"24px\"viewBox=\"0 0 24 24\"\n",
              "       width=\"24px\">\n",
              "    <path d=\"M0 0h24v24H0V0z\" fill=\"none\"/>\n",
              "    <path d=\"M18.56 5.44l.94 2.06.94-2.06 2.06-.94-2.06-.94-.94-2.06-.94 2.06-2.06.94zm-11 1L8.5 8.5l.94-2.06 2.06-.94-2.06-.94L8.5 2.5l-.94 2.06-2.06.94zm10 10l.94 2.06.94-2.06 2.06-.94-2.06-.94-.94-2.06-.94 2.06-2.06.94z\"/><path d=\"M17.41 7.96l-1.37-1.37c-.4-.4-.92-.59-1.43-.59-.52 0-1.04.2-1.43.59L10.3 9.45l-7.72 7.72c-.78.78-.78 2.05 0 2.83L4 21.41c.39.39.9.59 1.41.59.51 0 1.02-.2 1.41-.59l7.78-7.78 2.81-2.81c.8-.78.8-2.07 0-2.86zM5.41 20L4 18.59l7.72-7.72 1.47 1.35L5.41 20z\"/>\n",
              "  </svg>\n",
              "      </button>\n",
              "      \n",
              "  <style>\n",
              "    .colab-df-container {\n",
              "      display:flex;\n",
              "      flex-wrap:wrap;\n",
              "      gap: 12px;\n",
              "    }\n",
              "\n",
              "    .colab-df-convert {\n",
              "      background-color: #E8F0FE;\n",
              "      border: none;\n",
              "      border-radius: 50%;\n",
              "      cursor: pointer;\n",
              "      display: none;\n",
              "      fill: #1967D2;\n",
              "      height: 32px;\n",
              "      padding: 0 0 0 0;\n",
              "      width: 32px;\n",
              "    }\n",
              "\n",
              "    .colab-df-convert:hover {\n",
              "      background-color: #E2EBFA;\n",
              "      box-shadow: 0px 1px 2px rgba(60, 64, 67, 0.3), 0px 1px 3px 1px rgba(60, 64, 67, 0.15);\n",
              "      fill: #174EA6;\n",
              "    }\n",
              "\n",
              "    [theme=dark] .colab-df-convert {\n",
              "      background-color: #3B4455;\n",
              "      fill: #D2E3FC;\n",
              "    }\n",
              "\n",
              "    [theme=dark] .colab-df-convert:hover {\n",
              "      background-color: #434B5C;\n",
              "      box-shadow: 0px 1px 3px 1px rgba(0, 0, 0, 0.15);\n",
              "      filter: drop-shadow(0px 1px 2px rgba(0, 0, 0, 0.3));\n",
              "      fill: #FFFFFF;\n",
              "    }\n",
              "  </style>\n",
              "\n",
              "      <script>\n",
              "        const buttonEl =\n",
              "          document.querySelector('#df-3e522006-6261-43b7-8ca8-da214ec6bdcb button.colab-df-convert');\n",
              "        buttonEl.style.display =\n",
              "          google.colab.kernel.accessAllowed ? 'block' : 'none';\n",
              "\n",
              "        async function convertToInteractive(key) {\n",
              "          const element = document.querySelector('#df-3e522006-6261-43b7-8ca8-da214ec6bdcb');\n",
              "          const dataTable =\n",
              "            await google.colab.kernel.invokeFunction('convertToInteractive',\n",
              "                                                     [key], {});\n",
              "          if (!dataTable) return;\n",
              "\n",
              "          const docLinkHtml = 'Like what you see? Visit the ' +\n",
              "            '<a target=\"_blank\" href=https://colab.research.google.com/notebooks/data_table.ipynb>data table notebook</a>'\n",
              "            + ' to learn more about interactive tables.';\n",
              "          element.innerHTML = '';\n",
              "          dataTable['output_type'] = 'display_data';\n",
              "          await google.colab.output.renderOutput(dataTable, element);\n",
              "          const docLink = document.createElement('div');\n",
              "          docLink.innerHTML = docLinkHtml;\n",
              "          element.appendChild(docLink);\n",
              "        }\n",
              "      </script>\n",
              "    </div>\n",
              "  </div>\n",
              "  "
            ]
          },
          "metadata": {},
          "execution_count": 6
        }
      ]
    },
    {
      "cell_type": "markdown",
      "source": [
        "##Краткий обзор. \n",
        "\n",
        "Все соображения по выбору переменных сохранились из предыдущего ноутбука, поэтому повторяющиеся тексты и иллюстрации можно удалить.\n"
      ],
      "metadata": {
        "id": "7kwXKghbDtZi"
      }
    },
    {
      "cell_type": "code",
      "source": [
        "# преобразуем целевую переменную\n",
        "booking_st  = {'Canceled': 0, 'Not_Canceled': 1}\n",
        "hotel_resrv['booking_status'] = hotel_resrv['booking_status'].map(booking_st)\n",
        "\n",
        "# удалим идентификаторы\n",
        "hotel_resrv.drop(['Booking_ID'], axis=1, inplace=True)"
      ],
      "metadata": {
        "id": "5biNVUj8MHyB"
      },
      "execution_count": null,
      "outputs": []
    },
    {
      "cell_type": "code",
      "source": [
        "#преобразуем переменную room_type_reserved\n",
        "room_type = hotel_resrv['room_type_reserved'].unique()\n",
        "temp_list = np.arange(len(room_type))\n",
        "\n",
        "room_tipe_dict = dict(zip(room_type, temp_list))\n",
        "hotel_resrv['room_type_reserved'] = hotel_resrv['room_type_reserved'].map(room_tipe_dict)\n"
      ],
      "metadata": {
        "id": "M-oS-jNWM6yQ"
      },
      "execution_count": null,
      "outputs": []
    },
    {
      "cell_type": "code",
      "source": [
        "segment_type = hotel_resrv['market_segment_type'].unique()\n",
        "temp_list = np.arange(len(segment_type))\n",
        "\n",
        "segment_tipe_dict = dict(zip(segment_type, temp_list))\n",
        "hotel_resrv['market_segment_type'] = hotel_resrv['market_segment_type'].map(segment_tipe_dict)"
      ],
      "metadata": {
        "id": "w6btj23COeeO"
      },
      "execution_count": null,
      "outputs": []
    },
    {
      "cell_type": "code",
      "source": [
        "meal_plan = hotel_resrv['type_of_meal_plan'].unique()\n",
        "temp_list = np.arange(len(meal_plan))\n",
        "\n",
        "meal_plan_dict = dict(zip(meal_plan, temp_list))\n",
        "hotel_resrv['type_of_meal_plan'] = hotel_resrv['type_of_meal_plan'].map(meal_plan_dict)"
      ],
      "metadata": {
        "id": "LBCexrj5Pwv-"
      },
      "execution_count": null,
      "outputs": []
    },
    {
      "cell_type": "code",
      "source": [
        "# удаляем исходные переменные с датами \"вразбивку\"\n",
        "hotel_resrv.drop([ 'arrival_year','arrival_month','arrival_date'], axis=1, inplace=True)\n"
      ],
      "metadata": {
        "id": "lSC1GZlsP4Jv"
      },
      "execution_count": null,
      "outputs": []
    },
    {
      "cell_type": "markdown",
      "source": [
        "##EDA\n",
        "Рассмотрим влияние значений no_of_previous_cancellations\tи no_of_previous_bookings_not_canceled на принятие решения о заселении."
      ],
      "metadata": {
        "id": "uU6eIBOnW9ja"
      }
    },
    {
      "cell_type": "code",
      "source": [
        "no_cancel = len(hotel_resrv[hotel_resrv['no_of_previous_bookings_not_canceled'] == 0 ])\n",
        "cancel = len(hotel_resrv[hotel_resrv['no_of_previous_cancellations'] == 0 ])\n",
        "total = len(hotel_resrv)\n",
        "print('No cancel = ' , (no_cancel / total)*100, '%   Cancel = ', (cancel/total)*100 ,'%')"
      ],
      "metadata": {
        "colab": {
          "base_uri": "https://localhost:8080/"
        },
        "id": "zGivGcUja-IN",
        "outputId": "ff85b6b1-8500-4cb9-b1f3-d7ac52c8e7dd"
      },
      "execution_count": null,
      "outputs": [
        {
          "output_type": "stream",
          "name": "stdout",
          "text": [
            "No cancel =  97.76154376292212 %   Cancel =  99.06822880771881 %\n"
          ]
        }
      ]
    },
    {
      "cell_type": "markdown",
      "source": [
        "Видно, что пользы от них исчезающе мало.\n",
        "Поэтому мы удалим эти столбцы из датасета."
      ],
      "metadata": {
        "id": "0YmrUFsvXcUs"
      }
    },
    {
      "cell_type": "code",
      "source": [
        "hotel_resrv.drop([ 'no_of_previous_bookings_not_canceled', 'no_of_previous_cancellations'], axis=1, inplace=True)"
      ],
      "metadata": {
        "id": "9_Al7NfCaHV8"
      },
      "execution_count": null,
      "outputs": []
    },
    {
      "cell_type": "markdown",
      "source": [
        "### Построим корреляционную матрицу.\n",
        "Интересно, хотя два самых коррелируемых значения - это число детей и число комнат. \n",
        "Подробно займемся анализом матрицы в ходе работы над третим заданием."
      ],
      "metadata": {
        "id": "t1wxu2a0W7rj"
      }
    },
    {
      "cell_type": "code",
      "source": [
        "import plotly.figure_factory as ff\n",
        "corrs = hotel_resrv.corr()\n",
        "figure = ff.create_annotated_heatmap(\n",
        "    z=corrs.values,\n",
        "    x=list(corrs.columns),\n",
        "    y=list(corrs.index),\n",
        "    annotation_text=corrs.round(2).values,\n",
        "    showscale=True)\n",
        "figure.show()"
      ],
      "metadata": {
        "colab": {
          "base_uri": "https://localhost:8080/",
          "height": 542
        },
        "id": "pGoTpAlk_9KG",
        "outputId": "8e51f9bd-3047-47ae-8bfe-6d29a65a0954"
      },
      "execution_count": null,
      "outputs": [
        {
          "output_type": "display_data",
          "data": {
            "text/html": [
              "<html>\n",
              "<head><meta charset=\"utf-8\" /></head>\n",
              "<body>\n",
              "    <div>            <script src=\"https://cdnjs.cloudflare.com/ajax/libs/mathjax/2.7.5/MathJax.js?config=TeX-AMS-MML_SVG\"></script><script type=\"text/javascript\">if (window.MathJax) {MathJax.Hub.Config({SVG: {font: \"STIX-Web\"}});}</script>                <script type=\"text/javascript\">window.PlotlyConfig = {MathJaxConfig: 'local'};</script>\n",
              "        <script src=\"https://cdn.plot.ly/plotly-2.8.3.min.js\"></script>                <div id=\"dea33f8d-9265-4f0e-ade0-4c07f1f3ae92\" class=\"plotly-graph-div\" style=\"height:525px; width:100%;\"></div>            <script type=\"text/javascript\">                                    window.PLOTLYENV=window.PLOTLYENV || {};                                    if (document.getElementById(\"dea33f8d-9265-4f0e-ade0-4c07f1f3ae92\")) {                    Plotly.newPlot(                        \"dea33f8d-9265-4f0e-ade0-4c07f1f3ae92\",                        [{\"colorscale\":[[0.0,\"#0d0887\"],[0.1111111111111111,\"#46039f\"],[0.2222222222222222,\"#7201a8\"],[0.3333333333333333,\"#9c179e\"],[0.4444444444444444,\"#bd3786\"],[0.5555555555555556,\"#d8576b\"],[0.6666666666666666,\"#ed7953\"],[0.7777777777777778,\"#fb9f3a\"],[0.8888888888888888,\"#fdca26\"],[1.0,\"#f0f921\"]],\"reversescale\":false,\"showscale\":true,\"x\":[\"no_of_adults\",\"no_of_children\",\"no_of_weekend_nights\",\"no_of_week_nights\",\"type_of_meal_plan\",\"required_car_parking_space\",\"room_type_reserved\",\"lead_time\",\"market_segment_type\",\"repeated_guest\",\"avg_price_per_room\",\"no_of_special_requests\",\"booking_status\"],\"y\":[\"no_of_adults\",\"no_of_children\",\"no_of_weekend_nights\",\"no_of_week_nights\",\"type_of_meal_plan\",\"required_car_parking_space\",\"room_type_reserved\",\"lead_time\",\"market_segment_type\",\"repeated_guest\",\"avg_price_per_room\",\"no_of_special_requests\",\"booking_status\"],\"z\":[[1.0,-0.019787073557932206,0.1033157752239147,0.1056219010031367,0.02769757844095262,0.011428744691347949,0.1620843031835941,0.09728651035955203,-0.0955426287576433,-0.1922769393185674,0.2968857360658242,0.18940095137214752,-0.08692029966008091],[-0.019787073557932206,1.0,0.029477584183502416,0.02439810760715853,-0.06754267865901009,0.03424352677035853,0.47830595519203634,-0.047091281830772616,0.07315936322613563,-0.036348496307027925,0.33772791390585877,0.12448618582025484,-0.03307782091225063],[0.1033157752239147,0.029477584183502416,1.0,0.1795767636929502,-0.05148487617091773,-0.031110664423542246,0.04064822499244949,0.046595440408726485,-0.01980413527482007,-0.06710731795045835,-0.004524589798038839,0.06059252568534455,-0.06156253999569153],[0.1056219010031367,0.02439810760715853,0.1795767636929502,1.0,-0.07788253532755413,-0.04878391481124707,0.06298779668952194,0.14965015627990372,-0.06530129215972104,-0.09976449972811655,0.022752686684301658,0.04599365259705466,-0.0929960086828823],[0.02769757844095262,-0.06754267865901009,-0.05148487617091773,-0.07788253532755413,1.0,-0.03066777306039686,-0.14442248025851392,0.14007745410028535,-0.16553825579334003,-0.06886740228283943,0.042036863106184555,-0.05806233795992157,-0.07990279127765984],[0.011428744691347949,0.03424352677035853,-0.031110664423542246,-0.04878391481124707,-0.03066777306039686,1.0,0.03978254901804725,-0.06644450523902376,0.11672951411258395,0.11090889048181744,0.06130428106815683,0.0879221329735089,0.08618527694671392],[0.1620843031835941,0.47830595519203634,0.04064822499244949,0.06298779668952194,-0.14442248025851392,0.03978254901804725,1.0,-0.08737553662870189,0.16636618393885041,-0.006647901236923563,0.40542282008619296,0.11437838209166716,-0.016327392855211387],[0.09728651035955203,-0.047091281830772616,0.046595440408726485,0.14965015627990372,0.14007745410028535,-0.06644450523902376,-0.08737553662870189,1.0,-0.3124326718674584,-0.13598446275819914,-0.06259646546936144,-0.10164497363430508,-0.4385379185883124],[-0.0955426287576433,0.07315936322613563,-0.01980413527482007,-0.06530129215972104,-0.16553825579334003,0.11672951411258395,0.16636618393885041,-0.3124326718674584,1.0,0.29760111508028964,-0.04317432885825333,0.20283589154098108,0.048732659253617576],[-0.1922769393185674,-0.036348496307027925,-0.06710731795045835,-0.09976449972811655,-0.06886740228283943,0.11090889048181744,-0.006647901236923563,-0.13598446275819914,0.29760111508028964,1.0,-0.17489997634056564,-0.011819743333448202,0.1072866362305001],[0.2968857360658242,0.33772791390585877,-0.004524589798038839,0.022752686684301658,0.042036863106184555,0.06130428106815683,0.40542282008619296,-0.06259646546936144,-0.04317432885825333,-0.17489997634056564,1.0,0.18438095530813695,-0.1425693392926889],[0.18940095137214752,0.12448618582025484,0.06059252568534455,0.04599365259705466,-0.05806233795992157,0.0879221329735089,0.11437838209166716,-0.10164497363430508,0.20283589154098108,-0.011819743333448202,0.18438095530813695,1.0,0.25306980542123597],[-0.08692029966008091,-0.03307782091225063,-0.06156253999569153,-0.0929960086828823,-0.07990279127765984,0.08618527694671392,-0.016327392855211387,-0.4385379185883124,0.048732659253617576,0.1072866362305001,-0.1425693392926889,0.25306980542123597,1.0]],\"type\":\"heatmap\"}],                        {\"annotations\":[{\"font\":{\"color\":\"#000000\"},\"showarrow\":false,\"text\":\"1.0\",\"x\":\"no_of_adults\",\"xref\":\"x\",\"y\":\"no_of_adults\",\"yref\":\"y\"},{\"font\":{\"color\":\"#FFFFFF\"},\"showarrow\":false,\"text\":\"-0.02\",\"x\":\"no_of_children\",\"xref\":\"x\",\"y\":\"no_of_adults\",\"yref\":\"y\"},{\"font\":{\"color\":\"#FFFFFF\"},\"showarrow\":false,\"text\":\"0.1\",\"x\":\"no_of_weekend_nights\",\"xref\":\"x\",\"y\":\"no_of_adults\",\"yref\":\"y\"},{\"font\":{\"color\":\"#FFFFFF\"},\"showarrow\":false,\"text\":\"0.11\",\"x\":\"no_of_week_nights\",\"xref\":\"x\",\"y\":\"no_of_adults\",\"yref\":\"y\"},{\"font\":{\"color\":\"#FFFFFF\"},\"showarrow\":false,\"text\":\"0.03\",\"x\":\"type_of_meal_plan\",\"xref\":\"x\",\"y\":\"no_of_adults\",\"yref\":\"y\"},{\"font\":{\"color\":\"#FFFFFF\"},\"showarrow\":false,\"text\":\"0.01\",\"x\":\"required_car_parking_space\",\"xref\":\"x\",\"y\":\"no_of_adults\",\"yref\":\"y\"},{\"font\":{\"color\":\"#FFFFFF\"},\"showarrow\":false,\"text\":\"0.16\",\"x\":\"room_type_reserved\",\"xref\":\"x\",\"y\":\"no_of_adults\",\"yref\":\"y\"},{\"font\":{\"color\":\"#FFFFFF\"},\"showarrow\":false,\"text\":\"0.1\",\"x\":\"lead_time\",\"xref\":\"x\",\"y\":\"no_of_adults\",\"yref\":\"y\"},{\"font\":{\"color\":\"#FFFFFF\"},\"showarrow\":false,\"text\":\"-0.1\",\"x\":\"market_segment_type\",\"xref\":\"x\",\"y\":\"no_of_adults\",\"yref\":\"y\"},{\"font\":{\"color\":\"#FFFFFF\"},\"showarrow\":false,\"text\":\"-0.19\",\"x\":\"repeated_guest\",\"xref\":\"x\",\"y\":\"no_of_adults\",\"yref\":\"y\"},{\"font\":{\"color\":\"#000000\"},\"showarrow\":false,\"text\":\"0.3\",\"x\":\"avg_price_per_room\",\"xref\":\"x\",\"y\":\"no_of_adults\",\"yref\":\"y\"},{\"font\":{\"color\":\"#FFFFFF\"},\"showarrow\":false,\"text\":\"0.19\",\"x\":\"no_of_special_requests\",\"xref\":\"x\",\"y\":\"no_of_adults\",\"yref\":\"y\"},{\"font\":{\"color\":\"#FFFFFF\"},\"showarrow\":false,\"text\":\"-0.09\",\"x\":\"booking_status\",\"xref\":\"x\",\"y\":\"no_of_adults\",\"yref\":\"y\"},{\"font\":{\"color\":\"#FFFFFF\"},\"showarrow\":false,\"text\":\"-0.02\",\"x\":\"no_of_adults\",\"xref\":\"x\",\"y\":\"no_of_children\",\"yref\":\"y\"},{\"font\":{\"color\":\"#000000\"},\"showarrow\":false,\"text\":\"1.0\",\"x\":\"no_of_children\",\"xref\":\"x\",\"y\":\"no_of_children\",\"yref\":\"y\"},{\"font\":{\"color\":\"#FFFFFF\"},\"showarrow\":false,\"text\":\"0.03\",\"x\":\"no_of_weekend_nights\",\"xref\":\"x\",\"y\":\"no_of_children\",\"yref\":\"y\"},{\"font\":{\"color\":\"#FFFFFF\"},\"showarrow\":false,\"text\":\"0.02\",\"x\":\"no_of_week_nights\",\"xref\":\"x\",\"y\":\"no_of_children\",\"yref\":\"y\"},{\"font\":{\"color\":\"#FFFFFF\"},\"showarrow\":false,\"text\":\"-0.07\",\"x\":\"type_of_meal_plan\",\"xref\":\"x\",\"y\":\"no_of_children\",\"yref\":\"y\"},{\"font\":{\"color\":\"#FFFFFF\"},\"showarrow\":false,\"text\":\"0.03\",\"x\":\"required_car_parking_space\",\"xref\":\"x\",\"y\":\"no_of_children\",\"yref\":\"y\"},{\"font\":{\"color\":\"#000000\"},\"showarrow\":false,\"text\":\"0.48\",\"x\":\"room_type_reserved\",\"xref\":\"x\",\"y\":\"no_of_children\",\"yref\":\"y\"},{\"font\":{\"color\":\"#FFFFFF\"},\"showarrow\":false,\"text\":\"-0.05\",\"x\":\"lead_time\",\"xref\":\"x\",\"y\":\"no_of_children\",\"yref\":\"y\"},{\"font\":{\"color\":\"#FFFFFF\"},\"showarrow\":false,\"text\":\"0.07\",\"x\":\"market_segment_type\",\"xref\":\"x\",\"y\":\"no_of_children\",\"yref\":\"y\"},{\"font\":{\"color\":\"#FFFFFF\"},\"showarrow\":false,\"text\":\"-0.04\",\"x\":\"repeated_guest\",\"xref\":\"x\",\"y\":\"no_of_children\",\"yref\":\"y\"},{\"font\":{\"color\":\"#000000\"},\"showarrow\":false,\"text\":\"0.34\",\"x\":\"avg_price_per_room\",\"xref\":\"x\",\"y\":\"no_of_children\",\"yref\":\"y\"},{\"font\":{\"color\":\"#FFFFFF\"},\"showarrow\":false,\"text\":\"0.12\",\"x\":\"no_of_special_requests\",\"xref\":\"x\",\"y\":\"no_of_children\",\"yref\":\"y\"},{\"font\":{\"color\":\"#FFFFFF\"},\"showarrow\":false,\"text\":\"-0.03\",\"x\":\"booking_status\",\"xref\":\"x\",\"y\":\"no_of_children\",\"yref\":\"y\"},{\"font\":{\"color\":\"#FFFFFF\"},\"showarrow\":false,\"text\":\"0.1\",\"x\":\"no_of_adults\",\"xref\":\"x\",\"y\":\"no_of_weekend_nights\",\"yref\":\"y\"},{\"font\":{\"color\":\"#FFFFFF\"},\"showarrow\":false,\"text\":\"0.03\",\"x\":\"no_of_children\",\"xref\":\"x\",\"y\":\"no_of_weekend_nights\",\"yref\":\"y\"},{\"font\":{\"color\":\"#000000\"},\"showarrow\":false,\"text\":\"1.0\",\"x\":\"no_of_weekend_nights\",\"xref\":\"x\",\"y\":\"no_of_weekend_nights\",\"yref\":\"y\"},{\"font\":{\"color\":\"#FFFFFF\"},\"showarrow\":false,\"text\":\"0.18\",\"x\":\"no_of_week_nights\",\"xref\":\"x\",\"y\":\"no_of_weekend_nights\",\"yref\":\"y\"},{\"font\":{\"color\":\"#FFFFFF\"},\"showarrow\":false,\"text\":\"-0.05\",\"x\":\"type_of_meal_plan\",\"xref\":\"x\",\"y\":\"no_of_weekend_nights\",\"yref\":\"y\"},{\"font\":{\"color\":\"#FFFFFF\"},\"showarrow\":false,\"text\":\"-0.03\",\"x\":\"required_car_parking_space\",\"xref\":\"x\",\"y\":\"no_of_weekend_nights\",\"yref\":\"y\"},{\"font\":{\"color\":\"#FFFFFF\"},\"showarrow\":false,\"text\":\"0.04\",\"x\":\"room_type_reserved\",\"xref\":\"x\",\"y\":\"no_of_weekend_nights\",\"yref\":\"y\"},{\"font\":{\"color\":\"#FFFFFF\"},\"showarrow\":false,\"text\":\"0.05\",\"x\":\"lead_time\",\"xref\":\"x\",\"y\":\"no_of_weekend_nights\",\"yref\":\"y\"},{\"font\":{\"color\":\"#FFFFFF\"},\"showarrow\":false,\"text\":\"-0.02\",\"x\":\"market_segment_type\",\"xref\":\"x\",\"y\":\"no_of_weekend_nights\",\"yref\":\"y\"},{\"font\":{\"color\":\"#FFFFFF\"},\"showarrow\":false,\"text\":\"-0.07\",\"x\":\"repeated_guest\",\"xref\":\"x\",\"y\":\"no_of_weekend_nights\",\"yref\":\"y\"},{\"font\":{\"color\":\"#FFFFFF\"},\"showarrow\":false,\"text\":\"-0.0\",\"x\":\"avg_price_per_room\",\"xref\":\"x\",\"y\":\"no_of_weekend_nights\",\"yref\":\"y\"},{\"font\":{\"color\":\"#FFFFFF\"},\"showarrow\":false,\"text\":\"0.06\",\"x\":\"no_of_special_requests\",\"xref\":\"x\",\"y\":\"no_of_weekend_nights\",\"yref\":\"y\"},{\"font\":{\"color\":\"#FFFFFF\"},\"showarrow\":false,\"text\":\"-0.06\",\"x\":\"booking_status\",\"xref\":\"x\",\"y\":\"no_of_weekend_nights\",\"yref\":\"y\"},{\"font\":{\"color\":\"#FFFFFF\"},\"showarrow\":false,\"text\":\"0.11\",\"x\":\"no_of_adults\",\"xref\":\"x\",\"y\":\"no_of_week_nights\",\"yref\":\"y\"},{\"font\":{\"color\":\"#FFFFFF\"},\"showarrow\":false,\"text\":\"0.02\",\"x\":\"no_of_children\",\"xref\":\"x\",\"y\":\"no_of_week_nights\",\"yref\":\"y\"},{\"font\":{\"color\":\"#FFFFFF\"},\"showarrow\":false,\"text\":\"0.18\",\"x\":\"no_of_weekend_nights\",\"xref\":\"x\",\"y\":\"no_of_week_nights\",\"yref\":\"y\"},{\"font\":{\"color\":\"#000000\"},\"showarrow\":false,\"text\":\"1.0\",\"x\":\"no_of_week_nights\",\"xref\":\"x\",\"y\":\"no_of_week_nights\",\"yref\":\"y\"},{\"font\":{\"color\":\"#FFFFFF\"},\"showarrow\":false,\"text\":\"-0.08\",\"x\":\"type_of_meal_plan\",\"xref\":\"x\",\"y\":\"no_of_week_nights\",\"yref\":\"y\"},{\"font\":{\"color\":\"#FFFFFF\"},\"showarrow\":false,\"text\":\"-0.05\",\"x\":\"required_car_parking_space\",\"xref\":\"x\",\"y\":\"no_of_week_nights\",\"yref\":\"y\"},{\"font\":{\"color\":\"#FFFFFF\"},\"showarrow\":false,\"text\":\"0.06\",\"x\":\"room_type_reserved\",\"xref\":\"x\",\"y\":\"no_of_week_nights\",\"yref\":\"y\"},{\"font\":{\"color\":\"#FFFFFF\"},\"showarrow\":false,\"text\":\"0.15\",\"x\":\"lead_time\",\"xref\":\"x\",\"y\":\"no_of_week_nights\",\"yref\":\"y\"},{\"font\":{\"color\":\"#FFFFFF\"},\"showarrow\":false,\"text\":\"-0.07\",\"x\":\"market_segment_type\",\"xref\":\"x\",\"y\":\"no_of_week_nights\",\"yref\":\"y\"},{\"font\":{\"color\":\"#FFFFFF\"},\"showarrow\":false,\"text\":\"-0.1\",\"x\":\"repeated_guest\",\"xref\":\"x\",\"y\":\"no_of_week_nights\",\"yref\":\"y\"},{\"font\":{\"color\":\"#FFFFFF\"},\"showarrow\":false,\"text\":\"0.02\",\"x\":\"avg_price_per_room\",\"xref\":\"x\",\"y\":\"no_of_week_nights\",\"yref\":\"y\"},{\"font\":{\"color\":\"#FFFFFF\"},\"showarrow\":false,\"text\":\"0.05\",\"x\":\"no_of_special_requests\",\"xref\":\"x\",\"y\":\"no_of_week_nights\",\"yref\":\"y\"},{\"font\":{\"color\":\"#FFFFFF\"},\"showarrow\":false,\"text\":\"-0.09\",\"x\":\"booking_status\",\"xref\":\"x\",\"y\":\"no_of_week_nights\",\"yref\":\"y\"},{\"font\":{\"color\":\"#FFFFFF\"},\"showarrow\":false,\"text\":\"0.03\",\"x\":\"no_of_adults\",\"xref\":\"x\",\"y\":\"type_of_meal_plan\",\"yref\":\"y\"},{\"font\":{\"color\":\"#FFFFFF\"},\"showarrow\":false,\"text\":\"-0.07\",\"x\":\"no_of_children\",\"xref\":\"x\",\"y\":\"type_of_meal_plan\",\"yref\":\"y\"},{\"font\":{\"color\":\"#FFFFFF\"},\"showarrow\":false,\"text\":\"-0.05\",\"x\":\"no_of_weekend_nights\",\"xref\":\"x\",\"y\":\"type_of_meal_plan\",\"yref\":\"y\"},{\"font\":{\"color\":\"#FFFFFF\"},\"showarrow\":false,\"text\":\"-0.08\",\"x\":\"no_of_week_nights\",\"xref\":\"x\",\"y\":\"type_of_meal_plan\",\"yref\":\"y\"},{\"font\":{\"color\":\"#000000\"},\"showarrow\":false,\"text\":\"1.0\",\"x\":\"type_of_meal_plan\",\"xref\":\"x\",\"y\":\"type_of_meal_plan\",\"yref\":\"y\"},{\"font\":{\"color\":\"#FFFFFF\"},\"showarrow\":false,\"text\":\"-0.03\",\"x\":\"required_car_parking_space\",\"xref\":\"x\",\"y\":\"type_of_meal_plan\",\"yref\":\"y\"},{\"font\":{\"color\":\"#FFFFFF\"},\"showarrow\":false,\"text\":\"-0.14\",\"x\":\"room_type_reserved\",\"xref\":\"x\",\"y\":\"type_of_meal_plan\",\"yref\":\"y\"},{\"font\":{\"color\":\"#FFFFFF\"},\"showarrow\":false,\"text\":\"0.14\",\"x\":\"lead_time\",\"xref\":\"x\",\"y\":\"type_of_meal_plan\",\"yref\":\"y\"},{\"font\":{\"color\":\"#FFFFFF\"},\"showarrow\":false,\"text\":\"-0.17\",\"x\":\"market_segment_type\",\"xref\":\"x\",\"y\":\"type_of_meal_plan\",\"yref\":\"y\"},{\"font\":{\"color\":\"#FFFFFF\"},\"showarrow\":false,\"text\":\"-0.07\",\"x\":\"repeated_guest\",\"xref\":\"x\",\"y\":\"type_of_meal_plan\",\"yref\":\"y\"},{\"font\":{\"color\":\"#FFFFFF\"},\"showarrow\":false,\"text\":\"0.04\",\"x\":\"avg_price_per_room\",\"xref\":\"x\",\"y\":\"type_of_meal_plan\",\"yref\":\"y\"},{\"font\":{\"color\":\"#FFFFFF\"},\"showarrow\":false,\"text\":\"-0.06\",\"x\":\"no_of_special_requests\",\"xref\":\"x\",\"y\":\"type_of_meal_plan\",\"yref\":\"y\"},{\"font\":{\"color\":\"#FFFFFF\"},\"showarrow\":false,\"text\":\"-0.08\",\"x\":\"booking_status\",\"xref\":\"x\",\"y\":\"type_of_meal_plan\",\"yref\":\"y\"},{\"font\":{\"color\":\"#FFFFFF\"},\"showarrow\":false,\"text\":\"0.01\",\"x\":\"no_of_adults\",\"xref\":\"x\",\"y\":\"required_car_parking_space\",\"yref\":\"y\"},{\"font\":{\"color\":\"#FFFFFF\"},\"showarrow\":false,\"text\":\"0.03\",\"x\":\"no_of_children\",\"xref\":\"x\",\"y\":\"required_car_parking_space\",\"yref\":\"y\"},{\"font\":{\"color\":\"#FFFFFF\"},\"showarrow\":false,\"text\":\"-0.03\",\"x\":\"no_of_weekend_nights\",\"xref\":\"x\",\"y\":\"required_car_parking_space\",\"yref\":\"y\"},{\"font\":{\"color\":\"#FFFFFF\"},\"showarrow\":false,\"text\":\"-0.05\",\"x\":\"no_of_week_nights\",\"xref\":\"x\",\"y\":\"required_car_parking_space\",\"yref\":\"y\"},{\"font\":{\"color\":\"#FFFFFF\"},\"showarrow\":false,\"text\":\"-0.03\",\"x\":\"type_of_meal_plan\",\"xref\":\"x\",\"y\":\"required_car_parking_space\",\"yref\":\"y\"},{\"font\":{\"color\":\"#000000\"},\"showarrow\":false,\"text\":\"1.0\",\"x\":\"required_car_parking_space\",\"xref\":\"x\",\"y\":\"required_car_parking_space\",\"yref\":\"y\"},{\"font\":{\"color\":\"#FFFFFF\"},\"showarrow\":false,\"text\":\"0.04\",\"x\":\"room_type_reserved\",\"xref\":\"x\",\"y\":\"required_car_parking_space\",\"yref\":\"y\"},{\"font\":{\"color\":\"#FFFFFF\"},\"showarrow\":false,\"text\":\"-0.07\",\"x\":\"lead_time\",\"xref\":\"x\",\"y\":\"required_car_parking_space\",\"yref\":\"y\"},{\"font\":{\"color\":\"#FFFFFF\"},\"showarrow\":false,\"text\":\"0.12\",\"x\":\"market_segment_type\",\"xref\":\"x\",\"y\":\"required_car_parking_space\",\"yref\":\"y\"},{\"font\":{\"color\":\"#FFFFFF\"},\"showarrow\":false,\"text\":\"0.11\",\"x\":\"repeated_guest\",\"xref\":\"x\",\"y\":\"required_car_parking_space\",\"yref\":\"y\"},{\"font\":{\"color\":\"#FFFFFF\"},\"showarrow\":false,\"text\":\"0.06\",\"x\":\"avg_price_per_room\",\"xref\":\"x\",\"y\":\"required_car_parking_space\",\"yref\":\"y\"},{\"font\":{\"color\":\"#FFFFFF\"},\"showarrow\":false,\"text\":\"0.09\",\"x\":\"no_of_special_requests\",\"xref\":\"x\",\"y\":\"required_car_parking_space\",\"yref\":\"y\"},{\"font\":{\"color\":\"#FFFFFF\"},\"showarrow\":false,\"text\":\"0.09\",\"x\":\"booking_status\",\"xref\":\"x\",\"y\":\"required_car_parking_space\",\"yref\":\"y\"},{\"font\":{\"color\":\"#FFFFFF\"},\"showarrow\":false,\"text\":\"0.16\",\"x\":\"no_of_adults\",\"xref\":\"x\",\"y\":\"room_type_reserved\",\"yref\":\"y\"},{\"font\":{\"color\":\"#000000\"},\"showarrow\":false,\"text\":\"0.48\",\"x\":\"no_of_children\",\"xref\":\"x\",\"y\":\"room_type_reserved\",\"yref\":\"y\"},{\"font\":{\"color\":\"#FFFFFF\"},\"showarrow\":false,\"text\":\"0.04\",\"x\":\"no_of_weekend_nights\",\"xref\":\"x\",\"y\":\"room_type_reserved\",\"yref\":\"y\"},{\"font\":{\"color\":\"#FFFFFF\"},\"showarrow\":false,\"text\":\"0.06\",\"x\":\"no_of_week_nights\",\"xref\":\"x\",\"y\":\"room_type_reserved\",\"yref\":\"y\"},{\"font\":{\"color\":\"#FFFFFF\"},\"showarrow\":false,\"text\":\"-0.14\",\"x\":\"type_of_meal_plan\",\"xref\":\"x\",\"y\":\"room_type_reserved\",\"yref\":\"y\"},{\"font\":{\"color\":\"#FFFFFF\"},\"showarrow\":false,\"text\":\"0.04\",\"x\":\"required_car_parking_space\",\"xref\":\"x\",\"y\":\"room_type_reserved\",\"yref\":\"y\"},{\"font\":{\"color\":\"#000000\"},\"showarrow\":false,\"text\":\"1.0\",\"x\":\"room_type_reserved\",\"xref\":\"x\",\"y\":\"room_type_reserved\",\"yref\":\"y\"},{\"font\":{\"color\":\"#FFFFFF\"},\"showarrow\":false,\"text\":\"-0.09\",\"x\":\"lead_time\",\"xref\":\"x\",\"y\":\"room_type_reserved\",\"yref\":\"y\"},{\"font\":{\"color\":\"#FFFFFF\"},\"showarrow\":false,\"text\":\"0.17\",\"x\":\"market_segment_type\",\"xref\":\"x\",\"y\":\"room_type_reserved\",\"yref\":\"y\"},{\"font\":{\"color\":\"#FFFFFF\"},\"showarrow\":false,\"text\":\"-0.01\",\"x\":\"repeated_guest\",\"xref\":\"x\",\"y\":\"room_type_reserved\",\"yref\":\"y\"},{\"font\":{\"color\":\"#000000\"},\"showarrow\":false,\"text\":\"0.41\",\"x\":\"avg_price_per_room\",\"xref\":\"x\",\"y\":\"room_type_reserved\",\"yref\":\"y\"},{\"font\":{\"color\":\"#FFFFFF\"},\"showarrow\":false,\"text\":\"0.11\",\"x\":\"no_of_special_requests\",\"xref\":\"x\",\"y\":\"room_type_reserved\",\"yref\":\"y\"},{\"font\":{\"color\":\"#FFFFFF\"},\"showarrow\":false,\"text\":\"-0.02\",\"x\":\"booking_status\",\"xref\":\"x\",\"y\":\"room_type_reserved\",\"yref\":\"y\"},{\"font\":{\"color\":\"#FFFFFF\"},\"showarrow\":false,\"text\":\"0.1\",\"x\":\"no_of_adults\",\"xref\":\"x\",\"y\":\"lead_time\",\"yref\":\"y\"},{\"font\":{\"color\":\"#FFFFFF\"},\"showarrow\":false,\"text\":\"-0.05\",\"x\":\"no_of_children\",\"xref\":\"x\",\"y\":\"lead_time\",\"yref\":\"y\"},{\"font\":{\"color\":\"#FFFFFF\"},\"showarrow\":false,\"text\":\"0.05\",\"x\":\"no_of_weekend_nights\",\"xref\":\"x\",\"y\":\"lead_time\",\"yref\":\"y\"},{\"font\":{\"color\":\"#FFFFFF\"},\"showarrow\":false,\"text\":\"0.15\",\"x\":\"no_of_week_nights\",\"xref\":\"x\",\"y\":\"lead_time\",\"yref\":\"y\"},{\"font\":{\"color\":\"#FFFFFF\"},\"showarrow\":false,\"text\":\"0.14\",\"x\":\"type_of_meal_plan\",\"xref\":\"x\",\"y\":\"lead_time\",\"yref\":\"y\"},{\"font\":{\"color\":\"#FFFFFF\"},\"showarrow\":false,\"text\":\"-0.07\",\"x\":\"required_car_parking_space\",\"xref\":\"x\",\"y\":\"lead_time\",\"yref\":\"y\"},{\"font\":{\"color\":\"#FFFFFF\"},\"showarrow\":false,\"text\":\"-0.09\",\"x\":\"room_type_reserved\",\"xref\":\"x\",\"y\":\"lead_time\",\"yref\":\"y\"},{\"font\":{\"color\":\"#000000\"},\"showarrow\":false,\"text\":\"1.0\",\"x\":\"lead_time\",\"xref\":\"x\",\"y\":\"lead_time\",\"yref\":\"y\"},{\"font\":{\"color\":\"#FFFFFF\"},\"showarrow\":false,\"text\":\"-0.31\",\"x\":\"market_segment_type\",\"xref\":\"x\",\"y\":\"lead_time\",\"yref\":\"y\"},{\"font\":{\"color\":\"#FFFFFF\"},\"showarrow\":false,\"text\":\"-0.14\",\"x\":\"repeated_guest\",\"xref\":\"x\",\"y\":\"lead_time\",\"yref\":\"y\"},{\"font\":{\"color\":\"#FFFFFF\"},\"showarrow\":false,\"text\":\"-0.06\",\"x\":\"avg_price_per_room\",\"xref\":\"x\",\"y\":\"lead_time\",\"yref\":\"y\"},{\"font\":{\"color\":\"#FFFFFF\"},\"showarrow\":false,\"text\":\"-0.1\",\"x\":\"no_of_special_requests\",\"xref\":\"x\",\"y\":\"lead_time\",\"yref\":\"y\"},{\"font\":{\"color\":\"#FFFFFF\"},\"showarrow\":false,\"text\":\"-0.44\",\"x\":\"booking_status\",\"xref\":\"x\",\"y\":\"lead_time\",\"yref\":\"y\"},{\"font\":{\"color\":\"#FFFFFF\"},\"showarrow\":false,\"text\":\"-0.1\",\"x\":\"no_of_adults\",\"xref\":\"x\",\"y\":\"market_segment_type\",\"yref\":\"y\"},{\"font\":{\"color\":\"#FFFFFF\"},\"showarrow\":false,\"text\":\"0.07\",\"x\":\"no_of_children\",\"xref\":\"x\",\"y\":\"market_segment_type\",\"yref\":\"y\"},{\"font\":{\"color\":\"#FFFFFF\"},\"showarrow\":false,\"text\":\"-0.02\",\"x\":\"no_of_weekend_nights\",\"xref\":\"x\",\"y\":\"market_segment_type\",\"yref\":\"y\"},{\"font\":{\"color\":\"#FFFFFF\"},\"showarrow\":false,\"text\":\"-0.07\",\"x\":\"no_of_week_nights\",\"xref\":\"x\",\"y\":\"market_segment_type\",\"yref\":\"y\"},{\"font\":{\"color\":\"#FFFFFF\"},\"showarrow\":false,\"text\":\"-0.17\",\"x\":\"type_of_meal_plan\",\"xref\":\"x\",\"y\":\"market_segment_type\",\"yref\":\"y\"},{\"font\":{\"color\":\"#FFFFFF\"},\"showarrow\":false,\"text\":\"0.12\",\"x\":\"required_car_parking_space\",\"xref\":\"x\",\"y\":\"market_segment_type\",\"yref\":\"y\"},{\"font\":{\"color\":\"#FFFFFF\"},\"showarrow\":false,\"text\":\"0.17\",\"x\":\"room_type_reserved\",\"xref\":\"x\",\"y\":\"market_segment_type\",\"yref\":\"y\"},{\"font\":{\"color\":\"#FFFFFF\"},\"showarrow\":false,\"text\":\"-0.31\",\"x\":\"lead_time\",\"xref\":\"x\",\"y\":\"market_segment_type\",\"yref\":\"y\"},{\"font\":{\"color\":\"#000000\"},\"showarrow\":false,\"text\":\"1.0\",\"x\":\"market_segment_type\",\"xref\":\"x\",\"y\":\"market_segment_type\",\"yref\":\"y\"},{\"font\":{\"color\":\"#000000\"},\"showarrow\":false,\"text\":\"0.3\",\"x\":\"repeated_guest\",\"xref\":\"x\",\"y\":\"market_segment_type\",\"yref\":\"y\"},{\"font\":{\"color\":\"#FFFFFF\"},\"showarrow\":false,\"text\":\"-0.04\",\"x\":\"avg_price_per_room\",\"xref\":\"x\",\"y\":\"market_segment_type\",\"yref\":\"y\"},{\"font\":{\"color\":\"#FFFFFF\"},\"showarrow\":false,\"text\":\"0.2\",\"x\":\"no_of_special_requests\",\"xref\":\"x\",\"y\":\"market_segment_type\",\"yref\":\"y\"},{\"font\":{\"color\":\"#FFFFFF\"},\"showarrow\":false,\"text\":\"0.05\",\"x\":\"booking_status\",\"xref\":\"x\",\"y\":\"market_segment_type\",\"yref\":\"y\"},{\"font\":{\"color\":\"#FFFFFF\"},\"showarrow\":false,\"text\":\"-0.19\",\"x\":\"no_of_adults\",\"xref\":\"x\",\"y\":\"repeated_guest\",\"yref\":\"y\"},{\"font\":{\"color\":\"#FFFFFF\"},\"showarrow\":false,\"text\":\"-0.04\",\"x\":\"no_of_children\",\"xref\":\"x\",\"y\":\"repeated_guest\",\"yref\":\"y\"},{\"font\":{\"color\":\"#FFFFFF\"},\"showarrow\":false,\"text\":\"-0.07\",\"x\":\"no_of_weekend_nights\",\"xref\":\"x\",\"y\":\"repeated_guest\",\"yref\":\"y\"},{\"font\":{\"color\":\"#FFFFFF\"},\"showarrow\":false,\"text\":\"-0.1\",\"x\":\"no_of_week_nights\",\"xref\":\"x\",\"y\":\"repeated_guest\",\"yref\":\"y\"},{\"font\":{\"color\":\"#FFFFFF\"},\"showarrow\":false,\"text\":\"-0.07\",\"x\":\"type_of_meal_plan\",\"xref\":\"x\",\"y\":\"repeated_guest\",\"yref\":\"y\"},{\"font\":{\"color\":\"#FFFFFF\"},\"showarrow\":false,\"text\":\"0.11\",\"x\":\"required_car_parking_space\",\"xref\":\"x\",\"y\":\"repeated_guest\",\"yref\":\"y\"},{\"font\":{\"color\":\"#FFFFFF\"},\"showarrow\":false,\"text\":\"-0.01\",\"x\":\"room_type_reserved\",\"xref\":\"x\",\"y\":\"repeated_guest\",\"yref\":\"y\"},{\"font\":{\"color\":\"#FFFFFF\"},\"showarrow\":false,\"text\":\"-0.14\",\"x\":\"lead_time\",\"xref\":\"x\",\"y\":\"repeated_guest\",\"yref\":\"y\"},{\"font\":{\"color\":\"#000000\"},\"showarrow\":false,\"text\":\"0.3\",\"x\":\"market_segment_type\",\"xref\":\"x\",\"y\":\"repeated_guest\",\"yref\":\"y\"},{\"font\":{\"color\":\"#000000\"},\"showarrow\":false,\"text\":\"1.0\",\"x\":\"repeated_guest\",\"xref\":\"x\",\"y\":\"repeated_guest\",\"yref\":\"y\"},{\"font\":{\"color\":\"#FFFFFF\"},\"showarrow\":false,\"text\":\"-0.17\",\"x\":\"avg_price_per_room\",\"xref\":\"x\",\"y\":\"repeated_guest\",\"yref\":\"y\"},{\"font\":{\"color\":\"#FFFFFF\"},\"showarrow\":false,\"text\":\"-0.01\",\"x\":\"no_of_special_requests\",\"xref\":\"x\",\"y\":\"repeated_guest\",\"yref\":\"y\"},{\"font\":{\"color\":\"#FFFFFF\"},\"showarrow\":false,\"text\":\"0.11\",\"x\":\"booking_status\",\"xref\":\"x\",\"y\":\"repeated_guest\",\"yref\":\"y\"},{\"font\":{\"color\":\"#000000\"},\"showarrow\":false,\"text\":\"0.3\",\"x\":\"no_of_adults\",\"xref\":\"x\",\"y\":\"avg_price_per_room\",\"yref\":\"y\"},{\"font\":{\"color\":\"#000000\"},\"showarrow\":false,\"text\":\"0.34\",\"x\":\"no_of_children\",\"xref\":\"x\",\"y\":\"avg_price_per_room\",\"yref\":\"y\"},{\"font\":{\"color\":\"#FFFFFF\"},\"showarrow\":false,\"text\":\"-0.0\",\"x\":\"no_of_weekend_nights\",\"xref\":\"x\",\"y\":\"avg_price_per_room\",\"yref\":\"y\"},{\"font\":{\"color\":\"#FFFFFF\"},\"showarrow\":false,\"text\":\"0.02\",\"x\":\"no_of_week_nights\",\"xref\":\"x\",\"y\":\"avg_price_per_room\",\"yref\":\"y\"},{\"font\":{\"color\":\"#FFFFFF\"},\"showarrow\":false,\"text\":\"0.04\",\"x\":\"type_of_meal_plan\",\"xref\":\"x\",\"y\":\"avg_price_per_room\",\"yref\":\"y\"},{\"font\":{\"color\":\"#FFFFFF\"},\"showarrow\":false,\"text\":\"0.06\",\"x\":\"required_car_parking_space\",\"xref\":\"x\",\"y\":\"avg_price_per_room\",\"yref\":\"y\"},{\"font\":{\"color\":\"#000000\"},\"showarrow\":false,\"text\":\"0.41\",\"x\":\"room_type_reserved\",\"xref\":\"x\",\"y\":\"avg_price_per_room\",\"yref\":\"y\"},{\"font\":{\"color\":\"#FFFFFF\"},\"showarrow\":false,\"text\":\"-0.06\",\"x\":\"lead_time\",\"xref\":\"x\",\"y\":\"avg_price_per_room\",\"yref\":\"y\"},{\"font\":{\"color\":\"#FFFFFF\"},\"showarrow\":false,\"text\":\"-0.04\",\"x\":\"market_segment_type\",\"xref\":\"x\",\"y\":\"avg_price_per_room\",\"yref\":\"y\"},{\"font\":{\"color\":\"#FFFFFF\"},\"showarrow\":false,\"text\":\"-0.17\",\"x\":\"repeated_guest\",\"xref\":\"x\",\"y\":\"avg_price_per_room\",\"yref\":\"y\"},{\"font\":{\"color\":\"#000000\"},\"showarrow\":false,\"text\":\"1.0\",\"x\":\"avg_price_per_room\",\"xref\":\"x\",\"y\":\"avg_price_per_room\",\"yref\":\"y\"},{\"font\":{\"color\":\"#FFFFFF\"},\"showarrow\":false,\"text\":\"0.18\",\"x\":\"no_of_special_requests\",\"xref\":\"x\",\"y\":\"avg_price_per_room\",\"yref\":\"y\"},{\"font\":{\"color\":\"#FFFFFF\"},\"showarrow\":false,\"text\":\"-0.14\",\"x\":\"booking_status\",\"xref\":\"x\",\"y\":\"avg_price_per_room\",\"yref\":\"y\"},{\"font\":{\"color\":\"#FFFFFF\"},\"showarrow\":false,\"text\":\"0.19\",\"x\":\"no_of_adults\",\"xref\":\"x\",\"y\":\"no_of_special_requests\",\"yref\":\"y\"},{\"font\":{\"color\":\"#FFFFFF\"},\"showarrow\":false,\"text\":\"0.12\",\"x\":\"no_of_children\",\"xref\":\"x\",\"y\":\"no_of_special_requests\",\"yref\":\"y\"},{\"font\":{\"color\":\"#FFFFFF\"},\"showarrow\":false,\"text\":\"0.06\",\"x\":\"no_of_weekend_nights\",\"xref\":\"x\",\"y\":\"no_of_special_requests\",\"yref\":\"y\"},{\"font\":{\"color\":\"#FFFFFF\"},\"showarrow\":false,\"text\":\"0.05\",\"x\":\"no_of_week_nights\",\"xref\":\"x\",\"y\":\"no_of_special_requests\",\"yref\":\"y\"},{\"font\":{\"color\":\"#FFFFFF\"},\"showarrow\":false,\"text\":\"-0.06\",\"x\":\"type_of_meal_plan\",\"xref\":\"x\",\"y\":\"no_of_special_requests\",\"yref\":\"y\"},{\"font\":{\"color\":\"#FFFFFF\"},\"showarrow\":false,\"text\":\"0.09\",\"x\":\"required_car_parking_space\",\"xref\":\"x\",\"y\":\"no_of_special_requests\",\"yref\":\"y\"},{\"font\":{\"color\":\"#FFFFFF\"},\"showarrow\":false,\"text\":\"0.11\",\"x\":\"room_type_reserved\",\"xref\":\"x\",\"y\":\"no_of_special_requests\",\"yref\":\"y\"},{\"font\":{\"color\":\"#FFFFFF\"},\"showarrow\":false,\"text\":\"-0.1\",\"x\":\"lead_time\",\"xref\":\"x\",\"y\":\"no_of_special_requests\",\"yref\":\"y\"},{\"font\":{\"color\":\"#FFFFFF\"},\"showarrow\":false,\"text\":\"0.2\",\"x\":\"market_segment_type\",\"xref\":\"x\",\"y\":\"no_of_special_requests\",\"yref\":\"y\"},{\"font\":{\"color\":\"#FFFFFF\"},\"showarrow\":false,\"text\":\"-0.01\",\"x\":\"repeated_guest\",\"xref\":\"x\",\"y\":\"no_of_special_requests\",\"yref\":\"y\"},{\"font\":{\"color\":\"#FFFFFF\"},\"showarrow\":false,\"text\":\"0.18\",\"x\":\"avg_price_per_room\",\"xref\":\"x\",\"y\":\"no_of_special_requests\",\"yref\":\"y\"},{\"font\":{\"color\":\"#000000\"},\"showarrow\":false,\"text\":\"1.0\",\"x\":\"no_of_special_requests\",\"xref\":\"x\",\"y\":\"no_of_special_requests\",\"yref\":\"y\"},{\"font\":{\"color\":\"#FFFFFF\"},\"showarrow\":false,\"text\":\"0.25\",\"x\":\"booking_status\",\"xref\":\"x\",\"y\":\"no_of_special_requests\",\"yref\":\"y\"},{\"font\":{\"color\":\"#FFFFFF\"},\"showarrow\":false,\"text\":\"-0.09\",\"x\":\"no_of_adults\",\"xref\":\"x\",\"y\":\"booking_status\",\"yref\":\"y\"},{\"font\":{\"color\":\"#FFFFFF\"},\"showarrow\":false,\"text\":\"-0.03\",\"x\":\"no_of_children\",\"xref\":\"x\",\"y\":\"booking_status\",\"yref\":\"y\"},{\"font\":{\"color\":\"#FFFFFF\"},\"showarrow\":false,\"text\":\"-0.06\",\"x\":\"no_of_weekend_nights\",\"xref\":\"x\",\"y\":\"booking_status\",\"yref\":\"y\"},{\"font\":{\"color\":\"#FFFFFF\"},\"showarrow\":false,\"text\":\"-0.09\",\"x\":\"no_of_week_nights\",\"xref\":\"x\",\"y\":\"booking_status\",\"yref\":\"y\"},{\"font\":{\"color\":\"#FFFFFF\"},\"showarrow\":false,\"text\":\"-0.08\",\"x\":\"type_of_meal_plan\",\"xref\":\"x\",\"y\":\"booking_status\",\"yref\":\"y\"},{\"font\":{\"color\":\"#FFFFFF\"},\"showarrow\":false,\"text\":\"0.09\",\"x\":\"required_car_parking_space\",\"xref\":\"x\",\"y\":\"booking_status\",\"yref\":\"y\"},{\"font\":{\"color\":\"#FFFFFF\"},\"showarrow\":false,\"text\":\"-0.02\",\"x\":\"room_type_reserved\",\"xref\":\"x\",\"y\":\"booking_status\",\"yref\":\"y\"},{\"font\":{\"color\":\"#FFFFFF\"},\"showarrow\":false,\"text\":\"-0.44\",\"x\":\"lead_time\",\"xref\":\"x\",\"y\":\"booking_status\",\"yref\":\"y\"},{\"font\":{\"color\":\"#FFFFFF\"},\"showarrow\":false,\"text\":\"0.05\",\"x\":\"market_segment_type\",\"xref\":\"x\",\"y\":\"booking_status\",\"yref\":\"y\"},{\"font\":{\"color\":\"#FFFFFF\"},\"showarrow\":false,\"text\":\"0.11\",\"x\":\"repeated_guest\",\"xref\":\"x\",\"y\":\"booking_status\",\"yref\":\"y\"},{\"font\":{\"color\":\"#FFFFFF\"},\"showarrow\":false,\"text\":\"-0.14\",\"x\":\"avg_price_per_room\",\"xref\":\"x\",\"y\":\"booking_status\",\"yref\":\"y\"},{\"font\":{\"color\":\"#FFFFFF\"},\"showarrow\":false,\"text\":\"0.25\",\"x\":\"no_of_special_requests\",\"xref\":\"x\",\"y\":\"booking_status\",\"yref\":\"y\"},{\"font\":{\"color\":\"#000000\"},\"showarrow\":false,\"text\":\"1.0\",\"x\":\"booking_status\",\"xref\":\"x\",\"y\":\"booking_status\",\"yref\":\"y\"}],\"xaxis\":{\"dtick\":1,\"gridcolor\":\"rgb(0, 0, 0)\",\"side\":\"top\",\"ticks\":\"\"},\"yaxis\":{\"dtick\":1,\"ticks\":\"\",\"ticksuffix\":\"  \"},\"template\":{\"data\":{\"bar\":[{\"error_x\":{\"color\":\"#2a3f5f\"},\"error_y\":{\"color\":\"#2a3f5f\"},\"marker\":{\"line\":{\"color\":\"#E5ECF6\",\"width\":0.5},\"pattern\":{\"fillmode\":\"overlay\",\"size\":10,\"solidity\":0.2}},\"type\":\"bar\"}],\"barpolar\":[{\"marker\":{\"line\":{\"color\":\"#E5ECF6\",\"width\":0.5},\"pattern\":{\"fillmode\":\"overlay\",\"size\":10,\"solidity\":0.2}},\"type\":\"barpolar\"}],\"carpet\":[{\"aaxis\":{\"endlinecolor\":\"#2a3f5f\",\"gridcolor\":\"white\",\"linecolor\":\"white\",\"minorgridcolor\":\"white\",\"startlinecolor\":\"#2a3f5f\"},\"baxis\":{\"endlinecolor\":\"#2a3f5f\",\"gridcolor\":\"white\",\"linecolor\":\"white\",\"minorgridcolor\":\"white\",\"startlinecolor\":\"#2a3f5f\"},\"type\":\"carpet\"}],\"choropleth\":[{\"colorbar\":{\"outlinewidth\":0,\"ticks\":\"\"},\"type\":\"choropleth\"}],\"contour\":[{\"colorbar\":{\"outlinewidth\":0,\"ticks\":\"\"},\"colorscale\":[[0.0,\"#0d0887\"],[0.1111111111111111,\"#46039f\"],[0.2222222222222222,\"#7201a8\"],[0.3333333333333333,\"#9c179e\"],[0.4444444444444444,\"#bd3786\"],[0.5555555555555556,\"#d8576b\"],[0.6666666666666666,\"#ed7953\"],[0.7777777777777778,\"#fb9f3a\"],[0.8888888888888888,\"#fdca26\"],[1.0,\"#f0f921\"]],\"type\":\"contour\"}],\"contourcarpet\":[{\"colorbar\":{\"outlinewidth\":0,\"ticks\":\"\"},\"type\":\"contourcarpet\"}],\"heatmap\":[{\"colorbar\":{\"outlinewidth\":0,\"ticks\":\"\"},\"colorscale\":[[0.0,\"#0d0887\"],[0.1111111111111111,\"#46039f\"],[0.2222222222222222,\"#7201a8\"],[0.3333333333333333,\"#9c179e\"],[0.4444444444444444,\"#bd3786\"],[0.5555555555555556,\"#d8576b\"],[0.6666666666666666,\"#ed7953\"],[0.7777777777777778,\"#fb9f3a\"],[0.8888888888888888,\"#fdca26\"],[1.0,\"#f0f921\"]],\"type\":\"heatmap\"}],\"heatmapgl\":[{\"colorbar\":{\"outlinewidth\":0,\"ticks\":\"\"},\"colorscale\":[[0.0,\"#0d0887\"],[0.1111111111111111,\"#46039f\"],[0.2222222222222222,\"#7201a8\"],[0.3333333333333333,\"#9c179e\"],[0.4444444444444444,\"#bd3786\"],[0.5555555555555556,\"#d8576b\"],[0.6666666666666666,\"#ed7953\"],[0.7777777777777778,\"#fb9f3a\"],[0.8888888888888888,\"#fdca26\"],[1.0,\"#f0f921\"]],\"type\":\"heatmapgl\"}],\"histogram\":[{\"marker\":{\"pattern\":{\"fillmode\":\"overlay\",\"size\":10,\"solidity\":0.2}},\"type\":\"histogram\"}],\"histogram2d\":[{\"colorbar\":{\"outlinewidth\":0,\"ticks\":\"\"},\"colorscale\":[[0.0,\"#0d0887\"],[0.1111111111111111,\"#46039f\"],[0.2222222222222222,\"#7201a8\"],[0.3333333333333333,\"#9c179e\"],[0.4444444444444444,\"#bd3786\"],[0.5555555555555556,\"#d8576b\"],[0.6666666666666666,\"#ed7953\"],[0.7777777777777778,\"#fb9f3a\"],[0.8888888888888888,\"#fdca26\"],[1.0,\"#f0f921\"]],\"type\":\"histogram2d\"}],\"histogram2dcontour\":[{\"colorbar\":{\"outlinewidth\":0,\"ticks\":\"\"},\"colorscale\":[[0.0,\"#0d0887\"],[0.1111111111111111,\"#46039f\"],[0.2222222222222222,\"#7201a8\"],[0.3333333333333333,\"#9c179e\"],[0.4444444444444444,\"#bd3786\"],[0.5555555555555556,\"#d8576b\"],[0.6666666666666666,\"#ed7953\"],[0.7777777777777778,\"#fb9f3a\"],[0.8888888888888888,\"#fdca26\"],[1.0,\"#f0f921\"]],\"type\":\"histogram2dcontour\"}],\"mesh3d\":[{\"colorbar\":{\"outlinewidth\":0,\"ticks\":\"\"},\"type\":\"mesh3d\"}],\"parcoords\":[{\"line\":{\"colorbar\":{\"outlinewidth\":0,\"ticks\":\"\"}},\"type\":\"parcoords\"}],\"pie\":[{\"automargin\":true,\"type\":\"pie\"}],\"scatter\":[{\"marker\":{\"colorbar\":{\"outlinewidth\":0,\"ticks\":\"\"}},\"type\":\"scatter\"}],\"scatter3d\":[{\"line\":{\"colorbar\":{\"outlinewidth\":0,\"ticks\":\"\"}},\"marker\":{\"colorbar\":{\"outlinewidth\":0,\"ticks\":\"\"}},\"type\":\"scatter3d\"}],\"scattercarpet\":[{\"marker\":{\"colorbar\":{\"outlinewidth\":0,\"ticks\":\"\"}},\"type\":\"scattercarpet\"}],\"scattergeo\":[{\"marker\":{\"colorbar\":{\"outlinewidth\":0,\"ticks\":\"\"}},\"type\":\"scattergeo\"}],\"scattergl\":[{\"marker\":{\"colorbar\":{\"outlinewidth\":0,\"ticks\":\"\"}},\"type\":\"scattergl\"}],\"scattermapbox\":[{\"marker\":{\"colorbar\":{\"outlinewidth\":0,\"ticks\":\"\"}},\"type\":\"scattermapbox\"}],\"scatterpolar\":[{\"marker\":{\"colorbar\":{\"outlinewidth\":0,\"ticks\":\"\"}},\"type\":\"scatterpolar\"}],\"scatterpolargl\":[{\"marker\":{\"colorbar\":{\"outlinewidth\":0,\"ticks\":\"\"}},\"type\":\"scatterpolargl\"}],\"scatterternary\":[{\"marker\":{\"colorbar\":{\"outlinewidth\":0,\"ticks\":\"\"}},\"type\":\"scatterternary\"}],\"surface\":[{\"colorbar\":{\"outlinewidth\":0,\"ticks\":\"\"},\"colorscale\":[[0.0,\"#0d0887\"],[0.1111111111111111,\"#46039f\"],[0.2222222222222222,\"#7201a8\"],[0.3333333333333333,\"#9c179e\"],[0.4444444444444444,\"#bd3786\"],[0.5555555555555556,\"#d8576b\"],[0.6666666666666666,\"#ed7953\"],[0.7777777777777778,\"#fb9f3a\"],[0.8888888888888888,\"#fdca26\"],[1.0,\"#f0f921\"]],\"type\":\"surface\"}],\"table\":[{\"cells\":{\"fill\":{\"color\":\"#EBF0F8\"},\"line\":{\"color\":\"white\"}},\"header\":{\"fill\":{\"color\":\"#C8D4E3\"},\"line\":{\"color\":\"white\"}},\"type\":\"table\"}]},\"layout\":{\"annotationdefaults\":{\"arrowcolor\":\"#2a3f5f\",\"arrowhead\":0,\"arrowwidth\":1},\"autotypenumbers\":\"strict\",\"coloraxis\":{\"colorbar\":{\"outlinewidth\":0,\"ticks\":\"\"}},\"colorscale\":{\"diverging\":[[0,\"#8e0152\"],[0.1,\"#c51b7d\"],[0.2,\"#de77ae\"],[0.3,\"#f1b6da\"],[0.4,\"#fde0ef\"],[0.5,\"#f7f7f7\"],[0.6,\"#e6f5d0\"],[0.7,\"#b8e186\"],[0.8,\"#7fbc41\"],[0.9,\"#4d9221\"],[1,\"#276419\"]],\"sequential\":[[0.0,\"#0d0887\"],[0.1111111111111111,\"#46039f\"],[0.2222222222222222,\"#7201a8\"],[0.3333333333333333,\"#9c179e\"],[0.4444444444444444,\"#bd3786\"],[0.5555555555555556,\"#d8576b\"],[0.6666666666666666,\"#ed7953\"],[0.7777777777777778,\"#fb9f3a\"],[0.8888888888888888,\"#fdca26\"],[1.0,\"#f0f921\"]],\"sequentialminus\":[[0.0,\"#0d0887\"],[0.1111111111111111,\"#46039f\"],[0.2222222222222222,\"#7201a8\"],[0.3333333333333333,\"#9c179e\"],[0.4444444444444444,\"#bd3786\"],[0.5555555555555556,\"#d8576b\"],[0.6666666666666666,\"#ed7953\"],[0.7777777777777778,\"#fb9f3a\"],[0.8888888888888888,\"#fdca26\"],[1.0,\"#f0f921\"]]},\"colorway\":[\"#636efa\",\"#EF553B\",\"#00cc96\",\"#ab63fa\",\"#FFA15A\",\"#19d3f3\",\"#FF6692\",\"#B6E880\",\"#FF97FF\",\"#FECB52\"],\"font\":{\"color\":\"#2a3f5f\"},\"geo\":{\"bgcolor\":\"white\",\"lakecolor\":\"white\",\"landcolor\":\"#E5ECF6\",\"showlakes\":true,\"showland\":true,\"subunitcolor\":\"white\"},\"hoverlabel\":{\"align\":\"left\"},\"hovermode\":\"closest\",\"mapbox\":{\"style\":\"light\"},\"paper_bgcolor\":\"white\",\"plot_bgcolor\":\"#E5ECF6\",\"polar\":{\"angularaxis\":{\"gridcolor\":\"white\",\"linecolor\":\"white\",\"ticks\":\"\"},\"bgcolor\":\"#E5ECF6\",\"radialaxis\":{\"gridcolor\":\"white\",\"linecolor\":\"white\",\"ticks\":\"\"}},\"scene\":{\"xaxis\":{\"backgroundcolor\":\"#E5ECF6\",\"gridcolor\":\"white\",\"gridwidth\":2,\"linecolor\":\"white\",\"showbackground\":true,\"ticks\":\"\",\"zerolinecolor\":\"white\"},\"yaxis\":{\"backgroundcolor\":\"#E5ECF6\",\"gridcolor\":\"white\",\"gridwidth\":2,\"linecolor\":\"white\",\"showbackground\":true,\"ticks\":\"\",\"zerolinecolor\":\"white\"},\"zaxis\":{\"backgroundcolor\":\"#E5ECF6\",\"gridcolor\":\"white\",\"gridwidth\":2,\"linecolor\":\"white\",\"showbackground\":true,\"ticks\":\"\",\"zerolinecolor\":\"white\"}},\"shapedefaults\":{\"line\":{\"color\":\"#2a3f5f\"}},\"ternary\":{\"aaxis\":{\"gridcolor\":\"white\",\"linecolor\":\"white\",\"ticks\":\"\"},\"baxis\":{\"gridcolor\":\"white\",\"linecolor\":\"white\",\"ticks\":\"\"},\"bgcolor\":\"#E5ECF6\",\"caxis\":{\"gridcolor\":\"white\",\"linecolor\":\"white\",\"ticks\":\"\"}},\"title\":{\"x\":0.05},\"xaxis\":{\"automargin\":true,\"gridcolor\":\"white\",\"linecolor\":\"white\",\"ticks\":\"\",\"title\":{\"standoff\":15},\"zerolinecolor\":\"white\",\"zerolinewidth\":2},\"yaxis\":{\"automargin\":true,\"gridcolor\":\"white\",\"linecolor\":\"white\",\"ticks\":\"\",\"title\":{\"standoff\":15},\"zerolinecolor\":\"white\",\"zerolinewidth\":2}}}},                        {\"responsive\": true}                    ).then(function(){\n",
              "                            \n",
              "var gd = document.getElementById('dea33f8d-9265-4f0e-ade0-4c07f1f3ae92');\n",
              "var x = new MutationObserver(function (mutations, observer) {{\n",
              "        var display = window.getComputedStyle(gd).display;\n",
              "        if (!display || display === 'none') {{\n",
              "            console.log([gd, 'removed!']);\n",
              "            Plotly.purge(gd);\n",
              "            observer.disconnect();\n",
              "        }}\n",
              "}});\n",
              "\n",
              "// Listen for the removal of the full notebook cells\n",
              "var notebookContainer = gd.closest('#notebook-container');\n",
              "if (notebookContainer) {{\n",
              "    x.observe(notebookContainer, {childList: true});\n",
              "}}\n",
              "\n",
              "// Listen for the clearing of the current output cell\n",
              "var outputEl = gd.closest('.output');\n",
              "if (outputEl) {{\n",
              "    x.observe(outputEl, {childList: true});\n",
              "}}\n",
              "\n",
              "                        })                };                            </script>        </div>\n",
              "</body>\n",
              "</html>"
            ]
          },
          "metadata": {}
        }
      ]
    },
    {
      "cell_type": "markdown",
      "source": [
        "Оставим данные о количестве забронированных ночей, как есть. Определенная корреляция с этими переменными есть. "
      ],
      "metadata": {
        "id": "ZZv5KZHCX_eu"
      }
    },
    {
      "cell_type": "markdown",
      "source": [
        "\n",
        "# Строим модель."
      ],
      "metadata": {
        "id": "hNRDRvZ0ipG6"
      }
    },
    {
      "cell_type": "code",
      "source": [
        "feature_names = list(hotel_resrv).copy()\n",
        "feature_names.remove('booking_status')\n",
        "\n",
        "# выделчем отдельно целевую переменную\n",
        "target = hotel_resrv['booking_status']\n",
        "\n",
        "# создаем датасет из выбранных переменных кроме целевой\n",
        "temp_hotel_res = hotel_resrv\n",
        "temp_hotel_res.drop(['booking_status'], axis=1, inplace=True)\n",
        "\n",
        "X = pd.DataFrame(temp_hotel_res, columns = feature_names) \n",
        "y = target\n"
      ],
      "metadata": {
        "id": "3Xgi8MSji7Jq"
      },
      "execution_count": null,
      "outputs": []
    },
    {
      "cell_type": "code",
      "source": [
        "from sklearn.model_selection import train_test_split\n",
        "\n",
        "#Создаем три набора данных: тренировочный, тестовый и валидационный. В пропорции 60:20:20.\n",
        "X_train, X_test, y_train, y_test = train_test_split(X, y, \n",
        "                                                    test_size = 0.4, \n",
        "                                                    random_state = 42)\n",
        "X_test, X_val, y_test, y_val = train_test_split(X_test, y_test,\n",
        "                                                test_size=0.5, \n",
        "                                                random_state=42)\n"
      ],
      "metadata": {
        "id": "lbPgpS3akvw3"
      },
      "execution_count": null,
      "outputs": []
    },
    {
      "cell_type": "markdown",
      "source": [
        "### Нормализуем данные.\n",
        "Каждый датасет нормализуем по-отдельности, чтобы не переносить усреднения из набора в набор."
      ],
      "metadata": {
        "id": "RC50CGd3T-t2"
      }
    },
    {
      "cell_type": "code",
      "source": [
        "from sklearn.preprocessing import StandardScaler\n",
        "scaler = StandardScaler()\n",
        "\n",
        "scaled_temp = scaler.fit_transform(X_train).copy()\n",
        "X_train = pd.DataFrame(scaled_temp, columns = feature_names) \n",
        "\n",
        "scaled_temp = scaler.fit_transform(X_test).copy()\n",
        "X_test = pd.DataFrame(scaled_temp, columns = feature_names) \n",
        "\n",
        "scaled_temp = scaler.fit_transform(X_val).copy()\n",
        "X_val = pd.DataFrame(scaled_temp, columns = feature_names) \n",
        "\n",
        "X_test.head()\n"
      ],
      "metadata": {
        "colab": {
          "base_uri": "https://localhost:8080/",
          "height": 270
        },
        "id": "1kQa8Cu2ivLb",
        "outputId": "00cc2cad-26a1-491f-b992-27daf6a93ea1"
      },
      "execution_count": null,
      "outputs": [
        {
          "output_type": "execute_result",
          "data": {
            "text/plain": [
              "   no_of_adults  no_of_children  no_of_weekend_nights  no_of_week_nights  \\\n",
              "0      0.301832       -0.261465             -0.932787          -0.827733   \n",
              "1     -1.600679       -0.261465             -0.932787          -0.827733   \n",
              "2     -1.600679       -0.261465              0.212090          -0.134051   \n",
              "3      0.301832       -0.261465              0.212090          -0.134051   \n",
              "4     -1.600679       -0.261465              2.501845           3.334357   \n",
              "\n",
              "   type_of_meal_plan  required_car_parking_space  room_type_reserved  \\\n",
              "0          -0.507096                   -0.178491           -0.429013   \n",
              "1          -0.507096                   -0.178491            0.850268   \n",
              "2          -0.507096                   -0.178491           -0.429013   \n",
              "3           1.084159                   -0.178491           -0.429013   \n",
              "4          -0.507096                   -0.178491           -0.429013   \n",
              "\n",
              "   lead_time  market_segment_type  repeated_guest  avg_price_per_room  \\\n",
              "0  -0.767799             0.301847        -0.17095            0.019974   \n",
              "1  -0.944088             3.397110        -0.17095           -0.233073   \n",
              "2  -0.944088             1.849478        -0.17095           -0.682934   \n",
              "3  -0.050890             0.301847        -0.17095           -0.677311   \n",
              "4  -0.850067             0.301847        -0.17095           -0.741135   \n",
              "\n",
              "   no_of_special_requests  \n",
              "0               -0.795079  \n",
              "1               -0.795079  \n",
              "2               -0.795079  \n",
              "3                1.734877  \n",
              "4                0.469899  "
            ],
            "text/html": [
              "\n",
              "  <div id=\"df-a7af523d-5060-46ee-a417-150eac855383\">\n",
              "    <div class=\"colab-df-container\">\n",
              "      <div>\n",
              "<style scoped>\n",
              "    .dataframe tbody tr th:only-of-type {\n",
              "        vertical-align: middle;\n",
              "    }\n",
              "\n",
              "    .dataframe tbody tr th {\n",
              "        vertical-align: top;\n",
              "    }\n",
              "\n",
              "    .dataframe thead th {\n",
              "        text-align: right;\n",
              "    }\n",
              "</style>\n",
              "<table border=\"1\" class=\"dataframe\">\n",
              "  <thead>\n",
              "    <tr style=\"text-align: right;\">\n",
              "      <th></th>\n",
              "      <th>no_of_adults</th>\n",
              "      <th>no_of_children</th>\n",
              "      <th>no_of_weekend_nights</th>\n",
              "      <th>no_of_week_nights</th>\n",
              "      <th>type_of_meal_plan</th>\n",
              "      <th>required_car_parking_space</th>\n",
              "      <th>room_type_reserved</th>\n",
              "      <th>lead_time</th>\n",
              "      <th>market_segment_type</th>\n",
              "      <th>repeated_guest</th>\n",
              "      <th>avg_price_per_room</th>\n",
              "      <th>no_of_special_requests</th>\n",
              "    </tr>\n",
              "  </thead>\n",
              "  <tbody>\n",
              "    <tr>\n",
              "      <th>0</th>\n",
              "      <td>0.301832</td>\n",
              "      <td>-0.261465</td>\n",
              "      <td>-0.932787</td>\n",
              "      <td>-0.827733</td>\n",
              "      <td>-0.507096</td>\n",
              "      <td>-0.178491</td>\n",
              "      <td>-0.429013</td>\n",
              "      <td>-0.767799</td>\n",
              "      <td>0.301847</td>\n",
              "      <td>-0.17095</td>\n",
              "      <td>0.019974</td>\n",
              "      <td>-0.795079</td>\n",
              "    </tr>\n",
              "    <tr>\n",
              "      <th>1</th>\n",
              "      <td>-1.600679</td>\n",
              "      <td>-0.261465</td>\n",
              "      <td>-0.932787</td>\n",
              "      <td>-0.827733</td>\n",
              "      <td>-0.507096</td>\n",
              "      <td>-0.178491</td>\n",
              "      <td>0.850268</td>\n",
              "      <td>-0.944088</td>\n",
              "      <td>3.397110</td>\n",
              "      <td>-0.17095</td>\n",
              "      <td>-0.233073</td>\n",
              "      <td>-0.795079</td>\n",
              "    </tr>\n",
              "    <tr>\n",
              "      <th>2</th>\n",
              "      <td>-1.600679</td>\n",
              "      <td>-0.261465</td>\n",
              "      <td>0.212090</td>\n",
              "      <td>-0.134051</td>\n",
              "      <td>-0.507096</td>\n",
              "      <td>-0.178491</td>\n",
              "      <td>-0.429013</td>\n",
              "      <td>-0.944088</td>\n",
              "      <td>1.849478</td>\n",
              "      <td>-0.17095</td>\n",
              "      <td>-0.682934</td>\n",
              "      <td>-0.795079</td>\n",
              "    </tr>\n",
              "    <tr>\n",
              "      <th>3</th>\n",
              "      <td>0.301832</td>\n",
              "      <td>-0.261465</td>\n",
              "      <td>0.212090</td>\n",
              "      <td>-0.134051</td>\n",
              "      <td>1.084159</td>\n",
              "      <td>-0.178491</td>\n",
              "      <td>-0.429013</td>\n",
              "      <td>-0.050890</td>\n",
              "      <td>0.301847</td>\n",
              "      <td>-0.17095</td>\n",
              "      <td>-0.677311</td>\n",
              "      <td>1.734877</td>\n",
              "    </tr>\n",
              "    <tr>\n",
              "      <th>4</th>\n",
              "      <td>-1.600679</td>\n",
              "      <td>-0.261465</td>\n",
              "      <td>2.501845</td>\n",
              "      <td>3.334357</td>\n",
              "      <td>-0.507096</td>\n",
              "      <td>-0.178491</td>\n",
              "      <td>-0.429013</td>\n",
              "      <td>-0.850067</td>\n",
              "      <td>0.301847</td>\n",
              "      <td>-0.17095</td>\n",
              "      <td>-0.741135</td>\n",
              "      <td>0.469899</td>\n",
              "    </tr>\n",
              "  </tbody>\n",
              "</table>\n",
              "</div>\n",
              "      <button class=\"colab-df-convert\" onclick=\"convertToInteractive('df-a7af523d-5060-46ee-a417-150eac855383')\"\n",
              "              title=\"Convert this dataframe to an interactive table.\"\n",
              "              style=\"display:none;\">\n",
              "        \n",
              "  <svg xmlns=\"http://www.w3.org/2000/svg\" height=\"24px\"viewBox=\"0 0 24 24\"\n",
              "       width=\"24px\">\n",
              "    <path d=\"M0 0h24v24H0V0z\" fill=\"none\"/>\n",
              "    <path d=\"M18.56 5.44l.94 2.06.94-2.06 2.06-.94-2.06-.94-.94-2.06-.94 2.06-2.06.94zm-11 1L8.5 8.5l.94-2.06 2.06-.94-2.06-.94L8.5 2.5l-.94 2.06-2.06.94zm10 10l.94 2.06.94-2.06 2.06-.94-2.06-.94-.94-2.06-.94 2.06-2.06.94z\"/><path d=\"M17.41 7.96l-1.37-1.37c-.4-.4-.92-.59-1.43-.59-.52 0-1.04.2-1.43.59L10.3 9.45l-7.72 7.72c-.78.78-.78 2.05 0 2.83L4 21.41c.39.39.9.59 1.41.59.51 0 1.02-.2 1.41-.59l7.78-7.78 2.81-2.81c.8-.78.8-2.07 0-2.86zM5.41 20L4 18.59l7.72-7.72 1.47 1.35L5.41 20z\"/>\n",
              "  </svg>\n",
              "      </button>\n",
              "      \n",
              "  <style>\n",
              "    .colab-df-container {\n",
              "      display:flex;\n",
              "      flex-wrap:wrap;\n",
              "      gap: 12px;\n",
              "    }\n",
              "\n",
              "    .colab-df-convert {\n",
              "      background-color: #E8F0FE;\n",
              "      border: none;\n",
              "      border-radius: 50%;\n",
              "      cursor: pointer;\n",
              "      display: none;\n",
              "      fill: #1967D2;\n",
              "      height: 32px;\n",
              "      padding: 0 0 0 0;\n",
              "      width: 32px;\n",
              "    }\n",
              "\n",
              "    .colab-df-convert:hover {\n",
              "      background-color: #E2EBFA;\n",
              "      box-shadow: 0px 1px 2px rgba(60, 64, 67, 0.3), 0px 1px 3px 1px rgba(60, 64, 67, 0.15);\n",
              "      fill: #174EA6;\n",
              "    }\n",
              "\n",
              "    [theme=dark] .colab-df-convert {\n",
              "      background-color: #3B4455;\n",
              "      fill: #D2E3FC;\n",
              "    }\n",
              "\n",
              "    [theme=dark] .colab-df-convert:hover {\n",
              "      background-color: #434B5C;\n",
              "      box-shadow: 0px 1px 3px 1px rgba(0, 0, 0, 0.15);\n",
              "      filter: drop-shadow(0px 1px 2px rgba(0, 0, 0, 0.3));\n",
              "      fill: #FFFFFF;\n",
              "    }\n",
              "  </style>\n",
              "\n",
              "      <script>\n",
              "        const buttonEl =\n",
              "          document.querySelector('#df-a7af523d-5060-46ee-a417-150eac855383 button.colab-df-convert');\n",
              "        buttonEl.style.display =\n",
              "          google.colab.kernel.accessAllowed ? 'block' : 'none';\n",
              "\n",
              "        async function convertToInteractive(key) {\n",
              "          const element = document.querySelector('#df-a7af523d-5060-46ee-a417-150eac855383');\n",
              "          const dataTable =\n",
              "            await google.colab.kernel.invokeFunction('convertToInteractive',\n",
              "                                                     [key], {});\n",
              "          if (!dataTable) return;\n",
              "\n",
              "          const docLinkHtml = 'Like what you see? Visit the ' +\n",
              "            '<a target=\"_blank\" href=https://colab.research.google.com/notebooks/data_table.ipynb>data table notebook</a>'\n",
              "            + ' to learn more about interactive tables.';\n",
              "          element.innerHTML = '';\n",
              "          dataTable['output_type'] = 'display_data';\n",
              "          await google.colab.output.renderOutput(dataTable, element);\n",
              "          const docLink = document.createElement('div');\n",
              "          docLink.innerHTML = docLinkHtml;\n",
              "          element.appendChild(docLink);\n",
              "        }\n",
              "      </script>\n",
              "    </div>\n",
              "  </div>\n",
              "  "
            ]
          },
          "metadata": {},
          "execution_count": 17
        }
      ]
    },
    {
      "cell_type": "markdown",
      "source": [
        "## Выбор модели\n",
        "В качестве модели выберем случайный лес. Он же Random Forest. \n",
        "В Интернете у него хорошая репутация."
      ],
      "metadata": {
        "id": "uQODEtr3nU3H"
      }
    },
    {
      "cell_type": "code",
      "source": [
        "from sklearn.model_selection import train_test_split, cross_val_score, GridSearchCV\n",
        "from sklearn.ensemble import RandomForestClassifier\n",
        "from sklearn.metrics import accuracy_score, precision_score, recall_score\n"
      ],
      "metadata": {
        "id": "sL0v33QenSZy"
      },
      "execution_count": null,
      "outputs": []
    },
    {
      "cell_type": "markdown",
      "source": [
        "## Кросс-валидация. (из предыдущего ноутбука)\n",
        "Для предыдущего задания была выбрана модель на основе метода логистической регрессии. Сравним ее с методом случайного леса."
      ],
      "metadata": {
        "id": "ww-qn9thrdnS"
      }
    },
    {
      "cell_type": "code",
      "source": [
        "from sklearn.linear_model import LogisticRegression\n",
        "model1 = LogisticRegression()\n",
        "scores1 = cross_val_score(model1, X_train, y_train.values.ravel(), cv=5)\n",
        "print('Logistic Regression',scores1)\n",
        "\n",
        "model = RandomForestClassifier()\n",
        "scores = cross_val_score(model, X_train, y_train.values.ravel(), cv=5)\n",
        "print('Random Forest',scores)\n",
        "\n"
      ],
      "metadata": {
        "colab": {
          "base_uri": "https://localhost:8080/"
        },
        "id": "myJwzmQMqK1b",
        "outputId": "ccb5f726-3a2b-47b3-8290-79700974b773"
      },
      "execution_count": null,
      "outputs": [
        {
          "output_type": "stream",
          "name": "stdout",
          "text": [
            "Logistic Regression [0.79600276 0.77670572 0.78704342 0.79186768 0.78313807]\n",
            "Random Forest [0.88766368 0.87870434 0.88375833 0.88513669 0.8731909 ]\n"
          ]
        }
      ]
    },
    {
      "cell_type": "markdown",
      "source": [
        "Видно, что метод случайного леса работает явно лучше. На нем и остановимся"
      ],
      "metadata": {
        "id": "pfEqE7GFwZjx"
      }
    },
    {
      "cell_type": "markdown",
      "source": [
        "## Настройка гиперпараметров используя optuna."
      ],
      "metadata": {
        "id": "0El3SEHvy9SG"
      }
    },
    {
      "cell_type": "code",
      "source": [
        "!pip install optuna > None"
      ],
      "metadata": {
        "id": "k8zbhBvEKPTo"
      },
      "execution_count": null,
      "outputs": []
    },
    {
      "cell_type": "code",
      "source": [
        "import optuna\n",
        "from sklearn.svm import SVC"
      ],
      "metadata": {
        "id": "6yyvO2MEIes9"
      },
      "execution_count": null,
      "outputs": []
    },
    {
      "cell_type": "code",
      "source": [
        "def objective(trial):\n",
        "    classifier_name = trial.suggest_categorical(\"classifier\", [\"SVC\", \"RandomForest\"])\n",
        "    if classifier_name == \"SVC\":\n",
        "      svc_c = trial.suggest_float(\"svc_c\", 0.00001, 10000, log=True)\n",
        "      classifier_obj = SVC(C=svc_c, gamma=\"auto\")\n",
        "    else:\n",
        "      rf_max_depth = trial.suggest_int(\"rf_max_depth\", 10, 40, log=True)  #немного изменил границы поиска\n",
        "      classifier_obj = RandomForestClassifier(max_depth=rf_max_depth, n_estimators=30)\n",
        "    #используем валидационные датасеты\n",
        "    score = cross_val_score(classifier_obj, X_val, y_val, n_jobs=-1, cv=3)\n",
        "    accuracy = score.mean()\n",
        "    return accuracy\n"
      ],
      "metadata": {
        "id": "Bu2NuN5oKj4v"
      },
      "execution_count": null,
      "outputs": []
    },
    {
      "cell_type": "code",
      "source": [
        "study = optuna.create_study(direction=\"maximize\")\n",
        "study.optimize(objective, n_trials=50)"
      ],
      "metadata": {
        "colab": {
          "base_uri": "https://localhost:8080/"
        },
        "id": "RDYzkTWSLgy6",
        "outputId": "75aa4103-bd7f-4abc-f252-8dbe06d13f04"
      },
      "execution_count": null,
      "outputs": [
        {
          "output_type": "stream",
          "name": "stderr",
          "text": [
            "\u001b[32m[I 2023-02-06 10:50:54,507]\u001b[0m A new study created in memory with name: no-name-7d44a321-cc6e-4e7e-acf9-49f31875b304\u001b[0m\n",
            "\u001b[32m[I 2023-02-06 10:50:58,871]\u001b[0m Trial 0 finished with value: 0.8518258461383453 and parameters: {'classifier': 'RandomForest', 'rf_max_depth': 10}. Best is trial 0 with value: 0.8518258461383453.\u001b[0m\n",
            "\u001b[32m[I 2023-02-06 10:51:06,163]\u001b[0m Trial 1 finished with value: 0.735079435582176 and parameters: {'classifier': 'SVC', 'svc_c': 0.012883294125532662}. Best is trial 0 with value: 0.8518258461383453.\u001b[0m\n",
            "\u001b[32m[I 2023-02-06 10:51:06,976]\u001b[0m Trial 2 finished with value: 0.8589935070818934 and parameters: {'classifier': 'RandomForest', 'rf_max_depth': 11}. Best is trial 2 with value: 0.8589935070818934.\u001b[0m\n",
            "\u001b[32m[I 2023-02-06 10:51:13,295]\u001b[0m Trial 3 finished with value: 0.6662990913881045 and parameters: {'classifier': 'SVC', 'svc_c': 2.1571522579371005e-05}. Best is trial 2 with value: 0.8589935070818934.\u001b[0m\n",
            "\u001b[32m[I 2023-02-06 10:51:17,225]\u001b[0m Trial 4 finished with value: 0.6662990913881045 and parameters: {'classifier': 'SVC', 'svc_c': 0.0011788213225985794}. Best is trial 2 with value: 0.8589935070818934.\u001b[0m\n",
            "\u001b[32m[I 2023-02-06 10:51:17,807]\u001b[0m Trial 5 finished with value: 0.8527906030206367 and parameters: {'classifier': 'RandomForest', 'rf_max_depth': 27}. Best is trial 2 with value: 0.8589935070818934.\u001b[0m\n",
            "\u001b[32m[I 2023-02-06 10:51:18,388]\u001b[0m Trial 6 finished with value: 0.857615584188815 and parameters: {'classifier': 'RandomForest', 'rf_max_depth': 26}. Best is trial 2 with value: 0.8589935070818934.\u001b[0m\n",
            "\u001b[32m[I 2023-02-06 10:51:18,944]\u001b[0m Trial 7 finished with value: 0.8588558800589898 and parameters: {'classifier': 'RandomForest', 'rf_max_depth': 17}. Best is trial 2 with value: 0.8589935070818934.\u001b[0m\n",
            "\u001b[32m[I 2023-02-06 10:51:22,647]\u001b[0m Trial 8 finished with value: 0.6662990913881045 and parameters: {'classifier': 'SVC', 'svc_c': 0.00032996130400833834}. Best is trial 2 with value: 0.8589935070818934.\u001b[0m\n",
            "\u001b[32m[I 2023-02-06 10:53:23,450]\u001b[0m Trial 9 finished with value: 0.8129557577276576 and parameters: {'classifier': 'SVC', 'svc_c': 6087.122368567496}. Best is trial 2 with value: 0.8589935070818934.\u001b[0m\n",
            "\u001b[32m[I 2023-02-06 10:53:23,890]\u001b[0m Trial 10 finished with value: 0.8509992861631103 and parameters: {'classifier': 'RandomForest', 'rf_max_depth': 10}. Best is trial 2 with value: 0.8589935070818934.\u001b[0m\n",
            "\u001b[32m[I 2023-02-06 10:53:24,393]\u001b[0m Trial 11 finished with value: 0.8603721708243706 and parameters: {'classifier': 'RandomForest', 'rf_max_depth': 15}. Best is trial 11 with value: 0.8603721708243706.\u001b[0m\n",
            "\u001b[32m[I 2023-02-06 10:53:24,904]\u001b[0m Trial 12 finished with value: 0.8609235907306291 and parameters: {'classifier': 'RandomForest', 'rf_max_depth': 15}. Best is trial 12 with value: 0.8609235907306291.\u001b[0m\n",
            "\u001b[32m[I 2023-02-06 10:53:25,428]\u001b[0m Trial 13 finished with value: 0.8635421514243742 and parameters: {'classifier': 'RandomForest', 'rf_max_depth': 16}. Best is trial 13 with value: 0.8635421514243742.\u001b[0m\n",
            "\u001b[32m[I 2023-02-06 10:53:25,985]\u001b[0m Trial 14 finished with value: 0.8574771593280975 and parameters: {'classifier': 'RandomForest', 'rf_max_depth': 19}. Best is trial 13 with value: 0.8635421514243742.\u001b[0m\n",
            "\u001b[32m[I 2023-02-06 10:53:26,486]\u001b[0m Trial 15 finished with value: 0.8620257466821629 and parameters: {'classifier': 'RandomForest', 'rf_max_depth': 14}. Best is trial 13 with value: 0.8635421514243742.\u001b[0m\n",
            "\u001b[32m[I 2023-02-06 10:53:27,056]\u001b[0m Trial 16 finished with value: 0.8529282300435402 and parameters: {'classifier': 'RandomForest', 'rf_max_depth': 38}. Best is trial 13 with value: 0.8635421514243742.\u001b[0m\n",
            "\u001b[32m[I 2023-02-06 10:53:27,539]\u001b[0m Trial 17 finished with value: 0.8599583779410155 and parameters: {'classifier': 'RandomForest', 'rf_max_depth': 13}. Best is trial 13 with value: 0.8635421514243742.\u001b[0m\n",
            "\u001b[32m[I 2023-02-06 10:53:28,027]\u001b[0m Trial 18 finished with value: 0.8634046383783013 and parameters: {'classifier': 'RandomForest', 'rf_max_depth': 13}. Best is trial 13 with value: 0.8635421514243742.\u001b[0m\n",
            "\u001b[32m[I 2023-02-06 10:53:28,501]\u001b[0m Trial 19 finished with value: 0.8577529832580574 and parameters: {'classifier': 'RandomForest', 'rf_max_depth': 12}. Best is trial 13 with value: 0.8635421514243742.\u001b[0m\n",
            "\u001b[32m[I 2023-02-06 10:53:29,022]\u001b[0m Trial 20 finished with value: 0.857752698315981 and parameters: {'classifier': 'RandomForest', 'rf_max_depth': 17}. Best is trial 13 with value: 0.8635421514243742.\u001b[0m\n",
            "\u001b[32m[I 2023-02-06 10:53:29,530]\u001b[0m Trial 21 finished with value: 0.8583043461759008 and parameters: {'classifier': 'RandomForest', 'rf_max_depth': 13}. Best is trial 13 with value: 0.8635421514243742.\u001b[0m\n",
            "\u001b[32m[I 2023-02-06 10:53:30,075]\u001b[0m Trial 22 finished with value: 0.8616128656134524 and parameters: {'classifier': 'RandomForest', 'rf_max_depth': 14}. Best is trial 13 with value: 0.8635421514243742.\u001b[0m\n",
            "\u001b[32m[I 2023-02-06 10:53:30,559]\u001b[0m Trial 23 finished with value: 0.8580284652575255 and parameters: {'classifier': 'RandomForest', 'rf_max_depth': 12}. Best is trial 13 with value: 0.8635421514243742.\u001b[0m\n",
            "\u001b[32m[I 2023-02-06 10:53:31,060]\u001b[0m Trial 24 finished with value: 0.8623021404962756 and parameters: {'classifier': 'RandomForest', 'rf_max_depth': 15}. Best is trial 13 with value: 0.8635421514243742.\u001b[0m\n",
            "\u001b[32m[I 2023-02-06 10:53:31,578]\u001b[0m Trial 25 finished with value: 0.8574773872817586 and parameters: {'classifier': 'RandomForest', 'rf_max_depth': 17}. Best is trial 13 with value: 0.8635421514243742.\u001b[0m\n",
            "\u001b[32m[I 2023-02-06 10:53:34,663]\u001b[0m Trial 26 finished with value: 0.8216406212512308 and parameters: {'classifier': 'SVC', 'svc_c': 4.809375717420884}. Best is trial 13 with value: 0.8635421514243742.\u001b[0m\n",
            "\u001b[32m[I 2023-02-06 10:53:35,185]\u001b[0m Trial 27 finished with value: 0.8554099045637805 and parameters: {'classifier': 'RandomForest', 'rf_max_depth': 20}. Best is trial 13 with value: 0.8635421514243742.\u001b[0m\n",
            "\u001b[32m[I 2023-02-06 10:53:35,668]\u001b[0m Trial 28 finished with value: 0.8585797141985383 and parameters: {'classifier': 'RandomForest', 'rf_max_depth': 11}. Best is trial 13 with value: 0.8635421514243742.\u001b[0m\n",
            "\u001b[32m[I 2023-02-06 10:53:36,176]\u001b[0m Trial 29 finished with value: 0.8617506636016018 and parameters: {'classifier': 'RandomForest', 'rf_max_depth': 15}. Best is trial 13 with value: 0.8635421514243742.\u001b[0m\n",
            "\u001b[32m[I 2023-02-06 10:53:36,621]\u001b[0m Trial 30 finished with value: 0.8565124594342213 and parameters: {'classifier': 'RandomForest', 'rf_max_depth': 12}. Best is trial 13 with value: 0.8635421514243742.\u001b[0m\n",
            "\u001b[32m[I 2023-02-06 10:53:37,110]\u001b[0m Trial 31 finished with value: 0.859269274023438 and parameters: {'classifier': 'RandomForest', 'rf_max_depth': 15}. Best is trial 13 with value: 0.8635421514243742.\u001b[0m\n",
            "\u001b[32m[I 2023-02-06 10:53:37,624]\u001b[0m Trial 32 finished with value: 0.8611994146605889 and parameters: {'classifier': 'RandomForest', 'rf_max_depth': 14}. Best is trial 13 with value: 0.8635421514243742.\u001b[0m\n",
            "\u001b[32m[I 2023-02-06 10:53:38,096]\u001b[0m Trial 33 finished with value: 0.8606479377659152 and parameters: {'classifier': 'RandomForest', 'rf_max_depth': 13}. Best is trial 13 with value: 0.8635421514243742.\u001b[0m\n",
            "\u001b[32m[I 2023-02-06 10:53:41,037]\u001b[0m Trial 34 finished with value: 0.8186080397204695 and parameters: {'classifier': 'SVC', 'svc_c': 1.5326207703313475}. Best is trial 13 with value: 0.8635421514243742.\u001b[0m\n",
            "\u001b[32m[I 2023-02-06 10:53:41,538]\u001b[0m Trial 35 finished with value: 0.8610612177535325 and parameters: {'classifier': 'RandomForest', 'rf_max_depth': 16}. Best is trial 13 with value: 0.8635421514243742.\u001b[0m\n",
            "\u001b[32m[I 2023-02-06 10:53:42,026]\u001b[0m Trial 36 finished with value: 0.8609234197653831 and parameters: {'classifier': 'RandomForest', 'rf_max_depth': 14}. Best is trial 13 with value: 0.8635421514243742.\u001b[0m\n",
            "\u001b[32m[I 2023-02-06 10:56:16,511]\u001b[0m Trial 37 finished with value: 0.8114393529854463 and parameters: {'classifier': 'SVC', 'svc_c': 8894.425893443067}. Best is trial 13 with value: 0.8635421514243742.\u001b[0m\n",
            "\u001b[32m[I 2023-02-06 10:56:16,930]\u001b[0m Trial 38 finished with value: 0.853066483939012 and parameters: {'classifier': 'RandomForest', 'rf_max_depth': 10}. Best is trial 13 with value: 0.8635421514243742.\u001b[0m\n",
            "\u001b[32m[I 2023-02-06 10:56:17,459]\u001b[0m Trial 39 finished with value: 0.8589935070818934 and parameters: {'classifier': 'RandomForest', 'rf_max_depth': 18}. Best is trial 13 with value: 0.8635421514243742.\u001b[0m\n",
            "\u001b[32m[I 2023-02-06 10:56:22,136]\u001b[0m Trial 40 finished with value: 0.8267405715231396 and parameters: {'classifier': 'SVC', 'svc_c': 49.329239146678454}. Best is trial 13 with value: 0.8635421514243742.\u001b[0m\n",
            "\u001b[32m[I 2023-02-06 10:56:22,665]\u001b[0m Trial 41 finished with value: 0.8592689320929464 and parameters: {'classifier': 'RandomForest', 'rf_max_depth': 16}. Best is trial 13 with value: 0.8635421514243742.\u001b[0m\n",
            "\u001b[32m[I 2023-02-06 10:56:23,169]\u001b[0m Trial 42 finished with value: 0.8607855647888186 and parameters: {'classifier': 'RandomForest', 'rf_max_depth': 15}. Best is trial 13 with value: 0.8635421514243742.\u001b[0m\n",
            "\u001b[32m[I 2023-02-06 10:56:23,727]\u001b[0m Trial 43 finished with value: 0.8551336817149137 and parameters: {'classifier': 'RandomForest', 'rf_max_depth': 20}. Best is trial 13 with value: 0.8635421514243742.\u001b[0m\n",
            "\u001b[32m[I 2023-02-06 10:56:24,198]\u001b[0m Trial 44 finished with value: 0.8577532682001338 and parameters: {'classifier': 'RandomForest', 'rf_max_depth': 13}. Best is trial 13 with value: 0.8635421514243742.\u001b[0m\n",
            "\u001b[32m[I 2023-02-06 10:56:24,722]\u001b[0m Trial 45 finished with value: 0.8629907315181157 and parameters: {'classifier': 'RandomForest', 'rf_max_depth': 16}. Best is trial 13 with value: 0.8635421514243742.\u001b[0m\n",
            "\u001b[32m[I 2023-02-06 10:56:25,240]\u001b[0m Trial 46 finished with value: 0.8569253405029319 and parameters: {'classifier': 'RandomForest', 'rf_max_depth': 18}. Best is trial 13 with value: 0.8635421514243742.\u001b[0m\n",
            "\u001b[32m[I 2023-02-06 10:56:25,841]\u001b[0m Trial 47 finished with value: 0.8610607048577951 and parameters: {'classifier': 'RandomForest', 'rf_max_depth': 16}. Best is trial 13 with value: 0.8635421514243742.\u001b[0m\n",
            "\u001b[32m[I 2023-02-06 10:56:28,950]\u001b[0m Trial 48 finished with value: 0.7951758850557341 and parameters: {'classifier': 'SVC', 'svc_c': 0.10254613733120542}. Best is trial 13 with value: 0.8635421514243742.\u001b[0m\n",
            "\u001b[32m[I 2023-02-06 10:56:29,377]\u001b[0m Trial 49 finished with value: 0.8566508273065234 and parameters: {'classifier': 'RandomForest', 'rf_max_depth': 11}. Best is trial 13 with value: 0.8635421514243742.\u001b[0m\n"
          ]
        }
      ]
    },
    {
      "cell_type": "code",
      "source": [
        "print(study.best_trial)"
      ],
      "metadata": {
        "colab": {
          "base_uri": "https://localhost:8080/"
        },
        "id": "nZO-KMkA8ckV",
        "outputId": "3e5c6ec9-b395-40e9-bd61-e5f7cab863d6"
      },
      "execution_count": null,
      "outputs": [
        {
          "output_type": "stream",
          "name": "stdout",
          "text": [
            "FrozenTrial(number=13, state=TrialState.COMPLETE, values=[0.8635421514243742], datetime_start=datetime.datetime(2023, 2, 6, 10, 53, 24, 907884), datetime_complete=datetime.datetime(2023, 2, 6, 10, 53, 25, 427884), params={'classifier': 'RandomForest', 'rf_max_depth': 16}, user_attrs={}, system_attrs={}, intermediate_values={}, distributions={'classifier': CategoricalDistribution(choices=('SVC', 'RandomForest')), 'rf_max_depth': IntDistribution(high=40, log=True, low=10, step=1)}, trial_id=13, value=None)\n"
          ]
        }
      ]
    },
    {
      "cell_type": "code",
      "source": [
        "from optuna.visualization import plot_optimization_history\n",
        "plot_optimization_history(study)"
      ],
      "metadata": {
        "colab": {
          "base_uri": "https://localhost:8080/",
          "height": 542
        },
        "id": "y4I9lA9DX7nQ",
        "outputId": "1d2ad4f2-6421-440b-e8a7-0bf134643553"
      },
      "execution_count": null,
      "outputs": [
        {
          "output_type": "display_data",
          "data": {
            "text/html": [
              "<html>\n",
              "<head><meta charset=\"utf-8\" /></head>\n",
              "<body>\n",
              "    <div>            <script src=\"https://cdnjs.cloudflare.com/ajax/libs/mathjax/2.7.5/MathJax.js?config=TeX-AMS-MML_SVG\"></script><script type=\"text/javascript\">if (window.MathJax) {MathJax.Hub.Config({SVG: {font: \"STIX-Web\"}});}</script>                <script type=\"text/javascript\">window.PlotlyConfig = {MathJaxConfig: 'local'};</script>\n",
              "        <script src=\"https://cdn.plot.ly/plotly-2.8.3.min.js\"></script>                <div id=\"14cadf53-9428-495f-9d0d-b73905b72908\" class=\"plotly-graph-div\" style=\"height:525px; width:100%;\"></div>            <script type=\"text/javascript\">                                    window.PLOTLYENV=window.PLOTLYENV || {};                                    if (document.getElementById(\"14cadf53-9428-495f-9d0d-b73905b72908\")) {                    Plotly.newPlot(                        \"14cadf53-9428-495f-9d0d-b73905b72908\",                        [{\"mode\":\"markers\",\"name\":\"Objective Value\",\"x\":[0,1,2,3,4,5,6,7,8,9,10,11,12,13,14,15,16,17,18,19,20,21,22,23,24,25,26,27,28,29,30,31,32,33,34,35,36,37,38,39,40,41,42,43,44,45,46,47,48,49],\"y\":[0.8518258461383453,0.735079435582176,0.8589935070818934,0.6662990913881045,0.6662990913881045,0.8527906030206367,0.857615584188815,0.8588558800589898,0.6662990913881045,0.8129557577276576,0.8509992861631103,0.8603721708243706,0.8609235907306291,0.8635421514243742,0.8574771593280975,0.8620257466821629,0.8529282300435402,0.8599583779410155,0.8634046383783013,0.8577529832580574,0.857752698315981,0.8583043461759008,0.8616128656134524,0.8580284652575255,0.8623021404962756,0.8574773872817586,0.8216406212512308,0.8554099045637805,0.8585797141985383,0.8617506636016018,0.8565124594342213,0.859269274023438,0.8611994146605889,0.8606479377659152,0.8186080397204695,0.8610612177535325,0.8609234197653831,0.8114393529854463,0.853066483939012,0.8589935070818934,0.8267405715231396,0.8592689320929464,0.8607855647888186,0.8551336817149137,0.8577532682001338,0.8629907315181157,0.8569253405029319,0.8610607048577951,0.7951758850557341,0.8566508273065234],\"type\":\"scatter\"},{\"name\":\"Best Value\",\"x\":[0,1,2,3,4,5,6,7,8,9,10,11,12,13,14,15,16,17,18,19,20,21,22,23,24,25,26,27,28,29,30,31,32,33,34,35,36,37,38,39,40,41,42,43,44,45,46,47,48,49],\"y\":[0.8518258461383453,0.8518258461383453,0.8589935070818934,0.8589935070818934,0.8589935070818934,0.8589935070818934,0.8589935070818934,0.8589935070818934,0.8589935070818934,0.8589935070818934,0.8589935070818934,0.8603721708243706,0.8609235907306291,0.8635421514243742,0.8635421514243742,0.8635421514243742,0.8635421514243742,0.8635421514243742,0.8635421514243742,0.8635421514243742,0.8635421514243742,0.8635421514243742,0.8635421514243742,0.8635421514243742,0.8635421514243742,0.8635421514243742,0.8635421514243742,0.8635421514243742,0.8635421514243742,0.8635421514243742,0.8635421514243742,0.8635421514243742,0.8635421514243742,0.8635421514243742,0.8635421514243742,0.8635421514243742,0.8635421514243742,0.8635421514243742,0.8635421514243742,0.8635421514243742,0.8635421514243742,0.8635421514243742,0.8635421514243742,0.8635421514243742,0.8635421514243742,0.8635421514243742,0.8635421514243742,0.8635421514243742,0.8635421514243742,0.8635421514243742],\"type\":\"scatter\"}],                        {\"title\":{\"text\":\"Optimization History Plot\"},\"xaxis\":{\"title\":{\"text\":\"Trial\"}},\"yaxis\":{\"title\":{\"text\":\"Objective Value\"}},\"template\":{\"data\":{\"bar\":[{\"error_x\":{\"color\":\"#2a3f5f\"},\"error_y\":{\"color\":\"#2a3f5f\"},\"marker\":{\"line\":{\"color\":\"#E5ECF6\",\"width\":0.5},\"pattern\":{\"fillmode\":\"overlay\",\"size\":10,\"solidity\":0.2}},\"type\":\"bar\"}],\"barpolar\":[{\"marker\":{\"line\":{\"color\":\"#E5ECF6\",\"width\":0.5},\"pattern\":{\"fillmode\":\"overlay\",\"size\":10,\"solidity\":0.2}},\"type\":\"barpolar\"}],\"carpet\":[{\"aaxis\":{\"endlinecolor\":\"#2a3f5f\",\"gridcolor\":\"white\",\"linecolor\":\"white\",\"minorgridcolor\":\"white\",\"startlinecolor\":\"#2a3f5f\"},\"baxis\":{\"endlinecolor\":\"#2a3f5f\",\"gridcolor\":\"white\",\"linecolor\":\"white\",\"minorgridcolor\":\"white\",\"startlinecolor\":\"#2a3f5f\"},\"type\":\"carpet\"}],\"choropleth\":[{\"colorbar\":{\"outlinewidth\":0,\"ticks\":\"\"},\"type\":\"choropleth\"}],\"contour\":[{\"colorbar\":{\"outlinewidth\":0,\"ticks\":\"\"},\"colorscale\":[[0.0,\"#0d0887\"],[0.1111111111111111,\"#46039f\"],[0.2222222222222222,\"#7201a8\"],[0.3333333333333333,\"#9c179e\"],[0.4444444444444444,\"#bd3786\"],[0.5555555555555556,\"#d8576b\"],[0.6666666666666666,\"#ed7953\"],[0.7777777777777778,\"#fb9f3a\"],[0.8888888888888888,\"#fdca26\"],[1.0,\"#f0f921\"]],\"type\":\"contour\"}],\"contourcarpet\":[{\"colorbar\":{\"outlinewidth\":0,\"ticks\":\"\"},\"type\":\"contourcarpet\"}],\"heatmap\":[{\"colorbar\":{\"outlinewidth\":0,\"ticks\":\"\"},\"colorscale\":[[0.0,\"#0d0887\"],[0.1111111111111111,\"#46039f\"],[0.2222222222222222,\"#7201a8\"],[0.3333333333333333,\"#9c179e\"],[0.4444444444444444,\"#bd3786\"],[0.5555555555555556,\"#d8576b\"],[0.6666666666666666,\"#ed7953\"],[0.7777777777777778,\"#fb9f3a\"],[0.8888888888888888,\"#fdca26\"],[1.0,\"#f0f921\"]],\"type\":\"heatmap\"}],\"heatmapgl\":[{\"colorbar\":{\"outlinewidth\":0,\"ticks\":\"\"},\"colorscale\":[[0.0,\"#0d0887\"],[0.1111111111111111,\"#46039f\"],[0.2222222222222222,\"#7201a8\"],[0.3333333333333333,\"#9c179e\"],[0.4444444444444444,\"#bd3786\"],[0.5555555555555556,\"#d8576b\"],[0.6666666666666666,\"#ed7953\"],[0.7777777777777778,\"#fb9f3a\"],[0.8888888888888888,\"#fdca26\"],[1.0,\"#f0f921\"]],\"type\":\"heatmapgl\"}],\"histogram\":[{\"marker\":{\"pattern\":{\"fillmode\":\"overlay\",\"size\":10,\"solidity\":0.2}},\"type\":\"histogram\"}],\"histogram2d\":[{\"colorbar\":{\"outlinewidth\":0,\"ticks\":\"\"},\"colorscale\":[[0.0,\"#0d0887\"],[0.1111111111111111,\"#46039f\"],[0.2222222222222222,\"#7201a8\"],[0.3333333333333333,\"#9c179e\"],[0.4444444444444444,\"#bd3786\"],[0.5555555555555556,\"#d8576b\"],[0.6666666666666666,\"#ed7953\"],[0.7777777777777778,\"#fb9f3a\"],[0.8888888888888888,\"#fdca26\"],[1.0,\"#f0f921\"]],\"type\":\"histogram2d\"}],\"histogram2dcontour\":[{\"colorbar\":{\"outlinewidth\":0,\"ticks\":\"\"},\"colorscale\":[[0.0,\"#0d0887\"],[0.1111111111111111,\"#46039f\"],[0.2222222222222222,\"#7201a8\"],[0.3333333333333333,\"#9c179e\"],[0.4444444444444444,\"#bd3786\"],[0.5555555555555556,\"#d8576b\"],[0.6666666666666666,\"#ed7953\"],[0.7777777777777778,\"#fb9f3a\"],[0.8888888888888888,\"#fdca26\"],[1.0,\"#f0f921\"]],\"type\":\"histogram2dcontour\"}],\"mesh3d\":[{\"colorbar\":{\"outlinewidth\":0,\"ticks\":\"\"},\"type\":\"mesh3d\"}],\"parcoords\":[{\"line\":{\"colorbar\":{\"outlinewidth\":0,\"ticks\":\"\"}},\"type\":\"parcoords\"}],\"pie\":[{\"automargin\":true,\"type\":\"pie\"}],\"scatter\":[{\"marker\":{\"colorbar\":{\"outlinewidth\":0,\"ticks\":\"\"}},\"type\":\"scatter\"}],\"scatter3d\":[{\"line\":{\"colorbar\":{\"outlinewidth\":0,\"ticks\":\"\"}},\"marker\":{\"colorbar\":{\"outlinewidth\":0,\"ticks\":\"\"}},\"type\":\"scatter3d\"}],\"scattercarpet\":[{\"marker\":{\"colorbar\":{\"outlinewidth\":0,\"ticks\":\"\"}},\"type\":\"scattercarpet\"}],\"scattergeo\":[{\"marker\":{\"colorbar\":{\"outlinewidth\":0,\"ticks\":\"\"}},\"type\":\"scattergeo\"}],\"scattergl\":[{\"marker\":{\"colorbar\":{\"outlinewidth\":0,\"ticks\":\"\"}},\"type\":\"scattergl\"}],\"scattermapbox\":[{\"marker\":{\"colorbar\":{\"outlinewidth\":0,\"ticks\":\"\"}},\"type\":\"scattermapbox\"}],\"scatterpolar\":[{\"marker\":{\"colorbar\":{\"outlinewidth\":0,\"ticks\":\"\"}},\"type\":\"scatterpolar\"}],\"scatterpolargl\":[{\"marker\":{\"colorbar\":{\"outlinewidth\":0,\"ticks\":\"\"}},\"type\":\"scatterpolargl\"}],\"scatterternary\":[{\"marker\":{\"colorbar\":{\"outlinewidth\":0,\"ticks\":\"\"}},\"type\":\"scatterternary\"}],\"surface\":[{\"colorbar\":{\"outlinewidth\":0,\"ticks\":\"\"},\"colorscale\":[[0.0,\"#0d0887\"],[0.1111111111111111,\"#46039f\"],[0.2222222222222222,\"#7201a8\"],[0.3333333333333333,\"#9c179e\"],[0.4444444444444444,\"#bd3786\"],[0.5555555555555556,\"#d8576b\"],[0.6666666666666666,\"#ed7953\"],[0.7777777777777778,\"#fb9f3a\"],[0.8888888888888888,\"#fdca26\"],[1.0,\"#f0f921\"]],\"type\":\"surface\"}],\"table\":[{\"cells\":{\"fill\":{\"color\":\"#EBF0F8\"},\"line\":{\"color\":\"white\"}},\"header\":{\"fill\":{\"color\":\"#C8D4E3\"},\"line\":{\"color\":\"white\"}},\"type\":\"table\"}]},\"layout\":{\"annotationdefaults\":{\"arrowcolor\":\"#2a3f5f\",\"arrowhead\":0,\"arrowwidth\":1},\"autotypenumbers\":\"strict\",\"coloraxis\":{\"colorbar\":{\"outlinewidth\":0,\"ticks\":\"\"}},\"colorscale\":{\"diverging\":[[0,\"#8e0152\"],[0.1,\"#c51b7d\"],[0.2,\"#de77ae\"],[0.3,\"#f1b6da\"],[0.4,\"#fde0ef\"],[0.5,\"#f7f7f7\"],[0.6,\"#e6f5d0\"],[0.7,\"#b8e186\"],[0.8,\"#7fbc41\"],[0.9,\"#4d9221\"],[1,\"#276419\"]],\"sequential\":[[0.0,\"#0d0887\"],[0.1111111111111111,\"#46039f\"],[0.2222222222222222,\"#7201a8\"],[0.3333333333333333,\"#9c179e\"],[0.4444444444444444,\"#bd3786\"],[0.5555555555555556,\"#d8576b\"],[0.6666666666666666,\"#ed7953\"],[0.7777777777777778,\"#fb9f3a\"],[0.8888888888888888,\"#fdca26\"],[1.0,\"#f0f921\"]],\"sequentialminus\":[[0.0,\"#0d0887\"],[0.1111111111111111,\"#46039f\"],[0.2222222222222222,\"#7201a8\"],[0.3333333333333333,\"#9c179e\"],[0.4444444444444444,\"#bd3786\"],[0.5555555555555556,\"#d8576b\"],[0.6666666666666666,\"#ed7953\"],[0.7777777777777778,\"#fb9f3a\"],[0.8888888888888888,\"#fdca26\"],[1.0,\"#f0f921\"]]},\"colorway\":[\"#636efa\",\"#EF553B\",\"#00cc96\",\"#ab63fa\",\"#FFA15A\",\"#19d3f3\",\"#FF6692\",\"#B6E880\",\"#FF97FF\",\"#FECB52\"],\"font\":{\"color\":\"#2a3f5f\"},\"geo\":{\"bgcolor\":\"white\",\"lakecolor\":\"white\",\"landcolor\":\"#E5ECF6\",\"showlakes\":true,\"showland\":true,\"subunitcolor\":\"white\"},\"hoverlabel\":{\"align\":\"left\"},\"hovermode\":\"closest\",\"mapbox\":{\"style\":\"light\"},\"paper_bgcolor\":\"white\",\"plot_bgcolor\":\"#E5ECF6\",\"polar\":{\"angularaxis\":{\"gridcolor\":\"white\",\"linecolor\":\"white\",\"ticks\":\"\"},\"bgcolor\":\"#E5ECF6\",\"radialaxis\":{\"gridcolor\":\"white\",\"linecolor\":\"white\",\"ticks\":\"\"}},\"scene\":{\"xaxis\":{\"backgroundcolor\":\"#E5ECF6\",\"gridcolor\":\"white\",\"gridwidth\":2,\"linecolor\":\"white\",\"showbackground\":true,\"ticks\":\"\",\"zerolinecolor\":\"white\"},\"yaxis\":{\"backgroundcolor\":\"#E5ECF6\",\"gridcolor\":\"white\",\"gridwidth\":2,\"linecolor\":\"white\",\"showbackground\":true,\"ticks\":\"\",\"zerolinecolor\":\"white\"},\"zaxis\":{\"backgroundcolor\":\"#E5ECF6\",\"gridcolor\":\"white\",\"gridwidth\":2,\"linecolor\":\"white\",\"showbackground\":true,\"ticks\":\"\",\"zerolinecolor\":\"white\"}},\"shapedefaults\":{\"line\":{\"color\":\"#2a3f5f\"}},\"ternary\":{\"aaxis\":{\"gridcolor\":\"white\",\"linecolor\":\"white\",\"ticks\":\"\"},\"baxis\":{\"gridcolor\":\"white\",\"linecolor\":\"white\",\"ticks\":\"\"},\"bgcolor\":\"#E5ECF6\",\"caxis\":{\"gridcolor\":\"white\",\"linecolor\":\"white\",\"ticks\":\"\"}},\"title\":{\"x\":0.05},\"xaxis\":{\"automargin\":true,\"gridcolor\":\"white\",\"linecolor\":\"white\",\"ticks\":\"\",\"title\":{\"standoff\":15},\"zerolinecolor\":\"white\",\"zerolinewidth\":2},\"yaxis\":{\"automargin\":true,\"gridcolor\":\"white\",\"linecolor\":\"white\",\"ticks\":\"\",\"title\":{\"standoff\":15},\"zerolinecolor\":\"white\",\"zerolinewidth\":2}}}},                        {\"responsive\": true}                    ).then(function(){\n",
              "                            \n",
              "var gd = document.getElementById('14cadf53-9428-495f-9d0d-b73905b72908');\n",
              "var x = new MutationObserver(function (mutations, observer) {{\n",
              "        var display = window.getComputedStyle(gd).display;\n",
              "        if (!display || display === 'none') {{\n",
              "            console.log([gd, 'removed!']);\n",
              "            Plotly.purge(gd);\n",
              "            observer.disconnect();\n",
              "        }}\n",
              "}});\n",
              "\n",
              "// Listen for the removal of the full notebook cells\n",
              "var notebookContainer = gd.closest('#notebook-container');\n",
              "if (notebookContainer) {{\n",
              "    x.observe(notebookContainer, {childList: true});\n",
              "}}\n",
              "\n",
              "// Listen for the clearing of the current output cell\n",
              "var outputEl = gd.closest('.output');\n",
              "if (outputEl) {{\n",
              "    x.observe(outputEl, {childList: true});\n",
              "}}\n",
              "\n",
              "                        })                };                            </script>        </div>\n",
              "</body>\n",
              "</html>"
            ]
          },
          "metadata": {}
        }
      ]
    },
    {
      "cell_type": "markdown",
      "source": [
        "## Обучение модели"
      ],
      "metadata": {
        "id": "81S8JTf5P5NW"
      }
    },
    {
      "cell_type": "code",
      "source": [
        "%%time\n",
        "model_opt = RandomForestClassifier(n_estimators = 30, max_depth = 16)\n",
        "model_opt.fit(X_train, y_train.values.ravel())\n"
      ],
      "metadata": {
        "colab": {
          "base_uri": "https://localhost:8080/"
        },
        "id": "Tt0PYxrb6zDz",
        "outputId": "ea4a5bfe-aa33-4fe2-af02-2dd7236b239e"
      },
      "execution_count": null,
      "outputs": [
        {
          "output_type": "stream",
          "name": "stdout",
          "text": [
            "CPU times: user 549 ms, sys: 5.7 ms, total: 555 ms\n",
            "Wall time: 558 ms\n"
          ]
        },
        {
          "output_type": "execute_result",
          "data": {
            "text/plain": [
              "RandomForestClassifier(max_depth=16, n_estimators=30)"
            ]
          },
          "metadata": {},
          "execution_count": 28
        }
      ]
    },
    {
      "cell_type": "markdown",
      "source": [
        "## Оценка модели. \n",
        "И работу моделей на валидационных наборах."
      ],
      "metadata": {
        "id": "TNyUWeo4oT6E"
      }
    },
    {
      "cell_type": "code",
      "source": [
        "y_pred = model_opt.predict(X_val)\n",
        "accuracy = round(accuracy_score(y_val, y_pred), 3)\n",
        "precision = round(precision_score(y_val, y_pred), 3)\n",
        "recall = round(recall_score(y_val, y_pred), 3)\n",
        "\n",
        "print('Max Depth: {} || Estimators: {} || Accuracy: {} || Precision: {} || Recall: {}'.format(model_opt.max_depth,\n",
        "                                                                                                model_opt.n_estimators,\n",
        "                                                                                                accuracy,\n",
        "                                                                                                precision,\n",
        "                                                                                                recall))"
      ],
      "metadata": {
        "colab": {
          "base_uri": "https://localhost:8080/"
        },
        "id": "qTpqyg_NDOcu",
        "outputId": "0d50a844-cdbc-4e7d-a85d-a726a676c3a0"
      },
      "execution_count": null,
      "outputs": [
        {
          "output_type": "stream",
          "name": "stdout",
          "text": [
            "Max Depth: 16 || Estimators: 30 || Accuracy: 0.877 || Precision: 0.886 || Recall: 0.935\n"
          ]
        }
      ]
    },
    {
      "cell_type": "markdown",
      "source": [
        "Теперь запустим модель на тестовом наборе. "
      ],
      "metadata": {
        "id": "xZa-J76K_ndl"
      }
    },
    {
      "cell_type": "code",
      "source": [
        "y_pred = model_opt.predict(X_test)\n",
        "accuracy = round(accuracy_score(y_test, y_pred), 6)\n",
        "precision = round(precision_score(y_test, y_pred), 6)\n",
        "recall = round(recall_score(y_test, y_pred), 6)\n",
        "\n",
        "print('Max Depth: {} || Estimators: {} || Accuracy: {} || Precision: {} || Recall: {}'.format(model_opt.max_depth,\n",
        "                                                                                                model_opt.n_estimators,\n",
        "                                                                                                accuracy,\n",
        "                                                                                                precision,\n",
        "                                                                                                recall))\n",
        "\n"
      ],
      "metadata": {
        "colab": {
          "base_uri": "https://localhost:8080/"
        },
        "id": "hhz30f6D_Wb3",
        "outputId": "265803e5-164e-4f62-ce05-20effb6f3e32"
      },
      "execution_count": null,
      "outputs": [
        {
          "output_type": "stream",
          "name": "stdout",
          "text": [
            "Max Depth: 16 || Estimators: 30 || Accuracy: 0.874294 || Precision: 0.884971 || Recall: 0.935819\n"
          ]
        }
      ]
    },
    {
      "cell_type": "code",
      "source": [
        "from sklearn.metrics import confusion_matrix\n",
        "model_matrix = confusion_matrix(y_test, y_pred, labels = [1,0])\n",
        "#вспомним матрицу ошибок и выведем ее\n",
        "# для удобства создадим датафрейм\n",
        "model_matrix_df = pd.DataFrame(model_matrix)\n",
        "print(model_matrix_df)"
      ],
      "metadata": {
        "colab": {
          "base_uri": "https://localhost:8080/"
        },
        "id": "f_0bLNc9Aoxb",
        "outputId": "df28c2fb-5daa-442e-c15b-cfa03c1c118d"
      },
      "execution_count": null,
      "outputs": [
        {
          "output_type": "stream",
          "name": "stdout",
          "text": [
            "      0     1\n",
            "0  4593   315\n",
            "1   597  1750\n"
          ]
        }
      ]
    }
  ]
}