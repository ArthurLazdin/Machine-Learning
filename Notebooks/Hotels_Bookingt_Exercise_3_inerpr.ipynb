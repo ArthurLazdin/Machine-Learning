{
  "cells": [
    {
      "cell_type": "markdown",
      "metadata": {
        "id": "view-in-github",
        "colab_type": "text"
      },
      "source": [
        "<a href=\"https://colab.research.google.com/github/ArthurLazdin/Machine-Learning/blob/main/Notebooks/Hotels_Bookingt_Exercise_3_inerpr.ipynb\" target=\"_parent\"><img src=\"https://colab.research.google.com/assets/colab-badge.svg\" alt=\"Open In Colab\"/></a>"
      ]
    },
    {
      "cell_type": "markdown",
      "metadata": {
        "id": "w84-f-weUxCK"
      },
      "source": [
        "# Заселится клиент или не заселится? Часть вторая.\n"
      ]
    },
    {
      "cell_type": "code",
      "execution_count": 1,
      "metadata": {
        "colab": {
          "base_uri": "https://localhost:8080/"
        },
        "id": "RWSJpsyKqHjH",
        "outputId": "57732f9e-9afe-4ce2-d7d7-8d592d1969d6"
      },
      "outputs": [
        {
          "output_type": "stream",
          "name": "stdout",
          "text": [
            "Mounted at /content/drive\n"
          ]
        }
      ],
      "source": [
        "from google.colab import drive\n",
        "drive.mount('/content/drive')"
      ]
    },
    {
      "cell_type": "code",
      "execution_count": 2,
      "metadata": {
        "id": "GLJM7D799IT4"
      },
      "outputs": [],
      "source": [
        "# Import libraries\n",
        "import pandas as pd\n",
        "import numpy as np\n",
        "import matplotlib.pyplot as plt\n",
        "import seaborn as sns\n",
        "\n",
        "from datetime import datetime"
      ]
    },
    {
      "cell_type": "code",
      "execution_count": 3,
      "metadata": {
        "id": "Y508kXgd0em_"
      },
      "outputs": [],
      "source": [
        "hotel_resrv = pd.read_csv('/content/drive/My Drive/Colab Notebooks/Machine Learning/Data/Hotel Reservations.csv')\n"
      ]
    },
    {
      "cell_type": "markdown",
      "metadata": {
        "id": "CWbA2xroXkko"
      },
      "source": [
        "## Описание набора.\n",
        "[Набор](https://www.kaggle.com/datasets/ahsan81/hotel-reservations-classification-dataset) представляет собой информацию о бронировании отелей в онлайн режиме и предназначен для обучения модели-классификатора, которая будет прогнозировать заселится ли клиент или откажется от бронирования.\n",
        "Набор включает следующие переменные:\n",
        "\n",
        "* Booking_ID: unique identifier of each booking\n",
        "* no_of_adults: Number of adults\n",
        "* no_of_children: Number of Children\n",
        "* no_of_weekend_nights: Number of weekend nights (Saturday or Sunday) the guest stayed or booked to stay at the hotel\n",
        "* no_of_week_nights: Number of week nights (Monday to Friday) the guest stayed or booked to stay at the hotel\n",
        "* type_of_meal_plan: Type of meal plan booked by the customer:\n",
        "* required_car_parking_space: Does the customer require a car parking space? (0 - No, 1- Yes)\n",
        "* room_type_reserved: Type of room reserved by the customer. The values are ciphered (encoded) by INN Hotels.\n",
        "* lead_time: Number of days between the date of booking and the arrival date\n",
        "* arrival_year: Year of arrival date\n",
        "* arrival_month: Month of arrival date\n",
        "* arrival_date: Date of the month\n",
        "* market_segment_type: Market segment designation.\n",
        "* repeated_guest: Is the customer a repeated guest? (0 - No, 1- Yes)\n",
        "* no_of_previous_cancellations: Number of previous bookings that were canceled by the customer prior to the current booking\n",
        "* no_of_previous_bookings_not_canceled: Number of previous bookings not canceled by the customer prior to the current booking\n",
        "* avg_price_per_room: Average price per day of the reservation; prices of the rooms are dynamic. (in euros)\n",
        "* no_of_special_requests: Total number of special requests made by the customer (e.g. high floor, view from the room, etc)\n",
        "* booking_status: Flag indicating if the booking was canceled or not.\n",
        "Целевой переменной является booking_status.\n"
      ]
    },
    {
      "cell_type": "code",
      "execution_count": 4,
      "metadata": {
        "colab": {
          "base_uri": "https://localhost:8080/"
        },
        "id": "hLP4jVqmS7D0",
        "outputId": "78c00662-1c67-4dec-ff81-62ba19c790e4"
      },
      "outputs": [
        {
          "output_type": "stream",
          "name": "stdout",
          "text": [
            "<class 'pandas.core.frame.DataFrame'>\n",
            "RangeIndex: 36275 entries, 0 to 36274\n",
            "Data columns (total 19 columns):\n",
            " #   Column                                Non-Null Count  Dtype  \n",
            "---  ------                                --------------  -----  \n",
            " 0   Booking_ID                            36275 non-null  object \n",
            " 1   no_of_adults                          36275 non-null  int64  \n",
            " 2   no_of_children                        36275 non-null  int64  \n",
            " 3   no_of_weekend_nights                  36275 non-null  int64  \n",
            " 4   no_of_week_nights                     36275 non-null  int64  \n",
            " 5   type_of_meal_plan                     36275 non-null  object \n",
            " 6   required_car_parking_space            36275 non-null  int64  \n",
            " 7   room_type_reserved                    36275 non-null  object \n",
            " 8   lead_time                             36275 non-null  int64  \n",
            " 9   arrival_year                          36275 non-null  int64  \n",
            " 10  arrival_month                         36275 non-null  int64  \n",
            " 11  arrival_date                          36275 non-null  int64  \n",
            " 12  market_segment_type                   36275 non-null  object \n",
            " 13  repeated_guest                        36275 non-null  int64  \n",
            " 14  no_of_previous_cancellations          36275 non-null  int64  \n",
            " 15  no_of_previous_bookings_not_canceled  36275 non-null  int64  \n",
            " 16  avg_price_per_room                    36275 non-null  float64\n",
            " 17  no_of_special_requests                36275 non-null  int64  \n",
            " 18  booking_status                        36275 non-null  object \n",
            "dtypes: float64(1), int64(13), object(5)\n",
            "memory usage: 5.3+ MB\n"
          ]
        }
      ],
      "source": [
        "hotel_resrv.info()"
      ]
    },
    {
      "cell_type": "markdown",
      "metadata": {
        "id": "nbmfQaXlcXrA"
      },
      "source": [
        "В наборе нет пропусков. Это не может не радовать. Посмотрим на примерное содержимое переменных."
      ]
    },
    {
      "cell_type": "code",
      "execution_count": 5,
      "metadata": {
        "colab": {
          "base_uri": "https://localhost:8080/",
          "height": 270
        },
        "id": "tbk-tqbD1f_B",
        "outputId": "5d30635f-a3db-4af0-8c77-21127188c7a3"
      },
      "outputs": [
        {
          "output_type": "execute_result",
          "data": {
            "text/plain": [
              "  Booking_ID  no_of_adults  no_of_children  no_of_weekend_nights  \\\n",
              "0   INN00001             2               0                     1   \n",
              "1   INN00002             2               0                     2   \n",
              "2   INN00003             1               0                     2   \n",
              "3   INN00004             2               0                     0   \n",
              "4   INN00005             2               0                     1   \n",
              "\n",
              "   no_of_week_nights type_of_meal_plan  required_car_parking_space  \\\n",
              "0                  2       Meal Plan 1                           0   \n",
              "1                  3      Not Selected                           0   \n",
              "2                  1       Meal Plan 1                           0   \n",
              "3                  2       Meal Plan 1                           0   \n",
              "4                  1      Not Selected                           0   \n",
              "\n",
              "  room_type_reserved  lead_time  arrival_year  arrival_month  arrival_date  \\\n",
              "0        Room_Type 1        224          2017             10             2   \n",
              "1        Room_Type 1          5          2018             11             6   \n",
              "2        Room_Type 1          1          2018              2            28   \n",
              "3        Room_Type 1        211          2018              5            20   \n",
              "4        Room_Type 1         48          2018              4            11   \n",
              "\n",
              "  market_segment_type  repeated_guest  no_of_previous_cancellations  \\\n",
              "0             Offline               0                             0   \n",
              "1              Online               0                             0   \n",
              "2              Online               0                             0   \n",
              "3              Online               0                             0   \n",
              "4              Online               0                             0   \n",
              "\n",
              "   no_of_previous_bookings_not_canceled  avg_price_per_room  \\\n",
              "0                                     0               65.00   \n",
              "1                                     0              106.68   \n",
              "2                                     0               60.00   \n",
              "3                                     0              100.00   \n",
              "4                                     0               94.50   \n",
              "\n",
              "   no_of_special_requests booking_status  \n",
              "0                       0   Not_Canceled  \n",
              "1                       1   Not_Canceled  \n",
              "2                       0       Canceled  \n",
              "3                       0       Canceled  \n",
              "4                       0       Canceled  "
            ],
            "text/html": [
              "\n",
              "  <div id=\"df-6f447ac6-25e1-4707-b857-582ccaa63b75\">\n",
              "    <div class=\"colab-df-container\">\n",
              "      <div>\n",
              "<style scoped>\n",
              "    .dataframe tbody tr th:only-of-type {\n",
              "        vertical-align: middle;\n",
              "    }\n",
              "\n",
              "    .dataframe tbody tr th {\n",
              "        vertical-align: top;\n",
              "    }\n",
              "\n",
              "    .dataframe thead th {\n",
              "        text-align: right;\n",
              "    }\n",
              "</style>\n",
              "<table border=\"1\" class=\"dataframe\">\n",
              "  <thead>\n",
              "    <tr style=\"text-align: right;\">\n",
              "      <th></th>\n",
              "      <th>Booking_ID</th>\n",
              "      <th>no_of_adults</th>\n",
              "      <th>no_of_children</th>\n",
              "      <th>no_of_weekend_nights</th>\n",
              "      <th>no_of_week_nights</th>\n",
              "      <th>type_of_meal_plan</th>\n",
              "      <th>required_car_parking_space</th>\n",
              "      <th>room_type_reserved</th>\n",
              "      <th>lead_time</th>\n",
              "      <th>arrival_year</th>\n",
              "      <th>arrival_month</th>\n",
              "      <th>arrival_date</th>\n",
              "      <th>market_segment_type</th>\n",
              "      <th>repeated_guest</th>\n",
              "      <th>no_of_previous_cancellations</th>\n",
              "      <th>no_of_previous_bookings_not_canceled</th>\n",
              "      <th>avg_price_per_room</th>\n",
              "      <th>no_of_special_requests</th>\n",
              "      <th>booking_status</th>\n",
              "    </tr>\n",
              "  </thead>\n",
              "  <tbody>\n",
              "    <tr>\n",
              "      <th>0</th>\n",
              "      <td>INN00001</td>\n",
              "      <td>2</td>\n",
              "      <td>0</td>\n",
              "      <td>1</td>\n",
              "      <td>2</td>\n",
              "      <td>Meal Plan 1</td>\n",
              "      <td>0</td>\n",
              "      <td>Room_Type 1</td>\n",
              "      <td>224</td>\n",
              "      <td>2017</td>\n",
              "      <td>10</td>\n",
              "      <td>2</td>\n",
              "      <td>Offline</td>\n",
              "      <td>0</td>\n",
              "      <td>0</td>\n",
              "      <td>0</td>\n",
              "      <td>65.00</td>\n",
              "      <td>0</td>\n",
              "      <td>Not_Canceled</td>\n",
              "    </tr>\n",
              "    <tr>\n",
              "      <th>1</th>\n",
              "      <td>INN00002</td>\n",
              "      <td>2</td>\n",
              "      <td>0</td>\n",
              "      <td>2</td>\n",
              "      <td>3</td>\n",
              "      <td>Not Selected</td>\n",
              "      <td>0</td>\n",
              "      <td>Room_Type 1</td>\n",
              "      <td>5</td>\n",
              "      <td>2018</td>\n",
              "      <td>11</td>\n",
              "      <td>6</td>\n",
              "      <td>Online</td>\n",
              "      <td>0</td>\n",
              "      <td>0</td>\n",
              "      <td>0</td>\n",
              "      <td>106.68</td>\n",
              "      <td>1</td>\n",
              "      <td>Not_Canceled</td>\n",
              "    </tr>\n",
              "    <tr>\n",
              "      <th>2</th>\n",
              "      <td>INN00003</td>\n",
              "      <td>1</td>\n",
              "      <td>0</td>\n",
              "      <td>2</td>\n",
              "      <td>1</td>\n",
              "      <td>Meal Plan 1</td>\n",
              "      <td>0</td>\n",
              "      <td>Room_Type 1</td>\n",
              "      <td>1</td>\n",
              "      <td>2018</td>\n",
              "      <td>2</td>\n",
              "      <td>28</td>\n",
              "      <td>Online</td>\n",
              "      <td>0</td>\n",
              "      <td>0</td>\n",
              "      <td>0</td>\n",
              "      <td>60.00</td>\n",
              "      <td>0</td>\n",
              "      <td>Canceled</td>\n",
              "    </tr>\n",
              "    <tr>\n",
              "      <th>3</th>\n",
              "      <td>INN00004</td>\n",
              "      <td>2</td>\n",
              "      <td>0</td>\n",
              "      <td>0</td>\n",
              "      <td>2</td>\n",
              "      <td>Meal Plan 1</td>\n",
              "      <td>0</td>\n",
              "      <td>Room_Type 1</td>\n",
              "      <td>211</td>\n",
              "      <td>2018</td>\n",
              "      <td>5</td>\n",
              "      <td>20</td>\n",
              "      <td>Online</td>\n",
              "      <td>0</td>\n",
              "      <td>0</td>\n",
              "      <td>0</td>\n",
              "      <td>100.00</td>\n",
              "      <td>0</td>\n",
              "      <td>Canceled</td>\n",
              "    </tr>\n",
              "    <tr>\n",
              "      <th>4</th>\n",
              "      <td>INN00005</td>\n",
              "      <td>2</td>\n",
              "      <td>0</td>\n",
              "      <td>1</td>\n",
              "      <td>1</td>\n",
              "      <td>Not Selected</td>\n",
              "      <td>0</td>\n",
              "      <td>Room_Type 1</td>\n",
              "      <td>48</td>\n",
              "      <td>2018</td>\n",
              "      <td>4</td>\n",
              "      <td>11</td>\n",
              "      <td>Online</td>\n",
              "      <td>0</td>\n",
              "      <td>0</td>\n",
              "      <td>0</td>\n",
              "      <td>94.50</td>\n",
              "      <td>0</td>\n",
              "      <td>Canceled</td>\n",
              "    </tr>\n",
              "  </tbody>\n",
              "</table>\n",
              "</div>\n",
              "      <button class=\"colab-df-convert\" onclick=\"convertToInteractive('df-6f447ac6-25e1-4707-b857-582ccaa63b75')\"\n",
              "              title=\"Convert this dataframe to an interactive table.\"\n",
              "              style=\"display:none;\">\n",
              "        \n",
              "  <svg xmlns=\"http://www.w3.org/2000/svg\" height=\"24px\"viewBox=\"0 0 24 24\"\n",
              "       width=\"24px\">\n",
              "    <path d=\"M0 0h24v24H0V0z\" fill=\"none\"/>\n",
              "    <path d=\"M18.56 5.44l.94 2.06.94-2.06 2.06-.94-2.06-.94-.94-2.06-.94 2.06-2.06.94zm-11 1L8.5 8.5l.94-2.06 2.06-.94-2.06-.94L8.5 2.5l-.94 2.06-2.06.94zm10 10l.94 2.06.94-2.06 2.06-.94-2.06-.94-.94-2.06-.94 2.06-2.06.94z\"/><path d=\"M17.41 7.96l-1.37-1.37c-.4-.4-.92-.59-1.43-.59-.52 0-1.04.2-1.43.59L10.3 9.45l-7.72 7.72c-.78.78-.78 2.05 0 2.83L4 21.41c.39.39.9.59 1.41.59.51 0 1.02-.2 1.41-.59l7.78-7.78 2.81-2.81c.8-.78.8-2.07 0-2.86zM5.41 20L4 18.59l7.72-7.72 1.47 1.35L5.41 20z\"/>\n",
              "  </svg>\n",
              "      </button>\n",
              "      \n",
              "  <style>\n",
              "    .colab-df-container {\n",
              "      display:flex;\n",
              "      flex-wrap:wrap;\n",
              "      gap: 12px;\n",
              "    }\n",
              "\n",
              "    .colab-df-convert {\n",
              "      background-color: #E8F0FE;\n",
              "      border: none;\n",
              "      border-radius: 50%;\n",
              "      cursor: pointer;\n",
              "      display: none;\n",
              "      fill: #1967D2;\n",
              "      height: 32px;\n",
              "      padding: 0 0 0 0;\n",
              "      width: 32px;\n",
              "    }\n",
              "\n",
              "    .colab-df-convert:hover {\n",
              "      background-color: #E2EBFA;\n",
              "      box-shadow: 0px 1px 2px rgba(60, 64, 67, 0.3), 0px 1px 3px 1px rgba(60, 64, 67, 0.15);\n",
              "      fill: #174EA6;\n",
              "    }\n",
              "\n",
              "    [theme=dark] .colab-df-convert {\n",
              "      background-color: #3B4455;\n",
              "      fill: #D2E3FC;\n",
              "    }\n",
              "\n",
              "    [theme=dark] .colab-df-convert:hover {\n",
              "      background-color: #434B5C;\n",
              "      box-shadow: 0px 1px 3px 1px rgba(0, 0, 0, 0.15);\n",
              "      filter: drop-shadow(0px 1px 2px rgba(0, 0, 0, 0.3));\n",
              "      fill: #FFFFFF;\n",
              "    }\n",
              "  </style>\n",
              "\n",
              "      <script>\n",
              "        const buttonEl =\n",
              "          document.querySelector('#df-6f447ac6-25e1-4707-b857-582ccaa63b75 button.colab-df-convert');\n",
              "        buttonEl.style.display =\n",
              "          google.colab.kernel.accessAllowed ? 'block' : 'none';\n",
              "\n",
              "        async function convertToInteractive(key) {\n",
              "          const element = document.querySelector('#df-6f447ac6-25e1-4707-b857-582ccaa63b75');\n",
              "          const dataTable =\n",
              "            await google.colab.kernel.invokeFunction('convertToInteractive',\n",
              "                                                     [key], {});\n",
              "          if (!dataTable) return;\n",
              "\n",
              "          const docLinkHtml = 'Like what you see? Visit the ' +\n",
              "            '<a target=\"_blank\" href=https://colab.research.google.com/notebooks/data_table.ipynb>data table notebook</a>'\n",
              "            + ' to learn more about interactive tables.';\n",
              "          element.innerHTML = '';\n",
              "          dataTable['output_type'] = 'display_data';\n",
              "          await google.colab.output.renderOutput(dataTable, element);\n",
              "          const docLink = document.createElement('div');\n",
              "          docLink.innerHTML = docLinkHtml;\n",
              "          element.appendChild(docLink);\n",
              "        }\n",
              "      </script>\n",
              "    </div>\n",
              "  </div>\n",
              "  "
            ]
          },
          "metadata": {},
          "execution_count": 5
        }
      ],
      "source": [
        "hotel_resrv.head()\n"
      ]
    },
    {
      "cell_type": "code",
      "execution_count": 6,
      "metadata": {
        "colab": {
          "base_uri": "https://localhost:8080/",
          "height": 364
        },
        "id": "hQYqhsJO-LTU",
        "outputId": "009e0474-eb8b-4cdb-e7ee-2df7181532a0"
      },
      "outputs": [
        {
          "output_type": "execute_result",
          "data": {
            "text/plain": [
              "       no_of_adults  no_of_children  no_of_weekend_nights  no_of_week_nights  \\\n",
              "count  36275.000000    36275.000000          36275.000000       36275.000000   \n",
              "mean       1.844962        0.105279              0.810724           2.204300   \n",
              "std        0.518715        0.402648              0.870644           1.410905   \n",
              "min        0.000000        0.000000              0.000000           0.000000   \n",
              "25%        2.000000        0.000000              0.000000           1.000000   \n",
              "50%        2.000000        0.000000              1.000000           2.000000   \n",
              "75%        2.000000        0.000000              2.000000           3.000000   \n",
              "max        4.000000       10.000000              7.000000          17.000000   \n",
              "\n",
              "       required_car_parking_space     lead_time  arrival_year  arrival_month  \\\n",
              "count                36275.000000  36275.000000  36275.000000   36275.000000   \n",
              "mean                     0.030986     85.232557   2017.820427       7.423653   \n",
              "std                      0.173281     85.930817      0.383836       3.069894   \n",
              "min                      0.000000      0.000000   2017.000000       1.000000   \n",
              "25%                      0.000000     17.000000   2018.000000       5.000000   \n",
              "50%                      0.000000     57.000000   2018.000000       8.000000   \n",
              "75%                      0.000000    126.000000   2018.000000      10.000000   \n",
              "max                      1.000000    443.000000   2018.000000      12.000000   \n",
              "\n",
              "       arrival_date  repeated_guest  no_of_previous_cancellations  \\\n",
              "count  36275.000000    36275.000000                  36275.000000   \n",
              "mean      15.596995        0.025637                      0.023349   \n",
              "std        8.740447        0.158053                      0.368331   \n",
              "min        1.000000        0.000000                      0.000000   \n",
              "25%        8.000000        0.000000                      0.000000   \n",
              "50%       16.000000        0.000000                      0.000000   \n",
              "75%       23.000000        0.000000                      0.000000   \n",
              "max       31.000000        1.000000                     13.000000   \n",
              "\n",
              "       no_of_previous_bookings_not_canceled  avg_price_per_room  \\\n",
              "count                          36275.000000        36275.000000   \n",
              "mean                               0.153411          103.423539   \n",
              "std                                1.754171           35.089424   \n",
              "min                                0.000000            0.000000   \n",
              "25%                                0.000000           80.300000   \n",
              "50%                                0.000000           99.450000   \n",
              "75%                                0.000000          120.000000   \n",
              "max                               58.000000          540.000000   \n",
              "\n",
              "       no_of_special_requests  \n",
              "count            36275.000000  \n",
              "mean                 0.619655  \n",
              "std                  0.786236  \n",
              "min                  0.000000  \n",
              "25%                  0.000000  \n",
              "50%                  0.000000  \n",
              "75%                  1.000000  \n",
              "max                  5.000000  "
            ],
            "text/html": [
              "\n",
              "  <div id=\"df-1a32fd83-7d90-4172-ae0a-201e8479e1e6\">\n",
              "    <div class=\"colab-df-container\">\n",
              "      <div>\n",
              "<style scoped>\n",
              "    .dataframe tbody tr th:only-of-type {\n",
              "        vertical-align: middle;\n",
              "    }\n",
              "\n",
              "    .dataframe tbody tr th {\n",
              "        vertical-align: top;\n",
              "    }\n",
              "\n",
              "    .dataframe thead th {\n",
              "        text-align: right;\n",
              "    }\n",
              "</style>\n",
              "<table border=\"1\" class=\"dataframe\">\n",
              "  <thead>\n",
              "    <tr style=\"text-align: right;\">\n",
              "      <th></th>\n",
              "      <th>no_of_adults</th>\n",
              "      <th>no_of_children</th>\n",
              "      <th>no_of_weekend_nights</th>\n",
              "      <th>no_of_week_nights</th>\n",
              "      <th>required_car_parking_space</th>\n",
              "      <th>lead_time</th>\n",
              "      <th>arrival_year</th>\n",
              "      <th>arrival_month</th>\n",
              "      <th>arrival_date</th>\n",
              "      <th>repeated_guest</th>\n",
              "      <th>no_of_previous_cancellations</th>\n",
              "      <th>no_of_previous_bookings_not_canceled</th>\n",
              "      <th>avg_price_per_room</th>\n",
              "      <th>no_of_special_requests</th>\n",
              "    </tr>\n",
              "  </thead>\n",
              "  <tbody>\n",
              "    <tr>\n",
              "      <th>count</th>\n",
              "      <td>36275.000000</td>\n",
              "      <td>36275.000000</td>\n",
              "      <td>36275.000000</td>\n",
              "      <td>36275.000000</td>\n",
              "      <td>36275.000000</td>\n",
              "      <td>36275.000000</td>\n",
              "      <td>36275.000000</td>\n",
              "      <td>36275.000000</td>\n",
              "      <td>36275.000000</td>\n",
              "      <td>36275.000000</td>\n",
              "      <td>36275.000000</td>\n",
              "      <td>36275.000000</td>\n",
              "      <td>36275.000000</td>\n",
              "      <td>36275.000000</td>\n",
              "    </tr>\n",
              "    <tr>\n",
              "      <th>mean</th>\n",
              "      <td>1.844962</td>\n",
              "      <td>0.105279</td>\n",
              "      <td>0.810724</td>\n",
              "      <td>2.204300</td>\n",
              "      <td>0.030986</td>\n",
              "      <td>85.232557</td>\n",
              "      <td>2017.820427</td>\n",
              "      <td>7.423653</td>\n",
              "      <td>15.596995</td>\n",
              "      <td>0.025637</td>\n",
              "      <td>0.023349</td>\n",
              "      <td>0.153411</td>\n",
              "      <td>103.423539</td>\n",
              "      <td>0.619655</td>\n",
              "    </tr>\n",
              "    <tr>\n",
              "      <th>std</th>\n",
              "      <td>0.518715</td>\n",
              "      <td>0.402648</td>\n",
              "      <td>0.870644</td>\n",
              "      <td>1.410905</td>\n",
              "      <td>0.173281</td>\n",
              "      <td>85.930817</td>\n",
              "      <td>0.383836</td>\n",
              "      <td>3.069894</td>\n",
              "      <td>8.740447</td>\n",
              "      <td>0.158053</td>\n",
              "      <td>0.368331</td>\n",
              "      <td>1.754171</td>\n",
              "      <td>35.089424</td>\n",
              "      <td>0.786236</td>\n",
              "    </tr>\n",
              "    <tr>\n",
              "      <th>min</th>\n",
              "      <td>0.000000</td>\n",
              "      <td>0.000000</td>\n",
              "      <td>0.000000</td>\n",
              "      <td>0.000000</td>\n",
              "      <td>0.000000</td>\n",
              "      <td>0.000000</td>\n",
              "      <td>2017.000000</td>\n",
              "      <td>1.000000</td>\n",
              "      <td>1.000000</td>\n",
              "      <td>0.000000</td>\n",
              "      <td>0.000000</td>\n",
              "      <td>0.000000</td>\n",
              "      <td>0.000000</td>\n",
              "      <td>0.000000</td>\n",
              "    </tr>\n",
              "    <tr>\n",
              "      <th>25%</th>\n",
              "      <td>2.000000</td>\n",
              "      <td>0.000000</td>\n",
              "      <td>0.000000</td>\n",
              "      <td>1.000000</td>\n",
              "      <td>0.000000</td>\n",
              "      <td>17.000000</td>\n",
              "      <td>2018.000000</td>\n",
              "      <td>5.000000</td>\n",
              "      <td>8.000000</td>\n",
              "      <td>0.000000</td>\n",
              "      <td>0.000000</td>\n",
              "      <td>0.000000</td>\n",
              "      <td>80.300000</td>\n",
              "      <td>0.000000</td>\n",
              "    </tr>\n",
              "    <tr>\n",
              "      <th>50%</th>\n",
              "      <td>2.000000</td>\n",
              "      <td>0.000000</td>\n",
              "      <td>1.000000</td>\n",
              "      <td>2.000000</td>\n",
              "      <td>0.000000</td>\n",
              "      <td>57.000000</td>\n",
              "      <td>2018.000000</td>\n",
              "      <td>8.000000</td>\n",
              "      <td>16.000000</td>\n",
              "      <td>0.000000</td>\n",
              "      <td>0.000000</td>\n",
              "      <td>0.000000</td>\n",
              "      <td>99.450000</td>\n",
              "      <td>0.000000</td>\n",
              "    </tr>\n",
              "    <tr>\n",
              "      <th>75%</th>\n",
              "      <td>2.000000</td>\n",
              "      <td>0.000000</td>\n",
              "      <td>2.000000</td>\n",
              "      <td>3.000000</td>\n",
              "      <td>0.000000</td>\n",
              "      <td>126.000000</td>\n",
              "      <td>2018.000000</td>\n",
              "      <td>10.000000</td>\n",
              "      <td>23.000000</td>\n",
              "      <td>0.000000</td>\n",
              "      <td>0.000000</td>\n",
              "      <td>0.000000</td>\n",
              "      <td>120.000000</td>\n",
              "      <td>1.000000</td>\n",
              "    </tr>\n",
              "    <tr>\n",
              "      <th>max</th>\n",
              "      <td>4.000000</td>\n",
              "      <td>10.000000</td>\n",
              "      <td>7.000000</td>\n",
              "      <td>17.000000</td>\n",
              "      <td>1.000000</td>\n",
              "      <td>443.000000</td>\n",
              "      <td>2018.000000</td>\n",
              "      <td>12.000000</td>\n",
              "      <td>31.000000</td>\n",
              "      <td>1.000000</td>\n",
              "      <td>13.000000</td>\n",
              "      <td>58.000000</td>\n",
              "      <td>540.000000</td>\n",
              "      <td>5.000000</td>\n",
              "    </tr>\n",
              "  </tbody>\n",
              "</table>\n",
              "</div>\n",
              "      <button class=\"colab-df-convert\" onclick=\"convertToInteractive('df-1a32fd83-7d90-4172-ae0a-201e8479e1e6')\"\n",
              "              title=\"Convert this dataframe to an interactive table.\"\n",
              "              style=\"display:none;\">\n",
              "        \n",
              "  <svg xmlns=\"http://www.w3.org/2000/svg\" height=\"24px\"viewBox=\"0 0 24 24\"\n",
              "       width=\"24px\">\n",
              "    <path d=\"M0 0h24v24H0V0z\" fill=\"none\"/>\n",
              "    <path d=\"M18.56 5.44l.94 2.06.94-2.06 2.06-.94-2.06-.94-.94-2.06-.94 2.06-2.06.94zm-11 1L8.5 8.5l.94-2.06 2.06-.94-2.06-.94L8.5 2.5l-.94 2.06-2.06.94zm10 10l.94 2.06.94-2.06 2.06-.94-2.06-.94-.94-2.06-.94 2.06-2.06.94z\"/><path d=\"M17.41 7.96l-1.37-1.37c-.4-.4-.92-.59-1.43-.59-.52 0-1.04.2-1.43.59L10.3 9.45l-7.72 7.72c-.78.78-.78 2.05 0 2.83L4 21.41c.39.39.9.59 1.41.59.51 0 1.02-.2 1.41-.59l7.78-7.78 2.81-2.81c.8-.78.8-2.07 0-2.86zM5.41 20L4 18.59l7.72-7.72 1.47 1.35L5.41 20z\"/>\n",
              "  </svg>\n",
              "      </button>\n",
              "      \n",
              "  <style>\n",
              "    .colab-df-container {\n",
              "      display:flex;\n",
              "      flex-wrap:wrap;\n",
              "      gap: 12px;\n",
              "    }\n",
              "\n",
              "    .colab-df-convert {\n",
              "      background-color: #E8F0FE;\n",
              "      border: none;\n",
              "      border-radius: 50%;\n",
              "      cursor: pointer;\n",
              "      display: none;\n",
              "      fill: #1967D2;\n",
              "      height: 32px;\n",
              "      padding: 0 0 0 0;\n",
              "      width: 32px;\n",
              "    }\n",
              "\n",
              "    .colab-df-convert:hover {\n",
              "      background-color: #E2EBFA;\n",
              "      box-shadow: 0px 1px 2px rgba(60, 64, 67, 0.3), 0px 1px 3px 1px rgba(60, 64, 67, 0.15);\n",
              "      fill: #174EA6;\n",
              "    }\n",
              "\n",
              "    [theme=dark] .colab-df-convert {\n",
              "      background-color: #3B4455;\n",
              "      fill: #D2E3FC;\n",
              "    }\n",
              "\n",
              "    [theme=dark] .colab-df-convert:hover {\n",
              "      background-color: #434B5C;\n",
              "      box-shadow: 0px 1px 3px 1px rgba(0, 0, 0, 0.15);\n",
              "      filter: drop-shadow(0px 1px 2px rgba(0, 0, 0, 0.3));\n",
              "      fill: #FFFFFF;\n",
              "    }\n",
              "  </style>\n",
              "\n",
              "      <script>\n",
              "        const buttonEl =\n",
              "          document.querySelector('#df-1a32fd83-7d90-4172-ae0a-201e8479e1e6 button.colab-df-convert');\n",
              "        buttonEl.style.display =\n",
              "          google.colab.kernel.accessAllowed ? 'block' : 'none';\n",
              "\n",
              "        async function convertToInteractive(key) {\n",
              "          const element = document.querySelector('#df-1a32fd83-7d90-4172-ae0a-201e8479e1e6');\n",
              "          const dataTable =\n",
              "            await google.colab.kernel.invokeFunction('convertToInteractive',\n",
              "                                                     [key], {});\n",
              "          if (!dataTable) return;\n",
              "\n",
              "          const docLinkHtml = 'Like what you see? Visit the ' +\n",
              "            '<a target=\"_blank\" href=https://colab.research.google.com/notebooks/data_table.ipynb>data table notebook</a>'\n",
              "            + ' to learn more about interactive tables.';\n",
              "          element.innerHTML = '';\n",
              "          dataTable['output_type'] = 'display_data';\n",
              "          await google.colab.output.renderOutput(dataTable, element);\n",
              "          const docLink = document.createElement('div');\n",
              "          docLink.innerHTML = docLinkHtml;\n",
              "          element.appendChild(docLink);\n",
              "        }\n",
              "      </script>\n",
              "    </div>\n",
              "  </div>\n",
              "  "
            ]
          },
          "metadata": {},
          "execution_count": 6
        }
      ],
      "source": [
        "hotel_resrv.describe()"
      ]
    },
    {
      "cell_type": "markdown",
      "metadata": {
        "id": "7kwXKghbDtZi"
      },
      "source": [
        "##Краткий обзор. \n",
        "Четыре переменных, включая целевую являются строковыми. Это нужно исправить. Кроме того даты предполагаемого заселения хранятся очень неудобно. Понятно, что идентификатор клиента ни на что не влияет и его можно удалить сразу.\n",
        "Еще хорошо бы сократить длины названий переменных для увеличения удобства работы с данными.\n"
      ]
    },
    {
      "cell_type": "code",
      "execution_count": 7,
      "metadata": {
        "id": "5biNVUj8MHyB"
      },
      "outputs": [],
      "source": [
        "# преобразуем целевую переменную\n",
        "booking_st  = {'Canceled': 0, 'Not_Canceled': 1}\n",
        "hotel_resrv['booking_status'] = hotel_resrv['booking_status'].map(booking_st)\n",
        "\n",
        "# удалим идентификаторы\n",
        "hotel_resrv.drop(['Booking_ID'], axis=1, inplace=True)"
      ]
    },
    {
      "cell_type": "code",
      "execution_count": 8,
      "metadata": {
        "id": "M-oS-jNWM6yQ"
      },
      "outputs": [],
      "source": [
        "#преобразуем переменную room_type_reserved\n",
        "room_type = hotel_resrv['room_type_reserved'].unique()\n",
        "temp_list = np.arange(len(room_type))\n",
        "\n",
        "room_tipe_dict = dict(zip(room_type, temp_list))\n",
        "hotel_resrv['room_type_reserved'] = hotel_resrv['room_type_reserved'].map(room_tipe_dict)\n"
      ]
    },
    {
      "cell_type": "code",
      "execution_count": 9,
      "metadata": {
        "id": "w6btj23COeeO"
      },
      "outputs": [],
      "source": [
        "segment_type = hotel_resrv['market_segment_type'].unique()\n",
        "temp_list = np.arange(len(segment_type))\n",
        "\n",
        "segment_tipe_dict = dict(zip(segment_type, temp_list))\n",
        "hotel_resrv['market_segment_type'] = hotel_resrv['market_segment_type'].map(segment_tipe_dict)"
      ]
    },
    {
      "cell_type": "code",
      "execution_count": 10,
      "metadata": {
        "id": "LBCexrj5Pwv-"
      },
      "outputs": [],
      "source": [
        "meal_plan = hotel_resrv['type_of_meal_plan'].unique()\n",
        "temp_list = np.arange(len(meal_plan))\n",
        "\n",
        "meal_plan_dict = dict(zip(meal_plan, temp_list))\n",
        "hotel_resrv['type_of_meal_plan'] = hotel_resrv['type_of_meal_plan'].map(meal_plan_dict)"
      ]
    },
    {
      "cell_type": "markdown",
      "metadata": {
        "id": "CaDM8vHqKmWw"
      },
      "source": [
        "## Внезапная проблема.\n",
        "Для 37 строк в дататесте указано 29 февраля 2018 года, чего в природе не бывает, и соответсвующая функция datetime из модуля datetime отказывается преобразовывать тройки чисел 2018, 2, 29 в даты.\n",
        "\n",
        "Было принято решение заменить 29 число на 28."
      ]
    },
    {
      "cell_type": "code",
      "execution_count": 11,
      "metadata": {
        "colab": {
          "base_uri": "https://localhost:8080/"
        },
        "id": "Ah5Qz5H0n6s9",
        "outputId": "36c5beca-b7b0-4d1f-fcba-369a10aa5ad3"
      },
      "outputs": [
        {
          "output_type": "stream",
          "name": "stdout",
          "text": [
            "37\n"
          ]
        }
      ],
      "source": [
        "# Попытка оценить масштаб катастрофы.\n",
        "\n",
        "dates = hotel_resrv[['arrival_year','arrival_month','arrival_date']]\n",
        "\n",
        "error_date_list = []\n",
        "for i in dates.index:\n",
        "  if dates.iloc[i]['arrival_month'] == 2 and dates.iloc[i]['arrival_date'] == 29:\n",
        "    dates.iloc[i]['arrival_date'] = 28\n",
        "    error_date_list.append(i)\n",
        "print(len(error_date_list)) "
      ]
    },
    {
      "cell_type": "code",
      "execution_count": 12,
      "metadata": {
        "colab": {
          "base_uri": "https://localhost:8080/",
          "height": 270
        },
        "id": "lSC1GZlsP4Jv",
        "outputId": "5ae67a8c-66e6-4c31-83d4-ded97a61eb15"
      },
      "outputs": [
        {
          "output_type": "execute_result",
          "data": {
            "text/plain": [
              "   no_of_adults  no_of_children  no_of_weekend_nights  no_of_week_nights  \\\n",
              "0             2               0                     1                  2   \n",
              "1             2               0                     2                  3   \n",
              "2             1               0                     2                  1   \n",
              "3             2               0                     0                  2   \n",
              "4             2               0                     1                  1   \n",
              "\n",
              "   type_of_meal_plan  required_car_parking_space  room_type_reserved  \\\n",
              "0                  0                           0                   0   \n",
              "1                  1                           0                   0   \n",
              "2                  0                           0                   0   \n",
              "3                  0                           0                   0   \n",
              "4                  1                           0                   0   \n",
              "\n",
              "  booking_date  lead_time  market_segment_type  repeated_guest  \\\n",
              "0   2017-10-02        224                    0               0   \n",
              "1   2018-11-06          5                    1               0   \n",
              "2   2018-02-28          1                    1               0   \n",
              "3   2018-05-20        211                    1               0   \n",
              "4   2018-04-11         48                    1               0   \n",
              "\n",
              "   no_of_previous_cancellations  no_of_previous_bookings_not_canceled  \\\n",
              "0                             0                                     0   \n",
              "1                             0                                     0   \n",
              "2                             0                                     0   \n",
              "3                             0                                     0   \n",
              "4                             0                                     0   \n",
              "\n",
              "   avg_price_per_room  no_of_special_requests  booking_status  \n",
              "0               65.00                       0               1  \n",
              "1              106.68                       1               1  \n",
              "2               60.00                       0               0  \n",
              "3              100.00                       0               0  \n",
              "4               94.50                       0               0  "
            ],
            "text/html": [
              "\n",
              "  <div id=\"df-1e3e7a70-5130-4b95-adce-4499999baede\">\n",
              "    <div class=\"colab-df-container\">\n",
              "      <div>\n",
              "<style scoped>\n",
              "    .dataframe tbody tr th:only-of-type {\n",
              "        vertical-align: middle;\n",
              "    }\n",
              "\n",
              "    .dataframe tbody tr th {\n",
              "        vertical-align: top;\n",
              "    }\n",
              "\n",
              "    .dataframe thead th {\n",
              "        text-align: right;\n",
              "    }\n",
              "</style>\n",
              "<table border=\"1\" class=\"dataframe\">\n",
              "  <thead>\n",
              "    <tr style=\"text-align: right;\">\n",
              "      <th></th>\n",
              "      <th>no_of_adults</th>\n",
              "      <th>no_of_children</th>\n",
              "      <th>no_of_weekend_nights</th>\n",
              "      <th>no_of_week_nights</th>\n",
              "      <th>type_of_meal_plan</th>\n",
              "      <th>required_car_parking_space</th>\n",
              "      <th>room_type_reserved</th>\n",
              "      <th>booking_date</th>\n",
              "      <th>lead_time</th>\n",
              "      <th>market_segment_type</th>\n",
              "      <th>repeated_guest</th>\n",
              "      <th>no_of_previous_cancellations</th>\n",
              "      <th>no_of_previous_bookings_not_canceled</th>\n",
              "      <th>avg_price_per_room</th>\n",
              "      <th>no_of_special_requests</th>\n",
              "      <th>booking_status</th>\n",
              "    </tr>\n",
              "  </thead>\n",
              "  <tbody>\n",
              "    <tr>\n",
              "      <th>0</th>\n",
              "      <td>2</td>\n",
              "      <td>0</td>\n",
              "      <td>1</td>\n",
              "      <td>2</td>\n",
              "      <td>0</td>\n",
              "      <td>0</td>\n",
              "      <td>0</td>\n",
              "      <td>2017-10-02</td>\n",
              "      <td>224</td>\n",
              "      <td>0</td>\n",
              "      <td>0</td>\n",
              "      <td>0</td>\n",
              "      <td>0</td>\n",
              "      <td>65.00</td>\n",
              "      <td>0</td>\n",
              "      <td>1</td>\n",
              "    </tr>\n",
              "    <tr>\n",
              "      <th>1</th>\n",
              "      <td>2</td>\n",
              "      <td>0</td>\n",
              "      <td>2</td>\n",
              "      <td>3</td>\n",
              "      <td>1</td>\n",
              "      <td>0</td>\n",
              "      <td>0</td>\n",
              "      <td>2018-11-06</td>\n",
              "      <td>5</td>\n",
              "      <td>1</td>\n",
              "      <td>0</td>\n",
              "      <td>0</td>\n",
              "      <td>0</td>\n",
              "      <td>106.68</td>\n",
              "      <td>1</td>\n",
              "      <td>1</td>\n",
              "    </tr>\n",
              "    <tr>\n",
              "      <th>2</th>\n",
              "      <td>1</td>\n",
              "      <td>0</td>\n",
              "      <td>2</td>\n",
              "      <td>1</td>\n",
              "      <td>0</td>\n",
              "      <td>0</td>\n",
              "      <td>0</td>\n",
              "      <td>2018-02-28</td>\n",
              "      <td>1</td>\n",
              "      <td>1</td>\n",
              "      <td>0</td>\n",
              "      <td>0</td>\n",
              "      <td>0</td>\n",
              "      <td>60.00</td>\n",
              "      <td>0</td>\n",
              "      <td>0</td>\n",
              "    </tr>\n",
              "    <tr>\n",
              "      <th>3</th>\n",
              "      <td>2</td>\n",
              "      <td>0</td>\n",
              "      <td>0</td>\n",
              "      <td>2</td>\n",
              "      <td>0</td>\n",
              "      <td>0</td>\n",
              "      <td>0</td>\n",
              "      <td>2018-05-20</td>\n",
              "      <td>211</td>\n",
              "      <td>1</td>\n",
              "      <td>0</td>\n",
              "      <td>0</td>\n",
              "      <td>0</td>\n",
              "      <td>100.00</td>\n",
              "      <td>0</td>\n",
              "      <td>0</td>\n",
              "    </tr>\n",
              "    <tr>\n",
              "      <th>4</th>\n",
              "      <td>2</td>\n",
              "      <td>0</td>\n",
              "      <td>1</td>\n",
              "      <td>1</td>\n",
              "      <td>1</td>\n",
              "      <td>0</td>\n",
              "      <td>0</td>\n",
              "      <td>2018-04-11</td>\n",
              "      <td>48</td>\n",
              "      <td>1</td>\n",
              "      <td>0</td>\n",
              "      <td>0</td>\n",
              "      <td>0</td>\n",
              "      <td>94.50</td>\n",
              "      <td>0</td>\n",
              "      <td>0</td>\n",
              "    </tr>\n",
              "  </tbody>\n",
              "</table>\n",
              "</div>\n",
              "      <button class=\"colab-df-convert\" onclick=\"convertToInteractive('df-1e3e7a70-5130-4b95-adce-4499999baede')\"\n",
              "              title=\"Convert this dataframe to an interactive table.\"\n",
              "              style=\"display:none;\">\n",
              "        \n",
              "  <svg xmlns=\"http://www.w3.org/2000/svg\" height=\"24px\"viewBox=\"0 0 24 24\"\n",
              "       width=\"24px\">\n",
              "    <path d=\"M0 0h24v24H0V0z\" fill=\"none\"/>\n",
              "    <path d=\"M18.56 5.44l.94 2.06.94-2.06 2.06-.94-2.06-.94-.94-2.06-.94 2.06-2.06.94zm-11 1L8.5 8.5l.94-2.06 2.06-.94-2.06-.94L8.5 2.5l-.94 2.06-2.06.94zm10 10l.94 2.06.94-2.06 2.06-.94-2.06-.94-.94-2.06-.94 2.06-2.06.94z\"/><path d=\"M17.41 7.96l-1.37-1.37c-.4-.4-.92-.59-1.43-.59-.52 0-1.04.2-1.43.59L10.3 9.45l-7.72 7.72c-.78.78-.78 2.05 0 2.83L4 21.41c.39.39.9.59 1.41.59.51 0 1.02-.2 1.41-.59l7.78-7.78 2.81-2.81c.8-.78.8-2.07 0-2.86zM5.41 20L4 18.59l7.72-7.72 1.47 1.35L5.41 20z\"/>\n",
              "  </svg>\n",
              "      </button>\n",
              "      \n",
              "  <style>\n",
              "    .colab-df-container {\n",
              "      display:flex;\n",
              "      flex-wrap:wrap;\n",
              "      gap: 12px;\n",
              "    }\n",
              "\n",
              "    .colab-df-convert {\n",
              "      background-color: #E8F0FE;\n",
              "      border: none;\n",
              "      border-radius: 50%;\n",
              "      cursor: pointer;\n",
              "      display: none;\n",
              "      fill: #1967D2;\n",
              "      height: 32px;\n",
              "      padding: 0 0 0 0;\n",
              "      width: 32px;\n",
              "    }\n",
              "\n",
              "    .colab-df-convert:hover {\n",
              "      background-color: #E2EBFA;\n",
              "      box-shadow: 0px 1px 2px rgba(60, 64, 67, 0.3), 0px 1px 3px 1px rgba(60, 64, 67, 0.15);\n",
              "      fill: #174EA6;\n",
              "    }\n",
              "\n",
              "    [theme=dark] .colab-df-convert {\n",
              "      background-color: #3B4455;\n",
              "      fill: #D2E3FC;\n",
              "    }\n",
              "\n",
              "    [theme=dark] .colab-df-convert:hover {\n",
              "      background-color: #434B5C;\n",
              "      box-shadow: 0px 1px 3px 1px rgba(0, 0, 0, 0.15);\n",
              "      filter: drop-shadow(0px 1px 2px rgba(0, 0, 0, 0.3));\n",
              "      fill: #FFFFFF;\n",
              "    }\n",
              "  </style>\n",
              "\n",
              "      <script>\n",
              "        const buttonEl =\n",
              "          document.querySelector('#df-1e3e7a70-5130-4b95-adce-4499999baede button.colab-df-convert');\n",
              "        buttonEl.style.display =\n",
              "          google.colab.kernel.accessAllowed ? 'block' : 'none';\n",
              "\n",
              "        async function convertToInteractive(key) {\n",
              "          const element = document.querySelector('#df-1e3e7a70-5130-4b95-adce-4499999baede');\n",
              "          const dataTable =\n",
              "            await google.colab.kernel.invokeFunction('convertToInteractive',\n",
              "                                                     [key], {});\n",
              "          if (!dataTable) return;\n",
              "\n",
              "          const docLinkHtml = 'Like what you see? Visit the ' +\n",
              "            '<a target=\"_blank\" href=https://colab.research.google.com/notebooks/data_table.ipynb>data table notebook</a>'\n",
              "            + ' to learn more about interactive tables.';\n",
              "          element.innerHTML = '';\n",
              "          dataTable['output_type'] = 'display_data';\n",
              "          await google.colab.output.renderOutput(dataTable, element);\n",
              "          const docLink = document.createElement('div');\n",
              "          docLink.innerHTML = docLinkHtml;\n",
              "          element.appendChild(docLink);\n",
              "        }\n",
              "      </script>\n",
              "    </div>\n",
              "  </div>\n",
              "  "
            ]
          },
          "metadata": {},
          "execution_count": 12
        }
      ],
      "source": [
        "# преобразуем дату предполагаемого заселения\n",
        "dates_new=[]\n",
        "for i in range(len(dates.index)):\n",
        "    dates_new.append(datetime(dates.iloc[i]['arrival_year'], dates.iloc[i]['arrival_month'], dates.iloc[i]['arrival_date']))\n",
        "\n",
        "# удаляем исходные переменные с датами \"вразбивку\"\n",
        "hotel_resrv.drop([ 'arrival_year','arrival_month','arrival_date'], axis=1, inplace=True)\n",
        "\n",
        "hotel_resrv.insert(7, 'booking_date',dates_new)\n",
        "hotel_resrv.head()"
      ]
    },
    {
      "cell_type": "markdown",
      "metadata": {
        "id": "uU6eIBOnW9ja"
      },
      "source": [
        "##EDA\n",
        "Рассмотрим влияние значений no_of_previous_cancellations\tи no_of_previous_bookings_not_canceled на принятие решения о заселении."
      ]
    },
    {
      "cell_type": "code",
      "execution_count": 13,
      "metadata": {
        "colab": {
          "base_uri": "https://localhost:8080/"
        },
        "id": "zGivGcUja-IN",
        "outputId": "3e7bfb79-ba97-4c63-cf07-476d2857aad0"
      },
      "outputs": [
        {
          "output_type": "stream",
          "name": "stdout",
          "text": [
            "No cancel =  97.76154376292212 %   Cancel =  99.06822880771881 %\n"
          ]
        }
      ],
      "source": [
        "no_cancel = len(hotel_resrv[hotel_resrv['no_of_previous_bookings_not_canceled'] == 0 ])\n",
        "cancel = len(hotel_resrv[hotel_resrv['no_of_previous_cancellations'] == 0 ])\n",
        "total = len(hotel_resrv)\n",
        "print('No cancel = ' , (no_cancel / total)*100, '%   Cancel = ', (cancel/total)*100 ,'%')"
      ]
    },
    {
      "cell_type": "markdown",
      "metadata": {
        "id": "0YmrUFsvXcUs"
      },
      "source": [
        "Видно, что пользы от них исчезающе мало.\n",
        "Поэтому мы удалим эти столбцы из датасета."
      ]
    },
    {
      "cell_type": "code",
      "execution_count": 14,
      "metadata": {
        "id": "9_Al7NfCaHV8"
      },
      "outputs": [],
      "source": [
        "hotel_resrv.drop([ 'no_of_previous_bookings_not_canceled', 'no_of_previous_cancellations'], axis=1, inplace=True)"
      ]
    },
    {
      "cell_type": "markdown",
      "metadata": {
        "id": "qlfgXv8YdKR_"
      },
      "source": [
        "Посиотрим что с таким признаком, как required_car_parking_space.\n",
        "Судя по графику ниже он важен. Оставляем. "
      ]
    },
    {
      "cell_type": "code",
      "execution_count": 15,
      "metadata": {
        "colab": {
          "base_uri": "https://localhost:8080/",
          "height": 406
        },
        "id": "-qrDlvUscq2E",
        "outputId": "9069fc6a-21f2-4edc-ab9c-747efff91f37"
      },
      "outputs": [
        {
          "output_type": "execute_result",
          "data": {
            "text/plain": [
              "<matplotlib.axes._subplots.AxesSubplot at 0x7fa21351ec70>"
            ]
          },
          "metadata": {},
          "execution_count": 15
        },
        {
          "output_type": "display_data",
          "data": {
            "text/plain": [
              "<Figure size 720x432 with 1 Axes>"
            ],
            "image/png": "[encoded data removed]"
          },
          "metadata": {
            "needs_background": "light"
          }
        }
      ],
      "source": [
        "plt.figure(figsize = (10,6))\n",
        "sns.countplot(x = 'required_car_parking_space', hue = 'booking_status', data = hotel_resrv)"
      ]
    },
    {
      "cell_type": "markdown",
      "metadata": {
        "id": "EBXq6k_Zde_1"
      },
      "source": [
        "Попробуем разобраться с ценой комнаты. Это, изначально, едиственная существенная количественная характеристика. Причем ее значения сильно превышают значения остальных переменных, что предполагает нормализацию этой переменной.\n",
        "Но это имеет смысл делать после разделения данных на тренировочный и тестовый наборы."
      ]
    },
    {
      "cell_type": "code",
      "execution_count": 16,
      "metadata": {
        "colab": {
          "base_uri": "https://localhost:8080/",
          "height": 391
        },
        "id": "UdDD_NYXeA_j",
        "outputId": "56a90bcc-b9a8-4ce0-8a01-2b5fe50bec10"
      },
      "outputs": [
        {
          "output_type": "execute_result",
          "data": {
            "text/plain": [
              "<matplotlib.legend.Legend at 0x7fa213494820>"
            ]
          },
          "metadata": {},
          "execution_count": 16
        },
        {
          "output_type": "display_data",
          "data": {
            "text/plain": [
              "<Figure size 720x432 with 1 Axes>"
            ],
            "image/png": "[encoded data removed]"
          },
          "metadata": {
            "needs_background": "light"
          }
        }
      ],
      "source": [
        "# задаем количество интервалов\n",
        "bins = 5\n",
        " \n",
        "# и размер графика\n",
        "plt.figure(figsize = (10,6))\n",
        " \n",
        "\n",
        "plt.hist(hotel_resrv.loc[hotel_resrv['booking_status'] == 0, 'avg_price_per_room'], bins, alpha = 0.5, label = 'Canceled')\n",
        "plt.hist(hotel_resrv.loc[hotel_resrv['booking_status'] == 1, 'avg_price_per_room'], bins, alpha = 0.5, label = 'Not canceled')\n",
        "plt.legend(loc = 'upper right')\n",
        "\n",
        " "
      ]
    },
    {
      "cell_type": "markdown",
      "metadata": {
        "id": "uvW8yHcKf1O8"
      },
      "source": [
        "Данные по цене имеет смысл оставить.\n",
        "Займемся анализом вркменных интервалов. \n",
        "Посмотрим (plotly нам в помощь) на временные соотношения отказов и подтверждений бронирования. "
      ]
    },
    {
      "cell_type": "markdown",
      "metadata": {
        "id": "t1wxu2a0W7rj"
      },
      "source": [
        "### Построим корреляционную матрицу.\n",
        "Интересно, хотя и не неожиданно, что два самых коррелируемых значения - это число детей и число комнат. \n"
      ]
    },
    {
      "cell_type": "code",
      "execution_count": 36,
      "metadata": {
        "colab": {
          "base_uri": "https://localhost:8080/",
          "height": 542
        },
        "id": "pGoTpAlk_9KG",
        "outputId": "92aa1393-3490-4285-9287-4b6c6d6f272e"
      },
      "outputs": [
        {
          "output_type": "display_data",
          "data": {
            "text/html": [
              "<html>\n",
              "<head><meta charset=\"utf-8\" /></head>\n",
              "<body>\n",
              "    <div>            <script src=\"https://cdnjs.cloudflare.com/ajax/libs/mathjax/2.7.5/MathJax.js?config=TeX-AMS-MML_SVG\"></script><script type=\"text/javascript\">if (window.MathJax) {MathJax.Hub.Config({SVG: {font: \"STIX-Web\"}});}</script>                <script type=\"text/javascript\">window.PlotlyConfig = {MathJaxConfig: 'local'};</script>\n",
              "        <script src=\"https://cdn.plot.ly/plotly-2.8.3.min.js\"></script>                <div id=\"d6a1d425-e008-48a1-9ac8-7a92e2c6f3bd\" class=\"plotly-graph-div\" style=\"height:525px; width:100%;\"></div>            <script type=\"text/javascript\">                                    window.PLOTLYENV=window.PLOTLYENV || {};                                    if (document.getElementById(\"d6a1d425-e008-48a1-9ac8-7a92e2c6f3bd\")) {                    Plotly.newPlot(                        \"d6a1d425-e008-48a1-9ac8-7a92e2c6f3bd\",                        [{\"colorscale\":[[0.0,\"#0d0887\"],[0.1111111111111111,\"#46039f\"],[0.2222222222222222,\"#7201a8\"],[0.3333333333333333,\"#9c179e\"],[0.4444444444444444,\"#bd3786\"],[0.5555555555555556,\"#d8576b\"],[0.6666666666666666,\"#ed7953\"],[0.7777777777777778,\"#fb9f3a\"],[0.8888888888888888,\"#fdca26\"],[1.0,\"#f0f921\"]],\"reversescale\":false,\"showscale\":true,\"x\":[\"no_of_adults\",\"no_of_children\",\"no_of_weekend_nights\",\"no_of_week_nights\",\"type_of_meal_plan\",\"required_car_parking_space\",\"room_type_reserved\",\"lead_time\",\"market_segment_type\",\"repeated_guest\",\"avg_price_per_room\",\"no_of_special_requests\"],\"y\":[\"no_of_adults\",\"no_of_children\",\"no_of_weekend_nights\",\"no_of_week_nights\",\"type_of_meal_plan\",\"required_car_parking_space\",\"room_type_reserved\",\"lead_time\",\"market_segment_type\",\"repeated_guest\",\"avg_price_per_room\",\"no_of_special_requests\"],\"z\":[[1.0,-0.019787073557932206,0.1033157752239147,0.1056219010031367,0.02769757844095262,0.011428744691347949,0.1620843031835941,0.09728651035955203,-0.0955426287576433,-0.1922769393185674,0.2968857360658242,0.18940095137214752],[-0.019787073557932206,1.0,0.029477584183502416,0.02439810760715853,-0.06754267865901009,0.03424352677035853,0.47830595519203634,-0.047091281830772616,0.07315936322613563,-0.036348496307027925,0.33772791390585877,0.12448618582025484],[0.1033157752239147,0.029477584183502416,1.0,0.1795767636929502,-0.05148487617091773,-0.031110664423542246,0.04064822499244949,0.046595440408726485,-0.01980413527482007,-0.06710731795045835,-0.004524589798038839,0.06059252568534455],[0.1056219010031367,0.02439810760715853,0.1795767636929502,1.0,-0.07788253532755413,-0.04878391481124707,0.06298779668952194,0.14965015627990372,-0.06530129215972104,-0.09976449972811655,0.022752686684301658,0.04599365259705466],[0.02769757844095262,-0.06754267865901009,-0.05148487617091773,-0.07788253532755413,1.0,-0.03066777306039686,-0.14442248025851392,0.14007745410028535,-0.16553825579334003,-0.06886740228283943,0.042036863106184555,-0.05806233795992157],[0.011428744691347949,0.03424352677035853,-0.031110664423542246,-0.04878391481124707,-0.03066777306039686,1.0,0.03978254901804725,-0.06644450523902376,0.11672951411258395,0.11090889048181744,0.06130428106815683,0.0879221329735089],[0.1620843031835941,0.47830595519203634,0.04064822499244949,0.06298779668952194,-0.14442248025851392,0.03978254901804725,1.0,-0.08737553662870189,0.16636618393885041,-0.006647901236923563,0.40542282008619296,0.11437838209166716],[0.09728651035955203,-0.047091281830772616,0.046595440408726485,0.14965015627990372,0.14007745410028535,-0.06644450523902376,-0.08737553662870189,1.0,-0.3124326718674584,-0.13598446275819914,-0.06259646546936144,-0.10164497363430508],[-0.0955426287576433,0.07315936322613563,-0.01980413527482007,-0.06530129215972104,-0.16553825579334003,0.11672951411258395,0.16636618393885041,-0.3124326718674584,1.0,0.29760111508028964,-0.04317432885825333,0.20283589154098108],[-0.1922769393185674,-0.036348496307027925,-0.06710731795045835,-0.09976449972811655,-0.06886740228283943,0.11090889048181744,-0.006647901236923563,-0.13598446275819914,0.29760111508028964,1.0,-0.17489997634056564,-0.011819743333448202],[0.2968857360658242,0.33772791390585877,-0.004524589798038839,0.022752686684301658,0.042036863106184555,0.06130428106815683,0.40542282008619296,-0.06259646546936144,-0.04317432885825333,-0.17489997634056564,1.0,0.18438095530813695],[0.18940095137214752,0.12448618582025484,0.06059252568534455,0.04599365259705466,-0.05806233795992157,0.0879221329735089,0.11437838209166716,-0.10164497363430508,0.20283589154098108,-0.011819743333448202,0.18438095530813695,1.0]],\"type\":\"heatmap\"}],                        {\"annotations\":[{\"font\":{\"color\":\"#000000\"},\"showarrow\":false,\"text\":\"1.0\",\"x\":\"no_of_adults\",\"xref\":\"x\",\"y\":\"no_of_adults\",\"yref\":\"y\"},{\"font\":{\"color\":\"#FFFFFF\"},\"showarrow\":false,\"text\":\"-0.02\",\"x\":\"no_of_children\",\"xref\":\"x\",\"y\":\"no_of_adults\",\"yref\":\"y\"},{\"font\":{\"color\":\"#FFFFFF\"},\"showarrow\":false,\"text\":\"0.1\",\"x\":\"no_of_weekend_nights\",\"xref\":\"x\",\"y\":\"no_of_adults\",\"yref\":\"y\"},{\"font\":{\"color\":\"#FFFFFF\"},\"showarrow\":false,\"text\":\"0.11\",\"x\":\"no_of_week_nights\",\"xref\":\"x\",\"y\":\"no_of_adults\",\"yref\":\"y\"},{\"font\":{\"color\":\"#FFFFFF\"},\"showarrow\":false,\"text\":\"0.03\",\"x\":\"type_of_meal_plan\",\"xref\":\"x\",\"y\":\"no_of_adults\",\"yref\":\"y\"},{\"font\":{\"color\":\"#FFFFFF\"},\"showarrow\":false,\"text\":\"0.01\",\"x\":\"required_car_parking_space\",\"xref\":\"x\",\"y\":\"no_of_adults\",\"yref\":\"y\"},{\"font\":{\"color\":\"#FFFFFF\"},\"showarrow\":false,\"text\":\"0.16\",\"x\":\"room_type_reserved\",\"xref\":\"x\",\"y\":\"no_of_adults\",\"yref\":\"y\"},{\"font\":{\"color\":\"#FFFFFF\"},\"showarrow\":false,\"text\":\"0.1\",\"x\":\"lead_time\",\"xref\":\"x\",\"y\":\"no_of_adults\",\"yref\":\"y\"},{\"font\":{\"color\":\"#FFFFFF\"},\"showarrow\":false,\"text\":\"-0.1\",\"x\":\"market_segment_type\",\"xref\":\"x\",\"y\":\"no_of_adults\",\"yref\":\"y\"},{\"font\":{\"color\":\"#FFFFFF\"},\"showarrow\":false,\"text\":\"-0.19\",\"x\":\"repeated_guest\",\"xref\":\"x\",\"y\":\"no_of_adults\",\"yref\":\"y\"},{\"font\":{\"color\":\"#FFFFFF\"},\"showarrow\":false,\"text\":\"0.3\",\"x\":\"avg_price_per_room\",\"xref\":\"x\",\"y\":\"no_of_adults\",\"yref\":\"y\"},{\"font\":{\"color\":\"#FFFFFF\"},\"showarrow\":false,\"text\":\"0.19\",\"x\":\"no_of_special_requests\",\"xref\":\"x\",\"y\":\"no_of_adults\",\"yref\":\"y\"},{\"font\":{\"color\":\"#FFFFFF\"},\"showarrow\":false,\"text\":\"-0.02\",\"x\":\"no_of_adults\",\"xref\":\"x\",\"y\":\"no_of_children\",\"yref\":\"y\"},{\"font\":{\"color\":\"#000000\"},\"showarrow\":false,\"text\":\"1.0\",\"x\":\"no_of_children\",\"xref\":\"x\",\"y\":\"no_of_children\",\"yref\":\"y\"},{\"font\":{\"color\":\"#FFFFFF\"},\"showarrow\":false,\"text\":\"0.03\",\"x\":\"no_of_weekend_nights\",\"xref\":\"x\",\"y\":\"no_of_children\",\"yref\":\"y\"},{\"font\":{\"color\":\"#FFFFFF\"},\"showarrow\":false,\"text\":\"0.02\",\"x\":\"no_of_week_nights\",\"xref\":\"x\",\"y\":\"no_of_children\",\"yref\":\"y\"},{\"font\":{\"color\":\"#FFFFFF\"},\"showarrow\":false,\"text\":\"-0.07\",\"x\":\"type_of_meal_plan\",\"xref\":\"x\",\"y\":\"no_of_children\",\"yref\":\"y\"},{\"font\":{\"color\":\"#FFFFFF\"},\"showarrow\":false,\"text\":\"0.03\",\"x\":\"required_car_parking_space\",\"xref\":\"x\",\"y\":\"no_of_children\",\"yref\":\"y\"},{\"font\":{\"color\":\"#000000\"},\"showarrow\":false,\"text\":\"0.48\",\"x\":\"room_type_reserved\",\"xref\":\"x\",\"y\":\"no_of_children\",\"yref\":\"y\"},{\"font\":{\"color\":\"#FFFFFF\"},\"showarrow\":false,\"text\":\"-0.05\",\"x\":\"lead_time\",\"xref\":\"x\",\"y\":\"no_of_children\",\"yref\":\"y\"},{\"font\":{\"color\":\"#FFFFFF\"},\"showarrow\":false,\"text\":\"0.07\",\"x\":\"market_segment_type\",\"xref\":\"x\",\"y\":\"no_of_children\",\"yref\":\"y\"},{\"font\":{\"color\":\"#FFFFFF\"},\"showarrow\":false,\"text\":\"-0.04\",\"x\":\"repeated_guest\",\"xref\":\"x\",\"y\":\"no_of_children\",\"yref\":\"y\"},{\"font\":{\"color\":\"#FFFFFF\"},\"showarrow\":false,\"text\":\"0.34\",\"x\":\"avg_price_per_room\",\"xref\":\"x\",\"y\":\"no_of_children\",\"yref\":\"y\"},{\"font\":{\"color\":\"#FFFFFF\"},\"showarrow\":false,\"text\":\"0.12\",\"x\":\"no_of_special_requests\",\"xref\":\"x\",\"y\":\"no_of_children\",\"yref\":\"y\"},{\"font\":{\"color\":\"#FFFFFF\"},\"showarrow\":false,\"text\":\"0.1\",\"x\":\"no_of_adults\",\"xref\":\"x\",\"y\":\"no_of_weekend_nights\",\"yref\":\"y\"},{\"font\":{\"color\":\"#FFFFFF\"},\"showarrow\":false,\"text\":\"0.03\",\"x\":\"no_of_children\",\"xref\":\"x\",\"y\":\"no_of_weekend_nights\",\"yref\":\"y\"},{\"font\":{\"color\":\"#000000\"},\"showarrow\":false,\"text\":\"1.0\",\"x\":\"no_of_weekend_nights\",\"xref\":\"x\",\"y\":\"no_of_weekend_nights\",\"yref\":\"y\"},{\"font\":{\"color\":\"#FFFFFF\"},\"showarrow\":false,\"text\":\"0.18\",\"x\":\"no_of_week_nights\",\"xref\":\"x\",\"y\":\"no_of_weekend_nights\",\"yref\":\"y\"},{\"font\":{\"color\":\"#FFFFFF\"},\"showarrow\":false,\"text\":\"-0.05\",\"x\":\"type_of_meal_plan\",\"xref\":\"x\",\"y\":\"no_of_weekend_nights\",\"yref\":\"y\"},{\"font\":{\"color\":\"#FFFFFF\"},\"showarrow\":false,\"text\":\"-0.03\",\"x\":\"required_car_parking_space\",\"xref\":\"x\",\"y\":\"no_of_weekend_nights\",\"yref\":\"y\"},{\"font\":{\"color\":\"#FFFFFF\"},\"showarrow\":false,\"text\":\"0.04\",\"x\":\"room_type_reserved\",\"xref\":\"x\",\"y\":\"no_of_weekend_nights\",\"yref\":\"y\"},{\"font\":{\"color\":\"#FFFFFF\"},\"showarrow\":false,\"text\":\"0.05\",\"x\":\"lead_time\",\"xref\":\"x\",\"y\":\"no_of_weekend_nights\",\"yref\":\"y\"},{\"font\":{\"color\":\"#FFFFFF\"},\"showarrow\":false,\"text\":\"-0.02\",\"x\":\"market_segment_type\",\"xref\":\"x\",\"y\":\"no_of_weekend_nights\",\"yref\":\"y\"},{\"font\":{\"color\":\"#FFFFFF\"},\"showarrow\":false,\"text\":\"-0.07\",\"x\":\"repeated_guest\",\"xref\":\"x\",\"y\":\"no_of_weekend_nights\",\"yref\":\"y\"},{\"font\":{\"color\":\"#FFFFFF\"},\"showarrow\":false,\"text\":\"-0.0\",\"x\":\"avg_price_per_room\",\"xref\":\"x\",\"y\":\"no_of_weekend_nights\",\"yref\":\"y\"},{\"font\":{\"color\":\"#FFFFFF\"},\"showarrow\":false,\"text\":\"0.06\",\"x\":\"no_of_special_requests\",\"xref\":\"x\",\"y\":\"no_of_weekend_nights\",\"yref\":\"y\"},{\"font\":{\"color\":\"#FFFFFF\"},\"showarrow\":false,\"text\":\"0.11\",\"x\":\"no_of_adults\",\"xref\":\"x\",\"y\":\"no_of_week_nights\",\"yref\":\"y\"},{\"font\":{\"color\":\"#FFFFFF\"},\"showarrow\":false,\"text\":\"0.02\",\"x\":\"no_of_children\",\"xref\":\"x\",\"y\":\"no_of_week_nights\",\"yref\":\"y\"},{\"font\":{\"color\":\"#FFFFFF\"},\"showarrow\":false,\"text\":\"0.18\",\"x\":\"no_of_weekend_nights\",\"xref\":\"x\",\"y\":\"no_of_week_nights\",\"yref\":\"y\"},{\"font\":{\"color\":\"#000000\"},\"showarrow\":false,\"text\":\"1.0\",\"x\":\"no_of_week_nights\",\"xref\":\"x\",\"y\":\"no_of_week_nights\",\"yref\":\"y\"},{\"font\":{\"color\":\"#FFFFFF\"},\"showarrow\":false,\"text\":\"-0.08\",\"x\":\"type_of_meal_plan\",\"xref\":\"x\",\"y\":\"no_of_week_nights\",\"yref\":\"y\"},{\"font\":{\"color\":\"#FFFFFF\"},\"showarrow\":false,\"text\":\"-0.05\",\"x\":\"required_car_parking_space\",\"xref\":\"x\",\"y\":\"no_of_week_nights\",\"yref\":\"y\"},{\"font\":{\"color\":\"#FFFFFF\"},\"showarrow\":false,\"text\":\"0.06\",\"x\":\"room_type_reserved\",\"xref\":\"x\",\"y\":\"no_of_week_nights\",\"yref\":\"y\"},{\"font\":{\"color\":\"#FFFFFF\"},\"showarrow\":false,\"text\":\"0.15\",\"x\":\"lead_time\",\"xref\":\"x\",\"y\":\"no_of_week_nights\",\"yref\":\"y\"},{\"font\":{\"color\":\"#FFFFFF\"},\"showarrow\":false,\"text\":\"-0.07\",\"x\":\"market_segment_type\",\"xref\":\"x\",\"y\":\"no_of_week_nights\",\"yref\":\"y\"},{\"font\":{\"color\":\"#FFFFFF\"},\"showarrow\":false,\"text\":\"-0.1\",\"x\":\"repeated_guest\",\"xref\":\"x\",\"y\":\"no_of_week_nights\",\"yref\":\"y\"},{\"font\":{\"color\":\"#FFFFFF\"},\"showarrow\":false,\"text\":\"0.02\",\"x\":\"avg_price_per_room\",\"xref\":\"x\",\"y\":\"no_of_week_nights\",\"yref\":\"y\"},{\"font\":{\"color\":\"#FFFFFF\"},\"showarrow\":false,\"text\":\"0.05\",\"x\":\"no_of_special_requests\",\"xref\":\"x\",\"y\":\"no_of_week_nights\",\"yref\":\"y\"},{\"font\":{\"color\":\"#FFFFFF\"},\"showarrow\":false,\"text\":\"0.03\",\"x\":\"no_of_adults\",\"xref\":\"x\",\"y\":\"type_of_meal_plan\",\"yref\":\"y\"},{\"font\":{\"color\":\"#FFFFFF\"},\"showarrow\":false,\"text\":\"-0.07\",\"x\":\"no_of_children\",\"xref\":\"x\",\"y\":\"type_of_meal_plan\",\"yref\":\"y\"},{\"font\":{\"color\":\"#FFFFFF\"},\"showarrow\":false,\"text\":\"-0.05\",\"x\":\"no_of_weekend_nights\",\"xref\":\"x\",\"y\":\"type_of_meal_plan\",\"yref\":\"y\"},{\"font\":{\"color\":\"#FFFFFF\"},\"showarrow\":false,\"text\":\"-0.08\",\"x\":\"no_of_week_nights\",\"xref\":\"x\",\"y\":\"type_of_meal_plan\",\"yref\":\"y\"},{\"font\":{\"color\":\"#000000\"},\"showarrow\":false,\"text\":\"1.0\",\"x\":\"type_of_meal_plan\",\"xref\":\"x\",\"y\":\"type_of_meal_plan\",\"yref\":\"y\"},{\"font\":{\"color\":\"#FFFFFF\"},\"showarrow\":false,\"text\":\"-0.03\",\"x\":\"required_car_parking_space\",\"xref\":\"x\",\"y\":\"type_of_meal_plan\",\"yref\":\"y\"},{\"font\":{\"color\":\"#FFFFFF\"},\"showarrow\":false,\"text\":\"-0.14\",\"x\":\"room_type_reserved\",\"xref\":\"x\",\"y\":\"type_of_meal_plan\",\"yref\":\"y\"},{\"font\":{\"color\":\"#FFFFFF\"},\"showarrow\":false,\"text\":\"0.14\",\"x\":\"lead_time\",\"xref\":\"x\",\"y\":\"type_of_meal_plan\",\"yref\":\"y\"},{\"font\":{\"color\":\"#FFFFFF\"},\"showarrow\":false,\"text\":\"-0.17\",\"x\":\"market_segment_type\",\"xref\":\"x\",\"y\":\"type_of_meal_plan\",\"yref\":\"y\"},{\"font\":{\"color\":\"#FFFFFF\"},\"showarrow\":false,\"text\":\"-0.07\",\"x\":\"repeated_guest\",\"xref\":\"x\",\"y\":\"type_of_meal_plan\",\"yref\":\"y\"},{\"font\":{\"color\":\"#FFFFFF\"},\"showarrow\":false,\"text\":\"0.04\",\"x\":\"avg_price_per_room\",\"xref\":\"x\",\"y\":\"type_of_meal_plan\",\"yref\":\"y\"},{\"font\":{\"color\":\"#FFFFFF\"},\"showarrow\":false,\"text\":\"-0.06\",\"x\":\"no_of_special_requests\",\"xref\":\"x\",\"y\":\"type_of_meal_plan\",\"yref\":\"y\"},{\"font\":{\"color\":\"#FFFFFF\"},\"showarrow\":false,\"text\":\"0.01\",\"x\":\"no_of_adults\",\"xref\":\"x\",\"y\":\"required_car_parking_space\",\"yref\":\"y\"},{\"font\":{\"color\":\"#FFFFFF\"},\"showarrow\":false,\"text\":\"0.03\",\"x\":\"no_of_children\",\"xref\":\"x\",\"y\":\"required_car_parking_space\",\"yref\":\"y\"},{\"font\":{\"color\":\"#FFFFFF\"},\"showarrow\":false,\"text\":\"-0.03\",\"x\":\"no_of_weekend_nights\",\"xref\":\"x\",\"y\":\"required_car_parking_space\",\"yref\":\"y\"},{\"font\":{\"color\":\"#FFFFFF\"},\"showarrow\":false,\"text\":\"-0.05\",\"x\":\"no_of_week_nights\",\"xref\":\"x\",\"y\":\"required_car_parking_space\",\"yref\":\"y\"},{\"font\":{\"color\":\"#FFFFFF\"},\"showarrow\":false,\"text\":\"-0.03\",\"x\":\"type_of_meal_plan\",\"xref\":\"x\",\"y\":\"required_car_parking_space\",\"yref\":\"y\"},{\"font\":{\"color\":\"#000000\"},\"showarrow\":false,\"text\":\"1.0\",\"x\":\"required_car_parking_space\",\"xref\":\"x\",\"y\":\"required_car_parking_space\",\"yref\":\"y\"},{\"font\":{\"color\":\"#FFFFFF\"},\"showarrow\":false,\"text\":\"0.04\",\"x\":\"room_type_reserved\",\"xref\":\"x\",\"y\":\"required_car_parking_space\",\"yref\":\"y\"},{\"font\":{\"color\":\"#FFFFFF\"},\"showarrow\":false,\"text\":\"-0.07\",\"x\":\"lead_time\",\"xref\":\"x\",\"y\":\"required_car_parking_space\",\"yref\":\"y\"},{\"font\":{\"color\":\"#FFFFFF\"},\"showarrow\":false,\"text\":\"0.12\",\"x\":\"market_segment_type\",\"xref\":\"x\",\"y\":\"required_car_parking_space\",\"yref\":\"y\"},{\"font\":{\"color\":\"#FFFFFF\"},\"showarrow\":false,\"text\":\"0.11\",\"x\":\"repeated_guest\",\"xref\":\"x\",\"y\":\"required_car_parking_space\",\"yref\":\"y\"},{\"font\":{\"color\":\"#FFFFFF\"},\"showarrow\":false,\"text\":\"0.06\",\"x\":\"avg_price_per_room\",\"xref\":\"x\",\"y\":\"required_car_parking_space\",\"yref\":\"y\"},{\"font\":{\"color\":\"#FFFFFF\"},\"showarrow\":false,\"text\":\"0.09\",\"x\":\"no_of_special_requests\",\"xref\":\"x\",\"y\":\"required_car_parking_space\",\"yref\":\"y\"},{\"font\":{\"color\":\"#FFFFFF\"},\"showarrow\":false,\"text\":\"0.16\",\"x\":\"no_of_adults\",\"xref\":\"x\",\"y\":\"room_type_reserved\",\"yref\":\"y\"},{\"font\":{\"color\":\"#000000\"},\"showarrow\":false,\"text\":\"0.48\",\"x\":\"no_of_children\",\"xref\":\"x\",\"y\":\"room_type_reserved\",\"yref\":\"y\"},{\"font\":{\"color\":\"#FFFFFF\"},\"showarrow\":false,\"text\":\"0.04\",\"x\":\"no_of_weekend_nights\",\"xref\":\"x\",\"y\":\"room_type_reserved\",\"yref\":\"y\"},{\"font\":{\"color\":\"#FFFFFF\"},\"showarrow\":false,\"text\":\"0.06\",\"x\":\"no_of_week_nights\",\"xref\":\"x\",\"y\":\"room_type_reserved\",\"yref\":\"y\"},{\"font\":{\"color\":\"#FFFFFF\"},\"showarrow\":false,\"text\":\"-0.14\",\"x\":\"type_of_meal_plan\",\"xref\":\"x\",\"y\":\"room_type_reserved\",\"yref\":\"y\"},{\"font\":{\"color\":\"#FFFFFF\"},\"showarrow\":false,\"text\":\"0.04\",\"x\":\"required_car_parking_space\",\"xref\":\"x\",\"y\":\"room_type_reserved\",\"yref\":\"y\"},{\"font\":{\"color\":\"#000000\"},\"showarrow\":false,\"text\":\"1.0\",\"x\":\"room_type_reserved\",\"xref\":\"x\",\"y\":\"room_type_reserved\",\"yref\":\"y\"},{\"font\":{\"color\":\"#FFFFFF\"},\"showarrow\":false,\"text\":\"-0.09\",\"x\":\"lead_time\",\"xref\":\"x\",\"y\":\"room_type_reserved\",\"yref\":\"y\"},{\"font\":{\"color\":\"#FFFFFF\"},\"showarrow\":false,\"text\":\"0.17\",\"x\":\"market_segment_type\",\"xref\":\"x\",\"y\":\"room_type_reserved\",\"yref\":\"y\"},{\"font\":{\"color\":\"#FFFFFF\"},\"showarrow\":false,\"text\":\"-0.01\",\"x\":\"repeated_guest\",\"xref\":\"x\",\"y\":\"room_type_reserved\",\"yref\":\"y\"},{\"font\":{\"color\":\"#000000\"},\"showarrow\":false,\"text\":\"0.41\",\"x\":\"avg_price_per_room\",\"xref\":\"x\",\"y\":\"room_type_reserved\",\"yref\":\"y\"},{\"font\":{\"color\":\"#FFFFFF\"},\"showarrow\":false,\"text\":\"0.11\",\"x\":\"no_of_special_requests\",\"xref\":\"x\",\"y\":\"room_type_reserved\",\"yref\":\"y\"},{\"font\":{\"color\":\"#FFFFFF\"},\"showarrow\":false,\"text\":\"0.1\",\"x\":\"no_of_adults\",\"xref\":\"x\",\"y\":\"lead_time\",\"yref\":\"y\"},{\"font\":{\"color\":\"#FFFFFF\"},\"showarrow\":false,\"text\":\"-0.05\",\"x\":\"no_of_children\",\"xref\":\"x\",\"y\":\"lead_time\",\"yref\":\"y\"},{\"font\":{\"color\":\"#FFFFFF\"},\"showarrow\":false,\"text\":\"0.05\",\"x\":\"no_of_weekend_nights\",\"xref\":\"x\",\"y\":\"lead_time\",\"yref\":\"y\"},{\"font\":{\"color\":\"#FFFFFF\"},\"showarrow\":false,\"text\":\"0.15\",\"x\":\"no_of_week_nights\",\"xref\":\"x\",\"y\":\"lead_time\",\"yref\":\"y\"},{\"font\":{\"color\":\"#FFFFFF\"},\"showarrow\":false,\"text\":\"0.14\",\"x\":\"type_of_meal_plan\",\"xref\":\"x\",\"y\":\"lead_time\",\"yref\":\"y\"},{\"font\":{\"color\":\"#FFFFFF\"},\"showarrow\":false,\"text\":\"-0.07\",\"x\":\"required_car_parking_space\",\"xref\":\"x\",\"y\":\"lead_time\",\"yref\":\"y\"},{\"font\":{\"color\":\"#FFFFFF\"},\"showarrow\":false,\"text\":\"-0.09\",\"x\":\"room_type_reserved\",\"xref\":\"x\",\"y\":\"lead_time\",\"yref\":\"y\"},{\"font\":{\"color\":\"#000000\"},\"showarrow\":false,\"text\":\"1.0\",\"x\":\"lead_time\",\"xref\":\"x\",\"y\":\"lead_time\",\"yref\":\"y\"},{\"font\":{\"color\":\"#FFFFFF\"},\"showarrow\":false,\"text\":\"-0.31\",\"x\":\"market_segment_type\",\"xref\":\"x\",\"y\":\"lead_time\",\"yref\":\"y\"},{\"font\":{\"color\":\"#FFFFFF\"},\"showarrow\":false,\"text\":\"-0.14\",\"x\":\"repeated_guest\",\"xref\":\"x\",\"y\":\"lead_time\",\"yref\":\"y\"},{\"font\":{\"color\":\"#FFFFFF\"},\"showarrow\":false,\"text\":\"-0.06\",\"x\":\"avg_price_per_room\",\"xref\":\"x\",\"y\":\"lead_time\",\"yref\":\"y\"},{\"font\":{\"color\":\"#FFFFFF\"},\"showarrow\":false,\"text\":\"-0.1\",\"x\":\"no_of_special_requests\",\"xref\":\"x\",\"y\":\"lead_time\",\"yref\":\"y\"},{\"font\":{\"color\":\"#FFFFFF\"},\"showarrow\":false,\"text\":\"-0.1\",\"x\":\"no_of_adults\",\"xref\":\"x\",\"y\":\"market_segment_type\",\"yref\":\"y\"},{\"font\":{\"color\":\"#FFFFFF\"},\"showarrow\":false,\"text\":\"0.07\",\"x\":\"no_of_children\",\"xref\":\"x\",\"y\":\"market_segment_type\",\"yref\":\"y\"},{\"font\":{\"color\":\"#FFFFFF\"},\"showarrow\":false,\"text\":\"-0.02\",\"x\":\"no_of_weekend_nights\",\"xref\":\"x\",\"y\":\"market_segment_type\",\"yref\":\"y\"},{\"font\":{\"color\":\"#FFFFFF\"},\"showarrow\":false,\"text\":\"-0.07\",\"x\":\"no_of_week_nights\",\"xref\":\"x\",\"y\":\"market_segment_type\",\"yref\":\"y\"},{\"font\":{\"color\":\"#FFFFFF\"},\"showarrow\":false,\"text\":\"-0.17\",\"x\":\"type_of_meal_plan\",\"xref\":\"x\",\"y\":\"market_segment_type\",\"yref\":\"y\"},{\"font\":{\"color\":\"#FFFFFF\"},\"showarrow\":false,\"text\":\"0.12\",\"x\":\"required_car_parking_space\",\"xref\":\"x\",\"y\":\"market_segment_type\",\"yref\":\"y\"},{\"font\":{\"color\":\"#FFFFFF\"},\"showarrow\":false,\"text\":\"0.17\",\"x\":\"room_type_reserved\",\"xref\":\"x\",\"y\":\"market_segment_type\",\"yref\":\"y\"},{\"font\":{\"color\":\"#FFFFFF\"},\"showarrow\":false,\"text\":\"-0.31\",\"x\":\"lead_time\",\"xref\":\"x\",\"y\":\"market_segment_type\",\"yref\":\"y\"},{\"font\":{\"color\":\"#000000\"},\"showarrow\":false,\"text\":\"1.0\",\"x\":\"market_segment_type\",\"xref\":\"x\",\"y\":\"market_segment_type\",\"yref\":\"y\"},{\"font\":{\"color\":\"#FFFFFF\"},\"showarrow\":false,\"text\":\"0.3\",\"x\":\"repeated_guest\",\"xref\":\"x\",\"y\":\"market_segment_type\",\"yref\":\"y\"},{\"font\":{\"color\":\"#FFFFFF\"},\"showarrow\":false,\"text\":\"-0.04\",\"x\":\"avg_price_per_room\",\"xref\":\"x\",\"y\":\"market_segment_type\",\"yref\":\"y\"},{\"font\":{\"color\":\"#FFFFFF\"},\"showarrow\":false,\"text\":\"0.2\",\"x\":\"no_of_special_requests\",\"xref\":\"x\",\"y\":\"market_segment_type\",\"yref\":\"y\"},{\"font\":{\"color\":\"#FFFFFF\"},\"showarrow\":false,\"text\":\"-0.19\",\"x\":\"no_of_adults\",\"xref\":\"x\",\"y\":\"repeated_guest\",\"yref\":\"y\"},{\"font\":{\"color\":\"#FFFFFF\"},\"showarrow\":false,\"text\":\"-0.04\",\"x\":\"no_of_children\",\"xref\":\"x\",\"y\":\"repeated_guest\",\"yref\":\"y\"},{\"font\":{\"color\":\"#FFFFFF\"},\"showarrow\":false,\"text\":\"-0.07\",\"x\":\"no_of_weekend_nights\",\"xref\":\"x\",\"y\":\"repeated_guest\",\"yref\":\"y\"},{\"font\":{\"color\":\"#FFFFFF\"},\"showarrow\":false,\"text\":\"-0.1\",\"x\":\"no_of_week_nights\",\"xref\":\"x\",\"y\":\"repeated_guest\",\"yref\":\"y\"},{\"font\":{\"color\":\"#FFFFFF\"},\"showarrow\":false,\"text\":\"-0.07\",\"x\":\"type_of_meal_plan\",\"xref\":\"x\",\"y\":\"repeated_guest\",\"yref\":\"y\"},{\"font\":{\"color\":\"#FFFFFF\"},\"showarrow\":false,\"text\":\"0.11\",\"x\":\"required_car_parking_space\",\"xref\":\"x\",\"y\":\"repeated_guest\",\"yref\":\"y\"},{\"font\":{\"color\":\"#FFFFFF\"},\"showarrow\":false,\"text\":\"-0.01\",\"x\":\"room_type_reserved\",\"xref\":\"x\",\"y\":\"repeated_guest\",\"yref\":\"y\"},{\"font\":{\"color\":\"#FFFFFF\"},\"showarrow\":false,\"text\":\"-0.14\",\"x\":\"lead_time\",\"xref\":\"x\",\"y\":\"repeated_guest\",\"yref\":\"y\"},{\"font\":{\"color\":\"#FFFFFF\"},\"showarrow\":false,\"text\":\"0.3\",\"x\":\"market_segment_type\",\"xref\":\"x\",\"y\":\"repeated_guest\",\"yref\":\"y\"},{\"font\":{\"color\":\"#000000\"},\"showarrow\":false,\"text\":\"1.0\",\"x\":\"repeated_guest\",\"xref\":\"x\",\"y\":\"repeated_guest\",\"yref\":\"y\"},{\"font\":{\"color\":\"#FFFFFF\"},\"showarrow\":false,\"text\":\"-0.17\",\"x\":\"avg_price_per_room\",\"xref\":\"x\",\"y\":\"repeated_guest\",\"yref\":\"y\"},{\"font\":{\"color\":\"#FFFFFF\"},\"showarrow\":false,\"text\":\"-0.01\",\"x\":\"no_of_special_requests\",\"xref\":\"x\",\"y\":\"repeated_guest\",\"yref\":\"y\"},{\"font\":{\"color\":\"#FFFFFF\"},\"showarrow\":false,\"text\":\"0.3\",\"x\":\"no_of_adults\",\"xref\":\"x\",\"y\":\"avg_price_per_room\",\"yref\":\"y\"},{\"font\":{\"color\":\"#FFFFFF\"},\"showarrow\":false,\"text\":\"0.34\",\"x\":\"no_of_children\",\"xref\":\"x\",\"y\":\"avg_price_per_room\",\"yref\":\"y\"},{\"font\":{\"color\":\"#FFFFFF\"},\"showarrow\":false,\"text\":\"-0.0\",\"x\":\"no_of_weekend_nights\",\"xref\":\"x\",\"y\":\"avg_price_per_room\",\"yref\":\"y\"},{\"font\":{\"color\":\"#FFFFFF\"},\"showarrow\":false,\"text\":\"0.02\",\"x\":\"no_of_week_nights\",\"xref\":\"x\",\"y\":\"avg_price_per_room\",\"yref\":\"y\"},{\"font\":{\"color\":\"#FFFFFF\"},\"showarrow\":false,\"text\":\"0.04\",\"x\":\"type_of_meal_plan\",\"xref\":\"x\",\"y\":\"avg_price_per_room\",\"yref\":\"y\"},{\"font\":{\"color\":\"#FFFFFF\"},\"showarrow\":false,\"text\":\"0.06\",\"x\":\"required_car_parking_space\",\"xref\":\"x\",\"y\":\"avg_price_per_room\",\"yref\":\"y\"},{\"font\":{\"color\":\"#000000\"},\"showarrow\":false,\"text\":\"0.41\",\"x\":\"room_type_reserved\",\"xref\":\"x\",\"y\":\"avg_price_per_room\",\"yref\":\"y\"},{\"font\":{\"color\":\"#FFFFFF\"},\"showarrow\":false,\"text\":\"-0.06\",\"x\":\"lead_time\",\"xref\":\"x\",\"y\":\"avg_price_per_room\",\"yref\":\"y\"},{\"font\":{\"color\":\"#FFFFFF\"},\"showarrow\":false,\"text\":\"-0.04\",\"x\":\"market_segment_type\",\"xref\":\"x\",\"y\":\"avg_price_per_room\",\"yref\":\"y\"},{\"font\":{\"color\":\"#FFFFFF\"},\"showarrow\":false,\"text\":\"-0.17\",\"x\":\"repeated_guest\",\"xref\":\"x\",\"y\":\"avg_price_per_room\",\"yref\":\"y\"},{\"font\":{\"color\":\"#000000\"},\"showarrow\":false,\"text\":\"1.0\",\"x\":\"avg_price_per_room\",\"xref\":\"x\",\"y\":\"avg_price_per_room\",\"yref\":\"y\"},{\"font\":{\"color\":\"#FFFFFF\"},\"showarrow\":false,\"text\":\"0.18\",\"x\":\"no_of_special_requests\",\"xref\":\"x\",\"y\":\"avg_price_per_room\",\"yref\":\"y\"},{\"font\":{\"color\":\"#FFFFFF\"},\"showarrow\":false,\"text\":\"0.19\",\"x\":\"no_of_adults\",\"xref\":\"x\",\"y\":\"no_of_special_requests\",\"yref\":\"y\"},{\"font\":{\"color\":\"#FFFFFF\"},\"showarrow\":false,\"text\":\"0.12\",\"x\":\"no_of_children\",\"xref\":\"x\",\"y\":\"no_of_special_requests\",\"yref\":\"y\"},{\"font\":{\"color\":\"#FFFFFF\"},\"showarrow\":false,\"text\":\"0.06\",\"x\":\"no_of_weekend_nights\",\"xref\":\"x\",\"y\":\"no_of_special_requests\",\"yref\":\"y\"},{\"font\":{\"color\":\"#FFFFFF\"},\"showarrow\":false,\"text\":\"0.05\",\"x\":\"no_of_week_nights\",\"xref\":\"x\",\"y\":\"no_of_special_requests\",\"yref\":\"y\"},{\"font\":{\"color\":\"#FFFFFF\"},\"showarrow\":false,\"text\":\"-0.06\",\"x\":\"type_of_meal_plan\",\"xref\":\"x\",\"y\":\"no_of_special_requests\",\"yref\":\"y\"},{\"font\":{\"color\":\"#FFFFFF\"},\"showarrow\":false,\"text\":\"0.09\",\"x\":\"required_car_parking_space\",\"xref\":\"x\",\"y\":\"no_of_special_requests\",\"yref\":\"y\"},{\"font\":{\"color\":\"#FFFFFF\"},\"showarrow\":false,\"text\":\"0.11\",\"x\":\"room_type_reserved\",\"xref\":\"x\",\"y\":\"no_of_special_requests\",\"yref\":\"y\"},{\"font\":{\"color\":\"#FFFFFF\"},\"showarrow\":false,\"text\":\"-0.1\",\"x\":\"lead_time\",\"xref\":\"x\",\"y\":\"no_of_special_requests\",\"yref\":\"y\"},{\"font\":{\"color\":\"#FFFFFF\"},\"showarrow\":false,\"text\":\"0.2\",\"x\":\"market_segment_type\",\"xref\":\"x\",\"y\":\"no_of_special_requests\",\"yref\":\"y\"},{\"font\":{\"color\":\"#FFFFFF\"},\"showarrow\":false,\"text\":\"-0.01\",\"x\":\"repeated_guest\",\"xref\":\"x\",\"y\":\"no_of_special_requests\",\"yref\":\"y\"},{\"font\":{\"color\":\"#FFFFFF\"},\"showarrow\":false,\"text\":\"0.18\",\"x\":\"avg_price_per_room\",\"xref\":\"x\",\"y\":\"no_of_special_requests\",\"yref\":\"y\"},{\"font\":{\"color\":\"#000000\"},\"showarrow\":false,\"text\":\"1.0\",\"x\":\"no_of_special_requests\",\"xref\":\"x\",\"y\":\"no_of_special_requests\",\"yref\":\"y\"}],\"xaxis\":{\"dtick\":1,\"gridcolor\":\"rgb(0, 0, 0)\",\"side\":\"top\",\"ticks\":\"\"},\"yaxis\":{\"dtick\":1,\"ticks\":\"\",\"ticksuffix\":\"  \"},\"template\":{\"data\":{\"bar\":[{\"error_x\":{\"color\":\"#2a3f5f\"},\"error_y\":{\"color\":\"#2a3f5f\"},\"marker\":{\"line\":{\"color\":\"#E5ECF6\",\"width\":0.5},\"pattern\":{\"fillmode\":\"overlay\",\"size\":10,\"solidity\":0.2}},\"type\":\"bar\"}],\"barpolar\":[{\"marker\":{\"line\":{\"color\":\"#E5ECF6\",\"width\":0.5},\"pattern\":{\"fillmode\":\"overlay\",\"size\":10,\"solidity\":0.2}},\"type\":\"barpolar\"}],\"carpet\":[{\"aaxis\":{\"endlinecolor\":\"#2a3f5f\",\"gridcolor\":\"white\",\"linecolor\":\"white\",\"minorgridcolor\":\"white\",\"startlinecolor\":\"#2a3f5f\"},\"baxis\":{\"endlinecolor\":\"#2a3f5f\",\"gridcolor\":\"white\",\"linecolor\":\"white\",\"minorgridcolor\":\"white\",\"startlinecolor\":\"#2a3f5f\"},\"type\":\"carpet\"}],\"choropleth\":[{\"colorbar\":{\"outlinewidth\":0,\"ticks\":\"\"},\"type\":\"choropleth\"}],\"contour\":[{\"colorbar\":{\"outlinewidth\":0,\"ticks\":\"\"},\"colorscale\":[[0.0,\"#0d0887\"],[0.1111111111111111,\"#46039f\"],[0.2222222222222222,\"#7201a8\"],[0.3333333333333333,\"#9c179e\"],[0.4444444444444444,\"#bd3786\"],[0.5555555555555556,\"#d8576b\"],[0.6666666666666666,\"#ed7953\"],[0.7777777777777778,\"#fb9f3a\"],[0.8888888888888888,\"#fdca26\"],[1.0,\"#f0f921\"]],\"type\":\"contour\"}],\"contourcarpet\":[{\"colorbar\":{\"outlinewidth\":0,\"ticks\":\"\"},\"type\":\"contourcarpet\"}],\"heatmap\":[{\"colorbar\":{\"outlinewidth\":0,\"ticks\":\"\"},\"colorscale\":[[0.0,\"#0d0887\"],[0.1111111111111111,\"#46039f\"],[0.2222222222222222,\"#7201a8\"],[0.3333333333333333,\"#9c179e\"],[0.4444444444444444,\"#bd3786\"],[0.5555555555555556,\"#d8576b\"],[0.6666666666666666,\"#ed7953\"],[0.7777777777777778,\"#fb9f3a\"],[0.8888888888888888,\"#fdca26\"],[1.0,\"#f0f921\"]],\"type\":\"heatmap\"}],\"heatmapgl\":[{\"colorbar\":{\"outlinewidth\":0,\"ticks\":\"\"},\"colorscale\":[[0.0,\"#0d0887\"],[0.1111111111111111,\"#46039f\"],[0.2222222222222222,\"#7201a8\"],[0.3333333333333333,\"#9c179e\"],[0.4444444444444444,\"#bd3786\"],[0.5555555555555556,\"#d8576b\"],[0.6666666666666666,\"#ed7953\"],[0.7777777777777778,\"#fb9f3a\"],[0.8888888888888888,\"#fdca26\"],[1.0,\"#f0f921\"]],\"type\":\"heatmapgl\"}],\"histogram\":[{\"marker\":{\"pattern\":{\"fillmode\":\"overlay\",\"size\":10,\"solidity\":0.2}},\"type\":\"histogram\"}],\"histogram2d\":[{\"colorbar\":{\"outlinewidth\":0,\"ticks\":\"\"},\"colorscale\":[[0.0,\"#0d0887\"],[0.1111111111111111,\"#46039f\"],[0.2222222222222222,\"#7201a8\"],[0.3333333333333333,\"#9c179e\"],[0.4444444444444444,\"#bd3786\"],[0.5555555555555556,\"#d8576b\"],[0.6666666666666666,\"#ed7953\"],[0.7777777777777778,\"#fb9f3a\"],[0.8888888888888888,\"#fdca26\"],[1.0,\"#f0f921\"]],\"type\":\"histogram2d\"}],\"histogram2dcontour\":[{\"colorbar\":{\"outlinewidth\":0,\"ticks\":\"\"},\"colorscale\":[[0.0,\"#0d0887\"],[0.1111111111111111,\"#46039f\"],[0.2222222222222222,\"#7201a8\"],[0.3333333333333333,\"#9c179e\"],[0.4444444444444444,\"#bd3786\"],[0.5555555555555556,\"#d8576b\"],[0.6666666666666666,\"#ed7953\"],[0.7777777777777778,\"#fb9f3a\"],[0.8888888888888888,\"#fdca26\"],[1.0,\"#f0f921\"]],\"type\":\"histogram2dcontour\"}],\"mesh3d\":[{\"colorbar\":{\"outlinewidth\":0,\"ticks\":\"\"},\"type\":\"mesh3d\"}],\"parcoords\":[{\"line\":{\"colorbar\":{\"outlinewidth\":0,\"ticks\":\"\"}},\"type\":\"parcoords\"}],\"pie\":[{\"automargin\":true,\"type\":\"pie\"}],\"scatter\":[{\"marker\":{\"colorbar\":{\"outlinewidth\":0,\"ticks\":\"\"}},\"type\":\"scatter\"}],\"scatter3d\":[{\"line\":{\"colorbar\":{\"outlinewidth\":0,\"ticks\":\"\"}},\"marker\":{\"colorbar\":{\"outlinewidth\":0,\"ticks\":\"\"}},\"type\":\"scatter3d\"}],\"scattercarpet\":[{\"marker\":{\"colorbar\":{\"outlinewidth\":0,\"ticks\":\"\"}},\"type\":\"scattercarpet\"}],\"scattergeo\":[{\"marker\":{\"colorbar\":{\"outlinewidth\":0,\"ticks\":\"\"}},\"type\":\"scattergeo\"}],\"scattergl\":[{\"marker\":{\"colorbar\":{\"outlinewidth\":0,\"ticks\":\"\"}},\"type\":\"scattergl\"}],\"scattermapbox\":[{\"marker\":{\"colorbar\":{\"outlinewidth\":0,\"ticks\":\"\"}},\"type\":\"scattermapbox\"}],\"scatterpolar\":[{\"marker\":{\"colorbar\":{\"outlinewidth\":0,\"ticks\":\"\"}},\"type\":\"scatterpolar\"}],\"scatterpolargl\":[{\"marker\":{\"colorbar\":{\"outlinewidth\":0,\"ticks\":\"\"}},\"type\":\"scatterpolargl\"}],\"scatterternary\":[{\"marker\":{\"colorbar\":{\"outlinewidth\":0,\"ticks\":\"\"}},\"type\":\"scatterternary\"}],\"surface\":[{\"colorbar\":{\"outlinewidth\":0,\"ticks\":\"\"},\"colorscale\":[[0.0,\"#0d0887\"],[0.1111111111111111,\"#46039f\"],[0.2222222222222222,\"#7201a8\"],[0.3333333333333333,\"#9c179e\"],[0.4444444444444444,\"#bd3786\"],[0.5555555555555556,\"#d8576b\"],[0.6666666666666666,\"#ed7953\"],[0.7777777777777778,\"#fb9f3a\"],[0.8888888888888888,\"#fdca26\"],[1.0,\"#f0f921\"]],\"type\":\"surface\"}],\"table\":[{\"cells\":{\"fill\":{\"color\":\"#EBF0F8\"},\"line\":{\"color\":\"white\"}},\"header\":{\"fill\":{\"color\":\"#C8D4E3\"},\"line\":{\"color\":\"white\"}},\"type\":\"table\"}]},\"layout\":{\"annotationdefaults\":{\"arrowcolor\":\"#2a3f5f\",\"arrowhead\":0,\"arrowwidth\":1},\"autotypenumbers\":\"strict\",\"coloraxis\":{\"colorbar\":{\"outlinewidth\":0,\"ticks\":\"\"}},\"colorscale\":{\"diverging\":[[0,\"#8e0152\"],[0.1,\"#c51b7d\"],[0.2,\"#de77ae\"],[0.3,\"#f1b6da\"],[0.4,\"#fde0ef\"],[0.5,\"#f7f7f7\"],[0.6,\"#e6f5d0\"],[0.7,\"#b8e186\"],[0.8,\"#7fbc41\"],[0.9,\"#4d9221\"],[1,\"#276419\"]],\"sequential\":[[0.0,\"#0d0887\"],[0.1111111111111111,\"#46039f\"],[0.2222222222222222,\"#7201a8\"],[0.3333333333333333,\"#9c179e\"],[0.4444444444444444,\"#bd3786\"],[0.5555555555555556,\"#d8576b\"],[0.6666666666666666,\"#ed7953\"],[0.7777777777777778,\"#fb9f3a\"],[0.8888888888888888,\"#fdca26\"],[1.0,\"#f0f921\"]],\"sequentialminus\":[[0.0,\"#0d0887\"],[0.1111111111111111,\"#46039f\"],[0.2222222222222222,\"#7201a8\"],[0.3333333333333333,\"#9c179e\"],[0.4444444444444444,\"#bd3786\"],[0.5555555555555556,\"#d8576b\"],[0.6666666666666666,\"#ed7953\"],[0.7777777777777778,\"#fb9f3a\"],[0.8888888888888888,\"#fdca26\"],[1.0,\"#f0f921\"]]},\"colorway\":[\"#636efa\",\"#EF553B\",\"#00cc96\",\"#ab63fa\",\"#FFA15A\",\"#19d3f3\",\"#FF6692\",\"#B6E880\",\"#FF97FF\",\"#FECB52\"],\"font\":{\"color\":\"#2a3f5f\"},\"geo\":{\"bgcolor\":\"white\",\"lakecolor\":\"white\",\"landcolor\":\"#E5ECF6\",\"showlakes\":true,\"showland\":true,\"subunitcolor\":\"white\"},\"hoverlabel\":{\"align\":\"left\"},\"hovermode\":\"closest\",\"mapbox\":{\"style\":\"light\"},\"paper_bgcolor\":\"white\",\"plot_bgcolor\":\"#E5ECF6\",\"polar\":{\"angularaxis\":{\"gridcolor\":\"white\",\"linecolor\":\"white\",\"ticks\":\"\"},\"bgcolor\":\"#E5ECF6\",\"radialaxis\":{\"gridcolor\":\"white\",\"linecolor\":\"white\",\"ticks\":\"\"}},\"scene\":{\"xaxis\":{\"backgroundcolor\":\"#E5ECF6\",\"gridcolor\":\"white\",\"gridwidth\":2,\"linecolor\":\"white\",\"showbackground\":true,\"ticks\":\"\",\"zerolinecolor\":\"white\"},\"yaxis\":{\"backgroundcolor\":\"#E5ECF6\",\"gridcolor\":\"white\",\"gridwidth\":2,\"linecolor\":\"white\",\"showbackground\":true,\"ticks\":\"\",\"zerolinecolor\":\"white\"},\"zaxis\":{\"backgroundcolor\":\"#E5ECF6\",\"gridcolor\":\"white\",\"gridwidth\":2,\"linecolor\":\"white\",\"showbackground\":true,\"ticks\":\"\",\"zerolinecolor\":\"white\"}},\"shapedefaults\":{\"line\":{\"color\":\"#2a3f5f\"}},\"ternary\":{\"aaxis\":{\"gridcolor\":\"white\",\"linecolor\":\"white\",\"ticks\":\"\"},\"baxis\":{\"gridcolor\":\"white\",\"linecolor\":\"white\",\"ticks\":\"\"},\"bgcolor\":\"#E5ECF6\",\"caxis\":{\"gridcolor\":\"white\",\"linecolor\":\"white\",\"ticks\":\"\"}},\"title\":{\"x\":0.05},\"xaxis\":{\"automargin\":true,\"gridcolor\":\"white\",\"linecolor\":\"white\",\"ticks\":\"\",\"title\":{\"standoff\":15},\"zerolinecolor\":\"white\",\"zerolinewidth\":2},\"yaxis\":{\"automargin\":true,\"gridcolor\":\"white\",\"linecolor\":\"white\",\"ticks\":\"\",\"title\":{\"standoff\":15},\"zerolinecolor\":\"white\",\"zerolinewidth\":2}}}},                        {\"responsive\": true}                    ).then(function(){\n",
              "                            \n",
              "var gd = document.getElementById('d6a1d425-e008-48a1-9ac8-7a92e2c6f3bd');\n",
              "var x = new MutationObserver(function (mutations, observer) {{\n",
              "        var display = window.getComputedStyle(gd).display;\n",
              "        if (!display || display === 'none') {{\n",
              "            console.log([gd, 'removed!']);\n",
              "            Plotly.purge(gd);\n",
              "            observer.disconnect();\n",
              "        }}\n",
              "}});\n",
              "\n",
              "// Listen for the removal of the full notebook cells\n",
              "var notebookContainer = gd.closest('#notebook-container');\n",
              "if (notebookContainer) {{\n",
              "    x.observe(notebookContainer, {childList: true});\n",
              "}}\n",
              "\n",
              "// Listen for the clearing of the current output cell\n",
              "var outputEl = gd.closest('.output');\n",
              "if (outputEl) {{\n",
              "    x.observe(outputEl, {childList: true});\n",
              "}}\n",
              "\n",
              "                        })                };                            </script>        </div>\n",
              "</body>\n",
              "</html>"
            ]
          },
          "metadata": {}
        }
      ],
      "source": [
        "import plotly.figure_factory as ff\n",
        "corrs = hotel_resrv.corr()\n",
        "figure = ff.create_annotated_heatmap(\n",
        "    z=corrs.values,\n",
        "    x=list(corrs.columns),\n",
        "    y=list(corrs.index),\n",
        "    annotation_text=corrs.round(2).values,\n",
        "    showscale=True)\n",
        "figure.show()"
      ]
    },
    {
      "cell_type": "markdown",
      "metadata": {
        "id": "ZZv5KZHCX_eu"
      },
      "source": [
        "Оставим данные о количестве забронированных ночей, как есть. \n",
        "\n",
        "Что делать с датами непонятно. Может быть их в дни недели преобразовать? \n",
        "\n",
        "А пока удалим данные о датах. Потому что они не числа. И модель на них не обучить. "
      ]
    },
    {
      "cell_type": "code",
      "execution_count": 18,
      "metadata": {
        "id": "2hic2UxufmBz"
      },
      "outputs": [],
      "source": [
        "hotel_resrv.drop(['booking_date'], axis=1, inplace=True)"
      ]
    },
    {
      "cell_type": "markdown",
      "metadata": {
        "id": "hNRDRvZ0ipG6"
      },
      "source": [
        "\n",
        "# Строим модель."
      ]
    },
    {
      "cell_type": "code",
      "execution_count": 19,
      "metadata": {
        "id": "3Xgi8MSji7Jq"
      },
      "outputs": [],
      "source": [
        "feature_names = list(hotel_resrv).copy()\n",
        "feature_names.remove('booking_status')\n",
        "\n",
        "# выделчем отдельно целевую переменную\n",
        "target = hotel_resrv['booking_status']\n",
        "\n",
        "# создаем датасет из выбранных переменных кроме целевой\n",
        "temp_hotel_res = hotel_resrv\n",
        "temp_hotel_res.drop(['booking_status'], axis=1, inplace=True)\n",
        "\n",
        "X = pd.DataFrame(temp_hotel_res, columns = feature_names) \n",
        "y = target\n"
      ]
    },
    {
      "cell_type": "code",
      "execution_count": 20,
      "metadata": {
        "id": "lbPgpS3akvw3"
      },
      "outputs": [],
      "source": [
        "from sklearn.model_selection import train_test_split\n",
        "\n",
        "#Создаем три набора данных: тренировочный, тестовый и валидационный. В пропорции 60:20:20.\n",
        "X_train, X_test, y_train, y_test = train_test_split(X, y, \n",
        "                                                    test_size = 0.4, \n",
        "                                                    random_state = 42)\n",
        "X_test, X_val, y_test, y_val = train_test_split(X_test, y_test,\n",
        "                                                test_size=0.5, \n",
        "                                                random_state=42)\n"
      ]
    },
    {
      "cell_type": "markdown",
      "metadata": {
        "id": "RC50CGd3T-t2"
      },
      "source": [
        "### Нормализуем данные.\n",
        "Каждый датасет нормализуем по-отдельности, чтобы не переносить усреднения из набора в набор."
      ]
    },
    {
      "cell_type": "code",
      "execution_count": 21,
      "metadata": {
        "colab": {
          "base_uri": "https://localhost:8080/",
          "height": 270
        },
        "id": "1kQa8Cu2ivLb",
        "outputId": "3074df18-95b8-4883-deba-09c9842b6f60"
      },
      "outputs": [
        {
          "output_type": "execute_result",
          "data": {
            "text/plain": [
              "   no_of_adults  no_of_children  no_of_weekend_nights  no_of_week_nights  \\\n",
              "0      0.303261       -0.261706             -0.934280          -0.863962   \n",
              "1     -1.627266       -0.261706             -0.934280          -0.863962   \n",
              "2     -1.627266       -0.261706              0.220636          -0.143442   \n",
              "3      0.303261       -0.261706              0.220636          -0.143442   \n",
              "4     -1.627266       -0.261706              2.530468           3.459158   \n",
              "\n",
              "   type_of_meal_plan  required_car_parking_space  room_type_reserved  \\\n",
              "0          -0.512415                   -0.180672           -0.434617   \n",
              "1          -0.512415                   -0.180672            0.856949   \n",
              "2          -0.512415                   -0.180672           -0.434617   \n",
              "3           1.056843                   -0.180672           -0.434617   \n",
              "4          -0.512415                   -0.180672           -0.434617   \n",
              "\n",
              "   lead_time  market_segment_type  repeated_guest  avg_price_per_room  \\\n",
              "0  -0.785828             0.297857       -0.160862            0.017099   \n",
              "1  -0.960363             3.373941       -0.160862           -0.239396   \n",
              "2  -0.960363             1.835899       -0.160862           -0.695386   \n",
              "3  -0.076054             0.297857       -0.160862           -0.689687   \n",
              "4  -0.867278             0.297857       -0.160862           -0.754380   \n",
              "\n",
              "   no_of_special_requests  \n",
              "0               -0.786427  \n",
              "1               -0.786427  \n",
              "2               -0.786427  \n",
              "3                1.759357  \n",
              "4                0.486465  "
            ],
            "text/html": [
              "\n",
              "  <div id=\"df-d176ccc7-ff9b-4c26-9bf2-e0b7ee06c05e\">\n",
              "    <div class=\"colab-df-container\">\n",
              "      <div>\n",
              "<style scoped>\n",
              "    .dataframe tbody tr th:only-of-type {\n",
              "        vertical-align: middle;\n",
              "    }\n",
              "\n",
              "    .dataframe tbody tr th {\n",
              "        vertical-align: top;\n",
              "    }\n",
              "\n",
              "    .dataframe thead th {\n",
              "        text-align: right;\n",
              "    }\n",
              "</style>\n",
              "<table border=\"1\" class=\"dataframe\">\n",
              "  <thead>\n",
              "    <tr style=\"text-align: right;\">\n",
              "      <th></th>\n",
              "      <th>no_of_adults</th>\n",
              "      <th>no_of_children</th>\n",
              "      <th>no_of_weekend_nights</th>\n",
              "      <th>no_of_week_nights</th>\n",
              "      <th>type_of_meal_plan</th>\n",
              "      <th>required_car_parking_space</th>\n",
              "      <th>room_type_reserved</th>\n",
              "      <th>lead_time</th>\n",
              "      <th>market_segment_type</th>\n",
              "      <th>repeated_guest</th>\n",
              "      <th>avg_price_per_room</th>\n",
              "      <th>no_of_special_requests</th>\n",
              "    </tr>\n",
              "  </thead>\n",
              "  <tbody>\n",
              "    <tr>\n",
              "      <th>0</th>\n",
              "      <td>0.303261</td>\n",
              "      <td>-0.261706</td>\n",
              "      <td>-0.934280</td>\n",
              "      <td>-0.863962</td>\n",
              "      <td>-0.512415</td>\n",
              "      <td>-0.180672</td>\n",
              "      <td>-0.434617</td>\n",
              "      <td>-0.785828</td>\n",
              "      <td>0.297857</td>\n",
              "      <td>-0.160862</td>\n",
              "      <td>0.017099</td>\n",
              "      <td>-0.786427</td>\n",
              "    </tr>\n",
              "    <tr>\n",
              "      <th>1</th>\n",
              "      <td>-1.627266</td>\n",
              "      <td>-0.261706</td>\n",
              "      <td>-0.934280</td>\n",
              "      <td>-0.863962</td>\n",
              "      <td>-0.512415</td>\n",
              "      <td>-0.180672</td>\n",
              "      <td>0.856949</td>\n",
              "      <td>-0.960363</td>\n",
              "      <td>3.373941</td>\n",
              "      <td>-0.160862</td>\n",
              "      <td>-0.239396</td>\n",
              "      <td>-0.786427</td>\n",
              "    </tr>\n",
              "    <tr>\n",
              "      <th>2</th>\n",
              "      <td>-1.627266</td>\n",
              "      <td>-0.261706</td>\n",
              "      <td>0.220636</td>\n",
              "      <td>-0.143442</td>\n",
              "      <td>-0.512415</td>\n",
              "      <td>-0.180672</td>\n",
              "      <td>-0.434617</td>\n",
              "      <td>-0.960363</td>\n",
              "      <td>1.835899</td>\n",
              "      <td>-0.160862</td>\n",
              "      <td>-0.695386</td>\n",
              "      <td>-0.786427</td>\n",
              "    </tr>\n",
              "    <tr>\n",
              "      <th>3</th>\n",
              "      <td>0.303261</td>\n",
              "      <td>-0.261706</td>\n",
              "      <td>0.220636</td>\n",
              "      <td>-0.143442</td>\n",
              "      <td>1.056843</td>\n",
              "      <td>-0.180672</td>\n",
              "      <td>-0.434617</td>\n",
              "      <td>-0.076054</td>\n",
              "      <td>0.297857</td>\n",
              "      <td>-0.160862</td>\n",
              "      <td>-0.689687</td>\n",
              "      <td>1.759357</td>\n",
              "    </tr>\n",
              "    <tr>\n",
              "      <th>4</th>\n",
              "      <td>-1.627266</td>\n",
              "      <td>-0.261706</td>\n",
              "      <td>2.530468</td>\n",
              "      <td>3.459158</td>\n",
              "      <td>-0.512415</td>\n",
              "      <td>-0.180672</td>\n",
              "      <td>-0.434617</td>\n",
              "      <td>-0.867278</td>\n",
              "      <td>0.297857</td>\n",
              "      <td>-0.160862</td>\n",
              "      <td>-0.754380</td>\n",
              "      <td>0.486465</td>\n",
              "    </tr>\n",
              "  </tbody>\n",
              "</table>\n",
              "</div>\n",
              "      <button class=\"colab-df-convert\" onclick=\"convertToInteractive('df-d176ccc7-ff9b-4c26-9bf2-e0b7ee06c05e')\"\n",
              "              title=\"Convert this dataframe to an interactive table.\"\n",
              "              style=\"display:none;\">\n",
              "        \n",
              "  <svg xmlns=\"http://www.w3.org/2000/svg\" height=\"24px\"viewBox=\"0 0 24 24\"\n",
              "       width=\"24px\">\n",
              "    <path d=\"M0 0h24v24H0V0z\" fill=\"none\"/>\n",
              "    <path d=\"M18.56 5.44l.94 2.06.94-2.06 2.06-.94-2.06-.94-.94-2.06-.94 2.06-2.06.94zm-11 1L8.5 8.5l.94-2.06 2.06-.94-2.06-.94L8.5 2.5l-.94 2.06-2.06.94zm10 10l.94 2.06.94-2.06 2.06-.94-2.06-.94-.94-2.06-.94 2.06-2.06.94z\"/><path d=\"M17.41 7.96l-1.37-1.37c-.4-.4-.92-.59-1.43-.59-.52 0-1.04.2-1.43.59L10.3 9.45l-7.72 7.72c-.78.78-.78 2.05 0 2.83L4 21.41c.39.39.9.59 1.41.59.51 0 1.02-.2 1.41-.59l7.78-7.78 2.81-2.81c.8-.78.8-2.07 0-2.86zM5.41 20L4 18.59l7.72-7.72 1.47 1.35L5.41 20z\"/>\n",
              "  </svg>\n",
              "      </button>\n",
              "      \n",
              "  <style>\n",
              "    .colab-df-container {\n",
              "      display:flex;\n",
              "      flex-wrap:wrap;\n",
              "      gap: 12px;\n",
              "    }\n",
              "\n",
              "    .colab-df-convert {\n",
              "      background-color: #E8F0FE;\n",
              "      border: none;\n",
              "      border-radius: 50%;\n",
              "      cursor: pointer;\n",
              "      display: none;\n",
              "      fill: #1967D2;\n",
              "      height: 32px;\n",
              "      padding: 0 0 0 0;\n",
              "      width: 32px;\n",
              "    }\n",
              "\n",
              "    .colab-df-convert:hover {\n",
              "      background-color: #E2EBFA;\n",
              "      box-shadow: 0px 1px 2px rgba(60, 64, 67, 0.3), 0px 1px 3px 1px rgba(60, 64, 67, 0.15);\n",
              "      fill: #174EA6;\n",
              "    }\n",
              "\n",
              "    [theme=dark] .colab-df-convert {\n",
              "      background-color: #3B4455;\n",
              "      fill: #D2E3FC;\n",
              "    }\n",
              "\n",
              "    [theme=dark] .colab-df-convert:hover {\n",
              "      background-color: #434B5C;\n",
              "      box-shadow: 0px 1px 3px 1px rgba(0, 0, 0, 0.15);\n",
              "      filter: drop-shadow(0px 1px 2px rgba(0, 0, 0, 0.3));\n",
              "      fill: #FFFFFF;\n",
              "    }\n",
              "  </style>\n",
              "\n",
              "      <script>\n",
              "        const buttonEl =\n",
              "          document.querySelector('#df-d176ccc7-ff9b-4c26-9bf2-e0b7ee06c05e button.colab-df-convert');\n",
              "        buttonEl.style.display =\n",
              "          google.colab.kernel.accessAllowed ? 'block' : 'none';\n",
              "\n",
              "        async function convertToInteractive(key) {\n",
              "          const element = document.querySelector('#df-d176ccc7-ff9b-4c26-9bf2-e0b7ee06c05e');\n",
              "          const dataTable =\n",
              "            await google.colab.kernel.invokeFunction('convertToInteractive',\n",
              "                                                     [key], {});\n",
              "          if (!dataTable) return;\n",
              "\n",
              "          const docLinkHtml = 'Like what you see? Visit the ' +\n",
              "            '<a target=\"_blank\" href=https://colab.research.google.com/notebooks/data_table.ipynb>data table notebook</a>'\n",
              "            + ' to learn more about interactive tables.';\n",
              "          element.innerHTML = '';\n",
              "          dataTable['output_type'] = 'display_data';\n",
              "          await google.colab.output.renderOutput(dataTable, element);\n",
              "          const docLink = document.createElement('div');\n",
              "          docLink.innerHTML = docLinkHtml;\n",
              "          element.appendChild(docLink);\n",
              "        }\n",
              "      </script>\n",
              "    </div>\n",
              "  </div>\n",
              "  "
            ]
          },
          "metadata": {},
          "execution_count": 21
        }
      ],
      "source": [
        "from sklearn.preprocessing import StandardScaler\n",
        "scaler = StandardScaler()\n",
        "\n",
        "scaled_temp = scaler.fit_transform(X_train).copy()  #fit_tranform для тренировочного набора\n",
        "X_train = pd.DataFrame(scaled_temp, columns = feature_names) \n",
        "\n",
        "scaled_temp = scaler.transform(X_test).copy()   #для валидационного и тестирующего transorm\n",
        "X_test = pd.DataFrame(scaled_temp, columns = feature_names) \n",
        "\n",
        "scaled_temp = scaler.transform(X_val).copy()\n",
        "X_val = pd.DataFrame(scaled_temp, columns = feature_names) \n",
        "\n",
        "X_test.head()"
      ]
    },
    {
      "cell_type": "markdown",
      "metadata": {
        "id": "uQODEtr3nU3H"
      },
      "source": [
        "## Выбор модели\n",
        "В качестве модели выберем случайный лес. Он же Random Forest. \n",
        "В Интернете у него хорошая репутация."
      ]
    },
    {
      "cell_type": "code",
      "execution_count": 22,
      "metadata": {
        "id": "sL0v33QenSZy"
      },
      "outputs": [],
      "source": [
        "from sklearn.model_selection import train_test_split, cross_val_score, GridSearchCV\n",
        "from sklearn.ensemble import RandomForestClassifier\n",
        "from sklearn.metrics import accuracy_score, precision_score, recall_score\n",
        "from sklearn.metrics import mean_squared_error\n"
      ]
    },
    {
      "cell_type": "markdown",
      "metadata": {
        "id": "ww-qn9thrdnS"
      },
      "source": [
        "## Кросс-валидация.\n",
        "Для предыдущего задания была выбрана модель на основе метода логистической регрессии. Сравним ее с методом случайного леса."
      ]
    },
    {
      "cell_type": "code",
      "execution_count": 23,
      "metadata": {
        "colab": {
          "base_uri": "https://localhost:8080/"
        },
        "id": "myJwzmQMqK1b",
        "outputId": "5a0dcca9-6a03-45cf-ba68-c75d88d14b2d"
      },
      "outputs": [
        {
          "output_type": "stream",
          "name": "stdout",
          "text": [
            "Logistic Regression [0.79600276 0.77670572 0.78704342 0.79186768 0.78313807]\n",
            "Random Forest [0.88490696 0.87847462 0.87939352 0.8835286  0.87089364]\n"
          ]
        }
      ],
      "source": [
        "from sklearn.linear_model import LogisticRegression\n",
        "model1 = LogisticRegression(random_state = 42)\n",
        "scores1 = cross_val_score(model1, X_train, y_train.values.ravel(), cv=5)\n",
        "print('Logistic Regression',scores1)\n",
        "\n",
        "model = RandomForestClassifier(random_state = 42)\n",
        "scores = cross_val_score(model, X_train, y_train.values.ravel(), cv=5)\n",
        "print('Random Forest',scores)\n",
        "\n"
      ]
    },
    {
      "cell_type": "markdown",
      "metadata": {
        "id": "pfEqE7GFwZjx"
      },
      "source": [
        "Видно, что метод случайного леса работает явно лучше. На нем и остановимся"
      ]
    },
    {
      "cell_type": "markdown",
      "metadata": {
        "id": "0El3SEHvy9SG"
      },
      "source": [
        "## Настройка гиперпараметров."
      ]
    },
    {
      "cell_type": "code",
      "execution_count": 24,
      "metadata": {
        "colab": {
          "base_uri": "https://localhost:8080/"
        },
        "id": "PvJF9O_vzSO9",
        "outputId": "08bb5bd6-b8f7-4d1b-af4e-54b581e9f3b1"
      },
      "outputs": [
        {
          "output_type": "stream",
          "name": "stdout",
          "text": [
            "CPU times: user 6min 13s, sys: 1.34 s, total: 6min 14s\n",
            "Wall time: 6min 29s\n"
          ]
        },
        {
          "output_type": "execute_result",
          "data": {
            "text/plain": [
              "GridSearchCV(cv=5, estimator=RandomForestClassifier(random_state=42),\n",
              "             param_grid={'max_depth': [8, 12, 16, 20, 24, 28, 32, None],\n",
              "                         'n_estimators': array([ 20,  40,  60,  80, 100, 120, 140])})"
            ]
          },
          "metadata": {},
          "execution_count": 24
        }
      ],
      "source": [
        "%%time\n",
        "model = RandomForestClassifier(random_state = 42) # фиксируем состояние для повторяемости\n",
        "\n",
        "hyperparams = {\n",
        "    'n_estimators': np.arange(20,160,20),\n",
        "    'max_depth': list(np.arange(8,36,4)) + [None]\n",
        "}\n",
        "\n",
        "cross_val = GridSearchCV(model, hyperparams, cv=5)\n",
        "cross_val.fit(X_train, y_train.values.ravel())\n"
      ]
    },
    {
      "cell_type": "markdown",
      "metadata": {
        "id": "d-xRJ7lA1-rf"
      },
      "source": [
        "Ладно. Гиперпараметры настроились, но как именно не видно.\n",
        "Чтобы заглянуть \"внутрь\" настройки гиперпараметров нужно написать функцию. Ничем кроме вывода она заниматься не будет."
      ]
    },
    {
      "cell_type": "code",
      "execution_count": 25,
      "metadata": {
        "id": "Ax4yYeqX07l7"
      },
      "outputs": [],
      "source": [
        "def cross_val_results(results):\n",
        "  print('Оптимальные гиперпараметры: {}\\n'.format(results.best_params_))\n",
        "  means = results.cv_results_['mean_test_score']\n",
        "  stds = results.cv_results_['std_test_score']\n",
        "\n",
        "  for mean, std, params in zip(means, stds, results.cv_results_['params']):\n",
        "    print('Mean {} Standard Deviation {} Hyperparameters {}'.format(round(mean,7), round(std, 5), params))"
      ]
    },
    {
      "cell_type": "code",
      "execution_count": 26,
      "metadata": {
        "colab": {
          "base_uri": "https://localhost:8080/"
        },
        "id": "K8G0jO0Z3bGF",
        "outputId": "5408b7b7-9ef1-4ec4-eeea-6b0140358035"
      },
      "outputs": [
        {
          "output_type": "stream",
          "name": "stdout",
          "text": [
            "Оптимальные гиперпараметры: {'max_depth': 20, 'n_estimators': 40}\n",
            "\n",
            "Mean 0.8450724 Standard Deviation 0.00385 Hyperparameters {'max_depth': 8, 'n_estimators': 20}\n",
            "Mean 0.8465886 Standard Deviation 0.0021 Hyperparameters {'max_depth': 8, 'n_estimators': 40}\n",
            "Mean 0.8461751 Standard Deviation 0.00269 Hyperparameters {'max_depth': 8, 'n_estimators': 60}\n",
            "Mean 0.8467723 Standard Deviation 0.00141 Hyperparameters {'max_depth': 8, 'n_estimators': 80}\n",
            "Mean 0.8469102 Standard Deviation 0.00123 Hyperparameters {'max_depth': 8, 'n_estimators': 100}\n",
            "Mean 0.8473237 Standard Deviation 0.0031 Hyperparameters {'max_depth': 8, 'n_estimators': 120}\n",
            "Mean 0.8475994 Standard Deviation 0.00374 Hyperparameters {'max_depth': 8, 'n_estimators': 140}\n",
            "Mean 0.8692856 Standard Deviation 0.00373 Hyperparameters {'max_depth': 12, 'n_estimators': 20}\n",
            "Mean 0.870572 Standard Deviation 0.00343 Hyperparameters {'max_depth': 12, 'n_estimators': 40}\n",
            "Mean 0.8716747 Standard Deviation 0.00383 Hyperparameters {'max_depth': 12, 'n_estimators': 60}\n",
            "Mean 0.8719963 Standard Deviation 0.00393 Hyperparameters {'max_depth': 12, 'n_estimators': 80}\n",
            "Mean 0.8730531 Standard Deviation 0.0032 Hyperparameters {'max_depth': 12, 'n_estimators': 100}\n",
            "Mean 0.8725477 Standard Deviation 0.00357 Hyperparameters {'max_depth': 12, 'n_estimators': 120}\n",
            "Mean 0.8721342 Standard Deviation 0.00379 Hyperparameters {'max_depth': 12, 'n_estimators': 140}\n",
            "Mean 0.8781989 Standard Deviation 0.00428 Hyperparameters {'max_depth': 16, 'n_estimators': 20}\n",
            "Mean 0.8797151 Standard Deviation 0.00416 Hyperparameters {'max_depth': 16, 'n_estimators': 40}\n",
            "Mean 0.8804503 Standard Deviation 0.00451 Hyperparameters {'max_depth': 16, 'n_estimators': 60}\n",
            "Mean 0.8805422 Standard Deviation 0.00464 Hyperparameters {'max_depth': 16, 'n_estimators': 80}\n",
            "Mean 0.8805422 Standard Deviation 0.0042 Hyperparameters {'max_depth': 16, 'n_estimators': 100}\n",
            "Mean 0.8809097 Standard Deviation 0.00428 Hyperparameters {'max_depth': 16, 'n_estimators': 120}\n",
            "Mean 0.8808178 Standard Deviation 0.00428 Hyperparameters {'max_depth': 16, 'n_estimators': 140}\n",
            "Mean 0.879807 Standard Deviation 0.00394 Hyperparameters {'max_depth': 20, 'n_estimators': 20}\n",
            "Mean 0.8832529 Standard Deviation 0.00392 Hyperparameters {'max_depth': 20, 'n_estimators': 40}\n",
            "Mean 0.8832529 Standard Deviation 0.00442 Hyperparameters {'max_depth': 20, 'n_estimators': 60}\n",
            "Mean 0.8826097 Standard Deviation 0.004 Hyperparameters {'max_depth': 20, 'n_estimators': 80}\n",
            "Mean 0.8819665 Standard Deviation 0.00518 Hyperparameters {'max_depth': 20, 'n_estimators': 100}\n",
            "Mean 0.8827475 Standard Deviation 0.00502 Hyperparameters {'max_depth': 20, 'n_estimators': 120}\n",
            "Mean 0.8825178 Standard Deviation 0.00444 Hyperparameters {'max_depth': 20, 'n_estimators': 140}\n",
            "Mean 0.8759936 Standard Deviation 0.00324 Hyperparameters {'max_depth': 24, 'n_estimators': 20}\n",
            "Mean 0.879853 Standard Deviation 0.00401 Hyperparameters {'max_depth': 24, 'n_estimators': 40}\n",
            "Mean 0.8807719 Standard Deviation 0.00521 Hyperparameters {'max_depth': 24, 'n_estimators': 60}\n",
            "Mean 0.8810476 Standard Deviation 0.00463 Hyperparameters {'max_depth': 24, 'n_estimators': 80}\n",
            "Mean 0.8820124 Standard Deviation 0.00465 Hyperparameters {'max_depth': 24, 'n_estimators': 100}\n",
            "Mean 0.88238 Standard Deviation 0.00477 Hyperparameters {'max_depth': 24, 'n_estimators': 120}\n",
            "Mean 0.8818746 Standard Deviation 0.00569 Hyperparameters {'max_depth': 24, 'n_estimators': 140}\n",
            "Mean 0.8766368 Standard Deviation 0.00451 Hyperparameters {'max_depth': 28, 'n_estimators': 20}\n",
            "Mean 0.8791638 Standard Deviation 0.00529 Hyperparameters {'max_depth': 28, 'n_estimators': 40}\n",
            "Mean 0.8801746 Standard Deviation 0.00557 Hyperparameters {'max_depth': 28, 'n_estimators': 60}\n",
            "Mean 0.8814151 Standard Deviation 0.00508 Hyperparameters {'max_depth': 28, 'n_estimators': 80}\n",
            "Mean 0.8812773 Standard Deviation 0.00523 Hyperparameters {'max_depth': 28, 'n_estimators': 100}\n",
            "Mean 0.8801286 Standard Deviation 0.00547 Hyperparameters {'max_depth': 28, 'n_estimators': 120}\n",
            "Mean 0.880634 Standard Deviation 0.00529 Hyperparameters {'max_depth': 28, 'n_estimators': 140}\n",
            "Mean 0.8769584 Standard Deviation 0.00465 Hyperparameters {'max_depth': 32, 'n_estimators': 20}\n",
            "Mean 0.8799908 Standard Deviation 0.00491 Hyperparameters {'max_depth': 32, 'n_estimators': 40}\n",
            "Mean 0.8801746 Standard Deviation 0.00477 Hyperparameters {'max_depth': 32, 'n_estimators': 60}\n",
            "Mean 0.8799449 Standard Deviation 0.00466 Hyperparameters {'max_depth': 32, 'n_estimators': 80}\n",
            "Mean 0.8794854 Standard Deviation 0.00492 Hyperparameters {'max_depth': 32, 'n_estimators': 100}\n",
            "Mean 0.8802205 Standard Deviation 0.00458 Hyperparameters {'max_depth': 32, 'n_estimators': 120}\n",
            "Mean 0.8801746 Standard Deviation 0.00492 Hyperparameters {'max_depth': 32, 'n_estimators': 140}\n",
            "Mean 0.8755341 Standard Deviation 0.00389 Hyperparameters {'max_depth': None, 'n_estimators': 20}\n",
            "Mean 0.8782449 Standard Deviation 0.00384 Hyperparameters {'max_depth': None, 'n_estimators': 40}\n",
            "Mean 0.8794395 Standard Deviation 0.00481 Hyperparameters {'max_depth': None, 'n_estimators': 60}\n",
            "Mean 0.8798989 Standard Deviation 0.00471 Hyperparameters {'max_depth': None, 'n_estimators': 80}\n",
            "Mean 0.8794395 Standard Deviation 0.00491 Hyperparameters {'max_depth': None, 'n_estimators': 100}\n",
            "Mean 0.879853 Standard Deviation 0.00458 Hyperparameters {'max_depth': None, 'n_estimators': 120}\n",
            "Mean 0.8797611 Standard Deviation 0.00452 Hyperparameters {'max_depth': None, 'n_estimators': 140}\n"
          ]
        }
      ],
      "source": [
        "cross_val_results(cross_val)"
      ]
    },
    {
      "cell_type": "markdown",
      "metadata": {
        "id": "KfwPaWpq6L9P"
      },
      "source": [
        "Для чистоты эксперимента создадим две модели. Одну с оптимальными гиперпараметрами, а вторую с, например, значениями max_depth': 8, 'n_estimators': 25."
      ]
    },
    {
      "cell_type": "code",
      "execution_count": 27,
      "metadata": {
        "colab": {
          "base_uri": "https://localhost:8080/"
        },
        "id": "Tt0PYxrb6zDz",
        "outputId": "2eef8206-d07c-4700-8214-172870cfa6d8"
      },
      "outputs": [
        {
          "output_type": "stream",
          "name": "stdout",
          "text": [
            "CPU times: user 736 ms, sys: 3 ms, total: 739 ms\n",
            "Wall time: 746 ms\n"
          ]
        },
        {
          "output_type": "execute_result",
          "data": {
            "text/plain": [
              "RandomForestClassifier(max_depth=20, n_estimators=40, random_state=42)"
            ]
          },
          "metadata": {},
          "execution_count": 27
        }
      ],
      "source": [
        "%%time\n",
        "model_opt = RandomForestClassifier(n_estimators = 40, max_depth = 20, random_state = 42)\n",
        "model_opt.fit(X_train, y_train.values.ravel())\n"
      ]
    },
    {
      "cell_type": "code",
      "execution_count": 28,
      "metadata": {
        "colab": {
          "base_uri": "https://localhost:8080/"
        },
        "id": "R8KC2Hmw8bP-",
        "outputId": "97565824-b904-4a44-dd61-395c01411fb4"
      },
      "outputs": [
        {
          "output_type": "stream",
          "name": "stdout",
          "text": [
            "CPU times: user 448 ms, sys: 4.02 ms, total: 452 ms\n",
            "Wall time: 486 ms\n"
          ]
        },
        {
          "output_type": "execute_result",
          "data": {
            "text/plain": [
              "RandomForestClassifier(max_depth=12, n_estimators=20, random_state=42)"
            ]
          },
          "metadata": {},
          "execution_count": 28
        }
      ],
      "source": [
        "%%time\n",
        "model_easy = RandomForestClassifier(n_estimators = 20, max_depth = 12, random_state = 42)\n",
        "model_easy.fit(X_train, y_train.values.ravel())"
      ]
    },
    {
      "cell_type": "markdown",
      "metadata": {
        "id": "lAyFxMM98xzv"
      },
      "source": [
        "Более простая модель ожидаемо \"учится быстрее\". "
      ]
    },
    {
      "cell_type": "markdown",
      "metadata": {
        "id": "TNyUWeo4oT6E"
      },
      "source": [
        "## Оценим модели. \n",
        "И работу моделей на валидационных наборах."
      ]
    },
    {
      "cell_type": "code",
      "execution_count": 29,
      "metadata": {
        "colab": {
          "base_uri": "https://localhost:8080/"
        },
        "id": "qTpqyg_NDOcu",
        "outputId": "e74bd94d-b6da-43fa-a739-c86f60b87d1e"
      },
      "outputs": [
        {
          "output_type": "stream",
          "name": "stdout",
          "text": [
            "Max Depth: 12 || Estimators: 20 || Accuracy: 0.8703 || Precision: 0.8801 || Recall: 0.9324\n",
            "RMSE: 0.6596576185214029\n",
            "Max Depth: 20 || Estimators: 40 || Accuracy: 0.8834 || Precision: 0.8959 || Recall: 0.9334\n",
            "RMSE: 0.6580886217261972\n"
          ]
        }
      ],
      "source": [
        "for mdl in [model_easy, model_opt]: # в принципе можно сравнивать и больше двух моделей\n",
        "  y_pred = mdl.predict(X_val)\n",
        "  accuracy = round(accuracy_score(y_val, y_pred), 4)\n",
        "  precision = round(precision_score(y_val, y_pred), 4)\n",
        "  recall = round(recall_score(y_val, y_pred), 4)\n",
        "\n",
        "  print('Max Depth: {} || Estimators: {} || Accuracy: {} || Precision: {} || Recall: {}'.format(mdl.max_depth,\n",
        "                                                                                                mdl.n_estimators,\n",
        "                                                                                                accuracy,\n",
        "                                                                                                precision,\n",
        "                                                                                                recall))\n",
        "  print(f'RMSE: {mean_squared_error(y_test, y_pred, squared=False)}')\n",
        "                                                                                            \n",
        "  "
      ]
    },
    {
      "cell_type": "markdown",
      "metadata": {
        "id": "xZa-J76K_ndl"
      },
      "source": [
        "Теперь запустим модель (которая оптимальная) на тестовом наборе. "
      ]
    },
    {
      "cell_type": "code",
      "execution_count": 30,
      "metadata": {
        "colab": {
          "base_uri": "https://localhost:8080/"
        },
        "id": "hhz30f6D_Wb3",
        "outputId": "517591cb-edca-456c-db12-018e5b4c459e"
      },
      "outputs": [
        {
          "output_type": "stream",
          "name": "stdout",
          "text": [
            "Max Depth: 20 || Estimators: 40 || Accuracy: 0.890834 || Precision: 0.901 || Recall: 0.943\n",
            "RMSE: 0.33040292424569034\n"
          ]
        }
      ],
      "source": [
        "y_pred = model_opt.predict(X_test)\n",
        "accuracy = round(accuracy_score(y_test, y_pred), 6)\n",
        "precision = round(precision_score(y_test, y_pred), 3)\n",
        "recall = round(recall_score(y_test, y_pred), 3)\n",
        "\n",
        "print('Max Depth: {} || Estimators: {} || Accuracy: {} || Precision: {} || Recall: {}'.format(model_opt.max_depth,\n",
        "                                                                                                model_opt.n_estimators,\n",
        "                                                                                                accuracy,\n",
        "                                                                                                precision,\n",
        "                                                                                                recall))\n",
        "\n",
        "print(f'RMSE: {mean_squared_error(y_test, y_pred, squared=False)}')\n"
      ]
    },
    {
      "cell_type": "code",
      "execution_count": 31,
      "metadata": {
        "colab": {
          "base_uri": "https://localhost:8080/"
        },
        "id": "f_0bLNc9Aoxb",
        "outputId": "135b7b57-6b0f-4be2-8ae2-002055cc846c"
      },
      "outputs": [
        {
          "output_type": "stream",
          "name": "stdout",
          "text": [
            "      0     1\n",
            "0  4627   281\n",
            "1   511  1836\n"
          ]
        }
      ],
      "source": [
        "from sklearn.metrics import confusion_matrix\n",
        "model_matrix = confusion_matrix(y_test, y_pred, labels = [1,0])\n",
        "#вспомним матрицу ошибок и выведем ее\n",
        "# для удобства создадим датафрейм\n",
        "model_matrix_df = pd.DataFrame(model_matrix)\n",
        "print(model_matrix_df)"
      ]
    },
    {
      "cell_type": "markdown",
      "metadata": {
        "id": "4oUBKYTRGRQl"
      },
      "source": [
        "# Интерпретация модели.\n"
      ]
    },
    {
      "cell_type": "code",
      "execution_count": 34,
      "metadata": {
        "id": "3iMvg0QYGWT4",
        "colab": {
          "base_uri": "https://localhost:8080/",
          "height": 314
        },
        "outputId": "c074c602-c178-4c78-f5f2-166b6620b0e0"
      },
      "outputs": [
        {
          "output_type": "display_data",
          "data": {
            "text/plain": [
              "<Figure size 720x720 with 0 Axes>"
            ]
          },
          "metadata": {}
        },
        {
          "output_type": "display_data",
          "data": {
            "text/plain": [
              "<Figure size 432x288 with 1 Axes>"
            ],
            "image/png": "[encoded data removed]"
          },
          "metadata": {
            "needs_background": "light"
          }
        }
      ],
      "source": [
        "forest_importances = pd.Series(model_opt.feature_importances_, index=X_train.columns)\n",
        "\n",
        "\n",
        "fig, ax = plt.subplots()\n",
        "std = np.std([tree.feature_importances_ for tree in model_opt.estimators_], axis=0)\n",
        "forest_importances.plot.bar(yerr=std, ax=ax)\n",
        "ax.set_title(\"Feature importances using MDI\")\n",
        "ax.set_ylabel(\"Mean decrease in impurity\", )\n",
        "fig.tight_layout()"
      ]
    },
    {
      "cell_type": "code",
      "source": [
        "\n",
        "from sklearn.inspection import permutation_importance\n",
        "importances = permutation_importance(model_opt, X_test, y_test, n_repeats=10, random_state=2023, n_jobs=2)\n",
        "forest_importances = pd.Series(importances.importances_mean, index=X_train.columns)\n",
        "\n",
        "fig, ax = plt.subplots()\n",
        "forest_importances.plot.bar(yerr=importances.importances_std, ax=ax)\n",
        "ax.set_title(\"Feature importances using permutation on full model\")\n",
        "ax.set_ylabel(\"Mean accuracy decrease\")\n",
        "fig.tight_layout()\n",
        "plt.show()"
      ],
      "metadata": {
        "colab": {
          "base_uri": "https://localhost:8080/",
          "height": 297
        },
        "id": "v8ie-BnxvO6d",
        "outputId": "0083d8f1-9701-4887-ac1c-29f8c7cd275e"
      },
      "execution_count": 35,
      "outputs": [
        {
          "output_type": "display_data",
          "data": {
            "text/plain": [
              "<Figure size 432x288 with 1 Axes>"
            ],
            "image/png": "[encoded data removed]"
          },
          "metadata": {
            "needs_background": "light"
          }
        }
      ]
    },
    {
      "cell_type": "markdown",
      "source": [
        "В обоих вариантах интерпретации чётко выделяются четыре признака: средняя цена заселения, сегмент рынка бронирования(онлайн или офлайн бронирование, бронирование, связанное с авиаперелетом и пр.) и количество специальных запросов. С последним всё достаточно понятно, т. к. чем тщательние клиент подходит к бронированию, то тем меньше вероятность отказа. \n",
        "Самой большой неожиданностью, впрочем еще на этапе отбора признаков, столо то, что наиболее значимой характеристикой является срок между датой бронирования и датой заселения.\n",
        "\n",
        "Является ли это общей закономерностью или особенностью данного датасета - трудно сказать. Возможно сравнение с другими наборами данных позволило бы оценить валидность обработанного.\n",
        "\n",
        "Честно говоря мне казалось, что количество детей должно было бы быть очень значимым параметром: чем детей больше тем меньше вероятность того, что они все одновременно здоровы, и тем выше вероятность отказа. Но оказывается, что такой параметр, как количество взрослых - более важен.\n",
        "\n"
      ],
      "metadata": {
        "id": "Zy_mYq6kwacT"
      }
    },
    {
      "cell_type": "markdown",
      "metadata": {
        "id": "7r12uAEAA62I"
      },
      "source": [
        "# Выводы.\n",
        "Во-первых, я получил море удовольствия от изучения всей этой кухни с обучением моделей. Хотя с pandas сначала были проблемы. \n",
        "\n",
        "Во-вторых, метод случайного леса позволяет строить модели лучше, чем при использовании метода логистической регрессии.\n",
        "\n",
        "В-третьих, я понял, что CoLab это очень удобный итструмент. Например, запомнить сайт, который пригодился, можно прямо в ячейке, причем ссылкой с удобочитаемой подписью!"
      ]
    }
  ],
  "metadata": {
    "colab": {
      "provenance": [],
      "toc_visible": true,
      "authorship_tag": "ABX9TyNg+8gDAzbDUtoxvJShS3uH",
      "include_colab_link": true
    },
    "kernelspec": {
      "display_name": "Python 3",
      "name": "python3"
    },
    "language_info": {
      "name": "python"
    }
  },
  "nbformat": 4,
  "nbformat_minor": 0
}