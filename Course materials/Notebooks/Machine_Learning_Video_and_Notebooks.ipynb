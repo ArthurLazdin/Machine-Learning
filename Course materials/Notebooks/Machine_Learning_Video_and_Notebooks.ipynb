{
  "nbformat": 4,
  "nbformat_minor": 0,
  "metadata": {
    "colab": {
      "provenance": [],
      "authorship_tag": "ABX9TyPkG1BomoNtUrZiCj40dqWk",
      "include_colab_link": true
    },
    "kernelspec": {
      "name": "python3",
      "display_name": "Python 3"
    },
    "language_info": {
      "name": "python"
    }
  },
  "cells": [
    {
      "cell_type": "markdown",
      "metadata": {
        "id": "view-in-github",
        "colab_type": "text"
      },
      "source": [
        "<a href=\"https://colab.research.google.com/github/ArthurLazdin/Machine-Learning/blob/main/Course%20materials/Notebooks/Machine_Learning_Video_and_Notebooks.ipynb\" target=\"_parent\"><img src=\"https://colab.research.google.com/assets/colab-badge.svg\" alt=\"Open In Colab\"/></a>"
      ]
    },
    {
      "cell_type": "code",
      "execution_count": null,
      "metadata": {
        "id": "hDozmrQpn01-"
      },
      "outputs": [],
      "source": []
    },
    {
      "cell_type": "markdown",
      "source": [
        "# Ссылки на видео\n",
        "* [Видеолекция_NUMPY_PANDAS](https://youtu.be/vIV-lNBXG8A)\n",
        "* [Видеолекция_JUPYTER](https://youtu.be/cYkoWPFvWdc)\n",
        "* [Видеолекция_GIT](https://youtu.be/-MJel-i3qEo)\n",
        "* [Видеолекция_Визуализация](https://youtu.be/n2rALWl89ac)\n",
        "* [Видеолекция_Оптимизация гиперпараметров_Sklearn](https://youtu.be/MdI9lg6X7sE)\n",
        "* [Видеолекция_DASK](https://youtu.be/E9ViXIeMLoM)\n",
        "* [Видеолекция_EDA](https://youtu.be/p3OVhA0Am6U)\n",
        "* [ВИЗУАЛИЗАЦИЯ (продвинутый)](https://youtu.be/Qs7IQDAwgWg)\n",
        "* [Видеолекция_Типология задач ML_ upper](https://youtu.be/3jrR7xVM-gA)\n",
        "* [Видеолекция_ Метрики upper](https://youtu.be/hmTVlgO4-qo)\n",
        "* [Видеолекция_Базовые модели upper](https://youtu.be/vYCE9DgUAa4)\n",
        "* [Видеолекция_Оптимизация гиперпараметров_Optuna](https://youtu.be/T7A0s6ejuHI)\n",
        "* [Видеолекция_Обеспечение воспроизводимости экспериментов](https://youtu.be/9VEZtYhiulM)\n",
        "* [Видеолекция_Обеспечение воспроизводимости экспериментов](https://youtu.be/9VEZtYhiulM)\n",
        "* [10.1. Видеолекция_Ансамблирование_и_интерпретация](https://youtu.be/PSNtbxVHVyI)\n",
        "* [10.2. Видеолекция_Нейронные сети](https://youtu.be/I1gG-YrlV18)\n",
        "* [10.3. Видеолекция_NLP basics](https://youtu.be/NT73fCE2pNg)\n",
        "* [10.4. Видеолекция_huggingface](https://youtu.be/AoZI-6seo08)\n",
        "* [10.5 Видеолекция_AutoML](https://youtu.be/Q9njDf7UZhg)\n",
        "* [Видеолекция_Обучение без учителя upper](https://youtu.be/2pl9bitwCvM)\n",
        "\n",
        "* [Ноутбуки и другие файлы здесь]()\n",
        "\n",
        "\n"
      ],
      "metadata": {
        "id": "TCPtrH6XoC-L"
      }
    }
  ]
}